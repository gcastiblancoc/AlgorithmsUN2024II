{
  "cells": [
    {
      "cell_type": "markdown",
      "metadata": {
        "id": "view-in-github",
        "colab_type": "text"
      },
      "source": [
        "<a href=\"https://colab.research.google.com/github/gcastiblancoc/AlgorithmsUN2024II/blob/main/Lab3/gcastiblancoc_Lab3.ipynb\" target=\"_parent\"><img src=\"https://colab.research.google.com/assets/colab-badge.svg\" alt=\"Open In Colab\"/></a>"
      ]
    },
    {
      "cell_type": "code",
      "execution_count": null,
      "metadata": {
        "id": "im-VVd1__7VU",
        "colab": {
          "base_uri": "https://localhost:8080/"
        },
        "outputId": "42b71a81-48e1-40ae-dd75-880bbd5e4835"
      },
      "outputs": [
        {
          "output_type": "stream",
          "name": "stdout",
          "text": [
            "processor\t: 0\n",
            "vendor_id\t: GenuineIntel\n",
            "cpu family\t: 6\n",
            "model\t\t: 79\n",
            "model name\t: Intel(R) Xeon(R) CPU @ 2.20GHz\n",
            "stepping\t: 0\n",
            "microcode\t: 0xffffffff\n",
            "cpu MHz\t\t: 2200.180\n",
            "cache size\t: 56320 KB\n",
            "physical id\t: 0\n",
            "siblings\t: 2\n",
            "core id\t\t: 0\n",
            "cpu cores\t: 1\n",
            "apicid\t\t: 0\n",
            "initial apicid\t: 0\n",
            "fpu\t\t: yes\n",
            "fpu_exception\t: yes\n",
            "cpuid level\t: 13\n",
            "wp\t\t: yes\n",
            "flags\t\t: fpu vme de pse tsc msr pae mce cx8 apic sep mtrr pge mca cmov pat pse36 clflush mmx fxsr sse sse2 ss ht syscall nx pdpe1gb rdtscp lm constant_tsc rep_good nopl xtopology nonstop_tsc cpuid tsc_known_freq pni pclmulqdq ssse3 fma cx16 pcid sse4_1 sse4_2 x2apic movbe popcnt aes xsave avx f16c rdrand hypervisor lahf_lm abm 3dnowprefetch invpcid_single ssbd ibrs ibpb stibp fsgsbase tsc_adjust bmi1 hle avx2 smep bmi2 erms invpcid rtm rdseed adx smap xsaveopt arat md_clear arch_capabilities\n",
            "bugs\t\t: cpu_meltdown spectre_v1 spectre_v2 spec_store_bypass l1tf mds swapgs taa mmio_stale_data retbleed bhi\n",
            "bogomips\t: 4400.36\n",
            "clflush size\t: 64\n",
            "cache_alignment\t: 64\n",
            "address sizes\t: 46 bits physical, 48 bits virtual\n",
            "power management:\n",
            "\n",
            "processor\t: 1\n",
            "vendor_id\t: GenuineIntel\n",
            "cpu family\t: 6\n",
            "model\t\t: 79\n",
            "model name\t: Intel(R) Xeon(R) CPU @ 2.20GHz\n",
            "stepping\t: 0\n",
            "microcode\t: 0xffffffff\n",
            "cpu MHz\t\t: 2200.180\n",
            "cache size\t: 56320 KB\n",
            "physical id\t: 0\n",
            "siblings\t: 2\n",
            "core id\t\t: 0\n",
            "cpu cores\t: 1\n",
            "apicid\t\t: 1\n",
            "initial apicid\t: 1\n",
            "fpu\t\t: yes\n",
            "fpu_exception\t: yes\n",
            "cpuid level\t: 13\n",
            "wp\t\t: yes\n",
            "flags\t\t: fpu vme de pse tsc msr pae mce cx8 apic sep mtrr pge mca cmov pat pse36 clflush mmx fxsr sse sse2 ss ht syscall nx pdpe1gb rdtscp lm constant_tsc rep_good nopl xtopology nonstop_tsc cpuid tsc_known_freq pni pclmulqdq ssse3 fma cx16 pcid sse4_1 sse4_2 x2apic movbe popcnt aes xsave avx f16c rdrand hypervisor lahf_lm abm 3dnowprefetch invpcid_single ssbd ibrs ibpb stibp fsgsbase tsc_adjust bmi1 hle avx2 smep bmi2 erms invpcid rtm rdseed adx smap xsaveopt arat md_clear arch_capabilities\n",
            "bugs\t\t: cpu_meltdown spectre_v1 spectre_v2 spec_store_bypass l1tf mds swapgs taa mmio_stale_data retbleed bhi\n",
            "bogomips\t: 4400.36\n",
            "clflush size\t: 64\n",
            "cache_alignment\t: 64\n",
            "address sizes\t: 46 bits physical, 48 bits virtual\n",
            "power management:\n",
            "\n"
          ]
        }
      ],
      "source": [
        "!cat /proc/cpuinfo"
      ]
    },
    {
      "cell_type": "markdown",
      "metadata": {
        "id": "N1ok_-56OjB1"
      },
      "source": [
        "# I Solving the Sum of Two Digits Programming Challenge"
      ]
    },
    {
      "cell_type": "markdown",
      "metadata": {
        "id": "MMY7kmDSO0KM"
      },
      "source": [
        "## C++"
      ]
    },
    {
      "cell_type": "code",
      "execution_count": null,
      "metadata": {
        "colab": {
          "base_uri": "https://localhost:8080/"
        },
        "id": "2pGGf9BkPNIk",
        "outputId": "d338fc76-bb9d-4a7b-c2d7-5ac0b38a18a6"
      },
      "outputs": [
        {
          "output_type": "stream",
          "name": "stdout",
          "text": [
            "Writing APlusB.cpp\n"
          ]
        }
      ],
      "source": [
        "%%writefile APlusB.cpp\n",
        "#include <iostream>\n",
        "\n",
        "int sum_of_two_digits(int first_digit, int second_digit) {\n",
        "    return first_digit + second_digit;\n",
        "}\n",
        "\n",
        "int main() {\n",
        "    int a = 0;\n",
        "    int b = 0;\n",
        "    std::cin >> a;\n",
        "    std::cin >> b;\n",
        "    std::cout << sum_of_two_digits(a, b);\n",
        "    return 0;\n",
        "}"
      ]
    },
    {
      "cell_type": "code",
      "execution_count": null,
      "metadata": {
        "colab": {
          "base_uri": "https://localhost:8080/"
        },
        "id": "0G3ZKOYAPXSU",
        "outputId": "741d4d57-86b2-420a-f302-05670758bab3"
      },
      "outputs": [
        {
          "output_type": "stream",
          "name": "stdout",
          "text": [
            "^C\n"
          ]
        }
      ],
      "source": [
        "!g++ APlusB.cpp -o APlusB -std=c++11\n",
        "!./APlusB"
      ]
    },
    {
      "cell_type": "markdown",
      "metadata": {
        "id": "iNkG2HqfTl9c"
      },
      "source": [
        "### Test input output files"
      ]
    },
    {
      "cell_type": "code",
      "execution_count": null,
      "metadata": {
        "colab": {
          "base_uri": "https://localhost:8080/"
        },
        "id": "aTzU2efzMxly",
        "outputId": "c76fa99d-ca3a-4c86-acbf-c32696cda2c6"
      },
      "outputs": [
        {
          "output_type": "stream",
          "name": "stdout",
          "text": [
            "Writing input1.txt\n"
          ]
        }
      ],
      "source": [
        "%%writefile input1.txt\n",
        "4 8"
      ]
    },
    {
      "cell_type": "code",
      "execution_count": null,
      "metadata": {
        "colab": {
          "base_uri": "https://localhost:8080/"
        },
        "id": "zBJ0Gc0NQRet",
        "outputId": "b4d25955-0365-4969-aa1f-f62846ba2d6b"
      },
      "outputs": [
        {
          "output_type": "stream",
          "name": "stdout",
          "text": [
            "Writing output1.txt\n"
          ]
        }
      ],
      "source": [
        "%%writefile output1.txt\n",
        "12"
      ]
    },
    {
      "cell_type": "code",
      "execution_count": null,
      "metadata": {
        "colab": {
          "base_uri": "https://localhost:8080/"
        },
        "id": "IjEcIx63PJAN",
        "outputId": "6a46d813-15cf-4efe-b716-6bcd9cb0fca1"
      },
      "outputs": [
        {
          "output_type": "stream",
          "name": "stdout",
          "text": [
            "Writing input2.txt\n"
          ]
        }
      ],
      "source": [
        "%%writefile input2.txt\n",
        "0 9"
      ]
    },
    {
      "cell_type": "code",
      "execution_count": null,
      "metadata": {
        "colab": {
          "base_uri": "https://localhost:8080/"
        },
        "id": "Up9gOrxURTmd",
        "outputId": "560670a9-2efb-45e1-b3e4-500e43b59ebe"
      },
      "outputs": [
        {
          "output_type": "stream",
          "name": "stdout",
          "text": [
            "Writing output2.txt\n"
          ]
        }
      ],
      "source": [
        "%%writefile output2.txt\n",
        "9"
      ]
    },
    {
      "cell_type": "code",
      "execution_count": null,
      "metadata": {
        "colab": {
          "base_uri": "https://localhost:8080/"
        },
        "id": "PST6G-s-Pwgc",
        "outputId": "774701bb-2f5c-494b-cf4a-45e5a19954b9"
      },
      "outputs": [
        {
          "output_type": "stream",
          "name": "stdout",
          "text": [
            "12"
          ]
        }
      ],
      "source": [
        "!./APlusB < input1.txt"
      ]
    },
    {
      "cell_type": "code",
      "execution_count": null,
      "metadata": {
        "colab": {
          "base_uri": "https://localhost:8080/"
        },
        "id": "cKxZOjSlRfIN",
        "outputId": "0b20e172-b96b-4bf4-e785-baab5ce8864e"
      },
      "outputs": [
        {
          "output_type": "stream",
          "name": "stdout",
          "text": [
            "9"
          ]
        }
      ],
      "source": [
        "!./APlusB < input2.txt"
      ]
    },
    {
      "cell_type": "markdown",
      "metadata": {
        "id": "Qw2TQWCCUwqk"
      },
      "source": [
        "### Comparing files with grep\n",
        "\n",
        "https://askubuntu.com/questions/546796/comparing-two-text-files"
      ]
    },
    {
      "cell_type": "code",
      "source": [
        "!grep -xvFf output1.txt output1.txt"
      ],
      "metadata": {
        "id": "TDPeJ3r3eRDQ"
      },
      "execution_count": null,
      "outputs": []
    },
    {
      "cell_type": "code",
      "source": [
        "!grep -xvFf output1.txt output2.txt"
      ],
      "metadata": {
        "colab": {
          "base_uri": "https://localhost:8080/"
        },
        "id": "C2lGQmSheQ0L",
        "outputId": "5cee0a8c-8cb3-4384-8f30-d62541a6c5ce"
      },
      "execution_count": null,
      "outputs": [
        {
          "output_type": "stream",
          "name": "stdout",
          "text": [
            "9\n"
          ]
        }
      ]
    },
    {
      "cell_type": "code",
      "source": [
        "!grep -xvFf output2.txt output1.txt"
      ],
      "metadata": {
        "colab": {
          "base_uri": "https://localhost:8080/"
        },
        "id": "4K13_xUceQlE",
        "outputId": "22a54317-842d-44bb-f178-277ca72bbcc7"
      },
      "execution_count": null,
      "outputs": [
        {
          "output_type": "stream",
          "name": "stdout",
          "text": [
            "12\n"
          ]
        }
      ]
    },
    {
      "cell_type": "code",
      "execution_count": null,
      "metadata": {
        "id": "Jlja0Xm4TX9M"
      },
      "outputs": [],
      "source": [
        "!./APlusB < input1.txt> ctest1.txt\n",
        "!grep -xvFf output1.txt ctest1.txt"
      ]
    },
    {
      "cell_type": "code",
      "execution_count": null,
      "metadata": {
        "id": "g9OIUZA_QLCQ"
      },
      "outputs": [],
      "source": [
        "!./APlusB < input2.txt > ctest2.txt\n",
        "!grep -xvFf output2.txt ctest2.txt"
      ]
    },
    {
      "cell_type": "markdown",
      "metadata": {
        "id": "3BgOaDjUVJk6"
      },
      "source": [
        "## Python"
      ]
    },
    {
      "cell_type": "code",
      "execution_count": null,
      "metadata": {
        "colab": {
          "base_uri": "https://localhost:8080/"
        },
        "id": "DBvl-T0CTN_8",
        "outputId": "5a8fa647-212e-4901-8c94-5c3730b004f8"
      },
      "outputs": [
        {
          "output_type": "stream",
          "name": "stdout",
          "text": [
            "Writing sum.py\n"
          ]
        }
      ],
      "source": [
        "%%writefile sum.py\n",
        "# python3\n",
        "\n",
        "def sum_of_two_digits(first_digit, second_digit):\n",
        "    return first_digit + second_digit\n",
        "\n",
        "if __name__ == '__main__':\n",
        "    a, b = map(int, input().split())\n",
        "    print(sum_of_two_digits(a, b))"
      ]
    },
    {
      "cell_type": "code",
      "execution_count": null,
      "metadata": {
        "colab": {
          "base_uri": "https://localhost:8080/"
        },
        "id": "QKoKM11_WGyF",
        "outputId": "106314b9-55c9-4adb-daf2-bbc3fcc6d29e"
      },
      "outputs": [
        {
          "output_type": "stream",
          "name": "stdout",
          "text": [
            "\n",
            "^C\n"
          ]
        }
      ],
      "source": [
        "!python sum.py"
      ]
    },
    {
      "cell_type": "code",
      "execution_count": null,
      "metadata": {
        "id": "cocFbPRTWrqt"
      },
      "outputs": [],
      "source": [
        "!python sum.py  < input1.txt> ptest1.txt\n",
        "!grep -xvFf output1.txt ptest1.txt"
      ]
    },
    {
      "cell_type": "code",
      "execution_count": null,
      "metadata": {
        "id": "MorKTa-XXASN"
      },
      "outputs": [],
      "source": [
        "!python sum.py  < input2.txt> ptest2.txt\n",
        "!grep -xvFf output2.txt ptest2.txt"
      ]
    },
    {
      "cell_type": "markdown",
      "metadata": {
        "id": "uvP-mOubW_5F"
      },
      "source": [
        "# II Solving The Maximum Pairwise Product Programming Challenge in C++"
      ]
    },
    {
      "cell_type": "markdown",
      "metadata": {
        "id": "C12yoFR6Xonl"
      },
      "source": [
        "## C++\n",
        "\n",
        "$$ T(n) < 6 n^2 = O(n^2)$$"
      ]
    },
    {
      "cell_type": "code",
      "source": [
        "%%writefile max_pairwise_product_full.cpp\n",
        "#include <iostream>\n",
        "#include <vector>\n",
        "#include <algorithm>\n",
        "\n",
        "int MaxPairwiseProduct(const std::vector<int>& numbers) {\n",
        "    int max_product = 0;\n",
        "    int aux_product = 0;\n",
        "    int n = numbers.size();\n",
        "\n",
        "    for (int first = 0; first < n; ++first) {\n",
        "        for (int second = 0; second < n; ++second) {\n",
        "          if ( first != second ){\n",
        "                aux_product = numbers[first] * numbers[second];\n",
        "                if (aux_product > max_product)  max_product = aux_product;\n",
        "          }\n",
        "        }\n",
        "    }\n",
        "\n",
        "    return max_product;\n",
        "}\n",
        "\n",
        "int main() {\n",
        "    int n;\n",
        "    std::cin >> n;\n",
        "    std::vector<int> numbers(n);\n",
        "    for (int i = 0; i < n; ++i) {\n",
        "        std::cin >> numbers[i];\n",
        "    }\n",
        "\n",
        "    std::cout << MaxPairwiseProduct(numbers) << \"\\n\";\n",
        "    return 0;\n",
        "}"
      ],
      "metadata": {
        "colab": {
          "base_uri": "https://localhost:8080/"
        },
        "id": "3LpfoGv2Ae81",
        "outputId": "8fb8db3b-b674-4ca5-fce1-9021e9918073"
      },
      "execution_count": null,
      "outputs": [
        {
          "output_type": "stream",
          "name": "stdout",
          "text": [
            "Writing max_pairwise_product_full.cpp\n"
          ]
        }
      ]
    },
    {
      "cell_type": "markdown",
      "metadata": {
        "id": "m75IQQPbEHBS"
      },
      "source": [
        "#### Time Complexity\n",
        "$$\\left. \\begin{array}{llc}\n",
        " \\text{INSTRUCTION} & \\text{TYPE}& \\text{# EXECUTIONS}\\\\\n",
        "\\text{first != second} &  \\text{comparisons} &n^2 \\\\\n",
        "\\text{numbers[first] * numbers[second]}& \\ \\text{ products}  &n^2 - n \\\\\n",
        "\\text{max_product = aux_product} &  \\text{assigments} & [1, \\frac{n^2 - n}{2})  \n",
        "\\end{array}\\right\\}  =  O(n^2)$$"
      ]
    },
    {
      "cell_type": "code",
      "source": [
        "!g++ max_pairwise_product_full.cpp -o max_pairwise_product_full\n",
        "!./max_pairwise_product_full"
      ],
      "metadata": {
        "id": "PCVo1h6nCF9k",
        "colab": {
          "base_uri": "https://localhost:8080/"
        },
        "outputId": "6b2c2734-a21f-48da-b556-330a0a3147ed"
      },
      "execution_count": null,
      "outputs": [
        {
          "output_type": "stream",
          "name": "stdout",
          "text": [
            "^C\n"
          ]
        }
      ]
    },
    {
      "cell_type": "markdown",
      "metadata": {
        "id": "e7KhxHGNS3i0"
      },
      "source": [
        "### Test 1: Small numbers"
      ]
    },
    {
      "cell_type": "code",
      "source": [
        "%%writefile input0.txt\n",
        "10\n",
        "0 0 0 0 0 0 0 0 0 0"
      ],
      "metadata": {
        "colab": {
          "base_uri": "https://localhost:8080/"
        },
        "id": "17npyXt7lYzA",
        "outputId": "d90c0407-01b5-4ad7-a2bb-3741629a8dfb"
      },
      "execution_count": null,
      "outputs": [
        {
          "output_type": "stream",
          "name": "stdout",
          "text": [
            "Writing input0.txt\n"
          ]
        }
      ]
    },
    {
      "cell_type": "code",
      "source": [
        "%%writefile output0.txt\n",
        "0"
      ],
      "metadata": {
        "colab": {
          "base_uri": "https://localhost:8080/"
        },
        "id": "NooGEkJylezm",
        "outputId": "e00a37b0-4024-4e4a-c534-e978f3d0190b"
      },
      "execution_count": null,
      "outputs": [
        {
          "output_type": "stream",
          "name": "stdout",
          "text": [
            "Writing output0.txt\n"
          ]
        }
      ]
    },
    {
      "cell_type": "code",
      "source": [
        "!./max_pairwise_product_full< input0.txt > ctest0.txt\n",
        "!grep -xvFf output0.txt ctest0.txt"
      ],
      "metadata": {
        "id": "R0yFaAOrlqrE"
      },
      "execution_count": null,
      "outputs": []
    },
    {
      "cell_type": "code",
      "execution_count": null,
      "metadata": {
        "colab": {
          "base_uri": "https://localhost:8080/"
        },
        "id": "e1mmTzBgShT-",
        "outputId": "ce4eaae3-8bdd-4ce7-fb01-0f59dc8df201"
      },
      "outputs": [
        {
          "output_type": "stream",
          "name": "stdout",
          "text": [
            "Overwriting input1.txt\n"
          ]
        }
      ],
      "source": [
        "%%writefile input1.txt\n",
        "10\n",
        "1 2 3 4 5 6 7 8 9 10"
      ]
    },
    {
      "cell_type": "code",
      "execution_count": null,
      "metadata": {
        "colab": {
          "base_uri": "https://localhost:8080/"
        },
        "id": "vy_uI0x7TCId",
        "outputId": "754279b4-0e46-40e2-b4a1-c1579e6d8fbe"
      },
      "outputs": [
        {
          "output_type": "stream",
          "name": "stdout",
          "text": [
            "90\n"
          ]
        }
      ],
      "source": [
        "!./max_pairwise_product_full < input1.txt"
      ]
    },
    {
      "cell_type": "code",
      "execution_count": null,
      "metadata": {
        "colab": {
          "base_uri": "https://localhost:8080/"
        },
        "id": "xaj6f9bxC6D6",
        "outputId": "7ce09d90-768a-4dea-84de-b9191412eb42"
      },
      "outputs": [
        {
          "output_type": "stream",
          "name": "stdout",
          "text": [
            "Overwriting output1.txt\n"
          ]
        }
      ],
      "source": [
        "%%writefile output1.txt\n",
        "90"
      ]
    },
    {
      "cell_type": "code",
      "execution_count": null,
      "metadata": {
        "id": "fYCjAdA_C-wy"
      },
      "outputs": [],
      "source": [
        "!./max_pairwise_product_full< input1.txt > ctest1.txt\n",
        "!grep -xvFf output1.txt ctest1.txt"
      ]
    },
    {
      "cell_type": "code",
      "source": [
        "%%writefile input2.txt\n",
        "10\n",
        "10 9 8 7 6 5 4 3 2 1"
      ],
      "metadata": {
        "colab": {
          "base_uri": "https://localhost:8080/"
        },
        "id": "ZPe40LY14_6f",
        "outputId": "db523eb0-5f0f-48ac-899e-a0165a81a64b"
      },
      "execution_count": null,
      "outputs": [
        {
          "output_type": "stream",
          "name": "stdout",
          "text": [
            "Overwriting input2.txt\n"
          ]
        }
      ]
    },
    {
      "cell_type": "code",
      "source": [
        "%%writefile output2.txt\n",
        "90"
      ],
      "metadata": {
        "colab": {
          "base_uri": "https://localhost:8080/"
        },
        "id": "xiHmF7HA5Faa",
        "outputId": "b1592082-bdfe-44df-bfe6-8916b62e842c"
      },
      "execution_count": null,
      "outputs": [
        {
          "output_type": "stream",
          "name": "stdout",
          "text": [
            "Overwriting output2.txt\n"
          ]
        }
      ]
    },
    {
      "cell_type": "code",
      "source": [
        "!./max_pairwise_product_full< input2.txt > ctest2.txt\n",
        "!grep -xvFf output2.txt ctest2.txt"
      ],
      "metadata": {
        "id": "jjwc9kwb5t_k"
      },
      "execution_count": null,
      "outputs": []
    },
    {
      "cell_type": "markdown",
      "metadata": {
        "id": "IeZ3kTjpYmR9"
      },
      "source": [
        "### Test 2: largest input numbers 200000 200000 to check possible intger overflow"
      ]
    },
    {
      "cell_type": "code",
      "execution_count": null,
      "metadata": {
        "colab": {
          "base_uri": "https://localhost:8080/"
        },
        "id": "LQNlZqaqYt7U",
        "outputId": "51d16616-8f56-4a93-e0bd-febbe9ba54f9"
      },
      "outputs": [
        {
          "output_type": "stream",
          "name": "stdout",
          "text": [
            "Writing input3.txt\n"
          ]
        }
      ],
      "source": [
        "%%writefile input3.txt\n",
        "6\n",
        "1 3 200000 9 200000 23"
      ]
    },
    {
      "cell_type": "code",
      "execution_count": null,
      "metadata": {
        "colab": {
          "base_uri": "https://localhost:8080/"
        },
        "id": "GjQq7QOUCw-9",
        "outputId": "d7f7f4f0-b309-4735-bdcc-80bd064052c3"
      },
      "outputs": [
        {
          "output_type": "execute_result",
          "data": {
            "text/plain": [
              "40000000000"
            ]
          },
          "metadata": {},
          "execution_count": 32
        }
      ],
      "source": [
        "200000*200000"
      ]
    },
    {
      "cell_type": "code",
      "execution_count": null,
      "metadata": {
        "colab": {
          "base_uri": "https://localhost:8080/"
        },
        "id": "EuS6n3jtDK5C",
        "outputId": "ec2a7166-40ee-4ec0-ffc8-38ee3521ab88"
      },
      "outputs": [
        {
          "output_type": "stream",
          "name": "stdout",
          "text": [
            "Writing output3.txt\n"
          ]
        }
      ],
      "source": [
        "%%writefile output3.txt\n",
        "40000000000"
      ]
    },
    {
      "cell_type": "code",
      "execution_count": null,
      "metadata": {
        "colab": {
          "base_uri": "https://localhost:8080/"
        },
        "id": "2Wad2VZUZDxR",
        "outputId": "bfd3d2a6-201f-4295-cde0-edb2a289ec7b"
      },
      "outputs": [
        {
          "output_type": "stream",
          "name": "stdout",
          "text": [
            "1345294336\n"
          ]
        }
      ],
      "source": [
        "!./max_pairwise_product_full < input3.txt"
      ]
    },
    {
      "cell_type": "code",
      "execution_count": null,
      "metadata": {
        "colab": {
          "base_uri": "https://localhost:8080/"
        },
        "id": "pEvp1ieyDJGq",
        "outputId": "d7500fc5-da55-4dc4-a87f-24a821da3951"
      },
      "outputs": [
        {
          "output_type": "stream",
          "name": "stdout",
          "text": [
            "1345294336\n"
          ]
        }
      ],
      "source": [
        "!./max_pairwise_product_full < input3.txt > ctest3.txt\n",
        "!grep -xvFf output3.txt ctest3.txt"
      ]
    },
    {
      "cell_type": "code",
      "source": [
        "%%writefile run_all_test.sh\n",
        "#!/bin/bash\n",
        "g++ max_pairwise_product_full.cpp -o max_pairwise_product_full\n",
        "for i in {0..3}\n",
        "do\n",
        "    ./max_pairwise_product_full < input$i.txt > ctest$i.txt\n",
        "    grep -xvFf output$i.txt ctest$i.txt\n",
        "done"
      ],
      "metadata": {
        "colab": {
          "base_uri": "https://localhost:8080/"
        },
        "id": "SrtJrKqM-God",
        "outputId": "3fb2276f-039f-417d-d44e-412193b23f63"
      },
      "execution_count": null,
      "outputs": [
        {
          "output_type": "stream",
          "name": "stdout",
          "text": [
            "Writing run_all_test.sh\n"
          ]
        }
      ]
    },
    {
      "cell_type": "code",
      "source": [
        "!chmod u+x run_all_test.sh\n",
        "!./run_all_test.sh"
      ],
      "metadata": {
        "colab": {
          "base_uri": "https://localhost:8080/"
        },
        "id": "wGWMHtzS-QnA",
        "outputId": "14896ca4-174d-4bfc-fc30-879dba10fe3d"
      },
      "execution_count": null,
      "outputs": [
        {
          "output_type": "stream",
          "name": "stdout",
          "text": [
            "1345294336\n"
          ]
        }
      ]
    },
    {
      "cell_type": "markdown",
      "metadata": {
        "id": "H2SC0Qt5HCzz"
      },
      "source": [
        "### Changing the variables to long long"
      ]
    },
    {
      "cell_type": "code",
      "execution_count": null,
      "metadata": {
        "colab": {
          "base_uri": "https://localhost:8080/"
        },
        "id": "MPcmsxiQZSfE",
        "outputId": "2c9d3ef8-49d5-4728-e3f2-9c6a3b9de541"
      },
      "outputs": [
        {
          "output_type": "stream",
          "name": "stdout",
          "text": [
            "Writing max_pairwise_product_long_full.cpp\n"
          ]
        }
      ],
      "source": [
        "%%writefile max_pairwise_product_long_full.cpp\n",
        "#include <iostream>\n",
        "#include <vector>\n",
        "#include <algorithm>\n",
        "\n",
        "long long MaxPairwiseProduct(const std::vector<int>& numbers) {\n",
        "    long long max_product = 0LL;\n",
        "\t  long long aux_product = 0LL;\n",
        "    int n = numbers.size();\n",
        "\n",
        "    for (int first = 0; first < n; ++first) {\n",
        "        for (int second = 0; second < n; ++second) {\n",
        "          if ( first != second){\n",
        "                aux_product = (long long) numbers[first] * numbers[second];\n",
        "                if (aux_product > max_product)  max_product = aux_product;\n",
        "          }\n",
        "        }\n",
        "    }\n",
        "\n",
        "\n",
        "    return max_product;\n",
        "}\n",
        "\n",
        "int main() {\n",
        "    int n;\n",
        "    std::cin >> n;\n",
        "    std::vector<int> numbers(n);\n",
        "    for (int i = 0; i < n; ++i) {\n",
        "        std::cin >> numbers[i];\n",
        "    }\n",
        "\n",
        "    std::cout << MaxPairwiseProduct(numbers) << \"\\n\";\n",
        "    return 0;\n",
        "}\n"
      ]
    },
    {
      "cell_type": "code",
      "source": [
        "!g++ max_pairwise_product_long_full.cpp -o max_pairwise_product_long_full"
      ],
      "metadata": {
        "id": "W3xQpFXL6wjO"
      },
      "execution_count": null,
      "outputs": []
    },
    {
      "cell_type": "code",
      "source": [
        "!./max_pairwise_product_long_full < input3.txt"
      ],
      "metadata": {
        "colab": {
          "base_uri": "https://localhost:8080/"
        },
        "id": "H5dvN9M3R9sV",
        "outputId": "2f3b112e-afea-4317-f962-7fa1fe61be2f"
      },
      "execution_count": null,
      "outputs": [
        {
          "output_type": "stream",
          "name": "stdout",
          "text": [
            "40000000000\n"
          ]
        }
      ]
    },
    {
      "cell_type": "markdown",
      "source": [
        "### Runing multuple test with a bash shell"
      ],
      "metadata": {
        "id": "gx-sEYdfQ8f8"
      }
    },
    {
      "cell_type": "code",
      "source": [
        "%%writefile run_all_test.sh\n",
        "#!/bin/bash\n",
        "g++ max_pairwise_product_long_full.cpp -o max_pairwise_product_long_full\n",
        "for i in {1..3}\n",
        "do\n",
        "    ./max_pairwise_product_long_full < input$i.txt > ctest$i.txt\n",
        "    grep -xvFf output$i.txt ctest$i.txt\n",
        "done"
      ],
      "metadata": {
        "colab": {
          "base_uri": "https://localhost:8080/"
        },
        "id": "O9qsq2nn7elw",
        "outputId": "cc3a6ce2-9fab-4888-e241-16a239eadf35"
      },
      "execution_count": null,
      "outputs": [
        {
          "output_type": "stream",
          "name": "stdout",
          "text": [
            "Overwriting run_all_test.sh\n"
          ]
        }
      ]
    },
    {
      "cell_type": "code",
      "source": [
        "!chmod u+x run_all_test.sh\n",
        "!./run_all_test.sh"
      ],
      "metadata": {
        "id": "0g5kKVph7xIA"
      },
      "execution_count": null,
      "outputs": []
    },
    {
      "cell_type": "markdown",
      "metadata": {
        "id": "XPVHkHxH6_7s"
      },
      "source": [
        "### Test 3  stress tests, 6 testing cases files input4.txt/output4.txt .. input10.txt/output10.txt\n",
        "\n",
        "---\n",
        "\n"
      ]
    },
    {
      "cell_type": "code",
      "execution_count": null,
      "metadata": {
        "id": "PwqpBmYr69fu",
        "colab": {
          "base_uri": "https://localhost:8080/"
        },
        "outputId": "eff36b2b-0ff4-484c-807a-140dda638478"
      },
      "outputs": [
        {
          "output_type": "stream",
          "name": "stdout",
          "text": [
            "Writing input4.txt\n"
          ]
        }
      ],
      "source": [
        "%%writefile input4.txt\n",
        "5\n",
        "700000000 900000000 1200000000 1500000000 1800000000"
      ]
    },
    {
      "cell_type": "code",
      "execution_count": null,
      "metadata": {
        "id": "jBCkMeR6Fw4y",
        "colab": {
          "base_uri": "https://localhost:8080/"
        },
        "outputId": "d8629411-48ff-4e08-bd66-c134bf7af6b3"
      },
      "outputs": [
        {
          "output_type": "execute_result",
          "data": {
            "text/plain": [
              "2700000000000000000"
            ]
          },
          "metadata": {},
          "execution_count": 44
        }
      ],
      "source": [
        "1500000000 * 1800000000"
      ]
    },
    {
      "cell_type": "code",
      "source": [
        "%%writefile output4.txt\n",
        "2700000000000000000"
      ],
      "metadata": {
        "id": "zED8V8wu-eoM",
        "colab": {
          "base_uri": "https://localhost:8080/"
        },
        "outputId": "6fe37e53-9487-47ee-e267-e194e3758347"
      },
      "execution_count": null,
      "outputs": [
        {
          "output_type": "stream",
          "name": "stdout",
          "text": [
            "Writing output4.txt\n"
          ]
        }
      ]
    },
    {
      "cell_type": "code",
      "source": [
        "%%writefile input5.txt\n",
        "3\n",
        "-5 10 15"
      ],
      "metadata": {
        "colab": {
          "base_uri": "https://localhost:8080/"
        },
        "id": "VjqCKJMNmgMW",
        "outputId": "7bc97462-a14e-4155-e815-0cb4bb75a376"
      },
      "execution_count": null,
      "outputs": [
        {
          "output_type": "stream",
          "name": "stdout",
          "text": [
            "Writing input5.txt\n"
          ]
        }
      ]
    },
    {
      "cell_type": "code",
      "source": [
        "%%writefile output5.txt\n",
        "6"
      ],
      "metadata": {
        "colab": {
          "base_uri": "https://localhost:8080/"
        },
        "id": "U_JMnWYyq4EI",
        "outputId": "8b90a7f0-c8d3-4800-8be8-93a2164bed07"
      },
      "execution_count": null,
      "outputs": [
        {
          "output_type": "stream",
          "name": "stdout",
          "text": [
            "Writing output5.txt\n"
          ]
        }
      ]
    },
    {
      "cell_type": "code",
      "source": [
        "%%writefile input6.txt\n",
        "6\n",
        "5000 60 7 3500 10 90"
      ],
      "metadata": {
        "colab": {
          "base_uri": "https://localhost:8080/"
        },
        "id": "6WDJ46Igrf4S",
        "outputId": "bb619f37-d743-40a5-9f71-9f6f6dea76ea"
      },
      "execution_count": null,
      "outputs": [
        {
          "output_type": "stream",
          "name": "stdout",
          "text": [
            "Writing input6.txt\n"
          ]
        }
      ]
    },
    {
      "cell_type": "code",
      "source": [
        "5000 * 3500"
      ],
      "metadata": {
        "colab": {
          "base_uri": "https://localhost:8080/"
        },
        "id": "MKxOAl8Sr66j",
        "outputId": "862e0464-2513-4bbe-ebe6-872fd333417a"
      },
      "execution_count": null,
      "outputs": [
        {
          "output_type": "execute_result",
          "data": {
            "text/plain": [
              "17500000"
            ]
          },
          "metadata": {},
          "execution_count": 49
        }
      ]
    },
    {
      "cell_type": "code",
      "source": [
        "%%writefile output6.txt\n",
        "17500000"
      ],
      "metadata": {
        "colab": {
          "base_uri": "https://localhost:8080/"
        },
        "id": "umJ49HgssHdT",
        "outputId": "f58ca97a-8bd1-4e55-ee27-e05a1e180eb5"
      },
      "execution_count": null,
      "outputs": [
        {
          "output_type": "stream",
          "name": "stdout",
          "text": [
            "Writing output6.txt\n"
          ]
        }
      ]
    },
    {
      "cell_type": "code",
      "source": [
        "%%writefile input7.txt\n",
        "6\n",
        "-4500 -5600 -4300 -300000 -2700 -3200"
      ],
      "metadata": {
        "colab": {
          "base_uri": "https://localhost:8080/"
        },
        "id": "TWTtKIxisRJf",
        "outputId": "620e457a-231e-4e8b-8acd-4d5254fe962d"
      },
      "execution_count": null,
      "outputs": [
        {
          "output_type": "stream",
          "name": "stdout",
          "text": [
            "Writing input7.txt\n"
          ]
        }
      ]
    },
    {
      "cell_type": "code",
      "source": [
        "-5600 * -300000"
      ],
      "metadata": {
        "colab": {
          "base_uri": "https://localhost:8080/"
        },
        "id": "0QR969wisgWZ",
        "outputId": "e8aa3173-b71b-4736-ba98-9a6e64201b54"
      },
      "execution_count": null,
      "outputs": [
        {
          "output_type": "execute_result",
          "data": {
            "text/plain": [
              "1680000000"
            ]
          },
          "metadata": {},
          "execution_count": 52
        }
      ]
    },
    {
      "cell_type": "code",
      "source": [
        "%%writefile output7.txt\n",
        "1680000000"
      ],
      "metadata": {
        "colab": {
          "base_uri": "https://localhost:8080/"
        },
        "id": "zxHhByZ0snvp",
        "outputId": "ce650700-1a51-42c9-f0e8-6f4e033c71ce"
      },
      "execution_count": null,
      "outputs": [
        {
          "output_type": "stream",
          "name": "stdout",
          "text": [
            "Writing output7.txt\n"
          ]
        }
      ]
    },
    {
      "cell_type": "code",
      "source": [
        "%%writefile hello.cpp\n",
        "#include <iostream>\n",
        "using namespace std;\n",
        "\n",
        "int main() {\n",
        "    long long a = -200000;\n",
        "    long long b = -220000;\n",
        "    cout << a*b << endl;\n",
        "    return 0;\n",
        "}"
      ],
      "metadata": {
        "colab": {
          "base_uri": "https://localhost:8080/"
        },
        "id": "Ca-pMkWHs6ic",
        "outputId": "e65dfdf8-c874-4c54-e279-a2683dca3f7b"
      },
      "execution_count": null,
      "outputs": [
        {
          "output_type": "stream",
          "name": "stdout",
          "text": [
            "Writing hello.cpp\n"
          ]
        }
      ]
    },
    {
      "cell_type": "code",
      "source": [
        "!g++ hello.cpp -o hello\n",
        "!./hello"
      ],
      "metadata": {
        "colab": {
          "base_uri": "https://localhost:8080/"
        },
        "id": "W2fmuQQJtZW1",
        "outputId": "1842deeb-abd0-41fd-f05c-34a402c01725"
      },
      "execution_count": null,
      "outputs": [
        {
          "output_type": "stream",
          "name": "stdout",
          "text": [
            "44000000000\n"
          ]
        }
      ]
    },
    {
      "cell_type": "code",
      "source": [
        "%%writefile input8.txt\n",
        "6\n",
        "0 0 0 0 0 7"
      ],
      "metadata": {
        "colab": {
          "base_uri": "https://localhost:8080/"
        },
        "id": "XUf6QKhDu246",
        "outputId": "2377db8b-36dc-4307-ff39-559dca03be70"
      },
      "execution_count": null,
      "outputs": [
        {
          "output_type": "stream",
          "name": "stdout",
          "text": [
            "Writing input8.txt\n"
          ]
        }
      ]
    },
    {
      "cell_type": "code",
      "source": [
        "0*7"
      ],
      "metadata": {
        "colab": {
          "base_uri": "https://localhost:8080/"
        },
        "id": "dpQ_LghzvTcT",
        "outputId": "83b98973-a96c-4a96-94e5-f0e3b197ad1c"
      },
      "execution_count": null,
      "outputs": [
        {
          "output_type": "execute_result",
          "data": {
            "text/plain": [
              "0"
            ]
          },
          "metadata": {},
          "execution_count": 57
        }
      ]
    },
    {
      "cell_type": "code",
      "source": [
        "%%writefile output8.txt\n",
        "0"
      ],
      "metadata": {
        "colab": {
          "base_uri": "https://localhost:8080/"
        },
        "id": "eJq6OGxYvZKc",
        "outputId": "53054cd6-c807-4747-ed4d-9512a62ce9e5"
      },
      "execution_count": null,
      "outputs": [
        {
          "output_type": "stream",
          "name": "stdout",
          "text": [
            "Writing output8.txt\n"
          ]
        }
      ]
    },
    {
      "cell_type": "code",
      "source": [
        "import random\n",
        "random_list = []\n",
        "for i in range(5):\n",
        "  random_list.append(int(random.random() * 1000000))\n",
        "random_list"
      ],
      "metadata": {
        "colab": {
          "base_uri": "https://localhost:8080/"
        },
        "id": "OPQPKAFrvdTz",
        "outputId": "5ca8abc4-7c7d-4e3e-a136-a4d645d71310"
      },
      "execution_count": null,
      "outputs": [
        {
          "output_type": "execute_result",
          "data": {
            "text/plain": [
              "[882055, 560753, 261947, 858287, 96552]"
            ]
          },
          "metadata": {},
          "execution_count": 68
        }
      ]
    },
    {
      "cell_type": "code",
      "source": [
        "%%writefile input9.txt\n",
        "5\n",
        "882055 560753 261947 858287 96552"
      ],
      "metadata": {
        "colab": {
          "base_uri": "https://localhost:8080/"
        },
        "id": "f2tnu8YevprZ",
        "outputId": "f975ddad-bfb9-4562-fbd4-d4e74bb3953e"
      },
      "execution_count": null,
      "outputs": [
        {
          "output_type": "stream",
          "name": "stdout",
          "text": [
            "Writing input9.txt\n"
          ]
        }
      ]
    },
    {
      "cell_type": "code",
      "source": [
        "858287*96552"
      ],
      "metadata": {
        "colab": {
          "base_uri": "https://localhost:8080/"
        },
        "id": "bv7B9rRCv-Gp",
        "outputId": "08cb5105-b714-4f14-d0a2-38c7225630f1"
      },
      "execution_count": null,
      "outputs": [
        {
          "output_type": "execute_result",
          "data": {
            "text/plain": [
              "82869326424"
            ]
          },
          "metadata": {},
          "execution_count": 60
        }
      ]
    },
    {
      "cell_type": "code",
      "source": [
        "%%writefile output9.txt\n",
        "82869326424"
      ],
      "metadata": {
        "colab": {
          "base_uri": "https://localhost:8080/"
        },
        "id": "epR0p0LlwEMg",
        "outputId": "ace3f2d1-c020-4f67-f9a6-04505c298fc5"
      },
      "execution_count": null,
      "outputs": [
        {
          "output_type": "stream",
          "name": "stdout",
          "text": [
            "Writing output9.txt\n"
          ]
        }
      ]
    },
    {
      "cell_type": "code",
      "source": [
        "%%writefile input10.txt\n",
        "4\n",
        "-8 -12 -15 2"
      ],
      "metadata": {
        "colab": {
          "base_uri": "https://localhost:8080/"
        },
        "id": "9Ffin2qnwMSA",
        "outputId": "a24b6646-483e-4d39-80fb-9820a32d400e"
      },
      "execution_count": null,
      "outputs": [
        {
          "output_type": "stream",
          "name": "stdout",
          "text": [
            "Writing input10.txt\n"
          ]
        }
      ]
    },
    {
      "cell_type": "code",
      "source": [
        "-12 * -15"
      ],
      "metadata": {
        "colab": {
          "base_uri": "https://localhost:8080/"
        },
        "id": "V4ChxnN3wWuh",
        "outputId": "274d8b16-1812-4a10-ce2b-5859a30e5307"
      },
      "execution_count": null,
      "outputs": [
        {
          "output_type": "execute_result",
          "data": {
            "text/plain": [
              "180"
            ]
          },
          "metadata": {},
          "execution_count": 63
        }
      ]
    },
    {
      "cell_type": "code",
      "source": [
        "%%writefile output10.txt\n",
        "180"
      ],
      "metadata": {
        "colab": {
          "base_uri": "https://localhost:8080/"
        },
        "id": "MDGHmgT5wbcm",
        "outputId": "01b5aae8-1f1e-4efc-da1d-fe0450d10cf4"
      },
      "execution_count": null,
      "outputs": [
        {
          "output_type": "stream",
          "name": "stdout",
          "text": [
            "Writing output10.txt\n"
          ]
        }
      ]
    },
    {
      "cell_type": "code",
      "source": [
        "%%writefile run_all_test.sh\n",
        "#!/bin/bash\n",
        "g++ max_pairwise_product_long_full.cpp -o max_pairwise_product_long_full\n",
        "for i in {4..10}\n",
        "do\n",
        "    ./max_pairwise_product_long_full < input${i}.txt > ctest${i}.txt\n",
        "    grep -xvFf output${i}.txt ctest${i}.txt\n",
        "done"
      ],
      "metadata": {
        "colab": {
          "base_uri": "https://localhost:8080/"
        },
        "id": "66xmtvMcwiid",
        "outputId": "40eff2af-4da3-41ba-8b7d-e13d630ae3df"
      },
      "execution_count": null,
      "outputs": [
        {
          "output_type": "stream",
          "name": "stdout",
          "text": [
            "Overwriting run_all_test.sh\n"
          ]
        }
      ]
    },
    {
      "cell_type": "code",
      "source": [
        "!chmod u+x run_all_test.sh\n",
        "!./run_all_test.sh"
      ],
      "metadata": {
        "colab": {
          "base_uri": "https://localhost:8080/"
        },
        "id": "KyJBVQSvxtbD",
        "outputId": "8fc7c85f-d7b1-4d01-938f-4f4f70803b01"
      },
      "execution_count": null,
      "outputs": [
        {
          "output_type": "stream",
          "name": "stdout",
          "text": [
            "150\n",
            "757056339785\n"
          ]
        }
      ]
    },
    {
      "cell_type": "markdown",
      "metadata": {
        "id": "9z9yr5QkeyJF"
      },
      "source": [
        "### Test 4  time test  measure the execution time running with the the largest worst cases input11.txt  (200000 increasing numbers) and input12.txt (199998 increasing numbers and  200000, 200000 at the end)"
      ]
    },
    {
      "cell_type": "code",
      "source": [
        "# input11.txt 200000 increasing numbers:  1 2 .. 200000\n",
        "\n",
        "%%writefile WriteTest.cpp\n",
        "\n",
        "#include <iostream>\n",
        "#include <fstream>\n",
        "#include <cstdlib>\n",
        "\n",
        "using namespace std;\n",
        "\n",
        "int main() {\n",
        "  // Create and open a text file\n",
        "  ofstream MyFile(\"input11.txt\");\n",
        "\n",
        " MyFile << 200000 <<\"\\n\";  // n\n",
        " for (int i=1; i <200001; i++){\n",
        "     MyFile << i <<\" \";\n",
        " }\n",
        "\n",
        "  // Close the file\n",
        "  MyFile.close();\n",
        "}"
      ],
      "metadata": {
        "colab": {
          "base_uri": "https://localhost:8080/"
        },
        "id": "UmB1ipWM_nSk",
        "outputId": "a96b1a78-e6f6-4023-a6a1-141f11e38f97"
      },
      "execution_count": null,
      "outputs": [
        {
          "output_type": "stream",
          "name": "stdout",
          "text": [
            "Writing WriteTest.cpp\n"
          ]
        }
      ]
    },
    {
      "cell_type": "code",
      "execution_count": null,
      "metadata": {
        "id": "EH25TkOkZfD9"
      },
      "outputs": [],
      "source": [
        "!g++ WriteTest.cpp -o WriteTest\n",
        "!./WriteTest"
      ]
    },
    {
      "cell_type": "code",
      "source": [
        "199999 * 200000"
      ],
      "metadata": {
        "colab": {
          "base_uri": "https://localhost:8080/"
        },
        "id": "j0mokSOnCCtZ",
        "outputId": "cc5d7a4a-33b8-477f-aa3e-32c6c0b824a5"
      },
      "execution_count": null,
      "outputs": [
        {
          "output_type": "execute_result",
          "data": {
            "text/plain": [
              "39999800000"
            ]
          },
          "metadata": {},
          "execution_count": 69
        }
      ]
    },
    {
      "cell_type": "code",
      "source": [
        "%%writefile output11.txt\n",
        "39999800000"
      ],
      "metadata": {
        "id": "VoDhDV73B5Mo",
        "colab": {
          "base_uri": "https://localhost:8080/"
        },
        "outputId": "b523aea9-fc9a-45bd-b5e9-77b8087b61e9"
      },
      "execution_count": null,
      "outputs": [
        {
          "output_type": "stream",
          "name": "stdout",
          "text": [
            "Writing output11.txt\n"
          ]
        }
      ]
    },
    {
      "cell_type": "code",
      "execution_count": null,
      "metadata": {
        "colab": {
          "base_uri": "https://localhost:8080/"
        },
        "id": "oLiMjbAIfPlX",
        "outputId": "b9a204da-0f18-4ae4-fe62-3b4eefe7d452"
      },
      "outputs": [
        {
          "output_type": "stream",
          "name": "stdout",
          "text": [
            "Overwriting WriteTest.cpp\n"
          ]
        }
      ],
      "source": [
        "# input12.txt 200000 decreasing numbers and 200000, 199999 ...  2 1\n",
        "\n",
        "%%writefile WriteTest.cpp\n",
        "\n",
        "#include <iostream>\n",
        "#include <fstream>\n",
        "#include <cstdlib>\n",
        "\n",
        "using namespace std;\n",
        "\n",
        "int main() {\n",
        "  // Create and open a text file\n",
        "  ofstream MyFile(\"input12.txt\");\n",
        "\n",
        " MyFile << 200000 <<\"\\n\";  // n\n",
        " for (int i=1; i <200001; i++){\n",
        "     MyFile << 200001-i <<\" \";\n",
        " }\n",
        "\n",
        "  // Close the file\n",
        "  MyFile.close();\n",
        "}"
      ]
    },
    {
      "cell_type": "code",
      "source": [
        "!g++ WriteTest.cpp -o WriteTest\n",
        "!./WriteTest"
      ],
      "metadata": {
        "id": "oULNBr_zAd9c"
      },
      "execution_count": null,
      "outputs": []
    },
    {
      "cell_type": "code",
      "source": [
        "%%writefile output12.txt\n",
        "39999800000"
      ],
      "metadata": {
        "colab": {
          "base_uri": "https://localhost:8080/"
        },
        "id": "PQLyocaFB-y4",
        "outputId": "a86651d6-6f3f-46f3-9e3c-665fc6b40170"
      },
      "execution_count": null,
      "outputs": [
        {
          "output_type": "stream",
          "name": "stdout",
          "text": [
            "Writing output12.txt\n"
          ]
        }
      ]
    },
    {
      "cell_type": "markdown",
      "metadata": {
        "id": "JB6f03qO-lj9"
      },
      "source": [
        "### Measure time\n",
        "\n",
        "https://askubuntu.com/questions/53444/how-can-i-measure-the-execution-time-of-a-terminal-process"
      ]
    },
    {
      "cell_type": "code",
      "execution_count": null,
      "metadata": {
        "colab": {
          "base_uri": "https://localhost:8080/"
        },
        "id": "6p2QLEr576zk",
        "outputId": "bebf2d20-671b-4495-e8f2-ae25e4f1f8c5"
      },
      "outputs": [
        {
          "output_type": "stream",
          "name": "stdout",
          "text": [
            "^C\n"
          ]
        }
      ],
      "source": [
        "!g++ max_pairwise_product_long_full.cpp -o max_pairwise_product_long_full\n",
        "!time ./max_pairwise_product_long_full< input11.txt"
      ]
    },
    {
      "cell_type": "code",
      "source": [
        "!g++ max_pairwise_product_long_full.cpp -o max_pairwise_product_long_full\n",
        "!time ./max_pairwise_product_long_full< input12.txt"
      ],
      "metadata": {
        "colab": {
          "base_uri": "https://localhost:8080/"
        },
        "id": "cnjCyeUdAnZj",
        "outputId": "31c8b3f6-11c7-48b4-daf1-34a5b4dd36b9"
      },
      "execution_count": null,
      "outputs": [
        {
          "output_type": "stream",
          "name": "stdout",
          "text": [
            "^C\n"
          ]
        }
      ]
    },
    {
      "cell_type": "markdown",
      "metadata": {
        "id": "FXClpBsUJuXC"
      },
      "source": [
        "### Calculate the number or and upper bound to the number of instructions executed by the algorithm as a function of n, add in each line a comment with the number of instructions that are executed in that line."
      ]
    },
    {
      "cell_type": "code",
      "execution_count": null,
      "metadata": {
        "colab": {
          "base_uri": "https://localhost:8080/"
        },
        "id": "uG6Mv-Pwlkii",
        "outputId": "f3c772fe-d7ce-4be8-b1da-75d0fed81006"
      },
      "outputs": [
        {
          "output_type": "stream",
          "name": "stdout",
          "text": [
            "Overwriting max_pairwise_product_long_full.cpp\n"
          ]
        }
      ],
      "source": [
        "%%writefile max_pairwise_product_long_full.cpp\n",
        "#include <iostream>\n",
        "#include <vector>\n",
        "#include <algorithm>\n",
        "\n",
        "long long MaxPairwiseProduct(const std::vector<int>& numbers) {              //INSTRUCTIONS executed by line\n",
        "    long long max_product = 0LL;                                             //1\n",
        "\t  long long aux_product = 0LL;                                             //1\n",
        "    int n = numbers.size();                                                  //1\n",
        "\n",
        "    for (int first = 0; first < n; ++first) {                                //2+2n\n",
        "        for (int second = 0; second < n; ++second) {                         //2n + 2n**2\n",
        "          if ( first != second ){                                            //n**2\n",
        "                aux_product = numbers[first] * numbers[second];              //n**2 -n\n",
        "                if (aux_product > max_product)                               //n**2 -n\n",
        "                    max_product = aux_product;                               //[0, n**2/2 - n/2] upper bound\n",
        "          }\n",
        "        }\n",
        "    }\n",
        "\n",
        "                                                                             // --------------\n",
        "    return max_product;                                                      // 5 + 2*n + [5*n**2, 11*n**2/2  - n/2]  upper bound\n",
        "}\n",
        "\n",
        "int main() {                                              //INSTRUCTIONS executed by line\n",
        "    int n;                                                //1\n",
        "    std::cin >> n;                                        //1\n",
        "    std::vector<int> numbers(n);                          //n\n",
        "    for (int i = 0; i < n; ++i) {                         //2 + 2n\n",
        "        std::cin >> numbers[i];                           //n\n",
        "    }\n",
        "\n",
        "    std::cout << MaxPairwiseProduct(numbers) << \"\\n\";     //1 + 1  + 5 + 2*n + [5*n**2, 11*n**2/2  - n/2]\n",
        "\n",
        "    return 0;                                             // --------------\n",
        "}                                                         //  11 + 6*n + [5*n**2, 11*n**2/2  - n/2]  upper bound\n"
      ]
    },
    {
      "cell_type": "markdown",
      "metadata": {
        "id": "0vTsUg8OwcHs"
      },
      "source": [
        "### Count executed intructions in code"
      ]
    },
    {
      "cell_type": "code",
      "execution_count": null,
      "metadata": {
        "colab": {
          "base_uri": "https://localhost:8080/"
        },
        "id": "CuRKkqQc137V",
        "outputId": "3f9c1e06-fab2-4871-d63c-3a3f1ce5c232"
      },
      "outputs": [
        {
          "output_type": "stream",
          "name": "stdout",
          "text": [
            "Writing max_pairwise_product_long_full_execints.cpp\n"
          ]
        }
      ],
      "source": [
        "%%writefile max_pairwise_product_long_full_execints.cpp\n",
        "#include <iostream>\n",
        "#include <vector>\n",
        "#include <algorithm>\n",
        "\n",
        "long long MaxPairwiseProduct(const std::vector<int>& numbers, long long &execints) {      //INSTRUCTIONS executed by line\n",
        "    execints++;\n",
        "\n",
        "    long long max_product = 0LL;                                                          //1\n",
        "    execints++;\n",
        "\n",
        "\t  long long aux_product = 0LL;                                                          //1\n",
        "    execints++;\n",
        "\n",
        "    int n = numbers.size();                                                               //1\n",
        "    execints++;\n",
        "\n",
        "    execints++;\n",
        "    for (int first = 0; first < n; ++first) {                                             //2+2n\n",
        "        execints += 2;\n",
        "\n",
        "        execints++;\n",
        "        for (int second = 0; second < n; ++second) {                                       //2n + 2n**2\n",
        "          execints += 2;\n",
        "\n",
        "          execints++;\n",
        "          if ( first != second ){                                                         //n**2\n",
        "                aux_product = numbers[first] * numbers[second];                           //n**2 -n\n",
        "                execints++;\n",
        "\n",
        "                execints++;\n",
        "                if (aux_product > max_product){                                           //n**2 -n\n",
        "                    max_product = aux_product;                                            //[0,n**2/2 - n/2)  upper bound\n",
        "                    execints++;\n",
        "\n",
        "                }\n",
        "        }\n",
        "\n",
        "      }\n",
        "      execints++;\n",
        "    }\n",
        "    execints++;\n",
        "                                                                                        // --------------\n",
        "    return max_product;                                                                 // 5 + 2*n + [5*n**2, 11*n**2/2  - n/2] upper bound\n",
        "}\n",
        "\n",
        "int main() {                                                 //INSTRUCTIONS executed by line\n",
        "\n",
        "    long long execints =0LL;\n",
        "\n",
        "    int n;                                                   //1\n",
        "    execints++;\n",
        "\n",
        "    std::cin >> n;                                           //1\n",
        "    execints++;\n",
        "\n",
        "    std::vector<int> numbers(n);                             //n\n",
        "    execints += n;\n",
        "\n",
        "    execints++;\n",
        "    for (int i = 0; i < n; ++i) {                            //2 + 2n\n",
        "        execints += 2;\n",
        "\n",
        "        std::cin >> numbers[i];\n",
        "        execints++;                                          //n\n",
        "\n",
        "    }\n",
        "\n",
        "\n",
        "    //std::cout << MaxPairwiseProduct(numbers) << \"\\n\";      //1 + 1  + 5 + 2*n + [5*n**2, 11*n**2/2  - n/2] upper bound\n",
        "\n",
        "    execints++;\n",
        "    int M = MaxPairwiseProduct(numbers,execints);\n",
        "\n",
        "    execints++;\n",
        "    std::cout <<  execints << \"\\n\";\n",
        "    return 0;                                                // --------------\n",
        "}                                                            // 11 + 6*n + [5*n**2, 11*n**2/2  - n/2]"
      ]
    },
    {
      "cell_type": "markdown",
      "source": [
        "The number of instructions executed by the algooirithm with a list of size $n$ is  \n",
        "\n",
        "$$T (n) = 11 + 6n + \\left[5n^2, 11\\frac{n^2}{2}  - \\frac{n}{2}\\right)  >  6n^2 = O(n^2)$$\n",
        "\n",
        "It depends on the size of the lists and  the order of the list.\n",
        "\n",
        "For the input0.txt\n",
        "```\n",
        "10\n",
        "0 0 0 0 0 0 0 0 0 0\n",
        "```\n",
        "$$T = 11 + 6(10) + 5(10)^2   = 571 $$\n",
        "\n",
        "$$T(10) \\in [571, 621)  $$\n"
      ],
      "metadata": {
        "id": "cUjHtvtdDsmr"
      }
    },
    {
      "cell_type": "code",
      "source": [
        "!g++ max_pairwise_product_long_full_execints.cpp -o max_pairwise_product_long_full_execints\n",
        "!./max_pairwise_product_long_full_execints < input0.txt"
      ],
      "metadata": {
        "colab": {
          "base_uri": "https://localhost:8080/"
        },
        "id": "Om9Fevb0miAT",
        "outputId": "2b0443cb-a3f9-4499-c22c-a855a47fe002"
      },
      "execution_count": null,
      "outputs": [
        {
          "output_type": "stream",
          "name": "stdout",
          "text": [
            "571\n"
          ]
        }
      ]
    },
    {
      "cell_type": "markdown",
      "source": [
        "For the input1.txt\n",
        "```\n",
        "10\n",
        "1 2 3 4 5 6 7 8 9 10\n",
        "```\n",
        "$$T = 11 + 6(10) + 5(10)^2 +  9 + 5 + 4 + 3 + 2 + 2 + 2 + 2 + 1 + 0  = 601 $$\n",
        "\n",
        "$$T(10) \\in [572, 622)  $$\n"
      ],
      "metadata": {
        "id": "FwJzZ6VzmArY"
      }
    },
    {
      "cell_type": "code",
      "source": [
        "#The number of times that  max_product = aux_product; in the worst case is less than (n**2 -n)/2 -  upper bound\n",
        "\n",
        "#     1  2  3  4  5  6  7  8  9  10\n",
        "#  1  x  2  3  4  5  6  7  8  9  10         9\n",
        "#  2  2  x  6  8  10 12 14 16 18 20         5 14\n",
        "#  3  3  6  x  12 15 18 21 24 27 30         4 18\n",
        "#  4  4  8  12 x  20 24 28 32 36 40         3 21\n",
        "#  5  5  10 15 20 x  30 35 40 45 50         2 23\n",
        "#  6  6  12 18 24 30 x  42 48 54 60         2 25\n",
        "#  7  7  14 21 28 35 42 x  56 63 70         2 27\n",
        "#  8  8  18 27 36 45 54 63 72 x  90         1 30\n",
        "#  10 10 20 30 40 50 60 70 60 90 x          0"
      ],
      "metadata": {
        "id": "K59xQMWiBNFj"
      },
      "execution_count": null,
      "outputs": []
    },
    {
      "cell_type": "code",
      "source": [
        "11 + 6*(10) + 5*(10)*(10) +  9 + 5 + 4 + 3 + 2 + 2 + 2 + 2 + 1 + 0"
      ],
      "metadata": {
        "colab": {
          "base_uri": "https://localhost:8080/"
        },
        "id": "E3O8dzFfEgir",
        "outputId": "9b677b0a-584e-42f0-8b9a-28492357f536"
      },
      "execution_count": null,
      "outputs": [
        {
          "output_type": "execute_result",
          "data": {
            "text/plain": [
              "601"
            ]
          },
          "metadata": {},
          "execution_count": 80
        }
      ]
    },
    {
      "cell_type": "code",
      "source": [
        "n = 10\n",
        "print( \"[\", 11 + 6*n + 5*n**2,  \",\", 11 + 6*n  + 5.5*n**2, \")\")"
      ],
      "metadata": {
        "colab": {
          "base_uri": "https://localhost:8080/"
        },
        "id": "TCpdl5u_Gq1a",
        "outputId": "64e04047-c4a9-4cc8-96f4-7083310883c1"
      },
      "execution_count": null,
      "outputs": [
        {
          "output_type": "stream",
          "name": "stdout",
          "text": [
            "[ 571 , 621.0 )\n"
          ]
        }
      ]
    },
    {
      "cell_type": "code",
      "execution_count": null,
      "metadata": {
        "colab": {
          "base_uri": "https://localhost:8080/"
        },
        "id": "Kuvm1C05ly2a",
        "outputId": "a3a8486a-3790-45be-d87d-a87ddb3eb74b"
      },
      "outputs": [
        {
          "output_type": "stream",
          "name": "stdout",
          "text": [
            "601\n"
          ]
        }
      ],
      "source": [
        "!g++ max_pairwise_product_long_full_execints.cpp -o max_pairwise_product_long_full_execints\n",
        "!./max_pairwise_product_long_full_execints < input1.txt"
      ]
    },
    {
      "cell_type": "markdown",
      "source": [
        "\n",
        "For the input2.txt\n",
        "```\n",
        "10\n",
        "10 9 8 7 6 5 4 3 2 1\n",
        "```\n",
        "$$T = 11 + 6*(10) + 5*(10)**2 +  1  = 571 $$"
      ],
      "metadata": {
        "id": "Yr_Lb7CaHfxB"
      }
    },
    {
      "cell_type": "code",
      "source": [
        "11 + 6*(10) + 5*(10)**2 +  1"
      ],
      "metadata": {
        "colab": {
          "base_uri": "https://localhost:8080/"
        },
        "id": "HOdqlwJiZUIp",
        "outputId": "588c6a63-6e04-4506-c879-6a13c1b6a702"
      },
      "execution_count": null,
      "outputs": [
        {
          "output_type": "execute_result",
          "data": {
            "text/plain": [
              "572"
            ]
          },
          "metadata": {},
          "execution_count": 83
        }
      ]
    },
    {
      "cell_type": "code",
      "source": [
        "!g++ max_pairwise_product_long_full_execints.cpp -o max_pairwise_product_long_full_execints\n",
        "!./max_pairwise_product_long_full_execints < input2.txt"
      ],
      "metadata": {
        "id": "_znzLectjFSe",
        "colab": {
          "base_uri": "https://localhost:8080/"
        },
        "outputId": "3bced679-6b32-4929-b973-cd0cce8c1387"
      },
      "execution_count": null,
      "outputs": [
        {
          "output_type": "stream",
          "name": "stdout",
          "text": [
            "572\n"
          ]
        }
      ]
    },
    {
      "cell_type": "markdown",
      "metadata": {
        "id": "NXW7QkoBL6xH"
      },
      "source": [
        "Calculate estimated time by instruction and number of instructions by second"
      ]
    },
    {
      "cell_type": "markdown",
      "source": [
        "For the input11.txt\n",
        "```\n",
        "200000\n",
        "1 2 ..  199999 2000\n",
        "```\n",
        "$$T = 11 + 6*(200000) + 5.5*(200000)**2  = 200001200012  $$"
      ],
      "metadata": {
        "id": "dlyRjaohz-YH"
      }
    },
    {
      "cell_type": "code",
      "source": [
        "!g++ max_pairwise_product_long_full_execints.cpp -o max_pairwise_product_long_full_execints\n",
        "!./max_pairwise_product_long_full_execints < input11.txt"
      ],
      "metadata": {
        "colab": {
          "base_uri": "https://localhost:8080/"
        },
        "id": "BMH8mF3EKn2w",
        "outputId": "d9d35efa-3037-4ee2-ceef-45c6cfd7728e"
      },
      "execution_count": null,
      "outputs": [
        {
          "output_type": "stream",
          "name": "stdout",
          "text": [
            "^C\n"
          ]
        }
      ]
    },
    {
      "cell_type": "code",
      "execution_count": null,
      "metadata": {
        "colab": {
          "base_uri": "https://localhost:8080/"
        },
        "id": "pKqB3i7dIxnc",
        "outputId": "92531a8e-0974-44bc-c4e6-e95fe90304cb"
      },
      "outputs": [
        {
          "output_type": "execute_result",
          "data": {
            "text/plain": [
              "1.4749765693187072e-09"
            ]
          },
          "metadata": {},
          "execution_count": 86
        }
      ],
      "source": [
        "# Estimated time by instruction\n",
        "\n",
        "295/200003177092\n"
      ]
    },
    {
      "cell_type": "code",
      "execution_count": null,
      "metadata": {
        "colab": {
          "base_uri": "https://localhost:8080/"
        },
        "id": "18N1ouqeMhE1",
        "outputId": "5402bfcb-ac92-4416-83fb-6f2f83c2965d"
      },
      "outputs": [
        {
          "output_type": "execute_result",
          "data": {
            "text/plain": [
              "677976871.4983051"
            ]
          },
          "metadata": {},
          "execution_count": 87
        }
      ],
      "source": [
        "# Estimated number of instructions by second\n",
        "\n",
        "200003177092/295"
      ]
    },
    {
      "cell_type": "markdown",
      "source": [
        "### Estimate and verify the maximun n that can be solved in 1 second\n",
        "\n",
        "$$(5.5n^2 + 5.5n + 11) \\times 1.47*10^{-9} s = 1 s$$\n",
        "\n",
        "$$ n \\approx 11000$$\n"
      ],
      "metadata": {
        "id": "KyuxejFkL5X_"
      }
    },
    {
      "cell_type": "code",
      "source": [
        "# Verify input13.txt\n",
        "%%writefile WriteTest.cpp\n",
        "\n",
        "#include <iostream>\n",
        "#include <fstream>\n",
        "#include <cstdlib>\n",
        "\n",
        "using namespace std;\n",
        "\n",
        "int main() {\n",
        "  // Create and open a text file\n",
        "  ofstream MyFile(\"input13.txt\");\n",
        "\n",
        " MyFile << 11000 <<\"\\n\";  // n\n",
        " for (int i=1; i <11001; i++){\n",
        "     MyFile << i <<\" \";\n",
        " }\n",
        "\n",
        "  // Close the file\n",
        "  MyFile.close();\n",
        "}"
      ],
      "metadata": {
        "colab": {
          "base_uri": "https://localhost:8080/"
        },
        "id": "WXu5jp-DLTOI",
        "outputId": "aabe5ed7-318d-4835-f74b-fd31be41d08d"
      },
      "execution_count": null,
      "outputs": [
        {
          "output_type": "stream",
          "name": "stdout",
          "text": [
            "Overwriting WriteTest.cpp\n"
          ]
        }
      ]
    },
    {
      "cell_type": "code",
      "source": [
        "!g++ WriteTest.cpp -o WriteTest\n",
        "!./WriteTest"
      ],
      "metadata": {
        "id": "AQ8N52pUMCeT"
      },
      "execution_count": null,
      "outputs": []
    },
    {
      "cell_type": "code",
      "source": [
        "10999 * 11000"
      ],
      "metadata": {
        "colab": {
          "base_uri": "https://localhost:8080/"
        },
        "id": "2iIOdbTrEtBx",
        "outputId": "82e69d93-3c65-40e4-e3f3-a025762f29fa"
      },
      "execution_count": null,
      "outputs": [
        {
          "output_type": "execute_result",
          "data": {
            "text/plain": [
              "120989000"
            ]
          },
          "metadata": {},
          "execution_count": 90
        }
      ]
    },
    {
      "cell_type": "code",
      "source": [
        "!g++ max_pairwise_product_long_full.cpp -o max_pairwise_product_long_full\n",
        "!time ./max_pairwise_product_long_full< input13.txt"
      ],
      "metadata": {
        "colab": {
          "base_uri": "https://localhost:8080/"
        },
        "id": "ussuAokfM2du",
        "outputId": "9219c0d8-b356-48cf-b676-46a400e41da2"
      },
      "execution_count": null,
      "outputs": [
        {
          "output_type": "stream",
          "name": "stdout",
          "text": [
            "120989000\n",
            "\n",
            "real\t0m1.303s\n",
            "user\t0m1.236s\n",
            "sys\t0m0.002s\n"
          ]
        }
      ]
    },
    {
      "cell_type": "markdown",
      "metadata": {
        "id": "Tm_AVmt-QQH4"
      },
      "source": [
        "## Python"
      ]
    },
    {
      "cell_type": "code",
      "execution_count": null,
      "metadata": {
        "id": "gRCCcd7IQTKZ",
        "colab": {
          "base_uri": "https://localhost:8080/"
        },
        "outputId": "dd581790-60e8-4085-de50-e7bed0850480"
      },
      "outputs": [
        {
          "output_type": "stream",
          "name": "stdout",
          "text": [
            "Writing max_pairwise_product.py\n"
          ]
        }
      ],
      "source": [
        "%%writefile max_pairwise_product.py\n",
        "def max_pairwise_product(numbers):\n",
        "    n = len(numbers)\n",
        "    max_product = 0\n",
        "\n",
        "    for first in range(n):\n",
        "        for second in range(n):\n",
        "            if first != second:\n",
        "                aux_product = numbers[first] * numbers[second]\n",
        "\n",
        "                if aux_product > max_product:\n",
        "                  max_product = aux_product\n",
        "\n",
        "    return max_product\n",
        "\n",
        "n = int(input())\n",
        "\n",
        "numbers = [int(i) for i in input().split()]\n",
        "\n",
        "print(max_pairwise_product(numbers))"
      ]
    },
    {
      "cell_type": "code",
      "execution_count": null,
      "metadata": {
        "id": "kAEAoNZEQTCw",
        "colab": {
          "base_uri": "https://localhost:8080/"
        },
        "outputId": "63cc3522-9d04-4657-d831-ad9d170c077a"
      },
      "outputs": [
        {
          "output_type": "stream",
          "name": "stdout",
          "text": [
            "Traceback (most recent call last):\n",
            "  File \"/content/max_pairwise_product.py\", line 19, in <module>\n",
            "    print(max_pairwise_product(numbers))\n",
            "  File \"/content/max_pairwise_product.py\", line 10, in max_pairwise_product\n",
            "    if aux_product > max_product:\n",
            "KeyboardInterrupt\n",
            "^C\n"
          ]
        }
      ],
      "source": [
        "!time python3 max_pairwise_product.py < input11.txt"
      ]
    },
    {
      "cell_type": "code",
      "execution_count": null,
      "metadata": {
        "id": "hjw7TJrDL0d-",
        "colab": {
          "base_uri": "https://localhost:8080/"
        },
        "outputId": "34dc1a3e-59e0-4593-d013-a4c5353a4bdf"
      },
      "outputs": [
        {
          "output_type": "stream",
          "name": "stdout",
          "text": [
            "Traceback (most recent call last):\n",
            "  File \"/content/max_pairwise_product.py\", line 19, in <module>\n",
            "    print(max_pairwise_product(numbers))\n",
            "  File \"/content/max_pairwise_product.py\", line 10, in max_pairwise_product\n",
            "    if aux_product > max_product:\n",
            "KeyboardInterrupt\n",
            "^C\n"
          ]
        }
      ],
      "source": [
        "# Verify\n",
        "!time python3 max_pairwise_product.py < input13.txt"
      ]
    },
    {
      "cell_type": "markdown",
      "source": [
        "# For the follwing solutions rquired  the same tests and analysis performed for the first solution"
      ],
      "metadata": {
        "id": "fEZR-3V4ZjCv"
      }
    },
    {
      "cell_type": "markdown",
      "metadata": {
        "id": "MKQKSC-vKePK"
      },
      "source": [
        "## Solutions in C++ and Python that uses\n",
        "$$\\frac{n^2 - n}{2} = O(n^2)\\ \\ \\text{products}$$"
      ]
    },
    {
      "cell_type": "code",
      "execution_count": null,
      "metadata": {
        "id": "jkkHHoxSK65p",
        "colab": {
          "base_uri": "https://localhost:8080/"
        },
        "outputId": "f52a7fb0-6256-497c-ba1b-e100affdae3d"
      },
      "outputs": [
        {
          "output_type": "stream",
          "name": "stdout",
          "text": [
            "Writing max_pairwise_product.cpp\n"
          ]
        }
      ],
      "source": [
        "%%writefile max_pairwise_product.cpp\n",
        "#include <iostream>\n",
        "#include <vector>\n",
        "#include <algorithm>\n",
        "\n",
        "int MaxPairwiseProduct(const std::vector<int>& numbers) {\n",
        "    int max_product = 0;\n",
        "    int n = numbers.size();\n",
        "\n",
        "    for (int first = 0; first < n; ++first) {\n",
        "        for (int second = first + 1; second < n; ++second) {\n",
        "            max_product = std::max(max_product,\n",
        "                numbers[first] * numbers[second]);\n",
        "        }\n",
        "    }\n",
        "\n",
        "    return max_product;\n",
        "}\n",
        "\n",
        "int main() {\n",
        "    int n;\n",
        "    std::cin >> n;\n",
        "    std::vector<int> numbers(n);\n",
        "    for (int i = 0; i < n; ++i) {\n",
        "        std::cin >> numbers[i];\n",
        "    }\n",
        "\n",
        "    std::cout << MaxPairwiseProduct(numbers) << \"\\n\";\n",
        "    return 0;\n",
        "}"
      ]
    },
    {
      "cell_type": "code",
      "execution_count": null,
      "metadata": {
        "id": "sU8-Ote7K8vz",
        "colab": {
          "base_uri": "https://localhost:8080/"
        },
        "outputId": "173c88af-e902-4913-d21f-677791fa959f"
      },
      "outputs": [
        {
          "output_type": "stream",
          "name": "stdout",
          "text": [
            "Writing max_pairwise_product_long.cpp\n"
          ]
        }
      ],
      "source": [
        "%%writefile max_pairwise_product_long.cpp\n",
        "#include <iostream>\n",
        "#include <vector>\n",
        "#include <algorithm>\n",
        "\n",
        "long long MaxPairwiseProduct(const std::vector<int>& numbers) {              //INSTRUCTIONS executed by line\n",
        "    long long max_product = 0LL;                                             //1\n",
        "\t  long long aux_product = 0LL;                                             //1\n",
        "    int n = numbers.size();                                                  //1\n",
        "\n",
        "    for (int first = 0; first < n; ++first) {                                //2+2n\n",
        "        for (int second = first + 1; second < n; ++second) {                 //2n + (n-1)n\n",
        "\t\t\t       aux_product =  (long long) numbers[first] * numbers[second];    //(n-1)n/2\n",
        "            if (max_product < aux_product)  {                                //(n-1)n/2\n",
        "\t\t\t\t        max_product = aux_product;                                   //[1,(n-1)n/2)  upper bound\n",
        "             }\n",
        "        }\n",
        "    }\n",
        "                                                                             // --------------\n",
        "    return max_product;                                                      // 5 + 4n + [2(n-1)n+1, 2.5 (n-1)n) upper bound\n",
        "}\n",
        "\n",
        "int main() {                                              //INSTRUCTIONS executed by line\n",
        "    int n;                                                //1\n",
        "    std::cin >> n;                                        //1\n",
        "    std::vector<int> numbers(n);                          //n\n",
        "    for (int i = 0; i < n; ++i) {                         //2 + 2n\n",
        "        std::cin >> numbers[i];                           //n\n",
        "    }\n",
        "\n",
        "    std::cout << MaxPairwiseProduct(numbers) << \"\\n\";     //1 + 1  + 5 + 4n + [2(n-1)n+1, 2.5 (n-1)n) upper bound\n",
        "    return 0;                                             // --------------\n",
        "}                                                         // 11 + 7n + [2(n-1)n+1, 2.5 (n-1)n) upper bound\n"
      ]
    },
    {
      "cell_type": "markdown",
      "source": [
        "**Stress tests**"
      ],
      "metadata": {
        "id": "lwqAEL-7g36D"
      }
    },
    {
      "cell_type": "code",
      "execution_count": null,
      "metadata": {
        "id": "5QWT3fneK8nw",
        "colab": {
          "base_uri": "https://localhost:8080/"
        },
        "outputId": "bb2d5331-c690-42f0-eba5-7b0037c98d3b"
      },
      "outputs": [
        {
          "output_type": "stream",
          "name": "stdout",
          "text": [
            "Overwriting run_all_test.sh\n"
          ]
        }
      ],
      "source": [
        "%%writefile run_all_test.sh\n",
        "#!/bin/bash\n",
        "g++ max_pairwise_product_long.cpp -o max_pairwise_product_long\n",
        "for i in {4..10}\n",
        "do\n",
        "    ./max_pairwise_product_long < input$i.txt > ctest$i.txt\n",
        "    grep -xvFf output$i.txt ctest$i.txt\n",
        "done"
      ]
    },
    {
      "cell_type": "code",
      "execution_count": null,
      "metadata": {
        "id": "mxIVvm1RK8dB",
        "colab": {
          "base_uri": "https://localhost:8080/"
        },
        "outputId": "82ec5dd0-47ff-4ad3-fcb2-9733e23c12a4"
      },
      "outputs": [
        {
          "output_type": "stream",
          "name": "stdout",
          "text": [
            "150\n",
            "757056339785\n"
          ]
        }
      ],
      "source": [
        "!chmod u+x run_all_test.sh\n",
        "!./run_all_test.sh"
      ]
    },
    {
      "cell_type": "markdown",
      "source": [
        "The number of instructions executed by the algooirithm with a list of size $n$ is  \n",
        "\n",
        "$$T (n) = 11 + 7n + \\left[2(n-1)n+1, 2.5(n-1)n\\right)= O(n^2)$$\n",
        "\n",
        "It depends on the size of the lists and  the order of the list.\n",
        "\n",
        "For the input0.txt\n",
        "```\n",
        "10\n",
        "0 0 0 0 0 0 0 0 0 0\n",
        "```\n",
        "$$T = 11 + 7(10) + 2(9)11   = 279 $$"
      ],
      "metadata": {
        "id": "Fs7ShCJkiz6j"
      }
    },
    {
      "cell_type": "markdown",
      "source": [
        "Calculate estimated time by instruction and number of instructions by second\n",
        "\n",
        "For the input11.txt\n",
        "\n",
        "200000 1 2 .. 199999 2000"
      ],
      "metadata": {
        "id": "JXJYsdodi-bq"
      }
    },
    {
      "cell_type": "code",
      "source": [
        "%%writefile max_pairwise_product_longexec.cpp\n",
        "#include <iostream>\n",
        "#include <vector>\n",
        "#include <algorithm>\n",
        "\n",
        "long long execints = 0LL;\n",
        "long long MaxPairwiseProduct(const std::vector<int>& numbers) {              //INSTRUCTIONS executed by line\n",
        "    long long max_product = 0LL;                                             //1\n",
        "\t  execints+=1;\n",
        "    long long aux_product = 0LL;                                             //1\n",
        "    execints+=1;\n",
        "    int n = numbers.size();                                                  //1\n",
        "    execints+=1;\n",
        "    execints+=1;\n",
        "    for (int first = 0; first < n; ++first) {                                //2+2n\n",
        "        execints+=2;\n",
        "        execints+=1;\n",
        "        for (int second = first + 1; second < n; ++second) {                 //2n + (n-1)n\n",
        "\t\t\t       execints+=2;\n",
        "             aux_product =  (long long) numbers[first] * numbers[second];    //(n-1)n/2\n",
        "             execints+=1;\n",
        "            if (max_product < aux_product)  {                                //(n-1)n/2\n",
        "\t\t\t\t        max_product = aux_product;                                   //[1,(n-1)n/2)  upper bound\n",
        "                execints+=1;\n",
        "             }\n",
        "        }\n",
        "        execints+=1;\n",
        "    }\n",
        "    execints+=1;\n",
        "                                                                             // --------------\n",
        "    return max_product;                                                      // 5 + 4n + [2(n-1)n+1, 2.5 (n-1)n) upper bound\n",
        "}\n",
        "\n",
        "int main() {                                              //INSTRUCTIONS executed by line\n",
        "    int n;  execints+=1;                                              //1\n",
        "    std::cin >> n; execints+=1;                                       //1\n",
        "    std::vector<int> numbers(n);                          //n\n",
        "    execints+=1;\n",
        "    execints+=1;\n",
        "    for (int i = 0; i < n; ++i) {                         //2 + 2n\n",
        "        execints+=2;\n",
        "        std::cin >> numbers[i];                           //n\n",
        "        execints+=1;\n",
        "    }\n",
        "    MaxPairwiseProduct(numbers);\n",
        "    std::cout << \"Número de instrucciones: \" << execints << \"\\n\";     //1 + 1  + 5 + 4n + [2(n-1)n+1, 2.5 (n-1)n) upper bound\n",
        "    return 0;                                             // --------------\n",
        "}                                                         // 11 + 7n + [2(n-1)n+1, 2.5 (n-1)n) upper bound\n"
      ],
      "metadata": {
        "colab": {
          "base_uri": "https://localhost:8080/"
        },
        "id": "Kh13Uf4HjSNR",
        "outputId": "e1de7342-c93d-4119-e5c9-0c653ed8279e"
      },
      "execution_count": null,
      "outputs": [
        {
          "output_type": "stream",
          "name": "stdout",
          "text": [
            "Writing max_pairwise_product_longexec.cpp\n"
          ]
        }
      ]
    },
    {
      "cell_type": "code",
      "source": [
        "!g++ max_pairwise_product_longexec.cpp -o max_pairwise_product_longexec\n",
        "!time ./max_pairwise_product_longexec < input11.txt"
      ],
      "metadata": {
        "colab": {
          "base_uri": "https://localhost:8080/"
        },
        "id": "NmTuDtemjUi-",
        "outputId": "b98ac058-dd0a-4595-a1af-3c33cfa5bc1c"
      },
      "execution_count": null,
      "outputs": [
        {
          "output_type": "stream",
          "name": "stdout",
          "text": [
            "^C\n"
          ]
        }
      ]
    },
    {
      "cell_type": "code",
      "source": [
        "# Estimated time by instruction (rounded values)\n",
        "155/60003772077"
      ],
      "metadata": {
        "colab": {
          "base_uri": "https://localhost:8080/"
        },
        "id": "eQnhEaj7j0Gd",
        "outputId": "ea9e1fd5-6197-46be-94b6-0dc849756a2f"
      },
      "execution_count": null,
      "outputs": [
        {
          "output_type": "execute_result",
          "data": {
            "text/plain": [
              "2.583170934672171e-09"
            ]
          },
          "metadata": {},
          "execution_count": 102
        }
      ]
    },
    {
      "cell_type": "code",
      "source": [
        "# Estimated number of instructions by second\n",
        "39999800000/145"
      ],
      "metadata": {
        "colab": {
          "base_uri": "https://localhost:8080/"
        },
        "id": "YEJwCh6mkCcT",
        "outputId": "c444e0d6-0fce-4daa-d845-7ed7f04baea8"
      },
      "execution_count": null,
      "outputs": [
        {
          "output_type": "execute_result",
          "data": {
            "text/plain": [
              "275860689.6551724"
            ]
          },
          "metadata": {},
          "execution_count": 103
        }
      ]
    },
    {
      "cell_type": "markdown",
      "source": [
        "It is much faster than previous solutions and, therefore, executes more instructions per second."
      ],
      "metadata": {
        "id": "pkOLDKK6kKru"
      }
    },
    {
      "cell_type": "markdown",
      "source": [
        "**Pyhon improved solution 1:**"
      ],
      "metadata": {
        "id": "CmH3H7rOk5AG"
      }
    },
    {
      "cell_type": "code",
      "source": [
        "%%writefile max_pairwise_product_improved.py\n",
        "def max_pairwise_product_improved(numbers):\n",
        "    max_product = 0\n",
        "    n = len(numbers)\n",
        "\n",
        "    for first in range(n):\n",
        "        for second in range(first + 1, n):\n",
        "            max_product = max(max_product, numbers[first] * numbers[second])\n",
        "\n",
        "    return max_product\n",
        "\n",
        "n = int(input())\n",
        "numbers = [int(i) for i in input().split()]\n",
        "print(max_pairwise_product_improved(numbers))"
      ],
      "metadata": {
        "colab": {
          "base_uri": "https://localhost:8080/"
        },
        "id": "iVhG-AkLkYbK",
        "outputId": "d94ead7f-8dbc-4354-ff5b-2f8ddfc95229"
      },
      "execution_count": null,
      "outputs": [
        {
          "output_type": "stream",
          "name": "stdout",
          "text": [
            "Writing max_pairwise_product_improved.py\n"
          ]
        }
      ]
    },
    {
      "cell_type": "markdown",
      "source": [
        "Test inputs 1 and 2"
      ],
      "metadata": {
        "id": "gX_NoEkqlKz9"
      }
    },
    {
      "cell_type": "code",
      "source": [
        "%%writefile run_all_test.sh\n",
        "#comparing all the executions to check the differences between the outputs\n",
        "for i in {1..2}\n",
        "do\n",
        "    python3 max_pairwise_product_improved.py < input$i.txt > pythonOutput$i.txt\n",
        "    grep -xvFf pythonOutput$i.txt output$i.txt\n",
        "done"
      ],
      "metadata": {
        "colab": {
          "base_uri": "https://localhost:8080/"
        },
        "id": "70Y-5YDIlE39",
        "outputId": "5bd8cf7c-36bb-4001-8264-26fb11647c62"
      },
      "execution_count": null,
      "outputs": [
        {
          "output_type": "stream",
          "name": "stdout",
          "text": [
            "Overwriting run_all_test.sh\n"
          ]
        }
      ]
    },
    {
      "cell_type": "code",
      "source": [
        "!chmod u+x run_all_test.sh\n",
        "!./run_all_test.sh"
      ],
      "metadata": {
        "id": "C-tzxHPOlkxS"
      },
      "execution_count": null,
      "outputs": []
    },
    {
      "cell_type": "markdown",
      "source": [
        "Test and execution time for input 3"
      ],
      "metadata": {
        "id": "pFHzjF-YltHO"
      }
    },
    {
      "cell_type": "code",
      "source": [
        "!time python3 max_pairwise_product_improved.py < input3.txt > pythonOutput3.txt\n",
        "!grep -xvFf pythonOutput3.txt output3.txt"
      ],
      "metadata": {
        "colab": {
          "base_uri": "https://localhost:8080/"
        },
        "id": "akkNo1FylsmU",
        "outputId": "bacad52e-c223-4e12-8204-857ae3e72e20"
      },
      "execution_count": null,
      "outputs": [
        {
          "output_type": "stream",
          "name": "stdout",
          "text": [
            "\n",
            "real\t0m0.032s\n",
            "user\t0m0.022s\n",
            "sys\t0m0.010s\n"
          ]
        }
      ]
    },
    {
      "cell_type": "markdown",
      "source": [
        "**20 Stress Tests:**"
      ],
      "metadata": {
        "id": "_1dLxbhFmO92"
      }
    },
    {
      "cell_type": "code",
      "source": [
        "import random\n",
        "\n",
        "def max_pairwise_product(numbers):\n",
        "    n = len(numbers)\n",
        "    max_product = 0\n",
        "\n",
        "    for first in range(n):\n",
        "        for second in range(n):\n",
        "            if first != second:\n",
        "                aux_product = numbers[first] * numbers[second]\n",
        "\n",
        "                if aux_product > max_product:\n",
        "                  max_product = aux_product\n",
        "\n",
        "    return max_product\n",
        "\n",
        "def max_pairwise_product_improved(numbers):\n",
        "    max_product = 0\n",
        "    n = len(numbers)\n",
        "\n",
        "    for first in range(n):\n",
        "        for second in range(first + 1, n):\n",
        "            max_product = max(max_product, numbers[first] * numbers[second])\n",
        "\n",
        "    return max_product\n",
        "\n",
        "for _ in range(20):  # Run the test 20 times\n",
        "    n = random.randint(2, 12)  # Use a large n\n",
        "    numbers = [random.randint(1, 10**9) for _ in range(n)]  # Generate n random numbers between 1 and 10^9\n",
        "\n",
        "    print(\"-------------------------------------------------\")\n",
        "    print(f\"Testing with the list: {numbers}\")\n",
        "    print(f\"The efficient solution gives the result {max_pairwise_product_improved(numbers)}\")\n",
        "    print(f\"The comparison solution gives the result {max_pairwise_product(numbers)}\")\n",
        "    if max_pairwise_product_improved(numbers) == max_pairwise_product(numbers):\n",
        "        print(\"The solution is correct OK\")\n",
        "    else:\n",
        "        print(\"ERROR\")\n",
        "    print(\"-------------------------------------------------\")"
      ],
      "metadata": {
        "colab": {
          "base_uri": "https://localhost:8080/"
        },
        "id": "0l7S2H9ImT4a",
        "outputId": "49c5eeb5-5e71-40cd-e18f-50b27d3b84a4"
      },
      "execution_count": null,
      "outputs": [
        {
          "output_type": "stream",
          "name": "stdout",
          "text": [
            "-------------------------------------------------\n",
            "Testing with the list: [463958035, 265994366, 753612895, 286433064]\n",
            "The efficient solution gives the result 349644757914861325\n",
            "The comparison solution gives the result 349644757914861325\n",
            "The solution is correct OK\n",
            "-------------------------------------------------\n",
            "-------------------------------------------------\n",
            "Testing with the list: [797131402, 795681947, 203820138, 769355203, 659796529]\n",
            "The efficient solution gives the result 634263065958199694\n",
            "The comparison solution gives the result 634263065958199694\n",
            "The solution is correct OK\n",
            "-------------------------------------------------\n",
            "-------------------------------------------------\n",
            "Testing with the list: [875632395, 865411019, 932185468, 248099571, 789465522, 734873492, 387073220, 20701952, 416466403]\n",
            "The efficient solution gives the result 816251793929035860\n",
            "The comparison solution gives the result 816251793929035860\n",
            "The solution is correct OK\n",
            "-------------------------------------------------\n",
            "-------------------------------------------------\n",
            "Testing with the list: [949388062, 82511920, 976961019, 884783877, 583959900, 886219081, 250645166, 195431752]\n",
            "The efficient solution gives the result 927515128477955178\n",
            "The comparison solution gives the result 927515128477955178\n",
            "The solution is correct OK\n",
            "-------------------------------------------------\n",
            "-------------------------------------------------\n",
            "Testing with the list: [86829732, 110727680, 80867707, 620253650, 455234056, 466418393, 960212000, 118848813, 191138152]\n",
            "The efficient solution gives the result 595574997773800000\n",
            "The comparison solution gives the result 595574997773800000\n",
            "The solution is correct OK\n",
            "-------------------------------------------------\n",
            "-------------------------------------------------\n",
            "Testing with the list: [891932001, 493360337, 329428988, 585506014, 688129291, 494346295]\n",
            "The efficient solution gives the result 613764535468341291\n",
            "The comparison solution gives the result 613764535468341291\n",
            "The solution is correct OK\n",
            "-------------------------------------------------\n",
            "-------------------------------------------------\n",
            "Testing with the list: [956710146, 450142171, 874935352, 998330450, 99962649, 725774835]\n",
            "The efficient solution gives the result 955112870575745700\n",
            "The comparison solution gives the result 955112870575745700\n",
            "The solution is correct OK\n",
            "-------------------------------------------------\n",
            "-------------------------------------------------\n",
            "Testing with the list: [404414005, 878750241, 647826703, 744225956]\n",
            "The efficient solution gives the result 653988738193455396\n",
            "The comparison solution gives the result 653988738193455396\n",
            "The solution is correct OK\n",
            "-------------------------------------------------\n",
            "-------------------------------------------------\n",
            "Testing with the list: [56386339, 982574181, 666743686, 825508752, 317894130, 59129838, 370426319]\n",
            "The efficient solution gives the result 811123585904732112\n",
            "The comparison solution gives the result 811123585904732112\n",
            "The solution is correct OK\n",
            "-------------------------------------------------\n",
            "-------------------------------------------------\n",
            "Testing with the list: [59276096, 357191585, 189288111, 112628403, 945061849, 797452118, 898317473, 112204494, 940296302, 367400928]\n",
            "The efficient solution gives the result 888638161775982398\n",
            "The comparison solution gives the result 888638161775982398\n",
            "The solution is correct OK\n",
            "-------------------------------------------------\n",
            "-------------------------------------------------\n",
            "Testing with the list: [467729450, 714939866, 430454880]\n",
            "The efficient solution gives the result 334398430307253700\n",
            "The comparison solution gives the result 334398430307253700\n",
            "The solution is correct OK\n",
            "-------------------------------------------------\n",
            "-------------------------------------------------\n",
            "Testing with the list: [264545850, 39801804, 383790928, 291177847, 718831365, 594409344, 243221582, 467338008, 998447995]\n",
            "The efficient solution gives the result 717715735127363175\n",
            "The comparison solution gives the result 717715735127363175\n",
            "The solution is correct OK\n",
            "-------------------------------------------------\n",
            "-------------------------------------------------\n",
            "Testing with the list: [411372815, 927719555, 637483908, 11180236, 306787483, 131005061, 612747948, 267245124]\n",
            "The efficient solution gives the result 591406287449420940\n",
            "The comparison solution gives the result 591406287449420940\n",
            "The solution is correct OK\n",
            "-------------------------------------------------\n",
            "-------------------------------------------------\n",
            "Testing with the list: [790340431, 102261062, 239450245, 84206269, 929186672]\n",
            "The efficient solution gives the result 734373794827935632\n",
            "The comparison solution gives the result 734373794827935632\n",
            "The solution is correct OK\n",
            "-------------------------------------------------\n",
            "-------------------------------------------------\n",
            "Testing with the list: [982045420, 527553419, 817301994]\n",
            "The efficient solution gives the result 802627679964567480\n",
            "The comparison solution gives the result 802627679964567480\n",
            "The solution is correct OK\n",
            "-------------------------------------------------\n",
            "-------------------------------------------------\n",
            "Testing with the list: [354722686, 753343873, 672201488, 434243008, 462069192, 735437210]\n",
            "The efficient solution gives the result 554037116129714330\n",
            "The comparison solution gives the result 554037116129714330\n",
            "The solution is correct OK\n",
            "-------------------------------------------------\n",
            "-------------------------------------------------\n",
            "Testing with the list: [895143908, 956010839, 388645409, 252497111, 520681395, 646892263, 297330441, 22010051, 83779379, 639342742, 703299620]\n",
            "The efficient solution gives the result 855767278512818812\n",
            "The comparison solution gives the result 855767278512818812\n",
            "The solution is correct OK\n",
            "-------------------------------------------------\n",
            "-------------------------------------------------\n",
            "Testing with the list: [848637154, 667474630, 142540631, 511767378, 999880474, 87473225]\n",
            "The efficient solution gives the result 848535719795530996\n",
            "The comparison solution gives the result 848535719795530996\n",
            "The solution is correct OK\n",
            "-------------------------------------------------\n",
            "-------------------------------------------------\n",
            "Testing with the list: [543025370, 423372468, 251576738]\n",
            "The efficient solution gives the result 229901991083513160\n",
            "The comparison solution gives the result 229901991083513160\n",
            "The solution is correct OK\n",
            "-------------------------------------------------\n",
            "-------------------------------------------------\n",
            "Testing with the list: [598446398, 640407425]\n",
            "The efficient solution gives the result 383249516743705150\n",
            "The comparison solution gives the result 383249516743705150\n",
            "The solution is correct OK\n",
            "-------------------------------------------------\n"
          ]
        }
      ]
    },
    {
      "cell_type": "markdown",
      "source": [
        "Count executed instructions in code and verify with inputs 1,2 and 3"
      ],
      "metadata": {
        "id": "p7gQ3eYYm6Nt"
      }
    },
    {
      "cell_type": "code",
      "source": [
        "%%writefile max_pairwise_product_improved_count.py\n",
        "import math\n",
        "exec_times = 0\n",
        "\n",
        "def max_pairwise_product_improved(numbers):\n",
        "    global exec_times\n",
        "    exec_times += 1\n",
        "    max_product = 0\n",
        "\n",
        "    exec_times += 1\n",
        "    n = len(numbers)\n",
        "\n",
        "    exec_times += 1\n",
        "    for first in range(n):\n",
        "        exec_times += 2\n",
        "\n",
        "        exec_times += 1\n",
        "        for second in range(first + 1, n):\n",
        "            exec_times += 2\n",
        "            max_product = max(max_product, numbers[first] * numbers[second])\n",
        "        exec_times += 1\n",
        "    exec_times += 1\n",
        "\n",
        "    return max_product\n",
        "\n",
        "exec_times += 1\n",
        "n = int(input())\n",
        "\n",
        "exec_times += n\n",
        "numbers = [int(i) for i in input().split()]\n",
        "\n",
        "exec_times += 1\n",
        "max_pairwise_product_improved(numbers)\n",
        "print(\"Number of instructions: \", exec_times)"
      ],
      "metadata": {
        "colab": {
          "base_uri": "https://localhost:8080/"
        },
        "id": "_604tQ5Im7My",
        "outputId": "5bed5be1-6d40-46c3-ab4c-44a9a0f44930"
      },
      "execution_count": null,
      "outputs": [
        {
          "output_type": "stream",
          "name": "stdout",
          "text": [
            "Writing max_pairwise_product_improved_count.py\n"
          ]
        }
      ]
    },
    {
      "cell_type": "code",
      "source": [
        "%%writefile run_all_test.sh\n",
        "for i in {1..3}\n",
        "do\n",
        "    echo \"Input #$i\"\n",
        "    python3 max_pairwise_product_improved_count.py < input$i.txt\n",
        "done"
      ],
      "metadata": {
        "colab": {
          "base_uri": "https://localhost:8080/"
        },
        "id": "aFbWMeeRnGKE",
        "outputId": "1a9056e8-82da-47b3-9add-85ae4d6cae6f"
      },
      "execution_count": null,
      "outputs": [
        {
          "output_type": "stream",
          "name": "stdout",
          "text": [
            "Overwriting run_all_test.sh\n"
          ]
        }
      ]
    },
    {
      "cell_type": "code",
      "source": [
        "!chmod u+x run_all_test.sh\n",
        "!./run_all_test.sh"
      ],
      "metadata": {
        "colab": {
          "base_uri": "https://localhost:8080/"
        },
        "id": "6Qd1Hq6PnKX7",
        "outputId": "dbf9008a-1d23-4eb2-a92d-225c6c0938ca"
      },
      "execution_count": null,
      "outputs": [
        {
          "output_type": "stream",
          "name": "stdout",
          "text": [
            "Input #1\n",
            "Number of instructions:  146\n",
            "Input #2\n",
            "Number of instructions:  146\n",
            "Input #3\n",
            "Number of instructions:  66\n"
          ]
        }
      ]
    },
    {
      "cell_type": "markdown",
      "source": [
        "### Calculate estimated time by instruction and number of instructions by second"
      ],
      "metadata": {
        "id": "W9dcAG6FnRxO"
      }
    },
    {
      "cell_type": "markdown",
      "source": [
        "Using input 11"
      ],
      "metadata": {
        "id": "PjSUWlAwn233"
      }
    },
    {
      "cell_type": "code",
      "source": [
        "import math\n",
        "\n",
        "def max_pairwise_product_improved(numbers):\n",
        "    max_product = 0 # 1\n",
        "    n = len(numbers) # 1\n",
        "\n",
        "\n",
        "    for first in range(n): # 2n + 2\n",
        "        for second in range(first + 1, n): # 2n + (n-1)n\n",
        "            max_product = max(max_product, numbers[first] * numbers[second]) # n^2\n",
        "\n",
        "    return max_product\n",
        "\n",
        "n = int(input()) # 1\n",
        "numbers = [int(i) for i in input().split()] # n\n",
        "max_pairwise_product_improved(numbers)\n"
      ],
      "metadata": {
        "colab": {
          "base_uri": "https://localhost:8080/",
          "height": 356
        },
        "id": "UiWkdfAmn1Dc",
        "outputId": "d7c67d1c-7bd3-42f6-9b9d-908655b8da17"
      },
      "execution_count": null,
      "outputs": [
        {
          "output_type": "error",
          "ename": "KeyboardInterrupt",
          "evalue": "Interrupted by user",
          "traceback": [
            "\u001b[0;31m---------------------------------------------------------------------------\u001b[0m",
            "\u001b[0;31mKeyboardInterrupt\u001b[0m                         Traceback (most recent call last)",
            "\u001b[0;32m<ipython-input-116-28be4aacde60>\u001b[0m in \u001b[0;36m<cell line: 14>\u001b[0;34m()\u001b[0m\n\u001b[1;32m     12\u001b[0m     \u001b[0;32mreturn\u001b[0m \u001b[0mmax_product\u001b[0m\u001b[0;34m\u001b[0m\u001b[0;34m\u001b[0m\u001b[0m\n\u001b[1;32m     13\u001b[0m \u001b[0;34m\u001b[0m\u001b[0m\n\u001b[0;32m---> 14\u001b[0;31m \u001b[0mn\u001b[0m \u001b[0;34m=\u001b[0m \u001b[0mint\u001b[0m\u001b[0;34m(\u001b[0m\u001b[0minput\u001b[0m\u001b[0;34m(\u001b[0m\u001b[0;34m)\u001b[0m\u001b[0;34m)\u001b[0m \u001b[0;31m# 1\u001b[0m\u001b[0;34m\u001b[0m\u001b[0;34m\u001b[0m\u001b[0m\n\u001b[0m\u001b[1;32m     15\u001b[0m \u001b[0mnumbers\u001b[0m \u001b[0;34m=\u001b[0m \u001b[0;34m[\u001b[0m\u001b[0mint\u001b[0m\u001b[0;34m(\u001b[0m\u001b[0mi\u001b[0m\u001b[0;34m)\u001b[0m \u001b[0;32mfor\u001b[0m \u001b[0mi\u001b[0m \u001b[0;32min\u001b[0m \u001b[0minput\u001b[0m\u001b[0;34m(\u001b[0m\u001b[0;34m)\u001b[0m\u001b[0;34m.\u001b[0m\u001b[0msplit\u001b[0m\u001b[0;34m(\u001b[0m\u001b[0;34m)\u001b[0m\u001b[0;34m]\u001b[0m \u001b[0;31m# n\u001b[0m\u001b[0;34m\u001b[0m\u001b[0;34m\u001b[0m\u001b[0m\n\u001b[1;32m     16\u001b[0m \u001b[0mmax_pairwise_product_improved\u001b[0m\u001b[0;34m(\u001b[0m\u001b[0mnumbers\u001b[0m\u001b[0;34m)\u001b[0m\u001b[0;34m\u001b[0m\u001b[0;34m\u001b[0m\u001b[0m\n",
            "\u001b[0;32m/usr/local/lib/python3.10/dist-packages/ipykernel/kernelbase.py\u001b[0m in \u001b[0;36mraw_input\u001b[0;34m(self, prompt)\u001b[0m\n\u001b[1;32m    849\u001b[0m                 \u001b[0;34m\"raw_input was called, but this frontend does not support input requests.\"\u001b[0m\u001b[0;34m\u001b[0m\u001b[0;34m\u001b[0m\u001b[0m\n\u001b[1;32m    850\u001b[0m             )\n\u001b[0;32m--> 851\u001b[0;31m         return self._input_request(str(prompt),\n\u001b[0m\u001b[1;32m    852\u001b[0m             \u001b[0mself\u001b[0m\u001b[0;34m.\u001b[0m\u001b[0m_parent_ident\u001b[0m\u001b[0;34m,\u001b[0m\u001b[0;34m\u001b[0m\u001b[0;34m\u001b[0m\u001b[0m\n\u001b[1;32m    853\u001b[0m             \u001b[0mself\u001b[0m\u001b[0;34m.\u001b[0m\u001b[0m_parent_header\u001b[0m\u001b[0;34m,\u001b[0m\u001b[0;34m\u001b[0m\u001b[0;34m\u001b[0m\u001b[0m\n",
            "\u001b[0;32m/usr/local/lib/python3.10/dist-packages/ipykernel/kernelbase.py\u001b[0m in \u001b[0;36m_input_request\u001b[0;34m(self, prompt, ident, parent, password)\u001b[0m\n\u001b[1;32m    893\u001b[0m             \u001b[0;32mexcept\u001b[0m \u001b[0mKeyboardInterrupt\u001b[0m\u001b[0;34m:\u001b[0m\u001b[0;34m\u001b[0m\u001b[0;34m\u001b[0m\u001b[0m\n\u001b[1;32m    894\u001b[0m                 \u001b[0;31m# re-raise KeyboardInterrupt, to truncate traceback\u001b[0m\u001b[0;34m\u001b[0m\u001b[0;34m\u001b[0m\u001b[0m\n\u001b[0;32m--> 895\u001b[0;31m                 \u001b[0;32mraise\u001b[0m \u001b[0mKeyboardInterrupt\u001b[0m\u001b[0;34m(\u001b[0m\u001b[0;34m\"Interrupted by user\"\u001b[0m\u001b[0;34m)\u001b[0m \u001b[0;32mfrom\u001b[0m \u001b[0;32mNone\u001b[0m\u001b[0;34m\u001b[0m\u001b[0;34m\u001b[0m\u001b[0m\n\u001b[0m\u001b[1;32m    896\u001b[0m             \u001b[0;32mexcept\u001b[0m \u001b[0mException\u001b[0m \u001b[0;32mas\u001b[0m \u001b[0me\u001b[0m\u001b[0;34m:\u001b[0m\u001b[0;34m\u001b[0m\u001b[0;34m\u001b[0m\u001b[0m\n\u001b[1;32m    897\u001b[0m                 \u001b[0mself\u001b[0m\u001b[0;34m.\u001b[0m\u001b[0mlog\u001b[0m\u001b[0;34m.\u001b[0m\u001b[0mwarning\u001b[0m\u001b[0;34m(\u001b[0m\u001b[0;34m\"Invalid Message:\"\u001b[0m\u001b[0;34m,\u001b[0m \u001b[0mexc_info\u001b[0m\u001b[0;34m=\u001b[0m\u001b[0;32mTrue\u001b[0m\u001b[0;34m)\u001b[0m\u001b[0;34m\u001b[0m\u001b[0;34m\u001b[0m\u001b[0m\n",
            "\u001b[0;31mKeyboardInterrupt\u001b[0m: Interrupted by user"
          ]
        }
      ]
    },
    {
      "cell_type": "markdown",
      "source": [
        "The number of operations is: $$T (n) = 2n^2 + 4n + 5 = O(n^2)$$"
      ],
      "metadata": {
        "id": "VNC7yqRwp-Bs"
      }
    },
    {
      "cell_type": "markdown",
      "source": [
        "Using input11 (n=20000)"
      ],
      "metadata": {
        "id": "LfSc5v7nqSM7"
      }
    },
    {
      "cell_type": "markdown",
      "source": [
        "$$T (20000) = 2*20000^2 + 4 * 20000 + 5 ≈ 800080005$$"
      ],
      "metadata": {
        "id": "2Q-ME4_MqIUl"
      }
    },
    {
      "cell_type": "markdown",
      "source": [
        "Calculate time:"
      ],
      "metadata": {
        "id": "guXO-CFwqZXS"
      }
    },
    {
      "cell_type": "code",
      "source": [
        "!time python3 max_pairwise_product_improved.py < input11.txt > pythonOutputSort11.txt\n",
        "!grep -xvFf pythonOutput11.txt output11.txt"
      ],
      "metadata": {
        "colab": {
          "base_uri": "https://localhost:8080/"
        },
        "id": "GVsXug_6qb0f",
        "outputId": "8da5027f-fce8-4843-dda0-a548e76baeff"
      },
      "execution_count": null,
      "outputs": [
        {
          "output_type": "stream",
          "name": "stdout",
          "text": [
            "Traceback (most recent call last):\n",
            "  File \"/content/max_pairwise_product_improved.py\", line 13, in <module>\n",
            "    print(max_pairwise_product_improved(numbers))\n",
            "  File \"/content/max_pairwise_product_improved.py\", line 7, in max_pairwise_product_improved\n",
            "    max_product = max(max_product, numbers[first] * numbers[second])\n",
            "KeyboardInterrupt\n",
            "^C\n",
            "grep: pythonOutput11.txt: No such file or directory\n"
          ]
        }
      ]
    },
    {
      "cell_type": "markdown",
      "source": [
        "Python complexity time is estimated the same as the c++ solution. So now let's study it's time execution performance"
      ],
      "metadata": {
        "id": "y8Z7tCH9rka0"
      }
    },
    {
      "cell_type": "markdown",
      "source": [
        "The code runs for more than 1h: 10min.However, the code did not finish executing, this is because Python is much slower than C++ to carry out the instructions.\n",
        "\n"
      ],
      "metadata": {
        "id": "QwE_1XIXrlSE"
      }
    },
    {
      "cell_type": "markdown",
      "source": [
        "For this reason, with input 11, it was not possible to determine the number of instructions per second or the execution delay."
      ],
      "metadata": {
        "id": "5DWJ-aOrr193"
      }
    },
    {
      "cell_type": "markdown",
      "metadata": {
        "id": "1Hsbd-uHOb_j"
      },
      "source": [
        "# Sort solution in C++ and Python\n",
        "\n",
        "$$ O(n \\lg n)$$\n",
        "\n",
        "**Which sorting algorithm is used in GCC?**\n",
        "https://stackoverflow.com/questions/7221257/which-sorting-algorithm-is-used-in-gcc\n",
        "\n",
        "* ...  the algorithm is called introsort, a combination between Insertionsort, Quicksort & Heapsort. ...\n",
        "\n",
        "**Introsort**\n",
        "https://en.wikipedia.org/wiki/Introsort\n",
        "\n",
        "Introsort or introspective sort is a hybrid sorting algorithm that provides both fast average performance and (asymptotically) optimal worst-case performance. It begins with quicksort, it switches to heapsort when the recursion depth exceeds a level based on (the logarithm of) the number of elements being sorted and it switches to insertion sort when the number of elements is below some threshold\n",
        "\n",
        "*   Class\tSorting algorithm\n",
        "*   Data structure\tArray\n",
        "*   Worst-case performance\t$O(n \\lg n)$\n",
        "*   Average performance\t$O(n \\lg n)$\n",
        "\n",
        "**Tinsort**\n",
        "https://en.wikipedia.org/wiki/Timsort\n",
        "\n",
        "Timsort is a hybrid, stable sorting algorithm, derived from merge sort and insertion sort, designed to perform well on many kinds of real-world data. It was implemented by Tim Peters in 2002 for use in the Python programming language.\n",
        "\n",
        "*   Class\tSorting algorithm\n",
        "*   Data structure\tArray\n",
        "*   Worst-case performance\t$O(n \\lg n)$\n",
        "*   Best-case performance $O(n)$\n",
        "*   Average performance\t$O(n \\lg n)$\n",
        "*   Worst-case space complexity $O(n)$"
      ]
    },
    {
      "cell_type": "markdown",
      "metadata": {
        "id": "WMUthAXjOb_k"
      },
      "source": [
        "\n",
        "Python sorting max pairwise product"
      ]
    },
    {
      "cell_type": "code",
      "source": [
        "%%writefile max_pairwise_product_sort.py\n",
        "def max_pairwise_product_sort(numbers):\n",
        "  numbers.sort(reverse=True)\n",
        "  return numbers[0] * numbers[1]\n",
        "\n",
        "n = int(input())\n",
        "numbers = [int(i) for i in input().split()]\n",
        "print(max_pairwise_product_sort(numbers))"
      ],
      "metadata": {
        "id": "jnIRWyUEDu_C",
        "colab": {
          "base_uri": "https://localhost:8080/"
        },
        "outputId": "d96312b9-9316-431d-a057-d8f831d85a7d"
      },
      "execution_count": null,
      "outputs": [
        {
          "output_type": "stream",
          "name": "stdout",
          "text": [
            "Writing max_pairwise_product_sort.py\n"
          ]
        }
      ]
    },
    {
      "cell_type": "markdown",
      "metadata": {
        "id": "v8pdV9ABOb_k"
      },
      "source": [
        "Test with inputs 1 and 2\n",
        "\n"
      ]
    },
    {
      "cell_type": "code",
      "execution_count": null,
      "metadata": {
        "id": "kdXAyLG4Ob_k",
        "colab": {
          "base_uri": "https://localhost:8080/"
        },
        "outputId": "0f38f6fb-54f9-4a00-b4a7-a91d95f1f742"
      },
      "outputs": [
        {
          "output_type": "stream",
          "name": "stdout",
          "text": [
            "Overwriting run_all_test.sh\n"
          ]
        }
      ],
      "source": [
        "%%writefile run_all_test.sh\n",
        "#comparing all the executions to check the differences between the outputs\n",
        "for i in {1..2}\n",
        "do\n",
        "    python3 max_pairwise_product_sort.py < input$i.txt > pythonOutput$i.txt\n",
        "    grep -xvFf pythonOutput$i.txt output$i.txt\n",
        "done"
      ]
    },
    {
      "cell_type": "code",
      "source": [
        "!chmod u+x run_all_test.sh\n",
        "!./run_all_test.sh"
      ],
      "metadata": {
        "id": "oAdZuI4htnlE"
      },
      "execution_count": null,
      "outputs": []
    },
    {
      "cell_type": "markdown",
      "metadata": {
        "id": "Sw-5X1q1Ob_k"
      },
      "source": [
        "Test and time it with input 3"
      ]
    },
    {
      "cell_type": "code",
      "execution_count": null,
      "metadata": {
        "id": "ryHJ30WIOb_k",
        "colab": {
          "base_uri": "https://localhost:8080/"
        },
        "outputId": "2200ffd5-0b69-474b-b8b5-8d4cedb168e9"
      },
      "outputs": [
        {
          "output_type": "stream",
          "name": "stdout",
          "text": [
            "\n",
            "real\t0m0.030s\n",
            "user\t0m0.023s\n",
            "sys\t0m0.008s\n"
          ]
        }
      ],
      "source": [
        "!time python3 max_pairwise_product_sort.py < input3.txt > pythonOutput3.txt\n",
        "!grep -xvFf pythonOutput3.txt output3.txt"
      ]
    },
    {
      "cell_type": "markdown",
      "metadata": {
        "id": "oJGdPl1HOb_k"
      },
      "source": [
        "20 stress tests"
      ]
    },
    {
      "cell_type": "code",
      "execution_count": null,
      "metadata": {
        "id": "pXHtO1dEOb_k",
        "colab": {
          "base_uri": "https://localhost:8080/"
        },
        "outputId": "8a98d22f-f654-4d32-8277-eac1228304d1"
      },
      "outputs": [
        {
          "output_type": "stream",
          "name": "stdout",
          "text": [
            "-------------------------------------------------\n",
            "Testing with the list: [615569355, 825732558, 47498376, 875424444, 582587335, 799218495, 994296735, 422127153, 351324066, 700449566]\n",
            "The efficient solution gives the result 870431666408390340\n",
            "The comparison solution gives the result 870431666408390340\n",
            "The solution is correct OK\n",
            "-------------------------------------------------\n",
            "-------------------------------------------------\n",
            "Testing with the list: [32093972, 478220985, 64341158, 263995174, 229952317, 391482358, 16030926, 937772530, 268260803]\n",
            "The efficient solution gives the result 448462503002542050\n",
            "The comparison solution gives the result 448462503002542050\n",
            "The solution is correct OK\n",
            "-------------------------------------------------\n",
            "-------------------------------------------------\n",
            "Testing with the list: [900179502, 163170836]\n",
            "The efficient solution gives the result 146883041891403672\n",
            "The comparison solution gives the result 146883041891403672\n",
            "The solution is correct OK\n",
            "-------------------------------------------------\n",
            "-------------------------------------------------\n",
            "Testing with the list: [101895688, 698713006, 150590050, 781742239, 930090641, 931006012, 584319824, 574832260, 812026797, 558726098, 147250112, 199736911]\n",
            "The efficient solution gives the result 865919978475933692\n",
            "The comparison solution gives the result 865919978475933692\n",
            "The solution is correct OK\n",
            "-------------------------------------------------\n",
            "-------------------------------------------------\n",
            "Testing with the list: [710980348, 833237224, 385549053, 112286985, 126877869, 108416981]\n",
            "The efficient solution gives the result 592415291486073952\n",
            "The comparison solution gives the result 592415291486073952\n",
            "The solution is correct OK\n",
            "-------------------------------------------------\n",
            "-------------------------------------------------\n",
            "Testing with the list: [520601578, 979327986, 701335240, 303891720, 333974784, 80011452, 4914045, 373862824, 762353056, 116676222]\n",
            "The efficient solution gives the result 746593682953425216\n",
            "The comparison solution gives the result 746593682953425216\n",
            "The solution is correct OK\n",
            "-------------------------------------------------\n",
            "-------------------------------------------------\n",
            "Testing with the list: [654785175, 243757092, 880321308, 199811144, 238481793]\n",
            "The efficient solution gives the result 576421341715008900\n",
            "The comparison solution gives the result 576421341715008900\n",
            "The solution is correct OK\n",
            "-------------------------------------------------\n",
            "-------------------------------------------------\n",
            "Testing with the list: [210092842, 153064605, 939992663, 776375584]\n",
            "The efficient solution gives the result 729787352692340192\n",
            "The comparison solution gives the result 729787352692340192\n",
            "The solution is correct OK\n",
            "-------------------------------------------------\n",
            "-------------------------------------------------\n",
            "Testing with the list: [963816992, 439969484, 207690614, 727738530, 412114185, 620789263, 554180081, 749052654, 62968233, 790779037, 923486232, 128807087]\n",
            "The efficient solution gives the result 890071722279654144\n",
            "The comparison solution gives the result 890071722279654144\n",
            "The solution is correct OK\n",
            "-------------------------------------------------\n",
            "-------------------------------------------------\n",
            "Testing with the list: [567947633, 819150546, 489313228, 309842783, 846283196, 789424595, 304062045, 542884785, 932499761, 723373353, 98845149]\n",
            "The efficient solution gives the result 789158878008316156\n",
            "The comparison solution gives the result 789158878008316156\n",
            "The solution is correct OK\n",
            "-------------------------------------------------\n",
            "-------------------------------------------------\n",
            "Testing with the list: [942200053, 904189710, 64471948, 200528198, 206766406, 344163153, 355454290, 328798752, 216574145, 93726658]\n",
            "The efficient solution gives the result 851927592684054630\n",
            "The comparison solution gives the result 851927592684054630\n",
            "The solution is correct OK\n",
            "-------------------------------------------------\n",
            "-------------------------------------------------\n",
            "Testing with the list: [263289087, 322979335, 631363260, 514370990]\n",
            "The efficient solution gives the result 324754945095827400\n",
            "The comparison solution gives the result 324754945095827400\n",
            "The solution is correct OK\n",
            "-------------------------------------------------\n",
            "-------------------------------------------------\n",
            "Testing with the list: [17109666, 16358219, 359634293, 506028779, 355545584, 872594969]\n",
            "The efficient solution gives the result 441558166724612851\n",
            "The comparison solution gives the result 441558166724612851\n",
            "The solution is correct OK\n",
            "-------------------------------------------------\n",
            "-------------------------------------------------\n",
            "Testing with the list: [959989664, 176256281, 840721794, 133529476, 923039995, 62661104, 891594606, 502776726]\n",
            "The efficient solution gives the result 886108854658611680\n",
            "The comparison solution gives the result 886108854658611680\n",
            "The solution is correct OK\n",
            "-------------------------------------------------\n",
            "-------------------------------------------------\n",
            "Testing with the list: [633602588, 441923943, 372243270, 729631987, 669331556, 294846042, 153895182, 690580002, 5049574, 12245200, 691010713, 177758750]\n",
            "The efficient solution gives the result 504183519564476731\n",
            "The comparison solution gives the result 504183519564476731\n",
            "The solution is correct OK\n",
            "-------------------------------------------------\n",
            "-------------------------------------------------\n",
            "Testing with the list: [657301628, 515948036, 361439397, 818738263, 879113541, 634251131]\n",
            "The efficient solution gives the result 719763893538119283\n",
            "The comparison solution gives the result 719763893538119283\n",
            "The solution is correct OK\n",
            "-------------------------------------------------\n",
            "-------------------------------------------------\n",
            "Testing with the list: [168179069, 694459945, 803413844, 987030261, 826713981, 980999101, 877894630]\n",
            "The efficient solution gives the result 968275798700795361\n",
            "The comparison solution gives the result 968275798700795361\n",
            "The solution is correct OK\n",
            "-------------------------------------------------\n",
            "-------------------------------------------------\n",
            "Testing with the list: [39509547, 859356337, 735342871, 822717452, 426999895, 163399037, 409147579, 750386134, 270617409]\n",
            "The efficient solution gives the result 707007455936693324\n",
            "The comparison solution gives the result 707007455936693324\n",
            "The solution is correct OK\n",
            "-------------------------------------------------\n",
            "-------------------------------------------------\n",
            "Testing with the list: [480348249, 887318736, 943369515]\n",
            "The efficient solution gives the result 837069445630733040\n",
            "The comparison solution gives the result 837069445630733040\n",
            "The solution is correct OK\n",
            "-------------------------------------------------\n",
            "-------------------------------------------------\n",
            "Testing with the list: [384729525, 229824881, 638403859, 814780647, 826470238, 347888881, 758257083, 405179614, 679167769, 694242699, 74839537, 991475769]\n",
            "The efficient solution gives the result 819425214776663022\n",
            "The comparison solution gives the result 819425214776663022\n",
            "The solution is correct OK\n",
            "-------------------------------------------------\n"
          ]
        }
      ],
      "source": [
        "import random\n",
        "def max_pairwise_product_sort(numbers):\n",
        "  numbers.sort(reverse=True)\n",
        "  return numbers[0] * numbers[1]\n",
        "\n",
        "for _ in range(20):  # Run the test 20 times\n",
        "    n = random.randint(2, 12)  # Use a large n\n",
        "    numbers = [random.randint(1, 10**9) for _ in range(n)]  # Generate n random numbers between 1 and 10^9\n",
        "\n",
        "    print(\"-------------------------------------------------\")\n",
        "    print(f\"Testing with the list: {numbers}\")\n",
        "    print(f\"The efficient solution gives the result {max_pairwise_product_sort(numbers)}\")\n",
        "    print(f\"The comparison solution gives the result {max_pairwise_product(numbers)}\")\n",
        "    if max_pairwise_product_sort(numbers) == max_pairwise_product(numbers):\n",
        "        print(\"The solution is correct OK\")\n",
        "    else:\n",
        "        print(\"ERROR\")\n",
        "    print(\"-------------------------------------------------\")"
      ]
    },
    {
      "cell_type": "markdown",
      "metadata": {
        "id": "2beTmWFPOb_k"
      },
      "source": [
        "Count executed instructions in code and verify with inputs 1,2 and 3\n"
      ]
    },
    {
      "cell_type": "code",
      "execution_count": 135,
      "metadata": {
        "id": "iuByv4x1Ob_k",
        "colab": {
          "base_uri": "https://localhost:8080/"
        },
        "outputId": "2e61882f-3c88-4cce-986a-88cf441273bb"
      },
      "outputs": [
        {
          "output_type": "stream",
          "name": "stdout",
          "text": [
            "Overwriting max_pairwise_product_sort_count.py\n"
          ]
        }
      ],
      "source": [
        "%%writefile max_pairwise_product_sort_count.py\n",
        "import math\n",
        "exec_times = 0\n",
        "def max_pairwise_product_sort(numbers):\n",
        "  global exec_times\n",
        "\n",
        "  exec_times += int(len(numbers)*math.log(len(numbers))) # .sort Time complexity n*log(n)\n",
        "  numbers.sort(reverse=True)\n",
        "\n",
        "  exec_times += 1\n",
        "  return numbers[0] * numbers[1]\n",
        "\n",
        "exec_times += 1\n",
        "n = int(input())\n",
        "\n",
        "exec_times += n\n",
        "numbers = [int(i) for i in input().split()]\n",
        "\n",
        "exec_times += 1\n",
        "max_pairwise_product_sort(numbers)\n",
        "print(\"Number of instructions: \", exec_times)"
      ]
    },
    {
      "cell_type": "code",
      "source": [
        "%%writefile run_all_test.sh\n",
        "for i in {1..3}\n",
        "do\n",
        "    echo \"Input #$i\"\n",
        "    python3 max_pairwise_product_sort_count.py < input$i.txt\n",
        "done"
      ],
      "metadata": {
        "colab": {
          "base_uri": "https://localhost:8080/"
        },
        "id": "1HlvXIWguKFa",
        "outputId": "eedd4d8e-16dd-4670-e368-ae6f6ea98dbe"
      },
      "execution_count": 136,
      "outputs": [
        {
          "output_type": "stream",
          "name": "stdout",
          "text": [
            "Overwriting run_all_test.sh\n"
          ]
        }
      ]
    },
    {
      "cell_type": "code",
      "source": [
        "!chmod u+x run_all_test.sh\n",
        "!./run_all_test.sh"
      ],
      "metadata": {
        "colab": {
          "base_uri": "https://localhost:8080/"
        },
        "id": "p20gRo7ruLhF",
        "outputId": "f5f29670-351e-4d60-a29f-af6539a2d725"
      },
      "execution_count": 137,
      "outputs": [
        {
          "output_type": "stream",
          "name": "stdout",
          "text": [
            "Input #1\n",
            "Number of instructions:  36\n",
            "Input #2\n",
            "Number of instructions:  36\n",
            "Input #3\n",
            "Number of instructions:  19\n"
          ]
        }
      ]
    },
    {
      "cell_type": "markdown",
      "metadata": {
        "id": "x2CXhkwTOb_l"
      },
      "source": [
        "Calculate estimated time by instruction and number of instructions by second"
      ]
    },
    {
      "cell_type": "markdown",
      "source": [
        "Using input11"
      ],
      "metadata": {
        "id": "NRjbHbzQCa6N"
      }
    },
    {
      "cell_type": "code",
      "source": [
        "def max_pairwise_product_sort(numbers):\n",
        "  numbers.sort(reverse=True) #  [N, N * Log (N)]\n",
        "  return numbers[0] * numbers[1] #  1"
      ],
      "metadata": {
        "id": "GA2_EbDYCdis"
      },
      "execution_count": 139,
      "outputs": []
    },
    {
      "cell_type": "markdown",
      "source": [
        "The # of operation is given by .sort python time complexity ( N* log N), and the return statement calculation (1)\n",
        "\n",
        "$$T (n) = 1 + \\left[n, n*log(n)\\right] = O(n*log(n))$$"
      ],
      "metadata": {
        "id": "3KZ1VWWuCrUs"
      }
    },
    {
      "cell_type": "markdown",
      "source": [
        "Using input11 (n=20000)"
      ],
      "metadata": {
        "id": "9qGofo-iCsIs"
      }
    },
    {
      "cell_type": "markdown",
      "source": [
        "$$T (20000) = 1 + 20000*log(20000) ≈ 86022$$"
      ],
      "metadata": {
        "id": "8UN1S9YiCwJ8"
      }
    },
    {
      "cell_type": "markdown",
      "source": [
        "Calculate time"
      ],
      "metadata": {
        "id": "JYOzYbEmCy5U"
      }
    },
    {
      "cell_type": "code",
      "execution_count": 141,
      "metadata": {
        "id": "nTjxyTMtOb_l",
        "colab": {
          "base_uri": "https://localhost:8080/"
        },
        "outputId": "e42bd320-f11d-449b-94b1-cf1b9f4d217a"
      },
      "outputs": [
        {
          "output_type": "stream",
          "name": "stdout",
          "text": [
            "\n",
            "real\t0m0.095s\n",
            "user\t0m0.070s\n",
            "sys\t0m0.025s\n",
            "grep: pythonOutput11.txt: No such file or directory\n"
          ]
        }
      ],
      "source": [
        "!time python3 max_pairwise_product_sort.py < input11.txt > pythonOutputSort11.txt\n",
        "!grep -xvFf pythonOutput11.txt output11.txt"
      ]
    },
    {
      "cell_type": "code",
      "source": [
        "# Estimated time by instruction\n",
        "time_per_instruction = 0.170/86022\n",
        "time_per_instruction"
      ],
      "metadata": {
        "colab": {
          "base_uri": "https://localhost:8080/"
        },
        "id": "y0gcLuIn_n1s",
        "outputId": "8e66abcc-c0ae-4626-f51b-4708899a3cf3"
      },
      "execution_count": 142,
      "outputs": [
        {
          "output_type": "execute_result",
          "data": {
            "text/plain": [
              "1.9762386366278397e-06"
            ]
          },
          "metadata": {},
          "execution_count": 142
        }
      ]
    },
    {
      "cell_type": "code",
      "source": [
        "# Estimated number of instructions by second\n",
        "time_per_second = 86022/0.170\n",
        "time_per_second"
      ],
      "metadata": {
        "colab": {
          "base_uri": "https://localhost:8080/"
        },
        "id": "Nzu-HHpx_qJN",
        "outputId": "23dbea61-3c82-437a-9e06-65860bb23021"
      },
      "execution_count": 143,
      "outputs": [
        {
          "output_type": "execute_result",
          "data": {
            "text/plain": [
              "506011.7647058823"
            ]
          },
          "metadata": {},
          "execution_count": 143
        }
      ]
    },
    {
      "cell_type": "markdown",
      "source": [
        "### Estimate and verify the maximun n that can be solved in 1 second"
      ],
      "metadata": {
        "id": "CcgDYDQuaFeH"
      }
    },
    {
      "cell_type": "markdown",
      "source": [
        "\n",
        "$$(1+ n*log(n)) \\times 1.47*10^{-9} s = 1 s$$\n",
        "\n",
        "$$ n \\approx 38923600$$\n"
      ],
      "metadata": {
        "id": "DbxTVB8TD6X0"
      }
    },
    {
      "cell_type": "markdown",
      "source": [
        "C++ sorting max pairwise product"
      ],
      "metadata": {
        "id": "NFwn-kpWEGNj"
      }
    },
    {
      "cell_type": "code",
      "source": [
        "%%writefile max_pairwise_product_sort.cpp\n",
        "#include <iostream>\n",
        "#include <vector>\n",
        "#include <algorithm>\n",
        "\n",
        "long long max_pairwise_product_sort(std::vector<int>& numbers) {\n",
        "    std::sort(numbers.rbegin(), numbers.rend());\n",
        "    return static_cast<long long>(numbers[0]) * numbers[1];\n",
        "}\n",
        "\n",
        "int main() {\n",
        "    int n;\n",
        "    std::cin >> n;\n",
        "    std::vector<int> numbers(n);\n",
        "    for (int i = 0; i < n; ++i) {\n",
        "        std::cin >> numbers[i];\n",
        "    }\n",
        "\n",
        "    std::cout << max_pairwise_product_sort(numbers) << \"\\n\";\n",
        "\n",
        "    return 0;\n",
        "}"
      ],
      "metadata": {
        "id": "fLztHReKaGFq",
        "colab": {
          "base_uri": "https://localhost:8080/"
        },
        "outputId": "b202ac12-6469-4272-a967-505e844a7f73"
      },
      "execution_count": 144,
      "outputs": [
        {
          "output_type": "stream",
          "name": "stdout",
          "text": [
            "Writing max_pairwise_product_sort.cpp\n"
          ]
        }
      ]
    },
    {
      "cell_type": "markdown",
      "source": [
        "Tests with inputs 1 and 2"
      ],
      "metadata": {
        "id": "-mPtYTm3ENwj"
      }
    },
    {
      "cell_type": "code",
      "source": [
        "%%writefile run_all_test.sh\n",
        "#comparing all the executions to check the differences between the outputs\n",
        "for i in {1..2}\n",
        "do\n",
        "    g++ max_pairwise_product_sort.cpp -o max_pairwise_product_sort\n",
        "    ./max_pairwise_product_sort < input$i.txt > cppOutput$i.txt\n",
        "    grep -xvFf cppOutput$i.txt output$i.txt\n",
        "done"
      ],
      "metadata": {
        "colab": {
          "base_uri": "https://localhost:8080/"
        },
        "id": "WxorHru7EL68",
        "outputId": "25d69323-69e3-412b-869d-bf1b4bd51380"
      },
      "execution_count": 148,
      "outputs": [
        {
          "output_type": "stream",
          "name": "stdout",
          "text": [
            "Overwriting run_all_test.sh\n"
          ]
        }
      ]
    },
    {
      "cell_type": "code",
      "source": [
        "!chmod u+x run_all_test.sh\n",
        "!./run_all_test.sh"
      ],
      "metadata": {
        "id": "feIUhglPFI3K"
      },
      "execution_count": 149,
      "outputs": []
    },
    {
      "cell_type": "markdown",
      "source": [
        "Test and time it with input 3"
      ],
      "metadata": {
        "id": "uKehdEi-EWEl"
      }
    },
    {
      "cell_type": "code",
      "source": [
        "!time ./max_pairwise_product_sort < input3.txt > cppOutput3.txt\n",
        "!grep -xvFf cppOutput3.txt output3.txt"
      ],
      "metadata": {
        "colab": {
          "base_uri": "https://localhost:8080/"
        },
        "id": "Zo2XUIU-Ea4i",
        "outputId": "a1d79cf7-85d8-4a5a-9f50-39f67721b976"
      },
      "execution_count": 150,
      "outputs": [
        {
          "output_type": "stream",
          "name": "stdout",
          "text": [
            "\n",
            "real\t0m0.004s\n",
            "user\t0m0.002s\n",
            "sys\t0m0.001s\n"
          ]
        }
      ]
    },
    {
      "cell_type": "markdown",
      "source": [
        "20 Stress tests"
      ],
      "metadata": {
        "id": "5gfHTJkmGQUb"
      }
    },
    {
      "cell_type": "code",
      "source": [
        "%%writefile stressTestCPlusPlusSort.cpp\n",
        "\n",
        "#include <iostream>\n",
        "#include <vector>\n",
        "#include <algorithm>\n",
        "#include <random>\n",
        "\n",
        "long long MaxPairwiseProduct(const std::vector<int>& numbers) {\n",
        "    long long max_product = 0LL;\n",
        "\t  long long aux_product = 0LL;\n",
        "    int n = numbers.size();\n",
        "\n",
        "    for (int first = 0; first < n; ++first) {\n",
        "        for (int second = 0; second < n; ++second) {\n",
        "          if ( first != second){\n",
        "                aux_product = (long long) numbers[first] * numbers[second];\n",
        "                if (aux_product > max_product)  max_product = aux_product;\n",
        "          }\n",
        "        }\n",
        "    }\n",
        "\n",
        "\n",
        "    return max_product;\n",
        "}\n",
        "\n",
        "long long max_pairwise_product_sort(std::vector<int>& numbers) {\n",
        "    std::sort(numbers.rbegin(), numbers.rend());\n",
        "    return static_cast<long long>(numbers[0]) * numbers[1];\n",
        "}\n",
        "\n",
        "int main() {\n",
        "    std::random_device rd;\n",
        "    std::mt19937 gen(rd());\n",
        "\n",
        "    for (int i = 0; i < 20; ++i) {\n",
        "        int n = std::uniform_int_distribution<int>(2, 12)(gen);  // Use a large n\n",
        "        std::vector<int> numbers(n);\n",
        "        for (int j = 0; j < n; ++j) {\n",
        "            numbers[j] = std::uniform_int_distribution<int>(1, 1e9)(gen);  // Generate n random numbers between 1 and 10^9\n",
        "        }\n",
        "\n",
        "        std::cout << \"-------------------------------------------------\\n\";\n",
        "        std::cout << \"Testing with the list: \";\n",
        "        for (int num : numbers) {\n",
        "            std::cout << num << \" \";\n",
        "        }\n",
        "        std::cout << \"\\n\";\n",
        "\n",
        "        long long efficient_result = max_pairwise_product_sort(numbers);\n",
        "        long long comparison_result = MaxPairwiseProduct(numbers);  // Replace with your comparison function result\n",
        "\n",
        "        std::cout << \"The efficient solution gives the result \" << efficient_result << \"\\n\";\n",
        "        std::cout << \"The comparison solution gives the result \" << comparison_result << \"\\n\";\n",
        "\n",
        "        if (efficient_result == comparison_result) {\n",
        "            std::cout << \"The solution is correct OK\\n\";\n",
        "        } else {\n",
        "            std::cout << \"ERROR\\n\";\n",
        "        }\n",
        "\n",
        "        std::cout << \"-------------------------------------------------\\n\";\n",
        "    }\n",
        "\n",
        "    return 0;\n",
        "}\n"
      ],
      "metadata": {
        "colab": {
          "base_uri": "https://localhost:8080/"
        },
        "id": "9lzOLArhGS2q",
        "outputId": "307aa349-49c6-48cf-8939-677af6d6a020"
      },
      "execution_count": 151,
      "outputs": [
        {
          "output_type": "stream",
          "name": "stdout",
          "text": [
            "Writing stressTestCPlusPlusSort.cpp\n"
          ]
        }
      ]
    },
    {
      "cell_type": "code",
      "source": [
        "!g++ stressTestCPlusPlusSort.cpp -o max_pairwise_product_long\n",
        "!./max_pairwise_product_long"
      ],
      "metadata": {
        "colab": {
          "base_uri": "https://localhost:8080/"
        },
        "id": "gv-M_l7FGZ28",
        "outputId": "40afd76d-6990-4e47-b4f4-d4fb389271f1"
      },
      "execution_count": 152,
      "outputs": [
        {
          "output_type": "stream",
          "name": "stdout",
          "text": [
            "-------------------------------------------------\n",
            "Testing with the list: 287663365 578942530 518431249 466062196 773328982 105483189 147975686 \n",
            "The efficient solution gives the result 447713037361404460\n",
            "The comparison solution gives the result 447713037361404460\n",
            "The solution is correct OK\n",
            "-------------------------------------------------\n",
            "-------------------------------------------------\n",
            "Testing with the list: 382976973 951829349 821980345 \n",
            "The efficient solution gives the result 782385016672145405\n",
            "The comparison solution gives the result 782385016672145405\n",
            "The solution is correct OK\n",
            "-------------------------------------------------\n",
            "-------------------------------------------------\n",
            "Testing with the list: 328647409 373934005 \n",
            "The efficient solution gives the result 122892441880243045\n",
            "The comparison solution gives the result 122892441880243045\n",
            "The solution is correct OK\n",
            "-------------------------------------------------\n",
            "-------------------------------------------------\n",
            "Testing with the list: 974752118 583414886 254412197 859461663 338742934 654281135 954679206 478696817 264137139 799037868 770044292 580552406 \n",
            "The efficient solution gives the result 930575578059058308\n",
            "The comparison solution gives the result 930575578059058308\n",
            "The solution is correct OK\n",
            "-------------------------------------------------\n",
            "-------------------------------------------------\n",
            "Testing with the list: 99420158 369105037 874206957 201654847 633128447 485339791 \n",
            "The efficient solution gives the result 553485293042005779\n",
            "The comparison solution gives the result 553485293042005779\n",
            "The solution is correct OK\n",
            "-------------------------------------------------\n",
            "-------------------------------------------------\n",
            "Testing with the list: 797999095 341214962 308123738 645649316 736569178 171134808 986260619 373713016 565408022 \n",
            "The efficient solution gives the result 787035081396139805\n",
            "The comparison solution gives the result 787035081396139805\n",
            "The solution is correct OK\n",
            "-------------------------------------------------\n",
            "-------------------------------------------------\n",
            "Testing with the list: 757266650 526957247 22678708 766414012 164250968 \n",
            "The efficient solution gives the result 580379771380299800\n",
            "The comparison solution gives the result 580379771380299800\n",
            "The solution is correct OK\n",
            "-------------------------------------------------\n",
            "-------------------------------------------------\n",
            "Testing with the list: 969592808 760666868 218635689 \n",
            "The efficient solution gives the result 737537124496685344\n",
            "The comparison solution gives the result 737537124496685344\n",
            "The solution is correct OK\n",
            "-------------------------------------------------\n",
            "-------------------------------------------------\n",
            "Testing with the list: 828625422 702119959 439177607 281944436 622423774 \n",
            "The efficient solution gives the result 581794447320997698\n",
            "The comparison solution gives the result 581794447320997698\n",
            "The solution is correct OK\n",
            "-------------------------------------------------\n",
            "-------------------------------------------------\n",
            "Testing with the list: 297087006 65675032 7139280 706369731 638528450 445083752 \n",
            "The efficient solution gives the result 451037169462346950\n",
            "The comparison solution gives the result 451037169462346950\n",
            "The solution is correct OK\n",
            "-------------------------------------------------\n",
            "-------------------------------------------------\n",
            "Testing with the list: 352287091 12095387 338931905 984804635 772020597 610613015 343507043 970702061 242978920 856937654 598966659 \n",
            "The efficient solution gives the result 955951888876852735\n",
            "The comparison solution gives the result 955951888876852735\n",
            "The solution is correct OK\n",
            "-------------------------------------------------\n",
            "-------------------------------------------------\n",
            "Testing with the list: 534995202 849456467 122231959 634159571 681983555 399118661 718365110 222036996 417548895 245791871 \n",
            "The efficient solution gives the result 610219888356666370\n",
            "The comparison solution gives the result 610219888356666370\n",
            "The solution is correct OK\n",
            "-------------------------------------------------\n",
            "-------------------------------------------------\n",
            "Testing with the list: 204685412 488584277 148434845 582882905 641560172 103161469 939104898 448761282 773430419 80276188 952785624 \n",
            "The efficient solution gives the result 894765646242386352\n",
            "The comparison solution gives the result 894765646242386352\n",
            "The solution is correct OK\n",
            "-------------------------------------------------\n",
            "-------------------------------------------------\n",
            "Testing with the list: 950683566 325531095 629432109 981280349 690736475 439375746 324639269 737187948 \n",
            "The efficient solution gives the result 932887101433044534\n",
            "The comparison solution gives the result 932887101433044534\n",
            "The solution is correct OK\n",
            "-------------------------------------------------\n",
            "-------------------------------------------------\n",
            "Testing with the list: 277925348 298371707 913903757 623947955 293888987 223643563 839985549 783401002 791470477 820691321 552363502 \n",
            "The efficient solution gives the result 767665949056807593\n",
            "The comparison solution gives the result 767665949056807593\n",
            "The solution is correct OK\n",
            "-------------------------------------------------\n",
            "-------------------------------------------------\n",
            "Testing with the list: 90951010 233577852 941264589 \n",
            "The efficient solution gives the result 219858560862282828\n",
            "The comparison solution gives the result 219858560862282828\n",
            "The solution is correct OK\n",
            "-------------------------------------------------\n",
            "-------------------------------------------------\n",
            "Testing with the list: 747300600 896020823 432765529 131164303 939076549 \n",
            "The efficient solution gives the result 841432142294979827\n",
            "The comparison solution gives the result 841432142294979827\n",
            "The solution is correct OK\n",
            "-------------------------------------------------\n",
            "-------------------------------------------------\n",
            "Testing with the list: 444624168 38599028 752502515 244663735 435557666 802500961 541700084 462183834 158878311 \n",
            "The efficient solution gives the result 603883991442416915\n",
            "The comparison solution gives the result 603883991442416915\n",
            "The solution is correct OK\n",
            "-------------------------------------------------\n",
            "-------------------------------------------------\n",
            "Testing with the list: 206100066 515891349 297849172 613979872 44953850 195519700 \n",
            "The efficient solution gives the result 316746904424927328\n",
            "The comparison solution gives the result 316746904424927328\n",
            "The solution is correct OK\n",
            "-------------------------------------------------\n",
            "-------------------------------------------------\n",
            "Testing with the list: 300687087 281573655 631435278 842316337 120385964 \n",
            "The efficient solution gives the result 531868250417536686\n",
            "The comparison solution gives the result 531868250417536686\n",
            "The solution is correct OK\n",
            "-------------------------------------------------\n"
          ]
        }
      ]
    },
    {
      "cell_type": "markdown",
      "source": [
        "Count executed instructions in code and verify with inputs 1,2 and 3"
      ],
      "metadata": {
        "id": "LOrK3yKTGSaK"
      }
    },
    {
      "cell_type": "code",
      "source": [
        "%%writefile max_pairwise_product_sort.cpp\n",
        "#include <iostream>\n",
        "#include <vector>\n",
        "#include <algorithm>\n",
        "#include <math.h>       /* log10 */\n",
        "\n",
        "long long execints = 0LL;\n",
        "int n;\n",
        "\n",
        "long long max_pairwise_product_sort(std::vector<int>& numbers) {\n",
        "    execints += n + log10(n);\n",
        "    std::sort(numbers.rbegin(), numbers.rend());\n",
        "    execints += 1;\n",
        "    return static_cast<long long>(numbers[0]) * numbers[1];\n",
        "}\n",
        "\n",
        "int main() {\n",
        "    std::cin >> n;\n",
        "    std::vector<int> numbers(n);\n",
        "    for (int i = 0; i < n; ++i) {\n",
        "        std::cin >> numbers[i];\n",
        "    }\n",
        "\n",
        "     max_pairwise_product_sort(numbers);\n",
        "\n",
        "    std::cout << execints << \"\\n\";\n",
        "\n",
        "    return 0;\n",
        "}"
      ],
      "metadata": {
        "colab": {
          "base_uri": "https://localhost:8080/"
        },
        "id": "lUbin_dLGkys",
        "outputId": "803e9e94-3ef0-4d84-9ec7-eb4cbc575d8b"
      },
      "execution_count": 153,
      "outputs": [
        {
          "output_type": "stream",
          "name": "stdout",
          "text": [
            "Overwriting max_pairwise_product_sort.cpp\n"
          ]
        }
      ]
    },
    {
      "cell_type": "code",
      "source": [
        "%%writefile run_all_test.sh\n",
        "#!/bin/bash\n",
        "g++ max_pairwise_product_sort.cpp -o max_pairwise_product_sort\n",
        "for i in {1..3}\n",
        "do\n",
        "    echo \"Input #$i\"\n",
        "    ./max_pairwise_product_sort < input$i.txt\n",
        "done"
      ],
      "metadata": {
        "colab": {
          "base_uri": "https://localhost:8080/"
        },
        "id": "5v3nZbGYGouq",
        "outputId": "3112f9a7-4abd-4b66-c251-4d23c2f1fb15"
      },
      "execution_count": 154,
      "outputs": [
        {
          "output_type": "stream",
          "name": "stdout",
          "text": [
            "Overwriting run_all_test.sh\n"
          ]
        }
      ]
    },
    {
      "cell_type": "code",
      "source": [
        "!chmod u+x run_all_test.sh\n",
        "!./run_all_test.sh"
      ],
      "metadata": {
        "colab": {
          "base_uri": "https://localhost:8080/"
        },
        "id": "pn45wKvRGvRK",
        "outputId": "d3fc4807-ad85-4202-9679-e007a9bc7c3f"
      },
      "execution_count": 155,
      "outputs": [
        {
          "output_type": "stream",
          "name": "stdout",
          "text": [
            "Input #1\n",
            "12\n",
            "Input #2\n",
            "12\n",
            "Input #3\n",
            "7\n"
          ]
        }
      ]
    },
    {
      "cell_type": "markdown",
      "source": [
        "**Calculate estimated time by instruction and number of instructions by second**"
      ],
      "metadata": {
        "id": "gDc1M_DOG3_j"
      }
    },
    {
      "cell_type": "markdown",
      "source": [
        "**Using input11**"
      ],
      "metadata": {
        "id": "eCBxiG0fG9OK"
      }
    },
    {
      "cell_type": "markdown",
      "source": [
        "Calculating operations"
      ],
      "metadata": {
        "id": "AoWVcxkAHBli"
      }
    },
    {
      "cell_type": "code",
      "source": [
        "%%writefile max_pairwise_product_sort.cpp\n",
        "#include <iostream>\n",
        "#include <vector>\n",
        "#include <algorithm>\n",
        "\n",
        "long long max_pairwise_product_sort(std::vector<int>& numbers) {\n",
        "    std::sort(numbers.rbegin(), numbers.rend()); // N * log(N)\n",
        "    return static_cast<long long>(numbers[0]) * numbers[1]; // 1\n",
        "}\n",
        "\n",
        "int main() {\n",
        "    int n;\n",
        "    std::cin >> n;\n",
        "    std::vector<int> numbers(n);\n",
        "    for (int i = 0; i < n; ++i) {\n",
        "        std::cin >> numbers[i];\n",
        "    }\n",
        "\n",
        "    std::cout << max_pairwise_product_sort(numbers) << \"\\n\";\n",
        "\n",
        "    return 0;\n",
        "}"
      ],
      "metadata": {
        "colab": {
          "base_uri": "https://localhost:8080/"
        },
        "id": "WEizzrIeGzUK",
        "outputId": "5d17dd30-7d70-46e9-bb62-3e4e7937de37"
      },
      "execution_count": 156,
      "outputs": [
        {
          "output_type": "stream",
          "name": "stdout",
          "text": [
            "Overwriting max_pairwise_product_sort.cpp\n"
          ]
        }
      ]
    },
    {
      "cell_type": "markdown",
      "source": [
        "The # of operation is given by .sort python time complexity ( N* log N), and the return statement calculation (1)\n",
        "\n",
        "$$T (n) = 1 + \\left[n, n*log(n)\\right] = O(n*log(n))$$"
      ],
      "metadata": {
        "id": "vXBz9LcBHIuS"
      }
    },
    {
      "cell_type": "markdown",
      "source": [
        "Using input11 (n=20000)"
      ],
      "metadata": {
        "id": "AXfOh8E9HUQq"
      }
    },
    {
      "cell_type": "markdown",
      "source": [
        "$$T (20000) = 1 + 20000*log(20000) ≈ 86022$$"
      ],
      "metadata": {
        "id": "VQSlWAscHalh"
      }
    },
    {
      "cell_type": "markdown",
      "source": [
        "**Calculate time**"
      ],
      "metadata": {
        "id": "GQz-WenGHdKi"
      }
    },
    {
      "cell_type": "code",
      "source": [
        "!g++ max_pairwise_product_sort.cpp -o max_pairwise_product_sort\n",
        "!time ./max_pairwise_product_sort < input11.txt > cppOutput11.txt\n",
        "!grep -xvFf cppOutput11.txt output11.txt"
      ],
      "metadata": {
        "colab": {
          "base_uri": "https://localhost:8080/"
        },
        "id": "uI228nylHGRi",
        "outputId": "3a35ae77-e918-4408-a781-57326ff4555b"
      },
      "execution_count": 157,
      "outputs": [
        {
          "output_type": "stream",
          "name": "stdout",
          "text": [
            "\n",
            "real\t0m0.208s\n",
            "user\t0m0.201s\n",
            "sys\t0m0.003s\n"
          ]
        }
      ]
    },
    {
      "cell_type": "markdown",
      "source": [
        "**Time by instruction**"
      ],
      "metadata": {
        "id": "i9dG6Ud8HvOK"
      }
    },
    {
      "cell_type": "code",
      "source": [
        "time_per_instruction = 0.208/86022\n",
        "time_per_instruction"
      ],
      "metadata": {
        "colab": {
          "base_uri": "https://localhost:8080/"
        },
        "id": "HI-y3CzoHz2T",
        "outputId": "d0506cd5-b73d-43f4-8faa-685954686cc9"
      },
      "execution_count": 158,
      "outputs": [
        {
          "output_type": "execute_result",
          "data": {
            "text/plain": [
              "2.4179860965799448e-06"
            ]
          },
          "metadata": {},
          "execution_count": 158
        }
      ]
    },
    {
      "cell_type": "markdown",
      "source": [
        "Number of instructions by second"
      ],
      "metadata": {
        "id": "bUjYfwBaH4ZC"
      }
    },
    {
      "cell_type": "code",
      "source": [
        "time_per_second = 86022/0.208\n",
        "time_per_second"
      ],
      "metadata": {
        "colab": {
          "base_uri": "https://localhost:8080/"
        },
        "id": "FxRzZZUkHuaC",
        "outputId": "5dee3631-6634-4ad2-8f50-cb99950c8d14"
      },
      "execution_count": 159,
      "outputs": [
        {
          "output_type": "execute_result",
          "data": {
            "text/plain": [
              "413567.3076923077"
            ]
          },
          "metadata": {},
          "execution_count": 159
        }
      ]
    },
    {
      "cell_type": "markdown",
      "source": [
        "### Estimate and verify the maximun n that can be solved in 1 second\n",
        "\n",
        "\n",
        "$$(1+ n*log(n)) \\times 1.47*10^{-9} s = 1 s$$\n",
        "\n",
        "$$ n \\approx 38923600$$"
      ],
      "metadata": {
        "id": "Q40-2qS1IA7y"
      }
    },
    {
      "cell_type": "markdown",
      "metadata": {
        "id": "VMKC5duEOQfk"
      },
      "source": [
        "## Efficient solution with largest and second-largest in an list, array or vector in C++ and Python\n",
        "\n",
        " $$T(n) < 10 n  = O(n)$$\n",
        "\n",
        "\n",
        "\n"
      ]
    },
    {
      "cell_type": "markdown",
      "metadata": {
        "id": "nLcKBwbU0QsE"
      },
      "source": [
        "Add in each line a coment with the number of intstrcution that are executed in that line"
      ]
    },
    {
      "cell_type": "markdown",
      "source": [
        "# Python"
      ],
      "metadata": {
        "id": "RmEO3Qa-IcEC"
      }
    },
    {
      "cell_type": "code",
      "execution_count": 160,
      "metadata": {
        "id": "knls5Fh3NSt_",
        "colab": {
          "base_uri": "https://localhost:8080/"
        },
        "outputId": "ff546fe6-1456-4d53-bd7c-71f8850ee7b0"
      },
      "outputs": [
        {
          "output_type": "stream",
          "name": "stdout",
          "text": [
            "Writing efficientSolution.py\n"
          ]
        }
      ],
      "source": [
        "%%writefile efficientSolution.py\n",
        "def efficientSolution(numbers):\n",
        "    largest = 0\n",
        "    secondLargest = 0\n",
        "    for i in numbers:\n",
        "        if i > largest:\n",
        "            secondLargest = largest\n",
        "            largest = i\n",
        "        elif i > secondLargest:\n",
        "            secondLargest = i\n",
        "\n",
        "    result= secondLargest * largest\n",
        "    return result\n",
        "\n",
        "n = int(input())\n",
        "numbers = [int(i) for i in input().split()]\n",
        "print(efficientSolution(numbers))"
      ]
    },
    {
      "cell_type": "markdown",
      "metadata": {
        "id": "-JCijbWxNSii"
      },
      "source": [
        "Test with inputs 1 and 2\n",
        "\n"
      ]
    },
    {
      "cell_type": "code",
      "execution_count": 161,
      "metadata": {
        "id": "TrTGAfqlNVXT",
        "colab": {
          "base_uri": "https://localhost:8080/"
        },
        "outputId": "1e826320-572c-404a-bd4c-eee5e0494d32"
      },
      "outputs": [
        {
          "output_type": "stream",
          "name": "stdout",
          "text": [
            "90\n",
            "90\n"
          ]
        }
      ],
      "source": [
        "!python3 efficientSolution.py < input1.txt\n",
        "!python3 efficientSolution.py < input2.txt"
      ]
    },
    {
      "cell_type": "markdown",
      "metadata": {
        "id": "PRX51wADNR8b"
      },
      "source": [
        "Test and time it with input 3"
      ]
    },
    {
      "cell_type": "code",
      "execution_count": 162,
      "metadata": {
        "id": "v4z7-Is_NRt7",
        "colab": {
          "base_uri": "https://localhost:8080/"
        },
        "outputId": "02f8a526-5107-40dd-8167-86b8ee9553ce"
      },
      "outputs": [
        {
          "output_type": "stream",
          "name": "stdout",
          "text": [
            "40000000000\n",
            "\n",
            "real\t0m0.031s\n",
            "user\t0m0.022s\n",
            "sys\t0m0.008s\n"
          ]
        }
      ],
      "source": [
        "!time python3 efficientSolution.py < input3.txt"
      ]
    },
    {
      "cell_type": "markdown",
      "metadata": {
        "id": "rpdfs0_TNZJf"
      },
      "source": [
        "20 stress tests"
      ]
    },
    {
      "cell_type": "code",
      "execution_count": 163,
      "metadata": {
        "id": "Lu4tYcKzNcTT",
        "colab": {
          "base_uri": "https://localhost:8080/"
        },
        "outputId": "c337695e-83e6-49da-a00c-37c577221f88"
      },
      "outputs": [
        {
          "output_type": "stream",
          "name": "stdout",
          "text": [
            "-------------------------------------------------\n",
            "Testing with the list: [510504663]\n",
            "The efficient solution gives the result 0\n",
            "The comparison solution gives the result 0\n",
            "The solution is correct OK\n",
            "-------------------------------------------------\n",
            "-------------------------------------------------\n",
            "Testing with the list: [140605486, 930361443, 474621155, 788317279]\n",
            "The efficient solution gives the result 733420001232273597\n",
            "The comparison solution gives the result 733420001232273597\n",
            "The solution is correct OK\n",
            "-------------------------------------------------\n",
            "-------------------------------------------------\n",
            "Testing with the list: [855134659, 986985468, 119721019, 711213896]\n",
            "The efficient solution gives the result 844005481616135412\n",
            "The comparison solution gives the result 844005481616135412\n",
            "The solution is correct OK\n",
            "-------------------------------------------------\n",
            "-------------------------------------------------\n",
            "Testing with the list: [10271886, 252604445, 644122967, 997466970, 834517419, 348970267, 696892975, 72954144, 660447017]\n",
            "The efficient solution gives the result 832403561342150430\n",
            "The comparison solution gives the result 832403561342150430\n",
            "The solution is correct OK\n",
            "-------------------------------------------------\n",
            "-------------------------------------------------\n",
            "Testing with the list: [625382349, 268295601, 576582860, 437250228, 486008336, 330923492, 346258563, 839277370, 903822953, 288972108, 156239885]\n",
            "The efficient solution gives the result 758558150939473610\n",
            "The comparison solution gives the result 758558150939473610\n",
            "The solution is correct OK\n",
            "-------------------------------------------------\n",
            "-------------------------------------------------\n",
            "Testing with the list: [922784670]\n",
            "The efficient solution gives the result 0\n",
            "The comparison solution gives the result 0\n",
            "The solution is correct OK\n",
            "-------------------------------------------------\n",
            "-------------------------------------------------\n",
            "Testing with the list: [560009477, 834074825]\n",
            "The efficient solution gives the result 467089806527116525\n",
            "The comparison solution gives the result 467089806527116525\n",
            "The solution is correct OK\n",
            "-------------------------------------------------\n",
            "-------------------------------------------------\n",
            "Testing with the list: [765781146, 625482694, 329994726, 333465930, 79783258, 227889357, 753812931]\n",
            "The efficient solution gives the result 577255730170798926\n",
            "The comparison solution gives the result 577255730170798926\n",
            "The solution is correct OK\n",
            "-------------------------------------------------\n",
            "-------------------------------------------------\n",
            "Testing with the list: [323750457]\n",
            "The efficient solution gives the result 0\n",
            "The comparison solution gives the result 0\n",
            "The solution is correct OK\n",
            "-------------------------------------------------\n",
            "-------------------------------------------------\n",
            "Testing with the list: [972251619, 567600665, 762725892, 788767894]\n",
            "The efficient solution gives the result 766880861956720386\n",
            "The comparison solution gives the result 766880861956720386\n",
            "The solution is correct OK\n",
            "-------------------------------------------------\n",
            "-------------------------------------------------\n",
            "Testing with the list: [308118704]\n",
            "The efficient solution gives the result 0\n",
            "The comparison solution gives the result 0\n",
            "The solution is correct OK\n",
            "-------------------------------------------------\n",
            "-------------------------------------------------\n",
            "Testing with the list: [650966397, 326354233, 768373388, 40473265, 911513978]\n",
            "The efficient solution gives the result 700383083485217464\n",
            "The comparison solution gives the result 700383083485217464\n",
            "The solution is correct OK\n",
            "-------------------------------------------------\n",
            "-------------------------------------------------\n",
            "Testing with the list: [92518740, 444251744, 293930127, 402541546, 176639682, 635997270, 89292574, 823784707, 924534750, 787084923]\n",
            "The efficient solution gives the result 761617588140068250\n",
            "The comparison solution gives the result 761617588140068250\n",
            "The solution is correct OK\n",
            "-------------------------------------------------\n",
            "-------------------------------------------------\n",
            "Testing with the list: [276089407, 491489572, 263311391, 593766946, 185361321, 585934748, 679298471]\n",
            "The efficient solution gives the result 403344978548139566\n",
            "The comparison solution gives the result 403344978548139566\n",
            "The solution is correct OK\n",
            "-------------------------------------------------\n",
            "-------------------------------------------------\n",
            "Testing with the list: [690459748, 310776204]\n",
            "The efficient solution gives the result 214578459498236592\n",
            "The comparison solution gives the result 214578459498236592\n",
            "The solution is correct OK\n",
            "-------------------------------------------------\n",
            "-------------------------------------------------\n",
            "Testing with the list: [373920990, 683412355, 399380082]\n",
            "The efficient solution gives the result 272941282379713110\n",
            "The comparison solution gives the result 272941282379713110\n",
            "The solution is correct OK\n",
            "-------------------------------------------------\n",
            "-------------------------------------------------\n",
            "Testing with the list: [825838385, 615006262, 925999975, 355418327, 95450761, 839462695, 993954146]\n",
            "The efficient solution gives the result 920401514347146350\n",
            "The comparison solution gives the result 920401514347146350\n",
            "The solution is correct OK\n",
            "-------------------------------------------------\n",
            "-------------------------------------------------\n",
            "Testing with the list: [21807693]\n",
            "The efficient solution gives the result 0\n",
            "The comparison solution gives the result 0\n",
            "The solution is correct OK\n",
            "-------------------------------------------------\n",
            "-------------------------------------------------\n",
            "Testing with the list: [714676286]\n",
            "The efficient solution gives the result 0\n",
            "The comparison solution gives the result 0\n",
            "The solution is correct OK\n",
            "-------------------------------------------------\n",
            "-------------------------------------------------\n",
            "Testing with the list: [625111177, 301524212, 64341518, 41747295, 75749775, 503839960, 234567369, 328881843]\n",
            "The efficient solution gives the result 314955990415232920\n",
            "The comparison solution gives the result 314955990415232920\n",
            "The solution is correct OK\n",
            "-------------------------------------------------\n"
          ]
        }
      ],
      "source": [
        "import random\n",
        "def efficientSolution(numbers):\n",
        "    largest = 0\n",
        "    secondLargest = 0\n",
        "    for i in numbers:\n",
        "        if i > largest:\n",
        "            secondLargest = largest\n",
        "            largest = i\n",
        "        elif i > secondLargest:\n",
        "            secondLargest = i\n",
        "\n",
        "    return secondLargest * largest\n",
        "\n",
        "def max_pairwise_product(numbers):\n",
        "    max_product = 0\n",
        "    n = len(numbers)\n",
        "\n",
        "    for first in range(n):\n",
        "        for second in range(n):\n",
        "            if first != second:\n",
        "                aux_product = numbers[first] * numbers[second]\n",
        "                if aux_product > max_product:\n",
        "                    max_product = aux_product\n",
        "\n",
        "    return max_product\n",
        "\n",
        "for _ in range(20):  # Run the test 10 times\n",
        "    n = random.randint(1, 12)  # Use a large n\n",
        "    numbers = [random.randint(1, 10**9) for _ in range(n)]  # Generate n random numbers between 1 and 10^9\n",
        "\n",
        "    print(\"-------------------------------------------------\")\n",
        "    print(f\"Testing with the list: {numbers}\")\n",
        "    print(f\"The efficient solution gives the result {efficientSolution(numbers)}\")\n",
        "    print(f\"The comparison solution gives the result {max_pairwise_product(numbers)}\")\n",
        "    if efficientSolution(numbers) == max_pairwise_product(numbers):\n",
        "        print(\"The solution is correct OK\")\n",
        "    else:\n",
        "        print(\"ERROR\")\n",
        "    print(\"-------------------------------------------------\")\n",
        "\n",
        "\n"
      ]
    },
    {
      "cell_type": "markdown",
      "metadata": {
        "id": "L8U4151JNbxk"
      },
      "source": [
        "Count executed instructions in code and verify with inputs 1,2 and 3\n"
      ]
    },
    {
      "cell_type": "code",
      "execution_count": 164,
      "metadata": {
        "id": "dh85RM8vNhFz",
        "colab": {
          "base_uri": "https://localhost:8080/"
        },
        "outputId": "50593aca-53ea-43b2-e96d-a8c0be4e35f0"
      },
      "outputs": [
        {
          "output_type": "stream",
          "name": "stdout",
          "text": [
            "Overwriting efficientSolutionexcec.py\n"
          ]
        }
      ],
      "source": [
        "%%writefile efficientSolutionexcec.py\n",
        "exceintspy= 0\n",
        "def efficientSolution(numbers):\n",
        "    global exceintspy\n",
        "    largest = 0\n",
        "    exceintspy+=1\n",
        "    secondLargest = 0\n",
        "    exceintspy+=1\n",
        "    exceintspy+=1\n",
        "    for i in numbers:\n",
        "        exceintspy+=2\n",
        "        exceintspy+=1\n",
        "        if i > largest:\n",
        "            secondLargest = largest\n",
        "            exceintspy+=1\n",
        "            largest = i\n",
        "            exceintspy+=1\n",
        "        elif i > secondLargest:\n",
        "            secondLargest = i\n",
        "            exceintspy+=1\n",
        "    exceintspy+=1\n",
        "    result= secondLargest * largest\n",
        "    exceintspy+=2 # multiplciation instruction\n",
        "    return result\n",
        "\n",
        "n = int(input())\n",
        "exceintspy+=1\n",
        "numbers = [int(i) for i in input().split()]\n",
        "exceintspy+=n\n",
        "print(efficientSolution(numbers))\n",
        "exceintspy+=1\n",
        "print(f\"Execution Times: {exceintspy}\")"
      ]
    },
    {
      "cell_type": "code",
      "source": [
        "%%writefile run_all_test.sh\n",
        "for i in {1..3}\n",
        "do\n",
        "    echo \"Input #$i\"\n",
        "    python3 efficientSolutionexcec.py < input$i.txt\n",
        "done"
      ],
      "metadata": {
        "colab": {
          "base_uri": "https://localhost:8080/"
        },
        "id": "baMyryVHI_HB",
        "outputId": "b1e3cea3-c63c-4369-fbdc-0180f9f90baa"
      },
      "execution_count": 165,
      "outputs": [
        {
          "output_type": "stream",
          "name": "stdout",
          "text": [
            "Overwriting run_all_test.sh\n"
          ]
        }
      ]
    },
    {
      "cell_type": "code",
      "source": [
        "!chmod u+x run_all_test.sh\n",
        "!./run_all_test.sh"
      ],
      "metadata": {
        "colab": {
          "base_uri": "https://localhost:8080/"
        },
        "id": "iH_3Fo8wJIVS",
        "outputId": "622722a9-cbc3-48f2-d376-7d1cc108c17c"
      },
      "execution_count": 166,
      "outputs": [
        {
          "output_type": "stream",
          "name": "stdout",
          "text": [
            "Input #1\n",
            "90\n",
            "Execution Times: 68\n",
            "Input #2\n",
            "90\n",
            "Execution Times: 51\n",
            "Input #3\n",
            "40000000000\n",
            "Execution Times: 40\n"
          ]
        }
      ]
    },
    {
      "cell_type": "markdown",
      "metadata": {
        "id": "K6ybgCmpNygr"
      },
      "source": [
        "Calculate estimated time by instruction and number of instructions by second"
      ]
    },
    {
      "cell_type": "code",
      "execution_count": 167,
      "metadata": {
        "id": "kwe3G1O3Nz1w",
        "colab": {
          "base_uri": "https://localhost:8080/"
        },
        "outputId": "c4db1a16-7981-4c15-9160-f8fe55aba6de"
      },
      "outputs": [
        {
          "output_type": "stream",
          "name": "stdout",
          "text": [
            "\n",
            "real\t0m0.169s\n",
            "user\t0m0.145s\n",
            "sys\t0m0.023s\n",
            "Execution Times: 1200008\n"
          ]
        }
      ],
      "source": [
        "!time python3 efficientSolutionexcec.py< input11.txt > ptest.txt\n",
        "!grep -xvFf output11.txt ptest.txt"
      ]
    },
    {
      "cell_type": "code",
      "source": [
        "# Estimated time by instruction\n",
        "0.192/1200008"
      ],
      "metadata": {
        "colab": {
          "base_uri": "https://localhost:8080/"
        },
        "id": "PimbxlzZJW1R",
        "outputId": "b307f7a6-673a-49bb-fe61-bd9e58650e0c"
      },
      "execution_count": 168,
      "outputs": [
        {
          "output_type": "execute_result",
          "data": {
            "text/plain": [
              "1.599989333404444e-07"
            ]
          },
          "metadata": {},
          "execution_count": 168
        }
      ]
    },
    {
      "cell_type": "code",
      "source": [
        "# Estimated number of instructions by second\n",
        "1200008/0.192"
      ],
      "metadata": {
        "colab": {
          "base_uri": "https://localhost:8080/"
        },
        "id": "X_se81Y_JYBZ",
        "outputId": "f61cb921-a57c-4360-a628-d6a318d57c28"
      },
      "execution_count": 169,
      "outputs": [
        {
          "output_type": "execute_result",
          "data": {
            "text/plain": [
              "6250041.666666667"
            ]
          },
          "metadata": {},
          "execution_count": 169
        }
      ]
    },
    {
      "cell_type": "markdown",
      "source": [
        "### Estimate and verify the maximun n that can be solved in 1 second"
      ],
      "metadata": {
        "id": "v8GY6n_ZaJ4P"
      }
    },
    {
      "cell_type": "code",
      "source": [
        "%%writefile efficientSolution.py\n",
        "def efficientSolution(numbers):\n",
        "    largest = 0                     #1\n",
        "    secondLargest = 0               #1\n",
        "    for i in numbers:               #2+2n\n",
        "        if i > largest:\n",
        "            secondLargest = largest\n",
        "            largest = i\n",
        "        elif i > secondLargest:\n",
        "            secondLargest = i\n",
        "    #WORST CASE 3n\n",
        "    result= secondLargest * largest    #3\n",
        "    return result\n",
        "\n",
        "n = int(input())                            #1\n",
        "numbers = [int(i) for i in input().split()] #n\n",
        "print(efficientSolution(numbers))           #1"
      ],
      "metadata": {
        "id": "z3xjzg1YaKk6",
        "colab": {
          "base_uri": "https://localhost:8080/"
        },
        "outputId": "47868f67-eea0-48c7-daea-ddc91e1a0f1f"
      },
      "execution_count": 170,
      "outputs": [
        {
          "output_type": "stream",
          "name": "stdout",
          "text": [
            "Overwriting efficientSolution.py\n"
          ]
        }
      ]
    },
    {
      "cell_type": "markdown",
      "source": [
        "##The number of instructions executed by the algooirithm with a list of size $n$\n",
        "\n",
        "$$T(n) = (6n+7) = O(n) $$\n"
      ],
      "metadata": {
        "id": "I51n7jOqKFZq"
      }
    },
    {
      "cell_type": "markdown",
      "source": [
        "By calculating the number of instructions that can be executed on input11 we obtain\n",
        "$$T(n) = (6(200000)+7) = 1200007 $$"
      ],
      "metadata": {
        "id": "YBe89JafKGhJ"
      }
    },
    {
      "cell_type": "markdown",
      "source": [
        "Maximum n that can be solve in 1 s\n",
        "$$(6n+7) \\times 1.47*10^{-9} s = 1 s$$\n",
        "\n",
        "$$ n \\approx 113378684$$"
      ],
      "metadata": {
        "id": "OTlGnJ2YKNFI"
      }
    },
    {
      "cell_type": "markdown",
      "source": [
        "# C++"
      ],
      "metadata": {
        "id": "K4zsCN_BKZJZ"
      }
    },
    {
      "cell_type": "code",
      "source": [
        "%%writefile efficientSolutionC.cpp\n",
        "#include <iostream>\n",
        "#include <vector>\n",
        "#include <algorithm>\n",
        "\n",
        "long long efficientSolution(std::vector<long long>& numbers) {\n",
        "    long long largest = 0;\n",
        "    long long secondLargest = 0;\n",
        "    for (long long i : numbers) {\n",
        "        if (i > largest) {\n",
        "            secondLargest = largest;\n",
        "            largest = i;\n",
        "        } else if (i > secondLargest) {\n",
        "            secondLargest = i;\n",
        "        }\n",
        "    }\n",
        "    return secondLargest * largest;\n",
        "}\n",
        "\n",
        "int main() {\n",
        "    long long n;\n",
        "    std::cin >> n;\n",
        "    std::vector<long long> numbers(n);\n",
        "    for (int i = 0; i < n; ++i) {\n",
        "        std::cin >> numbers[i];\n",
        "    }\n",
        "    std::cout << efficientSolution(numbers) << std::endl;\n",
        "    return 0;\n",
        "}"
      ],
      "metadata": {
        "colab": {
          "base_uri": "https://localhost:8080/"
        },
        "id": "sD73MMrLKdjx",
        "outputId": "6b8e3d62-d731-4573-9c48-3fea0e976de1"
      },
      "execution_count": 172,
      "outputs": [
        {
          "output_type": "stream",
          "name": "stdout",
          "text": [
            "Writing efficientSolutionC.cpp\n"
          ]
        }
      ]
    },
    {
      "cell_type": "markdown",
      "source": [
        "Test with inputs 1 and 2"
      ],
      "metadata": {
        "id": "qWC-h_bGKn8I"
      }
    },
    {
      "cell_type": "code",
      "source": [
        "!g++ efficientSolutionC.cpp -o efficientSolutionC\n",
        "!./efficientSolutionC< input1.txt\n",
        "!./efficientSolutionC< input2.txt"
      ],
      "metadata": {
        "colab": {
          "base_uri": "https://localhost:8080/"
        },
        "id": "Xen4ngyQKlPx",
        "outputId": "22f11dcf-31e8-4370-c681-9b2e1ccbaab6"
      },
      "execution_count": 173,
      "outputs": [
        {
          "output_type": "stream",
          "name": "stdout",
          "text": [
            "90\n",
            "90\n"
          ]
        }
      ]
    },
    {
      "cell_type": "markdown",
      "source": [
        "Test and time it with input 3"
      ],
      "metadata": {
        "id": "7U220uadKt4Z"
      }
    },
    {
      "cell_type": "code",
      "source": [
        "!g++ efficientSolutionC.cpp -o efficientSolutionC\n",
        "!time ./efficientSolutionC< input3.txt"
      ],
      "metadata": {
        "colab": {
          "base_uri": "https://localhost:8080/"
        },
        "id": "Din2KVQ3KxwC",
        "outputId": "a76d7d0e-f561-4ece-9238-9e0906b52c4b"
      },
      "execution_count": 174,
      "outputs": [
        {
          "output_type": "stream",
          "name": "stdout",
          "text": [
            "40000000000\n",
            "\n",
            "real\t0m0.004s\n",
            "user\t0m0.001s\n",
            "sys\t0m0.002s\n"
          ]
        }
      ]
    },
    {
      "cell_type": "markdown",
      "source": [
        "**20 Stress tests**"
      ],
      "metadata": {
        "id": "QE0zja9cK2OI"
      }
    },
    {
      "cell_type": "code",
      "source": [
        "%%writefile stressTest.cpp\n",
        "#include <iostream>\n",
        "#include <vector>\n",
        "#include <algorithm>\n",
        "#include <cstdlib> // Para rand() y srand()\n",
        "#include <ctime> // Para time()\n",
        "\n",
        "long long efficientSolution(std::vector<long long>& numbers) {\n",
        "    long long largest = 0;\n",
        "    long long secondLargest = 0;\n",
        "    for (long long i : numbers) {\n",
        "        if (i > largest) {\n",
        "            secondLargest = largest;\n",
        "            largest = i;\n",
        "        } else if (i > secondLargest) {\n",
        "            secondLargest = i;\n",
        "        }\n",
        "    }\n",
        "    return secondLargest * largest;\n",
        "}\n",
        "\n",
        "long long MaxPairwiseProduct(const std::vector<long long>& numbers) {\n",
        "    long long max_product = 0LL;\n",
        "\t  long long aux_product = 0LL;\n",
        "    int n = numbers.size();\n",
        "\n",
        "    for (int first = 0; first < n; ++first) {\n",
        "        for (int second = 0; second < n; ++second) {\n",
        "          if ( first != second){\n",
        "                aux_product = (long long) numbers[first] * numbers[second];\n",
        "                if (aux_product > max_product)  max_product = aux_product;\n",
        "          }\n",
        "        }\n",
        "    }\n",
        "\n",
        "\n",
        "    return max_product;\n",
        "}\n",
        "\n",
        "\n",
        "// Esta es una función de prueba de estrés\n",
        "void stressTest(int maxN, int maxNumber) {\n",
        "    srand(time(0)); // Inicializar la semilla del generador de números aleatorios\n",
        "\n",
        "    for (int test = 0; test < 20; ++test) { // Ejecutar la prueba 20 veces\n",
        "        int n = rand() % maxN + 1; // Generar un número aleatorio entre 1 y maxN\n",
        "        std::vector<long long> numbers(n);\n",
        "        for (int i = 0; i < n; ++i) {\n",
        "            numbers[i] = rand() % maxNumber + 1; // Generar un número aleatorio entre 1 y maxNumber\n",
        "        }\n",
        "\n",
        "        long long efficientResult = efficientSolution(numbers);\n",
        "        long long comparisonSolution = MaxPairwiseProduct(numbers);\n",
        "        std::cout << \"-------------------------------------------------\\n\";\n",
        "        std::cout << \"Testing with the list: [\" ;\n",
        "        for (long long number : numbers) {\n",
        "            std::cout << number << ' ';\n",
        "        }\n",
        "        std::cout << \"]\\n\";\n",
        "        std::cout<<\"The efficient solution gives the result \" << efficientResult<< '\\n';\n",
        "        std::cout<<\"The comparison solution gives the result \" << comparisonSolution<< '\\n';\n",
        "\n",
        "        if (efficientResult == comparisonSolution) {\n",
        "            std::cout << \"The solution is correct OK\\n\";\n",
        "        } else {\n",
        "            std::cout << \"ERROR\\n\";\n",
        "            break;\n",
        "        }\n",
        "        std::cout << \"-------------------------------------------------\\n\";\n",
        "    }\n",
        "}\n",
        "\n",
        "int main() {\n",
        "    stressTest(12, 1000000000); // Ejecutar la prueba de estrés con n hasta 12 y números hasta 10^9\n",
        "    return 0;\n",
        "}"
      ],
      "metadata": {
        "colab": {
          "base_uri": "https://localhost:8080/"
        },
        "id": "wI9EsklDK6TX",
        "outputId": "d3c963fe-3ab5-4a29-a54d-60120f354bef"
      },
      "execution_count": 175,
      "outputs": [
        {
          "output_type": "stream",
          "name": "stdout",
          "text": [
            "Writing stressTest.cpp\n"
          ]
        }
      ]
    },
    {
      "cell_type": "code",
      "source": [
        "!g++ stressTest.cpp -o stressTest\n",
        "!./stressTest"
      ],
      "metadata": {
        "colab": {
          "base_uri": "https://localhost:8080/"
        },
        "id": "XWMdML8BLBe5",
        "outputId": "17927745-b43d-47b5-f409-502a3edd810d"
      },
      "execution_count": 176,
      "outputs": [
        {
          "output_type": "stream",
          "name": "stdout",
          "text": [
            "-------------------------------------------------\n",
            "Testing with the list: [235092588 527567922 738628108 56678387 52813192 888817021 965137404 172882855 14747342 180742238 936151071 ]\n",
            "The efficient solution gives the result 903514414416759684\n",
            "The comparison solution gives the result 903514414416759684\n",
            "The solution is correct OK\n",
            "-------------------------------------------------\n",
            "-------------------------------------------------\n",
            "Testing with the list: [506259427 703700130 ]\n",
            "The efficient solution gives the result 356254824593625510\n",
            "The comparison solution gives the result 356254824593625510\n",
            "The solution is correct OK\n",
            "-------------------------------------------------\n",
            "-------------------------------------------------\n",
            "Testing with the list: [712676118 763346563 73280062 255856334 916014425 ]\n",
            "The efficient solution gives the result 699236462982171275\n",
            "The comparison solution gives the result 699236462982171275\n",
            "The solution is correct OK\n",
            "-------------------------------------------------\n",
            "-------------------------------------------------\n",
            "Testing with the list: [430409819 956934628 201003519 ]\n",
            "The efficient solution gives the result 411874060032312332\n",
            "The comparison solution gives the result 411874060032312332\n",
            "The solution is correct OK\n",
            "-------------------------------------------------\n",
            "-------------------------------------------------\n",
            "Testing with the list: [409401360 227358980 ]\n",
            "The efficient solution gives the result 93081075620212800\n",
            "The comparison solution gives the result 93081075620212800\n",
            "The solution is correct OK\n",
            "-------------------------------------------------\n",
            "-------------------------------------------------\n",
            "Testing with the list: [579879490 231269258 847506406 814972077 758837179 586134513 871650464 ]\n",
            "The efficient solution gives the result 738729352032872384\n",
            "The comparison solution gives the result 738729352032872384\n",
            "The solution is correct OK\n",
            "-------------------------------------------------\n",
            "-------------------------------------------------\n",
            "Testing with the list: [327467885 836787867 984533225 342215226 870046456 773200647 289858800 376305883 329417128 801664200 ]\n",
            "The efficient solution gives the result 856589643225500600\n",
            "The comparison solution gives the result 856589643225500600\n",
            "The solution is correct OK\n",
            "-------------------------------------------------\n",
            "-------------------------------------------------\n",
            "Testing with the list: [92763690 874944262 197354686 861294466 ]\n",
            "The efficient solution gives the result 753584650919054092\n",
            "The comparison solution gives the result 753584650919054092\n",
            "The solution is correct OK\n",
            "-------------------------------------------------\n",
            "-------------------------------------------------\n",
            "Testing with the list: [627764504 818229094 737638054 81224657 80146805 817513385 728325440 660026294 48782642 428348197 327514722 807619821 ]\n",
            "The efficient solution gives the result 668913236341423190\n",
            "The comparison solution gives the result 668913236341423190\n",
            "The solution is correct OK\n",
            "-------------------------------------------------\n",
            "-------------------------------------------------\n",
            "Testing with the list: [199165185 ]\n",
            "The efficient solution gives the result 0\n",
            "The comparison solution gives the result 0\n",
            "The solution is correct OK\n",
            "-------------------------------------------------\n",
            "-------------------------------------------------\n",
            "Testing with the list: [194466945 888469404 ]\n",
            "The efficient solution gives the result 172777930721850780\n",
            "The comparison solution gives the result 172777930721850780\n",
            "The solution is correct OK\n",
            "-------------------------------------------------\n",
            "-------------------------------------------------\n",
            "Testing with the list: [536682171 758515859 82036764 679057322 987338093 411453891 ]\n",
            "The efficient solution gives the result 748911601735316887\n",
            "The comparison solution gives the result 748911601735316887\n",
            "The solution is correct OK\n",
            "-------------------------------------------------\n",
            "-------------------------------------------------\n",
            "Testing with the list: [928836445 ]\n",
            "The efficient solution gives the result 0\n",
            "The comparison solution gives the result 0\n",
            "The solution is correct OK\n",
            "-------------------------------------------------\n",
            "-------------------------------------------------\n",
            "Testing with the list: [208182134 ]\n",
            "The efficient solution gives the result 0\n",
            "The comparison solution gives the result 0\n",
            "The solution is correct OK\n",
            "-------------------------------------------------\n",
            "-------------------------------------------------\n",
            "Testing with the list: [218028398 744816669 ]\n",
            "The efficient solution gives the result 162391185145766262\n",
            "The comparison solution gives the result 162391185145766262\n",
            "The solution is correct OK\n",
            "-------------------------------------------------\n",
            "-------------------------------------------------\n",
            "Testing with the list: [36257491 334971075 687696641 968920647 5000811 ]\n",
            "The efficient solution gives the result 666323474337446727\n",
            "The comparison solution gives the result 666323474337446727\n",
            "The solution is correct OK\n",
            "-------------------------------------------------\n",
            "-------------------------------------------------\n",
            "Testing with the list: [481463292 53783453 696886628 808978014 713919625 563885688 8143198 185706166 758352633 749128953 494542284 147551155 ]\n",
            "The efficient solution gives the result 613490606956010862\n",
            "The comparison solution gives the result 613490606956010862\n",
            "The solution is correct OK\n",
            "-------------------------------------------------\n",
            "-------------------------------------------------\n",
            "Testing with the list: [576579047 826608476 347499256 988032938 ]\n",
            "The efficient solution gives the result 816716401117982488\n",
            "The comparison solution gives the result 816716401117982488\n",
            "The solution is correct OK\n",
            "-------------------------------------------------\n",
            "-------------------------------------------------\n",
            "Testing with the list: [128852052 344766870 368028482 107559533 ]\n",
            "The efficient solution gives the result 126884027809991340\n",
            "The comparison solution gives the result 126884027809991340\n",
            "The solution is correct OK\n",
            "-------------------------------------------------\n",
            "-------------------------------------------------\n",
            "Testing with the list: [965361502 714031517 451569110 152848928 254244510 420489756 157849739 ]\n",
            "The efficient solution gives the result 689298537726458534\n",
            "The comparison solution gives the result 689298537726458534\n",
            "The solution is correct OK\n",
            "-------------------------------------------------\n"
          ]
        }
      ]
    },
    {
      "cell_type": "markdown",
      "source": [
        "Count executed instructions in code and verify with inputs 1,2 and 3"
      ],
      "metadata": {
        "id": "swivnU6dLKCK"
      }
    },
    {
      "cell_type": "code",
      "source": [
        "%%writefile efficientSolutionCexec.cpp\n",
        "#include <iostream>\n",
        "#include <vector>\n",
        "#include <algorithm>\n",
        "\n",
        "long long efficientSolution(std::vector<long long>& numbers, long long& execints) {\n",
        "\n",
        "    long long largest = 0;\n",
        "    execints+=1;\n",
        "    long long secondLargest = 0;\n",
        "    execints+=1;\n",
        "    execints+=1;\n",
        "    for (long long i : numbers) {\n",
        "        execints+=2;\n",
        "        execints+=1;\n",
        "        if (i > largest) {\n",
        "            secondLargest = largest;\n",
        "            execints+=1;\n",
        "            largest = i;\n",
        "            execints+=1;\n",
        "        } else if (i > secondLargest) {\n",
        "            execints+=1;\n",
        "            secondLargest = i;\n",
        "            execints+=1;\n",
        "        }\n",
        "    }\n",
        "    execints+=1;\n",
        "    execints+=1;\n",
        "    return secondLargest * largest;\n",
        "}\n",
        "\n",
        "int main() {\n",
        "    long long execints =0LL;\n",
        "    long long n;\n",
        "    execints+=1;\n",
        "    std::cin >> n;\n",
        "    execints+=1;\n",
        "    std::vector<long long> numbers(n);\n",
        "    execints+=1;\n",
        "    execints+=1;\n",
        "    for (int i = 0; i < n; ++i) {\n",
        "        execints+=2;\n",
        "        std::cin >> numbers[i];\n",
        "        execints+=1;\n",
        "    }\n",
        "    efficientSolution(numbers, execints);\n",
        "    execints+=1;\n",
        "    execints+=1;\n",
        "    std::cout << \"El numero de instrucciones es: \" <<  execints << \"\\n\";\n",
        "    return 0;\n",
        "}"
      ],
      "metadata": {
        "colab": {
          "base_uri": "https://localhost:8080/"
        },
        "id": "2JaL4EzqLKlT",
        "outputId": "7e9c1dea-89e1-49f9-c5ae-d8034f6c77de"
      },
      "execution_count": 177,
      "outputs": [
        {
          "output_type": "stream",
          "name": "stdout",
          "text": [
            "Writing efficientSolutionCexec.cpp\n"
          ]
        }
      ]
    },
    {
      "cell_type": "code",
      "source": [
        "%%writefile run_all_test.sh\n",
        "#!/bin/bash\n",
        "g++ efficientSolutionCexec.cpp -o efficientSolutionCexec\n",
        "for i in {1..3}\n",
        "do\n",
        "    echo \"Input #$i\"\n",
        "    ./efficientSolutionCexec < input$i.txt\n",
        "done"
      ],
      "metadata": {
        "colab": {
          "base_uri": "https://localhost:8080/"
        },
        "id": "7BidqM4cLQ5C",
        "outputId": "52ffa125-5bdf-429d-85a7-6ed3a582ad81"
      },
      "execution_count": 178,
      "outputs": [
        {
          "output_type": "stream",
          "name": "stdout",
          "text": [
            "Overwriting run_all_test.sh\n"
          ]
        }
      ]
    },
    {
      "cell_type": "code",
      "source": [
        "!chmod u+x run_all_test.sh\n",
        "!./run_all_test.sh"
      ],
      "metadata": {
        "colab": {
          "base_uri": "https://localhost:8080/"
        },
        "id": "5HDntVN_LWVx",
        "outputId": "56985a27-de61-4681-fd44-8e62ae000a4d"
      },
      "execution_count": 179,
      "outputs": [
        {
          "output_type": "stream",
          "name": "stdout",
          "text": [
            "Input #1\n",
            "El numero de instrucciones es: 91\n",
            "Input #2\n",
            "El numero de instrucciones es: 75\n",
            "Input #3\n",
            "El numero de instrucciones es: 57\n"
          ]
        }
      ]
    },
    {
      "cell_type": "markdown",
      "source": [
        "Calculate estimated time by instruction and number of instructions by second"
      ],
      "metadata": {
        "id": "2jEIq6L5LgsY"
      }
    },
    {
      "cell_type": "code",
      "source": [
        "!g++ efficientSolutionCexec.cpp -o efficientSolutionCexec\n",
        "!time ./efficientSolutionCexec< input11.txt"
      ],
      "metadata": {
        "colab": {
          "base_uri": "https://localhost:8080/"
        },
        "id": "W2WudtVQLehB",
        "outputId": "9eefb2fd-fd26-4167-c1a8-2d9f0b9a1483"
      },
      "execution_count": 180,
      "outputs": [
        {
          "output_type": "stream",
          "name": "stdout",
          "text": [
            "El numero de instrucciones es: 1600011\n",
            "\n",
            "real\t0m0.128s\n",
            "user\t0m0.121s\n",
            "sys\t0m0.004s\n"
          ]
        }
      ]
    },
    {
      "cell_type": "code",
      "source": [
        "# Estimated time by instruction\n",
        "0.071/1600011"
      ],
      "metadata": {
        "colab": {
          "base_uri": "https://localhost:8080/"
        },
        "id": "EsYZLSWFLt74",
        "outputId": "b866ee2a-704b-43be-da1a-5077cf7c3ebe"
      },
      "execution_count": 181,
      "outputs": [
        {
          "output_type": "execute_result",
          "data": {
            "text/plain": [
              "4.437469492397239e-08"
            ]
          },
          "metadata": {},
          "execution_count": 181
        }
      ]
    },
    {
      "cell_type": "code",
      "source": [
        "# Estimated number of instructions by second\n",
        "1600011/0.071"
      ],
      "metadata": {
        "colab": {
          "base_uri": "https://localhost:8080/"
        },
        "id": "8zJzyo46Ltwa",
        "outputId": "adce637d-a922-47dc-bfd8-d105f023d7ac"
      },
      "execution_count": 182,
      "outputs": [
        {
          "output_type": "execute_result",
          "data": {
            "text/plain": [
              "22535366.197183102"
            ]
          },
          "metadata": {},
          "execution_count": 182
        }
      ]
    },
    {
      "cell_type": "markdown",
      "source": [
        "## Estimate and verify the maximun n that can be solved in 1 second"
      ],
      "metadata": {
        "id": "RIGkYK4iL5-J"
      }
    },
    {
      "cell_type": "code",
      "source": [
        "%%writefile efficientSolutionC.cpp\n",
        "#include <iostream>\n",
        "#include <vector>\n",
        "#include <algorithm>\n",
        "\n",
        "long long efficientSolution(std::vector<long long>& numbers) {\n",
        "    long long largest = 0;             //1\n",
        "    long long secondLargest = 0;       //1\n",
        "    for (long long i : numbers) {      //2+2n\n",
        "        if (i > largest) {\n",
        "            secondLargest = largest;\n",
        "            largest = i;\n",
        "        } else if (i > secondLargest) {\n",
        "            secondLargest = i;\n",
        "        }\n",
        "        //WORST CASE 3n\n",
        "    }\n",
        "    return secondLargest * largest; //1\n",
        "}\n",
        "\n",
        "int main() {\n",
        "    long long n; //1\n",
        "    std::cin >> n; //1\n",
        "    std::vector<long long> numbers(n); //1\n",
        "    for (int i = 0; i < n; ++i) {  //2+2n\n",
        "        std::cin >> numbers[i];   //n\n",
        "    }\n",
        "    std::cout << efficientSolution(numbers) << std::endl; //1\n",
        "    return 0;\n",
        "}"
      ],
      "metadata": {
        "colab": {
          "base_uri": "https://localhost:8080/"
        },
        "id": "H1jNpdfVL5fn",
        "outputId": "8ea596e4-68d9-4632-eff8-91e25f974a7e"
      },
      "execution_count": 183,
      "outputs": [
        {
          "output_type": "stream",
          "name": "stdout",
          "text": [
            "Overwriting efficientSolutionC.cpp\n"
          ]
        }
      ]
    },
    {
      "cell_type": "markdown",
      "source": [
        "##The number of instructions executed by the algooirithm with a list of size $n$\n",
        "\n",
        "$$T(n) = (8n+7) = O(n) $$"
      ],
      "metadata": {
        "id": "qGo1c9PlMFJJ"
      }
    },
    {
      "cell_type": "markdown",
      "source": [
        "By calculating the number of instructions that can be executed on input11 we obtain\n",
        "$$T(n) = (8(200000)+7) = 1600007 $$"
      ],
      "metadata": {
        "id": "r9SUE85XMGPz"
      }
    },
    {
      "cell_type": "markdown",
      "source": [
        "Maximum n that can be solve in 1 s\n",
        "$$(8n+7) \\times 1.47*10^{-9} s = 1 s$$\n",
        "\n",
        "$$ n \\approx 85034013$$"
      ],
      "metadata": {
        "id": "yl_P1-ZnMJ_4"
      }
    },
    {
      "cell_type": "markdown",
      "metadata": {
        "id": "sUpIWcykOGpT"
      },
      "source": [
        "## Super efficient solution\n",
        "\n",
        "Whitout storing the list in memory, only stpring the largest and second largest and whitout calling a function, add in each line a coment with the number of instructions that are executed in that line\n",
        "\n",
        "in C++ and Python\n",
        "\n",
        "\n",
        " $$T(n) < 13 n  = O(n)$$\n"
      ]
    },
    {
      "cell_type": "code",
      "execution_count": 184,
      "metadata": {
        "id": "hBLt_xBQLy8E",
        "colab": {
          "base_uri": "https://localhost:8080/"
        },
        "outputId": "93b113a3-0dcf-495c-9f6c-32423a86a159"
      },
      "outputs": [
        {
          "output_type": "stream",
          "name": "stdout",
          "text": [
            "Writing max_pairwise_efficient.cpp\n"
          ]
        }
      ],
      "source": [
        "%%writefile max_pairwise_efficient.cpp\n",
        "\n",
        "#include <iostream>\n",
        "#include <limits>\n",
        "\n",
        "long long max_pairwise_efficient() {\n",
        "    int n;            //1\n",
        "    std::cin >> n;    //1\n",
        "\n",
        "    long long biggest_1 = std::numeric_limits<long long>::min(); //1\n",
        "    long long biggest_2 = std::numeric_limits<long long>::min(); //1\n",
        "\n",
        "    for (int i = 0; i < n; ++i) {  //2 + 2n\n",
        "        int new_number;\n",
        "        std::cin >> new_number;\n",
        "        if (new_number > biggest_1) {\n",
        "            biggest_2 = biggest_1;\n",
        "            biggest_1 = new_number;\n",
        "        } else if (new_number > biggest_2) {\n",
        "            biggest_2 = new_number;\n",
        "        }\n",
        "    }\n",
        "\n",
        "    return biggest_1 * biggest_2; //1\n",
        "}\n",
        "\n",
        "int main() {\n",
        "    std::cout << max_pairwise_efficient() << std::endl; //1\n",
        "    return 0; //1\n",
        "}\n",
        "\n",
        "\n"
      ]
    },
    {
      "cell_type": "code",
      "source": [
        "!g++ max_pairwise_efficient.cpp -o max_pairwise_efficient -std=c++11\n",
        "!./max_pairwise_efficient"
      ],
      "metadata": {
        "colab": {
          "base_uri": "https://localhost:8080/"
        },
        "id": "Pg8FHRT_MkMf",
        "outputId": "5701cf0f-5566-4a95-8575-19e74502f576"
      },
      "execution_count": 185,
      "outputs": [
        {
          "output_type": "stream",
          "name": "stdout",
          "text": [
            "^C\n"
          ]
        }
      ]
    },
    {
      "cell_type": "markdown",
      "metadata": {
        "id": "683gc3roHqzb"
      },
      "source": [
        "Test with inputs 1 and 2\n",
        "\n",
        "\n"
      ]
    },
    {
      "cell_type": "code",
      "execution_count": 186,
      "metadata": {
        "id": "b7d4LA8OIc2_",
        "colab": {
          "base_uri": "https://localhost:8080/"
        },
        "outputId": "c4103041-ac4e-45ae-e692-3a4d6ac81f71"
      },
      "outputs": [
        {
          "output_type": "stream",
          "name": "stdout",
          "text": [
            "90\n",
            "90\n"
          ]
        }
      ],
      "source": [
        "!g++ max_pairwise_efficient.cpp -o max_pairwise_efficient -std=c++11\n",
        "!./max_pairwise_efficient < input1.txt\n",
        "!./max_pairwise_efficient < input2.txt"
      ]
    },
    {
      "cell_type": "markdown",
      "metadata": {
        "id": "36Ugn1odIeJz"
      },
      "source": [
        "Test and time it with input 3"
      ]
    },
    {
      "cell_type": "code",
      "execution_count": 187,
      "metadata": {
        "id": "jDyMbCnxHqSN",
        "colab": {
          "base_uri": "https://localhost:8080/"
        },
        "outputId": "f4b17b85-3918-4419-e529-a86584a1c233"
      },
      "outputs": [
        {
          "output_type": "stream",
          "name": "stdout",
          "text": [
            "40000000000\n"
          ]
        }
      ],
      "source": [
        "!g++ max_pairwise_efficient.cpp -o max_pairwise_efficient -std=c++11\n",
        "!./max_pairwise_efficient < input3.txt"
      ]
    },
    {
      "cell_type": "markdown",
      "metadata": {
        "id": "bhqiKQG6fjKM"
      },
      "source": [
        "20 stress tests"
      ]
    },
    {
      "cell_type": "code",
      "execution_count": 188,
      "metadata": {
        "id": "2KsiXKhALzwm",
        "colab": {
          "base_uri": "https://localhost:8080/"
        },
        "outputId": "f22e08b1-2013-41a8-b649-3997a9541856"
      },
      "outputs": [
        {
          "output_type": "stream",
          "name": "stdout",
          "text": [
            "Writing stressTestmax_pairwise_efficient.cpp\n"
          ]
        }
      ],
      "source": [
        "%%writefile stressTestmax_pairwise_efficient.cpp\n",
        "#include <iostream>\n",
        "#include <vector>\n",
        "#include <algorithm>\n",
        "#include <random>\n",
        "long long max_pairwise_efficient(const std::vector<int>& numbers) {\n",
        "    int n = numbers.size(); //1\n",
        "\n",
        "    long long biggest_1 = std::numeric_limits<long long>::min(); //1\n",
        "    long long biggest_2 = std::numeric_limits<long long>::min(); //1\n",
        "\n",
        "    for (int i = 0; i < n; ++i) { //2+2n\n",
        "        int new_number = numbers[i];\n",
        "        if (new_number > biggest_1) {\n",
        "            biggest_2 = biggest_1;\n",
        "            biggest_1 = new_number;\n",
        "        } else if (new_number > biggest_2) { //2+2n\n",
        "            biggest_2 = new_number;\n",
        "        }\n",
        "    }\n",
        "\n",
        "    return biggest_1 * biggest_2;//1\n",
        "}\n",
        "\n",
        "int main() {\n",
        "    // 20 stress tests\n",
        "    for (int test = 1; test <= 20; ++test) { //2+2n\n",
        "        int n = rand() % 11 + 2;  // Use a large n\n",
        "        std::vector<int> numbers(n);\n",
        "\n",
        "        // Generate n random numbers between 1 and 10^9\n",
        "        for (int i = 0; i < n; ++i) {        //2+2n\n",
        "            numbers[i] = rand() % 1000000000 + 1;\n",
        "        }\n",
        "\n",
        "        std::cout << \"-------------------------------------------------\" << std::endl; //1\n",
        "        std::cout << \"Testing with the list: \"; //1\n",
        "        for (int i = 0; i < n; ++i) {           //1\n",
        "            std::cout << numbers[i] << \" \";     //1\n",
        "        }\n",
        "        std::cout << std::endl;//1\n",
        "\n",
        "        std::cout << \"The efficient solution gives the result: \" << max_pairwise_efficient(numbers) << std::endl; //1\n",
        "\n",
        "        // Add any additional test or comparison here if needed\n",
        "\n",
        "        std::cout << \"-------------------------------------------------\" << std::endl; //1\n",
        "    }\n",
        "\n",
        "    return 0;\n",
        "}\n",
        "\n",
        "\n"
      ]
    },
    {
      "cell_type": "code",
      "source": [
        "!g++ stressTestmax_pairwise_efficient.cpp -o stressTestmax_pairwise_efficient -std=c++11\n",
        "!./stressTestmax_pairwise_efficient"
      ],
      "metadata": {
        "colab": {
          "base_uri": "https://localhost:8080/"
        },
        "id": "IDFGxgIQM6mp",
        "outputId": "95e6e206-d072-4576-c568-728d613da56f"
      },
      "execution_count": 189,
      "outputs": [
        {
          "output_type": "stream",
          "name": "stdout",
          "text": [
            "-------------------------------------------------\n",
            "Testing with the list: 846930887 681692778 714636916 957747794 424238336 719885387 649760493 596516650 \n",
            "The efficient solution gives the result: 811146188694713278\n",
            "-------------------------------------------------\n",
            "-------------------------------------------------\n",
            "Testing with the list: 25202363 350490028 783368691 \n",
            "The efficient solution gives the result: 274562914442913348\n",
            "-------------------------------------------------\n",
            "-------------------------------------------------\n",
            "Testing with the list: 44897764 967513927 365180541 540383427 304089173 \n",
            "The efficient solution gives the result: 522828491542487829\n",
            "-------------------------------------------------\n",
            "-------------------------------------------------\n",
            "Testing with the list: 35005212 521595369 \n",
            "The efficient solution gives the result: 18258556470063228\n",
            "-------------------------------------------------\n",
            "-------------------------------------------------\n",
            "Testing with the list: 726956430 336465783 861021531 278722863 233665124 145174068 468703136 \n",
            "The efficient solution gives the result: 625925138328894330\n",
            "-------------------------------------------------\n",
            "-------------------------------------------------\n",
            "Testing with the list: 801979803 315634023 635723059 369133070 125898168 59961394 89018457 628175012 656478043 131176230 653377374 859484422 \n",
            "The efficient solution gives the result: 689289147437128866\n",
            "-------------------------------------------------\n",
            "-------------------------------------------------\n",
            "Testing with the list: 608413785 756898538 734575199 \n",
            "The efficient solution gives the result: 555998894174159062\n",
            "-------------------------------------------------\n",
            "-------------------------------------------------\n",
            "Testing with the list: 149798316 38664371 129566414 184803527 412776092 424268981 911759957 749241874 137806863 42999171 982906997 \n",
            "The efficient solution gives the result: 896175241319719129\n",
            "-------------------------------------------------\n",
            "-------------------------------------------------\n",
            "Testing with the list: 511702306 84420926 937477085 827336328 572660337 159126506 805750847 632621730 100661314 \n",
            "The efficient solution gives the result: 775608849088043880\n",
            "-------------------------------------------------\n",
            "-------------------------------------------------\n",
            "Testing with the list: 141616125 84353896 939819583 \n",
            "The efficient solution gives the result: 133093607543575875\n",
            "-------------------------------------------------\n",
            "-------------------------------------------------\n",
            "Testing with the list: 998898815 548233368 610515435 585990365 374344044 760313751 \n",
            "The efficient solution gives the result: 759476504902105065\n",
            "-------------------------------------------------\n",
            "-------------------------------------------------\n",
            "Testing with the list: 356426809 945117277 889947179 780695789 709393585 491705404 918502652 752392755 474612400 \n",
            "The efficient solution gives the result: 868092725375518604\n",
            "-------------------------------------------------\n",
            "-------------------------------------------------\n",
            "Testing with the list: 264095061 411549677 843993369 943947740 984210013 855636227 749698587 469348095 \n",
            "The efficient solution gives the result: 929042817456720620\n",
            "-------------------------------------------------\n",
            "-------------------------------------------------\n",
            "Testing with the list: 36140796 463480571 40651435 975960379 317097468 892066602 376710098 927612903 330573318 603570493 687926653 \n",
            "The efficient solution gives the result: 905313440377170237\n",
            "-------------------------------------------------\n",
            "-------------------------------------------------\n",
            "Testing with the list: 959997302 485560281 402724287 \n",
            "The efficient solution gives the result: 466136559718361862\n",
            "-------------------------------------------------\n",
            "-------------------------------------------------\n",
            "Testing with the list: 194953866 894429690 \n",
            "The efficient solution gives the result: 174372525930681540\n",
            "-------------------------------------------------\n",
            "-------------------------------------------------\n",
            "Testing with the list: 947346620 221558441 270744730 63958032 633108118 114738098 7905772 469834482 822890676 610120710 \n",
            "The efficient solution gives the result: 779562700538115120\n",
            "-------------------------------------------------\n",
            "-------------------------------------------------\n",
            "Testing with the list: 631704568 498777857 255179498 524872354 327254587 572276966 269455307 703964684 352406220 600028625 \n",
            "The efficient solution gives the result: 444697706593476512\n",
            "-------------------------------------------------\n",
            "-------------------------------------------------\n",
            "Testing with the list: 40332872 112805733 120048830 378409504 515530020 713258271 573363369 409959709 77486716 373226341 631518150 200747797 \n",
            "The efficient solution gives the result: 450435543774118650\n",
            "-------------------------------------------------\n",
            "-------------------------------------------------\n",
            "Testing with the list: 117142619 168002246 150122847 439493452 990892922 760243556 \n",
            "The efficient solution gives the result: 753319958636510632\n",
            "-------------------------------------------------\n"
          ]
        }
      ]
    },
    {
      "cell_type": "markdown",
      "metadata": {
        "id": "fEXj8GHJH5p1"
      },
      "source": [
        "Count executed instructions in code and verify with inputs 1,2 and 3"
      ]
    },
    {
      "cell_type": "code",
      "execution_count": 190,
      "metadata": {
        "id": "LF1DHjKXIAsF",
        "colab": {
          "base_uri": "https://localhost:8080/"
        },
        "outputId": "ff3f1e97-7009-4177-9247-de8bc8f466f1"
      },
      "outputs": [
        {
          "output_type": "stream",
          "name": "stdout",
          "text": [
            "Writing max_pairwise_efficient2.cpp\n"
          ]
        }
      ],
      "source": [
        "%%writefile max_pairwise_efficient2.cpp\n",
        "#include <iostream>\n",
        "#include <vector>\n",
        "#include <limits>\n",
        "\n",
        "int execints = 0;\n",
        "\n",
        "long long max_pairwise_efficient(const std::vector<int>& numbers) {\n",
        "    int n = numbers.size(); //1\n",
        "    long long biggest_1 = std::numeric_limits<long long>::min(); //1\n",
        "    long long biggest_2 = std::numeric_limits<long long>::min(); //1\n",
        "    execints += 3;\n",
        "\n",
        "    for (int i = 0; i < n; ++i) { //2+2n\n",
        "        int new_number = numbers[i];\n",
        "        long long temp = biggest_1;\n",
        "        if (new_number > biggest_1) {\n",
        "            execints += 2;  // Contar la comparación y la actualización\n",
        "            biggest_2 = biggest_1;\n",
        "            biggest_1 = new_number;\n",
        "        }\n",
        "        if (temp > biggest_2) {\n",
        "            execints += 2;  // Contar la comparación y la actualización\n",
        "            biggest_2 = temp;\n",
        "        }\n",
        "        execints += 2;  // Contar las dos comparaciones\n",
        "    }\n",
        "    execints += 2;  // Contar el aumento final y el retorno\n",
        "\n",
        "    return execints;\n",
        "\n",
        "}\n",
        "\n",
        "int main() {\n",
        "    int n; //1\n",
        "    std::cin >> n; //1\n",
        "    std::vector<int> numbers(n); //1\n",
        "    for (int i = 0; i < n; ++i) { //2+2n\n",
        "        std::cin >> numbers[i];\n",
        "    }\n",
        "    long long result = max_pairwise_efficient(numbers); //1\n",
        "    std::cout << \"El numero de instrucciones es: \" << execints << \"\\n\"; //1\n",
        "    return 0;\n",
        "}\n",
        "\n",
        "\n",
        "\n"
      ]
    },
    {
      "cell_type": "code",
      "source": [
        "%%writefile run_all_test.sh\n",
        "#!/bin/bash\n",
        "g++ max_pairwise_efficient2.cpp -o max_pairwise_efficient2\n",
        "for i in {1..3}\n",
        "do\n",
        "    echo \"Input #$i\"\n",
        "    ./max_pairwise_efficient2< input$i.txt\n",
        "done"
      ],
      "metadata": {
        "colab": {
          "base_uri": "https://localhost:8080/"
        },
        "id": "kGQcBMizNWzR",
        "outputId": "6e06c6ce-0fda-4b4d-d715-ebf9b66fd3f7"
      },
      "execution_count": 191,
      "outputs": [
        {
          "output_type": "stream",
          "name": "stdout",
          "text": [
            "Overwriting run_all_test.sh\n"
          ]
        }
      ]
    },
    {
      "cell_type": "code",
      "source": [
        "!chmod u+x run_all_test.sh\n",
        "!./run_all_test.sh"
      ],
      "metadata": {
        "colab": {
          "base_uri": "https://localhost:8080/"
        },
        "id": "K2HKpFbwNnvg",
        "outputId": "6f889868-cb48-4595-cd4c-f8ec27aab87b"
      },
      "execution_count": 192,
      "outputs": [
        {
          "output_type": "stream",
          "name": "stdout",
          "text": [
            "Input #1\n",
            "El numero de instrucciones es: 45\n",
            "Input #2\n",
            "El numero de instrucciones es: 29\n",
            "Input #3\n",
            "El numero de instrucciones es: 25\n"
          ]
        }
      ]
    },
    {
      "cell_type": "markdown",
      "metadata": {
        "id": "yae7sSm2IG9U"
      },
      "source": [
        "Calculate estimated time by instruction and number of instructions by second"
      ]
    },
    {
      "cell_type": "code",
      "execution_count": 193,
      "metadata": {
        "id": "suouY7BYL2dz",
        "colab": {
          "base_uri": "https://localhost:8080/"
        },
        "outputId": "7b1e4aa6-8a50-41d8-bd48-c26792d09a77"
      },
      "outputs": [
        {
          "output_type": "execute_result",
          "data": {
            "text/plain": [
              "2.5624887891115476e-07"
            ]
          },
          "metadata": {},
          "execution_count": 193
        }
      ],
      "source": [
        "time_per_instruction = 0.41/1600007\n",
        "time_per_instruction"
      ]
    },
    {
      "cell_type": "markdown",
      "metadata": {
        "id": "sy33CNNfPxcE"
      },
      "source": [
        "### Super efficient solution in Python\n",
        "\n",
        "Whitout storing the list in memory and whitout calling a function, add in each line a coment with the number of intstrcution that are executed in that line"
      ]
    },
    {
      "cell_type": "code",
      "execution_count": 194,
      "metadata": {
        "id": "_mOjJwKrPxcJ",
        "colab": {
          "base_uri": "https://localhost:8080/"
        },
        "outputId": "2f86d30a-60ca-4a89-e714-5bea4a4b43e4"
      },
      "outputs": [
        {
          "output_type": "stream",
          "name": "stdout",
          "text": [
            "Writing max_efficient.py\n"
          ]
        }
      ],
      "source": [
        "%%writefile max_efficient.py\n",
        "\n",
        "def max_pairwise_efficient():\n",
        "    n = int(input())\n",
        "    values = input().split()\n",
        "    biggest_1 = float('-inf')\n",
        "    biggest_2 = float('-inf')\n",
        "\n",
        "    for new in map(int, values):\n",
        "        temp = biggest_1\n",
        "        if new > biggest_1:\n",
        "            biggest_2 = biggest_1\n",
        "            biggest_1 = new\n",
        "        if temp > biggest_2:\n",
        "            biggest_2 = temp\n",
        "\n",
        "    return biggest_1 * biggest_2\n",
        "\n",
        "if __name__ == '__main__':\n",
        "    print(max_pairwise_efficient())"
      ]
    },
    {
      "cell_type": "code",
      "source": [
        "!python3 max_efficient.py"
      ],
      "metadata": {
        "colab": {
          "base_uri": "https://localhost:8080/"
        },
        "id": "cHFtOt7XOCgf",
        "outputId": "27c51c56-6fb9-4fd8-f23b-b6508baddc7e"
      },
      "execution_count": 195,
      "outputs": [
        {
          "output_type": "stream",
          "name": "stdout",
          "text": [
            "\n",
            "^C\n"
          ]
        }
      ]
    },
    {
      "cell_type": "markdown",
      "metadata": {
        "id": "K08Eow0hPxcJ"
      },
      "source": [
        "Test with inputs 1 and 2\n",
        "\n",
        "\n"
      ]
    },
    {
      "cell_type": "code",
      "execution_count": 196,
      "metadata": {
        "id": "1_mUee2cPxcJ",
        "colab": {
          "base_uri": "https://localhost:8080/"
        },
        "outputId": "6918f64a-8117-424f-d30d-ac1704f43229"
      },
      "outputs": [
        {
          "output_type": "stream",
          "name": "stdout",
          "text": [
            "Writing max_efficient2.py\n"
          ]
        }
      ],
      "source": [
        "%%writefile max_efficient2.py\n",
        "\n",
        "def max_pairwise_efficient():\n",
        "    n = int(input())\n",
        "    values = input().split()\n",
        "    biggest_1 = float('-inf')\n",
        "    biggest_2 = float('-inf')\n",
        "\n",
        "    for new in map(int, values):\n",
        "        temp = biggest_1\n",
        "        if new > biggest_1:\n",
        "            biggest_2 = biggest_1\n",
        "            biggest_1 = new\n",
        "        elif temp > biggest_2:\n",
        "            biggest_2 = temp\n",
        "\n",
        "    return biggest_1 * biggest_2\n",
        "\n",
        "if __name__ == '__main__':\n",
        "    print(max_pairwise_efficient())"
      ]
    },
    {
      "cell_type": "code",
      "source": [
        "%%writefile run_all_test2.sh\n",
        "#comparing all the executions to check the differences between the outputs\n",
        "for i in {1..2}\n",
        "do\n",
        "    python3 max_efficient2.py < input$i.txt > pythonOutput$i.txt\n",
        "done"
      ],
      "metadata": {
        "colab": {
          "base_uri": "https://localhost:8080/"
        },
        "id": "8XtWWAgHORqf",
        "outputId": "c9dd5cb5-d8cf-4bd5-c873-1328a085a81c"
      },
      "execution_count": 197,
      "outputs": [
        {
          "output_type": "stream",
          "name": "stdout",
          "text": [
            "Writing run_all_test2.sh\n"
          ]
        }
      ]
    },
    {
      "cell_type": "code",
      "source": [
        "!chmod u+x run_all_test2.sh\n",
        "!./run_all_test.sh"
      ],
      "metadata": {
        "colab": {
          "base_uri": "https://localhost:8080/"
        },
        "id": "QKCmWVi8OUOy",
        "outputId": "2db06667-611b-4878-a16e-02a14afce55e"
      },
      "execution_count": 198,
      "outputs": [
        {
          "output_type": "stream",
          "name": "stdout",
          "text": [
            "Input #1\n",
            "El numero de instrucciones es: 45\n",
            "Input #2\n",
            "El numero de instrucciones es: 29\n",
            "Input #3\n",
            "El numero de instrucciones es: 25\n"
          ]
        }
      ]
    },
    {
      "cell_type": "markdown",
      "metadata": {
        "id": "CE5DB3CmPxcJ"
      },
      "source": [
        "Test and time it with input 3"
      ]
    },
    {
      "cell_type": "code",
      "execution_count": 199,
      "metadata": {
        "id": "lyLhFOoePxcJ",
        "colab": {
          "base_uri": "https://localhost:8080/"
        },
        "outputId": "ecbcb909-a7e1-40b2-e887-e6b87fdb4ca5"
      },
      "outputs": [
        {
          "output_type": "stream",
          "name": "stdout",
          "text": [
            "\n",
            "real\t0m0.033s\n",
            "user\t0m0.026s\n",
            "sys\t0m0.007s\n"
          ]
        }
      ],
      "source": [
        "!time python3 max_efficient2.py < input3.txt > pythonOutput3.txt"
      ]
    },
    {
      "cell_type": "markdown",
      "metadata": {
        "id": "HZEI236lPxcK"
      },
      "source": [
        "20 stress tests"
      ]
    },
    {
      "cell_type": "code",
      "execution_count": 200,
      "metadata": {
        "id": "_LoV-p4zPxcK",
        "colab": {
          "base_uri": "https://localhost:8080/"
        },
        "outputId": "103dae55-dfdf-4aa6-a6e5-3fba9654f04e"
      },
      "outputs": [
        {
          "output_type": "stream",
          "name": "stdout",
          "text": [
            "-------------------------------------------------\n",
            "Testing with the list: [787747138, 266606885, 576857338, 284441014, 332349821, 140955674]\n",
            "The efficient solution gives the result 620545553427191044\n",
            "-------------------------------------------------\n",
            "-------------------------------------------------\n",
            "Testing with the list: [148217723, 71590804, 856668361]\n",
            "The efficient solution gives the result 126973433833562003\n",
            "-------------------------------------------------\n",
            "-------------------------------------------------\n",
            "Testing with the list: [435843984, 443693628, 618098881, 850499541, 851657723, 33144637]\n",
            "The efficient solution gives the result 725320877145544729\n",
            "-------------------------------------------------\n",
            "-------------------------------------------------\n",
            "Testing with the list: [42946930, 466767770, 214514107, 475289325, 773129247, 844587387, 289592126, 340908378, 439363840, 294973100, 394907006]\n",
            "The efficient solution gives the result 713327854279487769\n",
            "-------------------------------------------------\n",
            "-------------------------------------------------\n",
            "Testing with the list: [386606552, 558040472, 55712519, 752127351, 319569967, 684310948, 79643382, 826160367, 269206981, 414591488]\n",
            "The efficient solution gives the result 682540952001574689\n",
            "-------------------------------------------------\n",
            "-------------------------------------------------\n",
            "Testing with the list: [859350847, 544439771, 52326292, 823135710]\n",
            "The efficient solution gives the result 738483878239617409\n",
            "-------------------------------------------------\n",
            "-------------------------------------------------\n",
            "Testing with the list: [47505504, 524567692, 206534266, 52041682, 940218606, 762967847, 884131337, 35974458, 295810373, 53427517, 83333838, 951468471]\n",
            "The efficient solution gives the result 894588359456571426\n",
            "-------------------------------------------------\n",
            "-------------------------------------------------\n",
            "Testing with the list: [822183122, 283013524, 285257939, 205616180, 504003766, 411455404, 185967909, 303149694, 247830620, 454433493, 340201323, 958330346]\n",
            "The efficient solution gives the result 787923035781620212\n",
            "-------------------------------------------------\n",
            "-------------------------------------------------\n",
            "Testing with the list: [976466660, 422021641, 934379918, 321943427, 852699063, 63424898, 275359923, 839873989, 400095071, 576666555, 648334575]\n",
            "The efficient solution gives the result 953487138091555600\n",
            "-------------------------------------------------\n",
            "-------------------------------------------------\n",
            "Testing with the list: [613001711, 692374319, 218405543, 905550906, 410291156, 425845502]\n",
            "The efficient solution gives the result 820022443357420836\n",
            "-------------------------------------------------\n",
            "-------------------------------------------------\n",
            "Testing with the list: [985880192, 252710825, 163416783]\n",
            "The efficient solution gives the result 971959752977956864\n",
            "-------------------------------------------------\n",
            "-------------------------------------------------\n",
            "Testing with the list: [592858601, 606826744]\n",
            "The efficient solution gives the result 359762454497225144\n",
            "-------------------------------------------------\n",
            "-------------------------------------------------\n",
            "Testing with the list: [78570976, 934279897, 434294864, 118430543, 778517329, 617111422, 980662393, 237878850, 551706129, 707732854, 921748087, 683410786]\n",
            "The efficient solution gives the result 961698729044486449\n",
            "-------------------------------------------------\n",
            "-------------------------------------------------\n",
            "Testing with the list: [147382823, 463532083, 856139611, 710221886, 807357620, 814193322, 207437903, 660618764, 492476259, 426040748, 221353334, 877442125]\n",
            "The efficient solution gives the result 751212959572513375\n",
            "-------------------------------------------------\n",
            "-------------------------------------------------\n",
            "Testing with the list: [336453823, 555966816, 504852062, 368629388]\n",
            "The efficient solution gives the result 309099100493177856\n",
            "-------------------------------------------------\n",
            "-------------------------------------------------\n",
            "Testing with the list: [226861108, 994106175, 961756734, 605458589, 335754795, 697584472, 724594865, 835039241, 192813250, 842967066, 334191384]\n",
            "The efficient solution gives the result 988247087173130625\n",
            "-------------------------------------------------\n",
            "-------------------------------------------------\n",
            "Testing with the list: [651078342, 896580905, 813434135, 402042920, 162596427, 55818202]\n",
            "The efficient solution gives the result 803857319210619025\n",
            "-------------------------------------------------\n",
            "-------------------------------------------------\n",
            "Testing with the list: [4239747, 261134408, 615342392, 651237815, 403997375, 130107610, 673992394, 680844631, 183101309, 404043639]\n",
            "The efficient solution gives the result 463549411561526161\n",
            "-------------------------------------------------\n",
            "-------------------------------------------------\n",
            "Testing with the list: [601193799, 48811999, 847978167, 570307707, 899079476, 803016692, 281301927, 861400843, 814075791, 568042047, 77965957, 660213661]\n",
            "The efficient solution gives the result 808343904164434576\n",
            "-------------------------------------------------\n",
            "-------------------------------------------------\n",
            "Testing with the list: [61004737, 320409260]\n",
            "The efficient solution gives the result 19546482638664620\n",
            "-------------------------------------------------\n"
          ]
        }
      ],
      "source": [
        "#%%writefile stressTestmax_pairwise_efficient.cpp\n",
        "import random\n",
        "\n",
        "def max_pairwise_efficient(numbers):\n",
        "    n = len(numbers)\n",
        "    biggest_1 = float('-inf')\n",
        "    biggest_2 = float('-inf')\n",
        "\n",
        "    for i in range(n):\n",
        "        new = numbers[i]\n",
        "        temp = biggest_1\n",
        "        if new > biggest_1:\n",
        "          biggest_2 = biggest_1\n",
        "          biggest_1 = new\n",
        "        if temp > biggest_2: biggest_2 = temp\n",
        "\n",
        "    return biggest_1 * biggest_2\n",
        "\n",
        "# 20 stress tests\n",
        "for _ in range(20):\n",
        "    n = random.randint(2, 12)  # Use a large n\n",
        "    numbers = [random.randint(1, 10**9) for _ in range(n)]  # Generate n random numbers between 1 and 10^9\n",
        "\n",
        "    print(\"-------------------------------------------------\")\n",
        "    print(f\"Testing with the list: {numbers}\")\n",
        "    print(f\"The efficient solution gives the result {max_pairwise_efficient(numbers)}\")\n",
        "    # Add any additional test or comparison here if needed\n",
        "    print(\"-------------------------------------------------\")"
      ]
    },
    {
      "cell_type": "markdown",
      "metadata": {
        "id": "IRVdP3iuPxcK"
      },
      "source": [
        "Count executed instructions in code and verify with inputs 1,2 and 3"
      ]
    },
    {
      "cell_type": "code",
      "execution_count": 201,
      "metadata": {
        "id": "RghJOg78PxcK",
        "colab": {
          "base_uri": "https://localhost:8080/"
        },
        "outputId": "d7fc8072-f04b-45d0-c22b-56e241815bf8"
      },
      "outputs": [
        {
          "output_type": "stream",
          "name": "stdout",
          "text": [
            "Writing max_pairwise_efficient.py\n"
          ]
        }
      ],
      "source": [
        "%%writefile max_pairwise_efficient.py\n",
        "import random\n",
        "execints = 0\n",
        "\n",
        "def max_pairwise_efficient(numbers):\n",
        "    global execints\n",
        "    n = len(numbers)\n",
        "    biggest_1 = float('-inf')\n",
        "    biggest_2 = float('-inf')\n",
        "    execints += 3\n",
        "\n",
        "    for i in range(n):\n",
        "        new_number = numbers[i]\n",
        "        temp = biggest_1\n",
        "        execints += 2\n",
        "        if new_number > biggest_1:\n",
        "            biggest_2 = biggest_1\n",
        "            biggest_1 = new_number\n",
        "            execints += 2\n",
        "        if temp > biggest_2:\n",
        "            biggest_2 = temp\n",
        "            execints += 2\n",
        "        execints += 2\n",
        "\n",
        "    execints += 1\n",
        "    return biggest_1 * biggest_2\n",
        "\n",
        "if __name__ == '__main__':\n",
        "    n = int(input())\n",
        "    input_line = input()\n",
        "    numbers = list(map(int, input_line.split()))  # Divide la cadena en números y convierte cada uno a entero\n",
        "    max_pairwise_efficient(numbers)\n",
        "    execints += 1\n",
        "\n",
        "    print(\"El numero de instrucciones es:\", execints)"
      ]
    },
    {
      "cell_type": "code",
      "source": [
        "%%writefile run_all_test.sh\n",
        "for i in {1..3}\n",
        "do\n",
        "    echo \"Input #$i\"\n",
        "    python3 max_pairwise_efficient.py < input$i.txt\n",
        "done"
      ],
      "metadata": {
        "colab": {
          "base_uri": "https://localhost:8080/"
        },
        "id": "9S0UH9e0OrNn",
        "outputId": "46e43691-f32e-452d-8812-d58d671c07d3"
      },
      "execution_count": 202,
      "outputs": [
        {
          "output_type": "stream",
          "name": "stdout",
          "text": [
            "Overwriting run_all_test.sh\n"
          ]
        }
      ]
    },
    {
      "cell_type": "code",
      "source": [
        "!chmod u+x run_all_test.sh\n",
        "!./run_all_test.sh"
      ],
      "metadata": {
        "colab": {
          "base_uri": "https://localhost:8080/"
        },
        "id": "cC4Gu3tBOvnY",
        "outputId": "426694d1-40d6-45bd-906e-d24b2f288d04"
      },
      "execution_count": 203,
      "outputs": [
        {
          "output_type": "stream",
          "name": "stdout",
          "text": [
            "Input #1\n",
            "El numero de instrucciones es: 65\n",
            "Input #2\n",
            "El numero de instrucciones es: 49\n",
            "Input #3\n",
            "El numero de instrucciones es: 37\n"
          ]
        }
      ]
    },
    {
      "cell_type": "markdown",
      "metadata": {
        "id": "R6qeUjPaPxcK"
      },
      "source": [
        "Calculate estimated time by instruction and number of instructions by second"
      ]
    },
    {
      "cell_type": "code",
      "execution_count": 204,
      "metadata": {
        "id": "iLdXYvn3PxcK",
        "colab": {
          "base_uri": "https://localhost:8080/"
        },
        "outputId": "6a23863c-c280-42a5-d0db-2274f8f240f9"
      },
      "outputs": [
        {
          "output_type": "stream",
          "name": "stdout",
          "text": [
            "\n",
            "real\t0m0.173s\n",
            "user\t0m0.139s\n",
            "sys\t0m0.030s\n",
            "El numero de instrucciones es: 1200005\n",
            "7272757.575757575 tiempo por instruccion\n"
          ]
        }
      ],
      "source": [
        "!time python3 max_pairwise_efficient.py < input11.txt > pythonOutputSort11.txt\n",
        "!python3 max_pairwise_efficient.py < input11.txt\n",
        "num_inst_per_seg = 1200005/0.165\n",
        "print(f\"{num_inst_per_seg} tiempo por instruccion\")"
      ]
    },
    {
      "cell_type": "markdown",
      "source": [
        "### Estimate and verify the maximun n that can be solved in 1 second"
      ],
      "metadata": {
        "id": "uZGdjUwuaO4v"
      }
    },
    {
      "cell_type": "code",
      "source": [
        "import time\n",
        "import random\n",
        "n = 0 #numero de instrucciones\n",
        "\n",
        "def instruction(numbers):\n",
        "    m = len(numbers)\n",
        "    biggest_1 = float('-inf')\n",
        "    biggest_2 = float('-inf')\n",
        "    global n\n",
        "    n += 3\n",
        "\n",
        "    for i in range(m):\n",
        "        new = numbers[i]\n",
        "        temp = biggest_1\n",
        "        n += 2\n",
        "        if new > biggest_1:\n",
        "            biggest_2 = biggest_1\n",
        "            biggest_1 = new\n",
        "            n += 2\n",
        "        if temp > biggest_2:\n",
        "            biggest_2 = temp\n",
        "            n += 1\n",
        "        n += 2\n",
        "    return n\n",
        "# Ejecutar la función y medir el tiempo de ejecución\n",
        "start_time = time.time()\n",
        "numbers = [random.randint(1, 100) for _ in range(10)]\n",
        "instruction = instruction(numbers) # Suponiendo que 'numbers' es una lista válida\n",
        "end_time = time.time()\n",
        "\n",
        "# Calcular el número de instrucciones por segundo\n",
        "elapsed_time = end_time - start_time\n",
        "instructions_per_second = instruction / elapsed_time\n",
        "#print(start_time)\n",
        "#print(end_time)\n",
        "print(f\"Número de instrucciones por segundo: {instructions_per_second}\")\n"
      ],
      "metadata": {
        "id": "FjqFevOaaOVz",
        "colab": {
          "base_uri": "https://localhost:8080/"
        },
        "outputId": "728daabe-d24e-4133-df38-96031e9e73bc"
      },
      "execution_count": 205,
      "outputs": [
        {
          "output_type": "stream",
          "name": "stdout",
          "text": [
            "Número de instrucciones por segundo: 16401.1608127924\n"
          ]
        }
      ]
    },
    {
      "cell_type": "markdown",
      "source": [
        "## Perform 100 randomized automated tests in C++ and Python with a porgram  compares the answers,for the same 100 random input instances, of the super efficient solution $(T(n) < 10 n = O(n))$ against the sorting solution  $(T(n)  = O(n \\lg{n}))$,  if the answers are not the same stops and displays \"Error\" listing  the input and the two answers; if the 100 tests are completed without stoping displays \"Pass\"."
      ],
      "metadata": {
        "id": "4hHRQMXzW6oR"
      }
    },
    {
      "cell_type": "markdown",
      "source": [
        "# C++"
      ],
      "metadata": {
        "id": "Z_FoDWdXPpuP"
      }
    },
    {
      "cell_type": "code",
      "source": [
        "%%writefile stressTest.cpp\n",
        "\n",
        "#include <iostream>\n",
        "#include <vector>\n",
        "#include <algorithm>\n",
        "#include <random>\n",
        "\n",
        "long long max_pairwise_efficient(const std::vector<int>& numbers) { //stressTestC_efficien\n",
        "    int n = numbers.size(); //1\n",
        "\n",
        "    long long biggest_1 = std::numeric_limits<long long>::min(); //1\n",
        "    long long biggest_2 = std::numeric_limits<long long>::min(); //1\n",
        "\n",
        "    for (int i = 0; i < n; ++i) { //2+2n\n",
        "        int new_number = numbers[i];\n",
        "        if (new_number > biggest_1) {\n",
        "            biggest_2 = biggest_1;\n",
        "            biggest_1 = new_number;\n",
        "        } else if (new_number > biggest_2) { //2+2n\n",
        "            biggest_2 = new_number;\n",
        "        }\n",
        "    }\n",
        "\n",
        "    return biggest_1 * biggest_2;//1\n",
        "}\n",
        "\n",
        "long long max_pairwise_product_sort(std::vector<int>& numbers) { //stressTestC_sort\n",
        "    std::sort(numbers.rbegin(), numbers.rend());\n",
        "    return static_cast<long long>(numbers[0]) * numbers[1];\n",
        "}\n",
        "\n",
        "int main() {\n",
        "    std::random_device rd;\n",
        "    std::mt19937 gen(rd());\n",
        "\n",
        "    for (int i = 0; i < 100; ++i) {\n",
        "        int n = std::uniform_int_distribution<int>(2, 12)(gen);  // Use a large n\n",
        "        std::vector<int> numbers(n);\n",
        "        for (int j = 0; j < n; ++j) {\n",
        "            numbers[j] = std::uniform_int_distribution<int>(1, 1e9)(gen);  // Generate n random numbers between 1 and 10^9\n",
        "        }\n",
        "\n",
        "        std::cout << \"-------------------------------------------------\\n\";\n",
        "        std::cout << \"Testing with the list: \";\n",
        "        for (int num : numbers) {\n",
        "            std::cout << num << \" \";\n",
        "        }\n",
        "        std::cout << \"\\n\";\n",
        "\n",
        "        long long efficient_result = max_pairwise_efficient(numbers);\n",
        "        long long comparison_result = max_pairwise_product_sort(numbers);  // Replace with your comparison function result\n",
        "\n",
        "        std::cout << \"The efficient solution gives the result \" << efficient_result << \"\\n\";\n",
        "        std::cout << \"The comparison solution gives the result \" << comparison_result << \"\\n\";\n",
        "\n",
        "        if (efficient_result == comparison_result) {\n",
        "            std::cout << \"The solution is correct OK\\n\";\n",
        "        } else {\n",
        "            std::cout << \"ERROR\\n\";\n",
        "        }\n",
        "\n",
        "        std::cout << \"-------------------------------------------------\\n\";\n",
        "    }\n",
        "\n",
        "    return 0;\n",
        "}\n",
        "\n"
      ],
      "metadata": {
        "colab": {
          "base_uri": "https://localhost:8080/"
        },
        "id": "szqKLKX6PrQJ",
        "outputId": "43e5391d-8a20-464b-e871-93f4f8162b17"
      },
      "execution_count": 206,
      "outputs": [
        {
          "output_type": "stream",
          "name": "stdout",
          "text": [
            "Overwriting stressTest.cpp\n"
          ]
        }
      ]
    },
    {
      "cell_type": "code",
      "source": [
        "!g++ stressTest.cpp -o stressTest -std=c++11\n",
        "!./stressTest"
      ],
      "metadata": {
        "colab": {
          "base_uri": "https://localhost:8080/"
        },
        "id": "77is7T-tPxkI",
        "outputId": "8e802fee-8753-4680-ca6d-c622871b6136"
      },
      "execution_count": 207,
      "outputs": [
        {
          "output_type": "stream",
          "name": "stdout",
          "text": [
            "-------------------------------------------------\n",
            "Testing with the list: 277196710 858435415 761848443 743879652 770091049 56517439 888030773 703571377 752562143 739527031 790166784 934951106 \n",
            "The efficient solution gives the result 830265353378384938\n",
            "The comparison solution gives the result 830265353378384938\n",
            "The solution is correct OK\n",
            "-------------------------------------------------\n",
            "-------------------------------------------------\n",
            "Testing with the list: 635347824 17529700 380892208 868933996 438643401 639777001 467438578 106849134 848302359 \n",
            "The efficient solution gives the result 737118758622096564\n",
            "The comparison solution gives the result 737118758622096564\n",
            "The solution is correct OK\n",
            "-------------------------------------------------\n",
            "-------------------------------------------------\n",
            "Testing with the list: 985481869 453755188 871197392 460958380 \n",
            "The efficient solution gives the result 858549234136085648\n",
            "The comparison solution gives the result 858549234136085648\n",
            "The solution is correct OK\n",
            "-------------------------------------------------\n",
            "-------------------------------------------------\n",
            "Testing with the list: 170272200 64792210 \n",
            "The efficient solution gives the result 11032312139562000\n",
            "The comparison solution gives the result 11032312139562000\n",
            "The solution is correct OK\n",
            "-------------------------------------------------\n",
            "-------------------------------------------------\n",
            "Testing with the list: 232106789 179588786 536879578 955750573 74399232 227804584 681172373 419981406 341300273 866616803 619254206 178593408 \n",
            "The efficient solution gives the result 828269506038678119\n",
            "The comparison solution gives the result 828269506038678119\n",
            "The solution is correct OK\n",
            "-------------------------------------------------\n",
            "-------------------------------------------------\n",
            "Testing with the list: 716682726 99136732 979923135 910783387 194822903 131723127 148402373 790341888 919122592 941558134 686131540 64614653 \n",
            "The efficient solution gives the result 922654598454030090\n",
            "The comparison solution gives the result 922654598454030090\n",
            "The solution is correct OK\n",
            "-------------------------------------------------\n",
            "-------------------------------------------------\n",
            "Testing with the list: 280549801 867793153 858522780 26753182 958772655 \n",
            "The efficient solution gives the result 832016345292631215\n",
            "The comparison solution gives the result 832016345292631215\n",
            "The solution is correct OK\n",
            "-------------------------------------------------\n",
            "-------------------------------------------------\n",
            "Testing with the list: 801385828 920033320 \n",
            "The efficient solution gives the result 737301663935788960\n",
            "The comparison solution gives the result 737301663935788960\n",
            "The solution is correct OK\n",
            "-------------------------------------------------\n",
            "-------------------------------------------------\n",
            "Testing with the list: 815369564 611411053 \n",
            "The efficient solution gives the result 498525963709390892\n",
            "The comparison solution gives the result 498525963709390892\n",
            "The solution is correct OK\n",
            "-------------------------------------------------\n",
            "-------------------------------------------------\n",
            "Testing with the list: 99852173 604636627 941016240 138100636 717622331 807950130 16382293 375996910 \n",
            "The efficient solution gives the result 760294193440111200\n",
            "The comparison solution gives the result 760294193440111200\n",
            "The solution is correct OK\n",
            "-------------------------------------------------\n",
            "-------------------------------------------------\n",
            "Testing with the list: 541957547 835577431 857279265 303759691 \n",
            "The efficient solution gives the result 716323205898268215\n",
            "The comparison solution gives the result 716323205898268215\n",
            "The solution is correct OK\n",
            "-------------------------------------------------\n",
            "-------------------------------------------------\n",
            "Testing with the list: 13079360 825608610 713967988 844954307 914053294 77299784 346166800 \n",
            "The efficient solution gives the result 772333267592837258\n",
            "The comparison solution gives the result 772333267592837258\n",
            "The solution is correct OK\n",
            "-------------------------------------------------\n",
            "-------------------------------------------------\n",
            "Testing with the list: 121046409 499437445 799781472 964921695 \n",
            "The efficient solution gives the result 771726493591835040\n",
            "The comparison solution gives the result 771726493591835040\n",
            "The solution is correct OK\n",
            "-------------------------------------------------\n",
            "-------------------------------------------------\n",
            "Testing with the list: 833677940 128994943 274523988 \n",
            "The efficient solution gives the result 228864592796424720\n",
            "The comparison solution gives the result 228864592796424720\n",
            "The solution is correct OK\n",
            "-------------------------------------------------\n",
            "-------------------------------------------------\n",
            "Testing with the list: 607765794 953785566 619697089 669367281 219145970 893654788 100571187 \n",
            "The efficient solution gives the result 852355037781190008\n",
            "The comparison solution gives the result 852355037781190008\n",
            "The solution is correct OK\n",
            "-------------------------------------------------\n",
            "-------------------------------------------------\n",
            "Testing with the list: 285849205 548777131 922444093 829271000 176701341 \n",
            "The efficient solution gives the result 764956135446203000\n",
            "The comparison solution gives the result 764956135446203000\n",
            "The solution is correct OK\n",
            "-------------------------------------------------\n",
            "-------------------------------------------------\n",
            "Testing with the list: 898242940 987244617 479858016 883529837 767828144 602375294 646416258 \n",
            "The efficient solution gives the result 886785507273253980\n",
            "The comparison solution gives the result 886785507273253980\n",
            "The solution is correct OK\n",
            "-------------------------------------------------\n",
            "-------------------------------------------------\n",
            "Testing with the list: 422752361 798225664 291225432 753569098 \n",
            "The efficient solution gives the result 601518193620931072\n",
            "The comparison solution gives the result 601518193620931072\n",
            "The solution is correct OK\n",
            "-------------------------------------------------\n",
            "-------------------------------------------------\n",
            "Testing with the list: 538669484 508827043 132952100 171383109 298469765 437052368 933810963 478240886 708822477 587764059 \n",
            "The efficient solution gives the result 661906199843415351\n",
            "The comparison solution gives the result 661906199843415351\n",
            "The solution is correct OK\n",
            "-------------------------------------------------\n",
            "-------------------------------------------------\n",
            "Testing with the list: 661313924 912651228 558830004 99656507 294275184 \n",
            "The efficient solution gives the result 603548964832098672\n",
            "The comparison solution gives the result 603548964832098672\n",
            "The solution is correct OK\n",
            "-------------------------------------------------\n",
            "-------------------------------------------------\n",
            "Testing with the list: 868963125 12502477 138218005 994932211 833928796 \n",
            "The efficient solution gives the result 864559403233719375\n",
            "The comparison solution gives the result 864559403233719375\n",
            "The solution is correct OK\n",
            "-------------------------------------------------\n",
            "-------------------------------------------------\n",
            "Testing with the list: 427411905 234065316 936962592 518590666 715094771 934748122 \n",
            "The efficient solution gives the result 875824023256252224\n",
            "The comparison solution gives the result 875824023256252224\n",
            "The solution is correct OK\n",
            "-------------------------------------------------\n",
            "-------------------------------------------------\n",
            "Testing with the list: 700228872 996677588 18442645 816953751 823039078 726778507 773557915 795107799 \n",
            "The efficient solution gives the result 820304603090783864\n",
            "The comparison solution gives the result 820304603090783864\n",
            "The solution is correct OK\n",
            "-------------------------------------------------\n",
            "-------------------------------------------------\n",
            "Testing with the list: 200669358 671140723 550885584 226036507 426865176 625688841 438728307 326158490 538295701 327331802 481321810 \n",
            "The efficient solution gives the result 419925261121772043\n",
            "The comparison solution gives the result 419925261121772043\n",
            "The solution is correct OK\n",
            "-------------------------------------------------\n",
            "-------------------------------------------------\n",
            "Testing with the list: 858730237 524262864 220251360 521194091 490574855 310897974 455628403 119764156 751453885 \n",
            "The efficient solution gives the result 645296172760620745\n",
            "The comparison solution gives the result 645296172760620745\n",
            "The solution is correct OK\n",
            "-------------------------------------------------\n",
            "-------------------------------------------------\n",
            "Testing with the list: 402976071 166674321 \n",
            "The efficient solution gives the result 67165763013172791\n",
            "The comparison solution gives the result 67165763013172791\n",
            "The solution is correct OK\n",
            "-------------------------------------------------\n",
            "-------------------------------------------------\n",
            "Testing with the list: 692648788 605429746 527732165 510320609 537244920 190829131 817024398 94554452 \n",
            "The efficient solution gives the result 565910959041129624\n",
            "The comparison solution gives the result 565910959041129624\n",
            "The solution is correct OK\n",
            "-------------------------------------------------\n",
            "-------------------------------------------------\n",
            "Testing with the list: 776111710 465013122 546702742 570159916 676084178 501203809 94139518 762254983 914829716 566426065 251929409 \n",
            "The efficient solution gives the result 710010055243574360\n",
            "The comparison solution gives the result 710010055243574360\n",
            "The solution is correct OK\n",
            "-------------------------------------------------\n",
            "-------------------------------------------------\n",
            "Testing with the list: 159183036 1265055 494398641 215400715 \n",
            "The efficient solution gives the result 106493820766428315\n",
            "The comparison solution gives the result 106493820766428315\n",
            "The solution is correct OK\n",
            "-------------------------------------------------\n",
            "-------------------------------------------------\n",
            "Testing with the list: 693047579 763249882 668656440 511782821 562786940 224077054 563633511 107599060 457978404 197027666 351544989 \n",
            "The efficient solution gives the result 528968482892135678\n",
            "The comparison solution gives the result 528968482892135678\n",
            "The solution is correct OK\n",
            "-------------------------------------------------\n",
            "-------------------------------------------------\n",
            "Testing with the list: 26168020 145944999 928859417 957746287 770636861 380856381 790686818 213752933 499325646 \n",
            "The efficient solution gives the result 889611657776734679\n",
            "The comparison solution gives the result 889611657776734679\n",
            "The solution is correct OK\n",
            "-------------------------------------------------\n",
            "-------------------------------------------------\n",
            "Testing with the list: 96993721 375481721 977679980 297983553 \n",
            "The efficient solution gives the result 367100961477645580\n",
            "The comparison solution gives the result 367100961477645580\n",
            "The solution is correct OK\n",
            "-------------------------------------------------\n",
            "-------------------------------------------------\n",
            "Testing with the list: 562887222 844502800 650880339 3861226 206307149 600759661 819181540 \n",
            "The efficient solution gives the result 691801104238312000\n",
            "The comparison solution gives the result 691801104238312000\n",
            "The solution is correct OK\n",
            "-------------------------------------------------\n",
            "-------------------------------------------------\n",
            "Testing with the list: 697671728 447317482 749983182 215967765 873735587 61728020 \n",
            "The efficient solution gives the result 655286995764897834\n",
            "The comparison solution gives the result 655286995764897834\n",
            "The solution is correct OK\n",
            "-------------------------------------------------\n",
            "-------------------------------------------------\n",
            "Testing with the list: 67964041 571545718 780944258 2870269 571648281 478258120 498381094 638984349 \n",
            "The efficient solution gives the result 499011158303418042\n",
            "The comparison solution gives the result 499011158303418042\n",
            "The solution is correct OK\n",
            "-------------------------------------------------\n",
            "-------------------------------------------------\n",
            "Testing with the list: 743745919 940730412 679345012 873047722 728820478 507238039 337443854 121535288 231205424 \n",
            "The efficient solution gives the result 821302543212721464\n",
            "The comparison solution gives the result 821302543212721464\n",
            "The solution is correct OK\n",
            "-------------------------------------------------\n",
            "-------------------------------------------------\n",
            "Testing with the list: 608085460 840801989 164620677 214938886 746562655 957938259 479757710 368183720 763746405 \n",
            "The efficient solution gives the result 805436393506397151\n",
            "The comparison solution gives the result 805436393506397151\n",
            "The solution is correct OK\n",
            "-------------------------------------------------\n",
            "-------------------------------------------------\n",
            "Testing with the list: 329327186 888509788 642306823 840098363 25473895 \n",
            "The efficient solution gives the result 746435618408277044\n",
            "The comparison solution gives the result 746435618408277044\n",
            "The solution is correct OK\n",
            "-------------------------------------------------\n",
            "-------------------------------------------------\n",
            "Testing with the list: 60081986 331626618 672218782 685647765 350321913 315718240 515032415 726387104 358752460 947409919 422901647 \n",
            "The efficient solution gives the result 688186347363284576\n",
            "The comparison solution gives the result 688186347363284576\n",
            "The solution is correct OK\n",
            "-------------------------------------------------\n",
            "-------------------------------------------------\n",
            "Testing with the list: 270313411 81069732 414311228 568200626 993296046 770110532 507861301 807618718 651574139 \n",
            "The efficient solution gives the result 802204479264989028\n",
            "The comparison solution gives the result 802204479264989028\n",
            "The solution is correct OK\n",
            "-------------------------------------------------\n",
            "-------------------------------------------------\n",
            "Testing with the list: 915380337 654094024 590250450 826041699 94508555 995968924 784193726 709488863 60764462 44869295 \n",
            "The efficient solution gives the result 911690369292647388\n",
            "The comparison solution gives the result 911690369292647388\n",
            "The solution is correct OK\n",
            "-------------------------------------------------\n",
            "-------------------------------------------------\n",
            "Testing with the list: 375744699 818130480 443255141 \n",
            "The efficient solution gives the result 362640541268797680\n",
            "The comparison solution gives the result 362640541268797680\n",
            "The solution is correct OK\n",
            "-------------------------------------------------\n",
            "-------------------------------------------------\n",
            "Testing with the list: 169342150 676837706 \n",
            "The efficient solution gives the result 114617152335107900\n",
            "The comparison solution gives the result 114617152335107900\n",
            "The solution is correct OK\n",
            "-------------------------------------------------\n",
            "-------------------------------------------------\n",
            "Testing with the list: 856679514 754870293 576591825 799891268 753766852 858504222 346243102 \n",
            "The efficient solution gives the result 735462979669908108\n",
            "The comparison solution gives the result 735462979669908108\n",
            "The solution is correct OK\n",
            "-------------------------------------------------\n",
            "-------------------------------------------------\n",
            "Testing with the list: 736467885 845850145 \n",
            "The efficient solution gives the result 622941467315093325\n",
            "The comparison solution gives the result 622941467315093325\n",
            "The solution is correct OK\n",
            "-------------------------------------------------\n",
            "-------------------------------------------------\n",
            "Testing with the list: 831494750 145279050 83543127 867927388 \n",
            "The efficient solution gives the result 721677066503213000\n",
            "The comparison solution gives the result 721677066503213000\n",
            "The solution is correct OK\n",
            "-------------------------------------------------\n",
            "-------------------------------------------------\n",
            "Testing with the list: 955884941 282823893 506832523 150151610 908304097 280531370 \n",
            "The efficient solution gives the result 868234208170903277\n",
            "The comparison solution gives the result 868234208170903277\n",
            "The solution is correct OK\n",
            "-------------------------------------------------\n",
            "-------------------------------------------------\n",
            "Testing with the list: 347571124 903913991 604819736 610615187 \n",
            "The efficient solution gives the result 551943610646381317\n",
            "The comparison solution gives the result 551943610646381317\n",
            "The solution is correct OK\n",
            "-------------------------------------------------\n",
            "-------------------------------------------------\n",
            "Testing with the list: 827493934 634161944 553217028 \n",
            "The efficient solution gives the result 524765161833647696\n",
            "The comparison solution gives the result 524765161833647696\n",
            "The solution is correct OK\n",
            "-------------------------------------------------\n",
            "-------------------------------------------------\n",
            "Testing with the list: 724343716 481829860 495101413 850513107 832811423 903229542 271479620 500041404 121193041 \n",
            "The efficient solution gives the result 768208564100606994\n",
            "The comparison solution gives the result 768208564100606994\n",
            "The solution is correct OK\n",
            "-------------------------------------------------\n",
            "-------------------------------------------------\n",
            "Testing with the list: 602753695 811426041 931159508 830228101 262620503 156943246 \n",
            "The efficient solution gives the result 773074790054934308\n",
            "The comparison solution gives the result 773074790054934308\n",
            "The solution is correct OK\n",
            "-------------------------------------------------\n",
            "-------------------------------------------------\n",
            "Testing with the list: 215839911 294963074 792179278 369515416 990243793 419465571 648998685 \n",
            "The efficient solution gives the result 784450612982721454\n",
            "The comparison solution gives the result 784450612982721454\n",
            "The solution is correct OK\n",
            "-------------------------------------------------\n",
            "-------------------------------------------------\n",
            "Testing with the list: 119032241 955380715 553943567 127260420 706141891 \n",
            "The efficient solution gives the result 674634344715032065\n",
            "The comparison solution gives the result 674634344715032065\n",
            "The solution is correct OK\n",
            "-------------------------------------------------\n",
            "-------------------------------------------------\n",
            "Testing with the list: 400681507 956890873 401667894 486473006 \n",
            "The efficient solution gives the result 465501579402274238\n",
            "The comparison solution gives the result 465501579402274238\n",
            "The solution is correct OK\n",
            "-------------------------------------------------\n",
            "-------------------------------------------------\n",
            "Testing with the list: 445597557 812698192 162893792 124481315 548039428 116307772 239583017 181489722 788363019 460836663 793199485 \n",
            "The efficient solution gives the result 644631787354831120\n",
            "The comparison solution gives the result 644631787354831120\n",
            "The solution is correct OK\n",
            "-------------------------------------------------\n",
            "-------------------------------------------------\n",
            "Testing with the list: 95670943 877856131 572305595 639100249 283968252 331003037 \n",
            "The efficient solution gives the result 561038071908276619\n",
            "The comparison solution gives the result 561038071908276619\n",
            "The solution is correct OK\n",
            "-------------------------------------------------\n",
            "-------------------------------------------------\n",
            "Testing with the list: 4090922 33811831 686126761 932543219 559950818 \n",
            "The efficient solution gives the result 639842858344983659\n",
            "The comparison solution gives the result 639842858344983659\n",
            "The solution is correct OK\n",
            "-------------------------------------------------\n",
            "-------------------------------------------------\n",
            "Testing with the list: 339329140 6392250 103837887 815882614 437925339 423665885 854537128 708062096 \n",
            "The efficient solution gives the result 697201985752692592\n",
            "The comparison solution gives the result 697201985752692592\n",
            "The solution is correct OK\n",
            "-------------------------------------------------\n",
            "-------------------------------------------------\n",
            "Testing with the list: 596806359 598407701 \n",
            "The efficient solution gives the result 357133521231370659\n",
            "The comparison solution gives the result 357133521231370659\n",
            "The solution is correct OK\n",
            "-------------------------------------------------\n",
            "-------------------------------------------------\n",
            "Testing with the list: 521553489 488226306 414373261 470019949 350780057 \n",
            "The efficient solution gives the result 254636133315881634\n",
            "The comparison solution gives the result 254636133315881634\n",
            "The solution is correct OK\n",
            "-------------------------------------------------\n",
            "-------------------------------------------------\n",
            "Testing with the list: 985863519 547899271 367095883 620669074 \n",
            "The efficient solution gives the result 611894997428111406\n",
            "The comparison solution gives the result 611894997428111406\n",
            "The solution is correct OK\n",
            "-------------------------------------------------\n",
            "-------------------------------------------------\n",
            "Testing with the list: 126968911 314794553 374914008 502266646 519283959 251924370 470127242 83123129 465695646 229819561 592323851 \n",
            "The efficient solution gives the result 307584274357406109\n",
            "The comparison solution gives the result 307584274357406109\n",
            "The solution is correct OK\n",
            "-------------------------------------------------\n",
            "-------------------------------------------------\n",
            "Testing with the list: 924107091 663862164 427176517 239764632 596653171 401590758 296447290 609722652 744484289 779993020 205642227 357535427 \n",
            "The efficient solution gives the result 720797080712504820\n",
            "The comparison solution gives the result 720797080712504820\n",
            "The solution is correct OK\n",
            "-------------------------------------------------\n",
            "-------------------------------------------------\n",
            "Testing with the list: 127796211 669824872 868782289 766043646 15603084 \n",
            "The efficient solution gives the result 665525152245785694\n",
            "The comparison solution gives the result 665525152245785694\n",
            "The solution is correct OK\n",
            "-------------------------------------------------\n",
            "-------------------------------------------------\n",
            "Testing with the list: 506068415 45587977 954890817 419608871 578281034 755388042 416767434 500624700 335850964 919899530 228635638 \n",
            "The efficient solution gives the result 878403613759616010\n",
            "The comparison solution gives the result 878403613759616010\n",
            "The solution is correct OK\n",
            "-------------------------------------------------\n",
            "-------------------------------------------------\n",
            "Testing with the list: 402722959 546261798 449769252 142084974 169701953 159388681 789519413 477736466 926588239 \n",
            "The efficient solution gives the result 731559402547983707\n",
            "The comparison solution gives the result 731559402547983707\n",
            "The solution is correct OK\n",
            "-------------------------------------------------\n",
            "-------------------------------------------------\n",
            "Testing with the list: 510172140 27962509 637043362 \n",
            "The efficient solution gives the result 325001775264334680\n",
            "The comparison solution gives the result 325001775264334680\n",
            "The solution is correct OK\n",
            "-------------------------------------------------\n",
            "-------------------------------------------------\n",
            "Testing with the list: 30453374 386948783 919780440 490311070 984324738 620337791 \n",
            "The efficient solution gives the result 905362640620524720\n",
            "The comparison solution gives the result 905362640620524720\n",
            "The solution is correct OK\n",
            "-------------------------------------------------\n",
            "-------------------------------------------------\n",
            "Testing with the list: 13216543 806978240 587778803 \n",
            "The efficient solution gives the result 474324703954246720\n",
            "The comparison solution gives the result 474324703954246720\n",
            "The solution is correct OK\n",
            "-------------------------------------------------\n",
            "-------------------------------------------------\n",
            "Testing with the list: 451373583 890502873 552150252 676388647 688059499 245176071 453623291 295066534 555138808 391230255 637717195 \n",
            "The efficient solution gives the result 612718960654440627\n",
            "The comparison solution gives the result 612718960654440627\n",
            "The solution is correct OK\n",
            "-------------------------------------------------\n",
            "-------------------------------------------------\n",
            "Testing with the list: 395646179 974877087 977605883 \n",
            "The efficient solution gives the result 953045575453102821\n",
            "The comparison solution gives the result 953045575453102821\n",
            "The solution is correct OK\n",
            "-------------------------------------------------\n",
            "-------------------------------------------------\n",
            "Testing with the list: 190991031 795713528 993816257 85504273 498919196 477906375 \n",
            "The efficient solution gives the result 790793040041224696\n",
            "The comparison solution gives the result 790793040041224696\n",
            "The solution is correct OK\n",
            "-------------------------------------------------\n",
            "-------------------------------------------------\n",
            "Testing with the list: 246132055 305929916 948633837 893214821 458786336 448788316 450878893 72829747 \n",
            "The efficient solution gives the result 847333802910498177\n",
            "The comparison solution gives the result 847333802910498177\n",
            "The solution is correct OK\n",
            "-------------------------------------------------\n",
            "-------------------------------------------------\n",
            "Testing with the list: 742132807 184395619 \n",
            "The efficient solution gives the result 136846038326972533\n",
            "The comparison solution gives the result 136846038326972533\n",
            "The solution is correct OK\n",
            "-------------------------------------------------\n",
            "-------------------------------------------------\n",
            "Testing with the list: 907595715 936937716 \n",
            "The efficient solution gives the result 850360656263486940\n",
            "The comparison solution gives the result 850360656263486940\n",
            "The solution is correct OK\n",
            "-------------------------------------------------\n",
            "-------------------------------------------------\n",
            "Testing with the list: 753445518 479631163 722580745 586517597 476386493 \n",
            "The efficient solution gives the result 544425223713350910\n",
            "The comparison solution gives the result 544425223713350910\n",
            "The solution is correct OK\n",
            "-------------------------------------------------\n",
            "-------------------------------------------------\n",
            "Testing with the list: 157084131 706545965 61932285 319608777 294917204 599800473 38394655 869484154 780402281 159106487 739399366 \n",
            "The efficient solution gives the result 678547417074955274\n",
            "The comparison solution gives the result 678547417074955274\n",
            "The solution is correct OK\n",
            "-------------------------------------------------\n",
            "-------------------------------------------------\n",
            "Testing with the list: 860361916 226960551 918296240 268730514 805790565 22126864 753674657 79291064 645928353 \n",
            "The efficient solution gives the result 790067112501995840\n",
            "The comparison solution gives the result 790067112501995840\n",
            "The solution is correct OK\n",
            "-------------------------------------------------\n",
            "-------------------------------------------------\n",
            "Testing with the list: 123231472 839788903 577910929 348351210 965112499 287440183 810482216 856197741 318757874 251134264 13117419 954491367 \n",
            "The efficient solution gives the result 921191548479296133\n",
            "The comparison solution gives the result 921191548479296133\n",
            "The solution is correct OK\n",
            "-------------------------------------------------\n",
            "-------------------------------------------------\n",
            "Testing with the list: 846719869 934539430 718537078 314244846 579852101 578185116 102074940 461705669 756368336 591695022 \n",
            "The efficient solution gives the result 791293103744934670\n",
            "The comparison solution gives the result 791293103744934670\n",
            "The solution is correct OK\n",
            "-------------------------------------------------\n",
            "-------------------------------------------------\n",
            "Testing with the list: 704496869 11395992 480941987 485571265 32784730 \n",
            "The efficient solution gives the result 342083435868869285\n",
            "The comparison solution gives the result 342083435868869285\n",
            "The solution is correct OK\n",
            "-------------------------------------------------\n",
            "-------------------------------------------------\n",
            "Testing with the list: 170499986 666103797 126768127 946206537 521870464 641697706 450177650 889015655 433140686 716631317 356954625 \n",
            "The efficient solution gives the result 841192424256336735\n",
            "The comparison solution gives the result 841192424256336735\n",
            "The solution is correct OK\n",
            "-------------------------------------------------\n",
            "-------------------------------------------------\n",
            "Testing with the list: 924856188 336823976 325716133 93530932 220625921 965637960 222889765 806976889 432419182 459573475 986684899 319294538 \n",
            "The efficient solution gives the result 952780393033166040\n",
            "The comparison solution gives the result 952780393033166040\n",
            "The solution is correct OK\n",
            "-------------------------------------------------\n",
            "-------------------------------------------------\n",
            "Testing with the list: 75031285 236029149 710676001 827031622 681294730 70901056 880863391 819989975 125672952 880065870 566598392 753461779 \n",
            "The efficient solution gives the result 775217806551565170\n",
            "The comparison solution gives the result 775217806551565170\n",
            "The solution is correct OK\n",
            "-------------------------------------------------\n",
            "-------------------------------------------------\n",
            "Testing with the list: 978025006 125099538 228954191 \n",
            "The efficient solution gives the result 223922924026500146\n",
            "The comparison solution gives the result 223922924026500146\n",
            "The solution is correct OK\n",
            "-------------------------------------------------\n",
            "-------------------------------------------------\n",
            "Testing with the list: 47016037 135109410 350238407 221272374 524801461 373638958 590407880 679047266 227251301 420990445 934678783 722999443 \n",
            "The efficient solution gives the result 675772239492917869\n",
            "The comparison solution gives the result 675772239492917869\n",
            "The solution is correct OK\n",
            "-------------------------------------------------\n",
            "-------------------------------------------------\n",
            "Testing with the list: 459043941 631409288 491335322 125635355 277712015 497530406 360923305 \n",
            "The efficient solution gives the result 314145319410810928\n",
            "The comparison solution gives the result 314145319410810928\n",
            "The solution is correct OK\n",
            "-------------------------------------------------\n",
            "-------------------------------------------------\n",
            "Testing with the list: 876822144 283144667 29913326 \n",
            "The efficient solution gives the result 248267513981106048\n",
            "The comparison solution gives the result 248267513981106048\n",
            "The solution is correct OK\n",
            "-------------------------------------------------\n",
            "-------------------------------------------------\n",
            "Testing with the list: 591930682 262982382 931912613 241759524 91610964 805254178 624283867 925051854 570299452 649094401 647249958 202403318 \n",
            "The efficient solution gives the result 862067490421634502\n",
            "The comparison solution gives the result 862067490421634502\n",
            "The solution is correct OK\n",
            "-------------------------------------------------\n",
            "-------------------------------------------------\n",
            "Testing with the list: 533817233 665833792 764210457 604468340 355560281 779958177 844490137 233839895 422016400 355507780 417682753 \n",
            "The efficient solution gives the result 658666987749000249\n",
            "The comparison solution gives the result 658666987749000249\n",
            "The solution is correct OK\n",
            "-------------------------------------------------\n",
            "-------------------------------------------------\n",
            "Testing with the list: 408331506 101374837 601181536 758370725 688903573 372070954 193944890 189198816 160968691 \n",
            "The efficient solution gives the result 522444302111100425\n",
            "The comparison solution gives the result 522444302111100425\n",
            "The solution is correct OK\n",
            "-------------------------------------------------\n",
            "-------------------------------------------------\n",
            "Testing with the list: 972641060 569989057 990598962 840903409 655456913 457759000 965096531 684517982 \n",
            "The efficient solution gives the result 963497224434579720\n",
            "The comparison solution gives the result 963497224434579720\n",
            "The solution is correct OK\n",
            "-------------------------------------------------\n",
            "-------------------------------------------------\n",
            "Testing with the list: 150139131 407014609 676312675 187088338 40047051 \n",
            "The efficient solution gives the result 275269138976869075\n",
            "The comparison solution gives the result 275269138976869075\n",
            "The solution is correct OK\n",
            "-------------------------------------------------\n",
            "-------------------------------------------------\n",
            "Testing with the list: 437289971 843410761 441115748 41934075 \n",
            "The efficient solution gives the result 372041768709764228\n",
            "The comparison solution gives the result 372041768709764228\n",
            "The solution is correct OK\n",
            "-------------------------------------------------\n",
            "-------------------------------------------------\n",
            "Testing with the list: 259958097 683633749 890727205 145229468 96006481 318744056 159442640 866337931 297661149 \n",
            "The efficient solution gives the result 771670763865112855\n",
            "The comparison solution gives the result 771670763865112855\n",
            "The solution is correct OK\n",
            "-------------------------------------------------\n",
            "-------------------------------------------------\n",
            "Testing with the list: 420646394 993452467 219874937 168072278 459352258 207111329 131558217 2093532 832809950 427134270 \n",
            "The efficient solution gives the result 827357099369646650\n",
            "The comparison solution gives the result 827357099369646650\n",
            "The solution is correct OK\n",
            "-------------------------------------------------\n",
            "-------------------------------------------------\n",
            "Testing with the list: 257917592 466036633 \n",
            "The efficient solution gives the result 120199046167147736\n",
            "The comparison solution gives the result 120199046167147736\n",
            "The solution is correct OK\n",
            "-------------------------------------------------\n",
            "-------------------------------------------------\n",
            "Testing with the list: 251479621 26047031 863082169 877371599 529962552 901320216 54962187 918913655 280908308 585414000 \n",
            "The efficient solution gives the result 828235454009949480\n",
            "The comparison solution gives the result 828235454009949480\n",
            "The solution is correct OK\n",
            "-------------------------------------------------\n",
            "-------------------------------------------------\n",
            "Testing with the list: 938511032 291567219 463046888 588134292 323746489 65902074 375919394 267937260 186041972 981662968 \n",
            "The efficient solution gives the result 921301525173862976\n",
            "The comparison solution gives the result 921301525173862976\n",
            "The solution is correct OK\n",
            "-------------------------------------------------\n",
            "-------------------------------------------------\n",
            "Testing with the list: 151706474 127328677 152922410 209676656 \n",
            "The efficient solution gives the result 32064259556260960\n",
            "The comparison solution gives the result 32064259556260960\n",
            "The solution is correct OK\n",
            "-------------------------------------------------\n"
          ]
        }
      ]
    },
    {
      "cell_type": "markdown",
      "source": [
        "# Pyhton"
      ],
      "metadata": {
        "id": "NBjD9hjyP4LQ"
      }
    },
    {
      "cell_type": "code",
      "source": [
        "import random\n",
        "def max_pairwise_product_sort(numbers):\n",
        "  numbers.sort(reverse=True)\n",
        "  return numbers[0] * numbers[1]\n",
        "\n",
        "def max_pairwise_product(numbers):\n",
        "    n = len(numbers)\n",
        "    max_product = 0\n",
        "\n",
        "    for first in range(n):\n",
        "        for second in range(n):\n",
        "            if first != second:\n",
        "                aux_product = numbers[first] * numbers[second]\n",
        "\n",
        "                if aux_product > max_product:\n",
        "                  max_product = aux_product\n",
        "\n",
        "    return max_product\n",
        "\n",
        "\n",
        "for _ in range(20):  # Run the test 20 times\n",
        "    n = random.randint(2, 12)  # Use a large n\n",
        "    numbers = [random.randint(1, 10**9) for _ in range(n)]  # Generate n random numbers between 1 and 10^9\n",
        "\n",
        "    print(\"-------------------------------------------------\")\n",
        "    print(f\"Testing with the list: {numbers}\")\n",
        "    print(f\"The efficient solution gives the result {max_pairwise_product_sort(numbers)}\")\n",
        "    print(f\"The comparison solution gives the result {max_pairwise_product(numbers)}\")\n",
        "    if max_pairwise_product_sort(numbers) == max_pairwise_product(numbers):\n",
        "        print(\"The solution is correct OK\")\n",
        "    else:\n",
        "        print(\"ERROR\")\n",
        "    print(\"-------------------------------------------------\")"
      ],
      "metadata": {
        "colab": {
          "base_uri": "https://localhost:8080/"
        },
        "id": "Ly-Z5ixgP6pA",
        "outputId": "c031d223-cdac-483a-b187-649dbd4083fc"
      },
      "execution_count": 208,
      "outputs": [
        {
          "output_type": "stream",
          "name": "stdout",
          "text": [
            "-------------------------------------------------\n",
            "Testing with the list: [384738451, 573552852, 120202792, 550254399, 891745293, 284632998, 239423350]\n",
            "The efficient solution gives the result 511463056057725636\n",
            "The comparison solution gives the result 511463056057725636\n",
            "The solution is correct OK\n",
            "-------------------------------------------------\n",
            "-------------------------------------------------\n",
            "Testing with the list: [930087999, 634410263, 633611121, 525193610, 242773998]\n",
            "The efficient solution gives the result 590057372058733737\n",
            "The comparison solution gives the result 590057372058733737\n",
            "The solution is correct OK\n",
            "-------------------------------------------------\n",
            "-------------------------------------------------\n",
            "Testing with the list: [296699866, 955137409, 414159896]\n",
            "The efficient solution gives the result 395579609977149464\n",
            "The comparison solution gives the result 395579609977149464\n",
            "The solution is correct OK\n",
            "-------------------------------------------------\n",
            "-------------------------------------------------\n",
            "Testing with the list: [762144638, 245193443, 760494233]\n",
            "The efficient solution gives the result 579606601910872654\n",
            "The comparison solution gives the result 579606601910872654\n",
            "The solution is correct OK\n",
            "-------------------------------------------------\n",
            "-------------------------------------------------\n",
            "Testing with the list: [960173246, 982396102, 690065445, 124643327, 191774273, 322812978, 886895479, 212661544, 785864115, 702946797, 790752635]\n",
            "The efficient solution gives the result 943270454115087092\n",
            "The comparison solution gives the result 943270454115087092\n",
            "The solution is correct OK\n",
            "-------------------------------------------------\n",
            "-------------------------------------------------\n",
            "Testing with the list: [493481242, 134985796, 160684431, 482443888]\n",
            "The efficient solution gives the result 238077009045548896\n",
            "The comparison solution gives the result 238077009045548896\n",
            "The solution is correct OK\n",
            "-------------------------------------------------\n",
            "-------------------------------------------------\n",
            "Testing with the list: [497246983, 963408443, 693134264, 168951264, 180468113, 497811486, 998009055]\n",
            "The efficient solution gives the result 961490349777451365\n",
            "The comparison solution gives the result 961490349777451365\n",
            "The solution is correct OK\n",
            "-------------------------------------------------\n",
            "-------------------------------------------------\n",
            "Testing with the list: [126105230, 467254602, 321992016, 142087062, 713616071, 458059605, 22570980, 59863852, 828341593, 348710177, 245843646, 645873900]\n",
            "The efficient solution gives the result 591117873042541103\n",
            "The comparison solution gives the result 591117873042541103\n",
            "The solution is correct OK\n",
            "-------------------------------------------------\n",
            "-------------------------------------------------\n",
            "Testing with the list: [553419629, 159105230, 467324329, 744532584, 216331050, 193377716]\n",
            "The efficient solution gives the result 412038946415691336\n",
            "The comparison solution gives the result 412038946415691336\n",
            "The solution is correct OK\n",
            "-------------------------------------------------\n",
            "-------------------------------------------------\n",
            "Testing with the list: [863501130, 760821138, 334555553, 984529973, 156211961, 918075724, 366038803, 853774442, 988149377, 83004372, 312518160, 466255504]\n",
            "The efficient solution gives the result 972862679457776821\n",
            "The comparison solution gives the result 972862679457776821\n",
            "The solution is correct OK\n",
            "-------------------------------------------------\n",
            "-------------------------------------------------\n",
            "Testing with the list: [401947544, 408234140, 945608289, 505491374, 720475474, 879429848, 813990663, 127953239, 164672092, 362108837]\n",
            "The efficient solution gives the result 831596153862810072\n",
            "The comparison solution gives the result 831596153862810072\n",
            "The solution is correct OK\n",
            "-------------------------------------------------\n",
            "-------------------------------------------------\n",
            "Testing with the list: [218145340, 959919152, 446550443]\n",
            "The efficient solution gives the result 428652322569784336\n",
            "The comparison solution gives the result 428652322569784336\n",
            "The solution is correct OK\n",
            "-------------------------------------------------\n",
            "-------------------------------------------------\n",
            "Testing with the list: [503978605, 183791656, 735554876, 862504657, 324817225]\n",
            "The efficient solution gives the result 634419506029057532\n",
            "The comparison solution gives the result 634419506029057532\n",
            "The solution is correct OK\n",
            "-------------------------------------------------\n",
            "-------------------------------------------------\n",
            "Testing with the list: [276516085, 271357981, 244605159, 304325607, 117857560, 163090340, 235199611, 318690227, 166973050, 538615278, 341732539]\n",
            "The efficient solution gives the result 184062366495130842\n",
            "The comparison solution gives the result 184062366495130842\n",
            "The solution is correct OK\n",
            "-------------------------------------------------\n",
            "-------------------------------------------------\n",
            "Testing with the list: [803640184, 290266944, 159605499, 496553186, 30886010, 426204968, 508265744, 891010956, 770852639, 351033901]\n",
            "The efficient solution gives the result 716052208625855904\n",
            "The comparison solution gives the result 716052208625855904\n",
            "The solution is correct OK\n",
            "-------------------------------------------------\n",
            "-------------------------------------------------\n",
            "Testing with the list: [362935108, 318725273, 362668734, 783173432, 399826800, 282674877, 572103111, 340382841, 370606070, 435364215]\n",
            "The efficient solution gives the result 448055956899746952\n",
            "The comparison solution gives the result 448055956899746952\n",
            "The solution is correct OK\n",
            "-------------------------------------------------\n",
            "-------------------------------------------------\n",
            "Testing with the list: [314417658, 673877526, 697517929]\n",
            "The efficient solution gives the result 470041656335163654\n",
            "The comparison solution gives the result 470041656335163654\n",
            "The solution is correct OK\n",
            "-------------------------------------------------\n",
            "-------------------------------------------------\n",
            "Testing with the list: [941380090, 322498598, 133429606]\n",
            "The efficient solution gives the result 303593759210113820\n",
            "The comparison solution gives the result 303593759210113820\n",
            "The solution is correct OK\n",
            "-------------------------------------------------\n",
            "-------------------------------------------------\n",
            "Testing with the list: [25351312, 183494809, 24510471, 947844125]\n",
            "The efficient solution gives the result 173924476678647125\n",
            "The comparison solution gives the result 173924476678647125\n",
            "The solution is correct OK\n",
            "-------------------------------------------------\n",
            "-------------------------------------------------\n",
            "Testing with the list: [793411561, 346837243, 207611384, 863868464, 373923593, 531638276, 112706776, 712410901, 964485652]\n",
            "The efficient solution gives the result 833188738743278528\n",
            "The comparison solution gives the result 833188738743278528\n",
            "The solution is correct OK\n",
            "-------------------------------------------------\n"
          ]
        }
      ]
    }
  ],
  "metadata": {
    "colab": {
      "provenance": [],
      "include_colab_link": true
    },
    "kernelspec": {
      "display_name": "Python 3",
      "name": "python3"
    },
    "language_info": {
      "name": "python"
    }
  },
  "nbformat": 4,
  "nbformat_minor": 0
}