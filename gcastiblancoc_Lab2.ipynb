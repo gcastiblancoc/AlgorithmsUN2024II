
{
  "cells": [
    {
      "cell_type": "code",
      "source": [
        "pip install -U fortran-magic"
      ],
      "metadata": {
        "colab": {
          "base_uri": "https://localhost:8080/"
        },
        "id": "p_eVwkpNPNpK",
        "outputId": "35b487bd-89b2-45a5-d279-1ea665f6952e"
      },
      "execution_count": 3,
      "outputs": [
        {
          "output_type": "stream",
          "name": "stdout",
          "text": [
            "Collecting fortran-magic\n",
            "  Downloading fortran_magic-0.9-py3-none-any.whl.metadata (6.5 kB)\n",
            "Requirement already satisfied: ipython in /usr/local/lib/python3.10/dist-packages (from fortran-magic) (7.34.0)\n",
            "Requirement already satisfied: numpy in /usr/local/lib/python3.10/dist-packages (from fortran-magic) (1.26.4)\n",
            "Requirement already satisfied: setuptools>=18.5 in /usr/local/lib/python3.10/dist-packages (from ipython->fortran-magic) (75.1.0)\n",
            "Collecting jedi>=0.16 (from ipython->fortran-magic)\n",
            "  Downloading jedi-0.19.2-py2.py3-none-any.whl.metadata (22 kB)\n",
            "Requirement already satisfied: decorator in /usr/local/lib/python3.10/dist-packages (from ipython->fortran-magic) (4.4.2)\n",
            "Requirement already satisfied: pickleshare in /usr/local/lib/python3.10/dist-packages (from ipython->fortran-magic) (0.7.5)\n",
            "Requirement already satisfied: traitlets>=4.2 in /usr/local/lib/python3.10/dist-packages (from ipython->fortran-magic) (5.7.1)\n",
            "Requirement already satisfied: prompt-toolkit!=3.0.0,!=3.0.1,<3.1.0,>=2.0.0 in /usr/local/lib/python3.10/dist-packages (from ipython->fortran-magic) (3.0.48)\n",
            "Requirement already satisfied: pygments in /usr/local/lib/python3.10/dist-packages (from ipython->fortran-magic) (2.18.0)\n",
            "Requirement already satisfied: backcall in /usr/local/lib/python3.10/dist-packages (from ipython->fortran-magic) (0.2.0)\n",
            "Requirement already satisfied: matplotlib-inline in /usr/local/lib/python3.10/dist-packages (from ipython->fortran-magic) (0.1.7)\n",
            "Requirement already satisfied: pexpect>4.3 in /usr/local/lib/python3.10/dist-packages (from ipython->fortran-magic) (4.9.0)\n",
            "Requirement already satisfied: parso<0.9.0,>=0.8.4 in /usr/local/lib/python3.10/dist-packages (from jedi>=0.16->ipython->fortran-magic) (0.8.4)\n",
            "Requirement already satisfied: ptyprocess>=0.5 in /usr/local/lib/python3.10/dist-packages (from pexpect>4.3->ipython->fortran-magic) (0.7.0)\n",
            "Requirement already satisfied: wcwidth in /usr/local/lib/python3.10/dist-packages (from prompt-toolkit!=3.0.0,!=3.0.1,<3.1.0,>=2.0.0->ipython->fortran-magic) (0.2.13)\n",
            "Downloading fortran_magic-0.9-py3-none-any.whl (10 kB)\n",
            "Downloading jedi-0.19.2-py2.py3-none-any.whl (1.6 MB)\n",
            "\u001b[2K   \u001b[90m━━━━━━━━━━━━━━━━━━━━━━━━━━━━━━━━━━━━━━━━\u001b[0m \u001b[32m1.6/1.6 MB\u001b[0m \u001b[31m20.7 MB/s\u001b[0m eta \u001b[36m0:00:00\u001b[0m\n",
            "\u001b[?25hInstalling collected packages: jedi, fortran-magic\n",
            "Successfully installed fortran-magic-0.9 jedi-0.19.2\n"
          ]
        }
      ]
    },
    {
      "cell_type": "markdown",
      "source": [
        "**My own example 19 - Creating a c program that mutiplies 10 times A(600x100) and  B (100x600) matrices**"
      ],
      "metadata": {
        "id": "8G8ZZ2hfZXYA"
      }
    },
    {
      "cell_type": "code",
      "execution_count": 5,
      "metadata": {
        "autoscroll": false,
        "ein.tags": "worksheet-0",
        "id": "FrAt48DtiXb-",
        "outputId": "9090edac-7021-417c-9f65-97af9fe83a7e",
        "colab": {
          "base_uri": "https://localhost:8080/"
        }
      },
      "outputs": [
        {
          "output_type": "stream",
          "name": "stdout",
          "text": [
            "The fortranmagic extension is already loaded. To reload it, use:\n",
            "  %reload_ext fortranmagic\n"
          ]
        }
      ],
      "source": [
        "%matplotlib inline\n",
        "%load_ext fortranmagic\n",
        "\n",
        "import sys; sys.path.append('..')\n",
        "\n",
        "import pandas as pd\n",
        "import numpy as np\n",
        "import matplotlib as mpl\n",
        "import matplotlib.pyplot as plt\n",
        "import seaborn as sns\n",
        "\n",
        "mpl.rc('figure', figsize=(12, 7))\n",
        "\n",
        "ran_the_first_cell = True\n",
        "\n",
        "jan2017 = pd.to_datetime(['2017-01-03 00:00:00+00:00',\n",
        " '2017-01-04 00:00:00+00:00',\n",
        " '2017-01-05 00:00:00+00:00',\n",
        " '2017-01-06 00:00:00+00:00',\n",
        " '2017-01-09 00:00:00+00:00',\n",
        " '2017-01-10 00:00:00+00:00',\n",
        " '2017-01-11 00:00:00+00:00',\n",
        " '2017-01-12 00:00:00+00:00',\n",
        " '2017-01-13 00:00:00+00:00',\n",
        " '2017-01-17 00:00:00+00:00',\n",
        " '2017-01-18 00:00:00+00:00',\n",
        " '2017-01-19 00:00:00+00:00',\n",
        " '2017-01-20 00:00:00+00:00',\n",
        " '2017-01-23 00:00:00+00:00',\n",
        " '2017-01-24 00:00:00+00:00',\n",
        " '2017-01-25 00:00:00+00:00',\n",
        " '2017-01-26 00:00:00+00:00',\n",
        " '2017-01-27 00:00:00+00:00',\n",
        " '2017-01-30 00:00:00+00:00',\n",
        " '2017-01-31 00:00:00+00:00',\n",
        " '2017-02-01 00:00:00+00:00'])\n",
        "calendar = jan2017.values.astype('datetime64[D]')\n",
        "\n",
        "event_dates = pd.to_datetime(['2017-01-06 00:00:00+00:00',\n",
        "                             '2017-01-07 00:00:00+00:00',\n",
        "                             '2017-01-08 00:00:00+00:00']).values.astype('datetime64[D]')\n",
        "event_values = np.array([10, 15, 20])"
      ]
    },
    {
      "cell_type": "markdown",
      "metadata": {
        "ein.tags": "worksheet-0",
        "id": "lHm410FBiXcC"
      },
      "source": [
        "<center>\n",
        "  <h1>The PyData Toolbox</h1>\n",
        "  <h3>Scott Sanderson (Twitter: @scottbsanderson, GitHub: ssanderson)</h3>\n",
        "  <h3><a href=\"https://github.com/ssanderson/pydata-toolbox\">https://github.com/ssanderson/pydata-toolbox</a></h3>\n",
        "</center>"
      ]
    },
    {
      "cell_type": "markdown",
      "metadata": {
        "collapsed": true,
        "ein.tags": "worksheet-0",
        "id": "0CXHsFMBiXcD"
      },
      "source": [
        "# About Me:\n",
        "\n",
        "<img src=\"https://raw.githubusercontent.com/ssanderson/pydata-toolbox/master/notebooks/images/me.jpg\" alt=\"Drawing\" style=\"width: 300px;\"/>\n",
        "\n",
        "- Senior Engineer at [Quantopian](www.quantopian.com)\n",
        "- Background in Mathematics and Philosophy\n",
        "- **Twitter:** [@scottbsanderson](https://twitter.com/scottbsanderson)\n",
        "- **GitHub:** [ssanderson](github.com/ssanderson)"
      ]
    },
    {
      "cell_type": "markdown",
      "metadata": {
        "id": "tcOO-3C8iXcE"
      },
      "source": [
        "## Outline\n",
        "\n",
        "- Built-in Data Structures\n",
        "- Numpy `array`\n",
        "- Pandas `Series`/`DataFrame`\n",
        "- Plotting and \"Real-World\" Analyses"
      ]
    },
    {
      "cell_type": "markdown",
      "metadata": {
        "id": "qGj-c9CliXcE"
      },
      "source": [
        "# Data Structures"
      ]
    },
    {
      "cell_type": "markdown",
      "metadata": {
        "id": "Nsn-QHmCiXcF"
      },
      "source": [
        "> Rule 5. Data dominates. If you've chosen the right data structures and organized things well, the algorithms\n",
        "will almost always be self-evident. Data structures, not algorithms, are central to programming.\n",
        "\n",
        "- *Notes on Programming in C*, by Rob Pike."
      ]
    },
    {
      "cell_type": "markdown",
      "metadata": {
        "id": "_yhFg_rXiXcF"
      },
      "source": [
        "# Lists"
      ]
    },
    {
      "cell_type": "code",
      "execution_count": null,
      "metadata": {
        "collapsed": true,
        "id": "97QvmzbqiXcG"
      },
      "outputs": [],
      "source": [
        "assert ran_the_first_cell, \"Oh noes!\""
      ]
    },
    {
      "cell_type": "code",
      "execution_count": null,
      "metadata": {
        "id": "nhIZgNXLiXcG",
        "outputId": "ba3069b0-4db1-4dcc-fd60-7e5f336cf575",
        "colab": {
          "base_uri": "https://localhost:8080/"
        }
      },
      "outputs": [
        {
          "output_type": "execute_result",
          "data": {
            "text/plain": [
              "[1, 'two', 3.0, 4, 5.0, 'six']"
            ]
          },
          "metadata": {},
          "execution_count": 4
        }
      ],
      "source": [
        "l = [1, 'two', 3.0, 4, 5.0, \"six\"]\n",
        "l"
      ]
    },
    {
      "cell_type": "code",
      "execution_count": null,
      "metadata": {
        "id": "Cjj8bfDAiXcH",
        "outputId": "37af683a-efbf-4885-a317-e5f6e4008f96",
        "colab": {
          "base_uri": "https://localhost:8080/"
        }
      },
      "outputs": [
        {
          "output_type": "stream",
          "name": "stdout",
          "text": [
            "first: 1\n",
            "second: two\n"
          ]
        }
      ],
      "source": [
        "# Lists can be indexed like C-style arrays.\n",
        "first = l[0]\n",
        "second = l[1]\n",
        "print(\"first:\", first)\n",
        "print(\"second:\", second)"
      ]
    },
    {
      "cell_type": "code",
      "execution_count": null,
      "metadata": {
        "id": "cVozluPbiXcH",
        "outputId": "947076cf-99ab-4a28-ef7e-b9ed144d8c61",
        "colab": {
          "base_uri": "https://localhost:8080/"
        }
      },
      "outputs": [
        {
          "output_type": "stream",
          "name": "stdout",
          "text": [
            "last: six\n",
            "second to last: 5.0\n"
          ]
        }
      ],
      "source": [
        "# Negative indexing gives elements relative to the end of the list.\n",
        "last = l[-1]\n",
        "penultimate = l[-2]\n",
        "print(\"last:\", last)\n",
        "print(\"second to last:\", penultimate)"
      ]
    },
    {
      "cell_type": "code",
      "execution_count": null,
      "metadata": {
        "id": "PTqqm8MeiXcI",
        "outputId": "e21eda41-db27-404d-9e5a-c9a2b65745ba",
        "colab": {
          "base_uri": "https://localhost:8080/"
        }
      },
      "outputs": [
        {
          "output_type": "execute_result",
          "data": {
            "text/plain": [
              "['two', 3.0]"
            ]
          },
          "metadata": {},
          "execution_count": 7
        }
      ],
      "source": [
        "# Lists can also be sliced, which makes a copy of elements between\n",
        "# start (inclusive) and stop (exclusive)\n",
        "sublist = l[1:3]\n",
        "sublist"
      ]
    },
    {
      "cell_type": "code",
      "execution_count": null,
      "metadata": {
        "id": "ugUUXXUViXcI",
        "outputId": "9a1fbb49-875e-4626-c557-aef9adb9a70b",
        "colab": {
          "base_uri": "https://localhost:8080/"
        }
      },
      "outputs": [
        {
          "output_type": "execute_result",
          "data": {
            "text/plain": [
              "[1, 'two', 3.0]"
            ]
          },
          "metadata": {},
          "execution_count": 8
        }
      ],
      "source": [
        "# l[:N] is equivalent to l[0:N].\n",
        "first_three = l[:3]\n",
        "first_three"
      ]
    },
    {
      "cell_type": "code",
      "execution_count": null,
      "metadata": {
        "id": "otoRjbK7iXcI",
        "outputId": "5304fe35-ee45-4bb9-bac0-3f3046095276",
        "colab": {
          "base_uri": "https://localhost:8080/"
        }
      },
      "outputs": [
        {
          "output_type": "execute_result",
          "data": {
            "text/plain": [
              "[4, 5.0, 'six']"
            ]
          },
          "metadata": {},
          "execution_count": 9
        }
      ],
      "source": [
        "# l[3:] is equivalent to l[3:len(l)].\n",
        "after_three = l[3:]\n",
        "after_three"
      ]
    },
    {
      "cell_type": "code",
      "execution_count": null,
      "metadata": {
        "id": "2ZndPPspiXcJ",
        "outputId": "b0be0b9a-ddff-4cc8-a290-5f4cc28a24c2",
        "colab": {
          "base_uri": "https://localhost:8080/"
        }
      },
      "outputs": [
        {
          "output_type": "execute_result",
          "data": {
            "text/plain": [
              "['b', 'd', 'f']"
            ]
          },
          "metadata": {},
          "execution_count": 10
        }
      ],
      "source": [
        "# There's also a third parameter, \"step\", which gets every Nth element.\n",
        "l = ['a', 'b', 'c', 'd', 'e', 'f', 'g','h']\n",
        "l[1:7:2]"
      ]
    },
    {
      "cell_type": "code",
      "execution_count": null,
      "metadata": {
        "id": "dt2OMhnZiXcJ",
        "outputId": "4d72d500-61a3-48b2-d2ec-b9c1d2983dbb",
        "colab": {
          "base_uri": "https://localhost:8080/"
        }
      },
      "outputs": [
        {
          "output_type": "execute_result",
          "data": {
            "text/plain": [
              "['h', 'g', 'f', 'e', 'd', 'c', 'b', 'a']"
            ]
          },
          "metadata": {},
          "execution_count": 11
        }
      ],
      "source": [
        "# This is a cute way to reverse a list.\n",
        "l[::-1]"
      ]
    },
    {
      "cell_type": "code",
      "execution_count": null,
      "metadata": {
        "id": "uDIdawFwiXcJ",
        "outputId": "dd5870fb-3764-49ff-b642-aa41557e4c33",
        "colab": {
          "base_uri": "https://localhost:8080/"
        }
      },
      "outputs": [
        {
          "output_type": "stream",
          "name": "stdout",
          "text": [
            "Before: [1, 2, 3, 4, 5]\n",
            "After: [1, 2, 3, 4, 5, 'six']\n"
          ]
        }
      ],
      "source": [
        "# Lists can be grown efficiently (in O(1) amortized time).\n",
        "l = [1, 2, 3, 4, 5]\n",
        "print(\"Before:\", l)\n",
        "l.append('six')\n",
        "print(\"After:\", l)"
      ]
    },
    {
      "cell_type": "code",
      "execution_count": null,
      "metadata": {
        "id": "OIhO0xxUiXcK",
        "outputId": "f32778e6-138a-4112-9b13-74397041467c",
        "colab": {
          "base_uri": "https://localhost:8080/"
        }
      },
      "outputs": [
        {
          "output_type": "execute_result",
          "data": {
            "text/plain": [
              "[2, 4, 6, 8, 10]"
            ]
          },
          "metadata": {},
          "execution_count": 13
        }
      ],
      "source": [
        "# Comprehensions let us perform elementwise computations.\n",
        "l = [1, 2, 3, 4, 5]\n",
        "[x * 2 for x in l]"
      ]
    },
    {
      "cell_type": "markdown",
      "metadata": {
        "ein.tags": "worksheet-0",
        "id": "gh1Uw4KtiXcK"
      },
      "source": [
        "## Review: Python Lists\n",
        "\n",
        "- Zero-indexed sequence of arbitrary Python values.\n",
        "- Slicing syntax: `l[start:stop:step]` copies elements at regular intervals from `start` to `stop`.\n",
        "- Efficient (`O(1)`) appends and removes from end.\n",
        "- Comprehension syntax: `[f(x) for x in l if cond(x)]`."
      ]
    },
    {
      "cell_type": "markdown",
      "metadata": {
        "id": "KPeFQQs5iXcK"
      },
      "source": [
        "# Dictionaries"
      ]
    },
    {
      "cell_type": "code",
      "execution_count": null,
      "metadata": {
        "id": "55GAxN3AiXcL",
        "outputId": "41e658f0-c46a-4148-a939-3e9e7dfe74f5",
        "colab": {
          "base_uri": "https://localhost:8080/"
        }
      },
      "outputs": [
        {
          "output_type": "execute_result",
          "data": {
            "text/plain": [
              "{'David': 'Hume', 'Immanuel': 'Kant', 'Bertrand': 'Russell'}"
            ]
          },
          "metadata": {},
          "execution_count": 14
        }
      ],
      "source": [
        "# Dictionaries are key-value mappings.\n",
        "philosophers = {'David': 'Hume', 'Immanuel': 'Kant', 'Bertrand': 'Russell'}\n",
        "philosophers"
      ]
    },
    {
      "cell_type": "code",
      "execution_count": null,
      "metadata": {
        "id": "V3JS2kHSiXcL",
        "outputId": "d2993b18-f270-45d2-e336-3f118f7ec3f5",
        "colab": {
          "base_uri": "https://localhost:8080/"
        }
      },
      "outputs": [
        {
          "output_type": "execute_result",
          "data": {
            "text/plain": [
              "{'David': 'Hume',\n",
              " 'Immanuel': 'Kant',\n",
              " 'Bertrand': 'Russell',\n",
              " 'Ludwig': 'Wittgenstein'}"
            ]
          },
          "metadata": {},
          "execution_count": 15
        }
      ],
      "source": [
        "# Like lists, dictionaries are size-mutable.\n",
        "philosophers['Ludwig'] = 'Wittgenstein'\n",
        "philosophers"
      ]
    },
    {
      "cell_type": "code",
      "execution_count": null,
      "metadata": {
        "id": "YRGePTociXcL",
        "outputId": "ab4c83f7-0114-48ee-bc83-41b12e15e112",
        "colab": {
          "base_uri": "https://localhost:8080/"
        }
      },
      "outputs": [
        {
          "output_type": "execute_result",
          "data": {
            "text/plain": [
              "{'Immanuel': 'Kant', 'Bertrand': 'Russell', 'Ludwig': 'Wittgenstein'}"
            ]
          },
          "metadata": {},
          "execution_count": 16
        }
      ],
      "source": [
        "del philosophers['David']\n",
        "philosophers"
      ]
    },
    {
      "cell_type": "code",
      "execution_count": null,
      "metadata": {
        "id": "2E4f_6pQiXcM",
        "outputId": "827b1b40-b4cc-45c7-814b-700576fcd809",
        "colab": {
          "base_uri": "https://localhost:8080/",
          "height": 158
        }
      },
      "outputs": [
        {
          "output_type": "error",
          "ename": "TypeError",
          "evalue": "unhashable type: 'slice'",
          "traceback": [
            "\u001b[0;31m---------------------------------------------------------------------------\u001b[0m",
            "\u001b[0;31mTypeError\u001b[0m                                 Traceback (most recent call last)",
            "\u001b[0;32m<ipython-input-17-042d882bd6b0>\u001b[0m in \u001b[0;36m<cell line: 2>\u001b[0;34m()\u001b[0m\n\u001b[1;32m      1\u001b[0m \u001b[0;31m# No slicing.\u001b[0m\u001b[0;34m\u001b[0m\u001b[0;34m\u001b[0m\u001b[0m\n\u001b[0;32m----> 2\u001b[0;31m \u001b[0mphilosophers\u001b[0m\u001b[0;34m[\u001b[0m\u001b[0;34m'Bertrand'\u001b[0m\u001b[0;34m:\u001b[0m\u001b[0;34m'Immanuel'\u001b[0m\u001b[0;34m]\u001b[0m\u001b[0;34m\u001b[0m\u001b[0;34m\u001b[0m\u001b[0m\n\u001b[0m",
            "\u001b[0;31mTypeError\u001b[0m: unhashable type: 'slice'"
          ]
        }
      ],
      "source": [
        "# No slicing.\n",
        "philosophers['Bertrand':'Immanuel']"
      ]
    },
    {
      "cell_type": "markdown",
      "metadata": {
        "ein.tags": "worksheet-0",
        "id": "xvN8eqK2iXcM"
      },
      "source": [
        "## Review: Python Dictionaries\n",
        "\n",
        "- Unordered key-value mapping from (almost) arbitrary keys to arbitrary values.\n",
        "- Efficient (`O(1)`) lookup, insertion, and deletion.\n",
        "- No slicing (would require a notion of order)."
      ]
    },
    {
      "cell_type": "markdown",
      "metadata": {
        "id": "3C9gwhYDiXcM"
      },
      "source": [
        "<center><img src=\"https://raw.githubusercontent.com/ssanderson/pydata-toolbox/master/notebooks/images/pacino.gif\" alt=\"Drawing\" style=\"width: 100%;\"/></center>\n"
      ]
    },
    {
      "cell_type": "code",
      "source": [
        "4 * \"a\""
      ],
      "metadata": {
        "colab": {
          "base_uri": "https://localhost:8080/",
          "height": 36
        },
        "id": "VCf-y12-43VW",
        "outputId": "cf092c38-c8dc-4c5d-a970-c7f1e7ff12a1"
      },
      "execution_count": null,
      "outputs": [
        {
          "output_type": "execute_result",
          "data": {
            "text/plain": [
              "'aaaa'"
            ],
            "application/vnd.google.colaboratory.intrinsic+json": {
              "type": "string"
            }
          },
          "metadata": {},
          "execution_count": 18
        }
      ]
    },
    {
      "cell_type": "code",
      "execution_count": null,
      "metadata": {
        "collapsed": true,
        "id": "eqFZgJyyiXcM"
      },
      "outputs": [],
      "source": [
        "# Suppose we have some matrices...\n",
        "a = [[1, 2, 3],\n",
        "     [2, 3, 4],\n",
        "     [5, 6, 7],\n",
        "     [1, 1, 1]]\n",
        "\n",
        "b = [[1, 2, 3, 4],\n",
        "     [2, 3, 4, 5]]"
      ]
    },
    {
      "cell_type": "code",
      "execution_count": null,
      "metadata": {
        "collapsed": true,
        "id": "TfFqABAMiXcM"
      },
      "outputs": [],
      "source": [
        "def matmul(A, B):\n",
        "    \"\"\"Multiply matrix A by matrix B.\"\"\"\n",
        "    rows_out = len(A)\n",
        "    cols_out = len(B[0])\n",
        "    out = [[0 for col in range(cols_out)] for row in range(rows_out)]\n",
        "\n",
        "    for i in range(rows_out):\n",
        "        for j in range(cols_out):\n",
        "            for k in range(len(B)):\n",
        "                out[i][j] += A[i][k] * B[k][j]\n",
        "    return out"
      ]
    },
    {
      "cell_type": "markdown",
      "metadata": {
        "id": "Yuee_jmYiXcN"
      },
      "source": [
        "<center><img src=\"https://raw.githubusercontent.com/ssanderson/pydata-toolbox/master/notebooks/images/gross.gif\" alt=\"Drawing\" style=\"width: 50%;\"/></center>\n"
      ]
    },
    {
      "cell_type": "code",
      "execution_count": null,
      "metadata": {
        "id": "PerN-NDRiXcN",
        "outputId": "f3df302d-73f5-48b9-a6cc-96ee9bf3e672",
        "colab": {
          "base_uri": "https://localhost:8080/"
        }
      },
      "outputs": [
        {
          "output_type": "stream",
          "name": "stdout",
          "text": [
            "CPU times: user 22 µs, sys: 2 µs, total: 24 µs\n",
            "Wall time: 27.4 µs\n"
          ]
        },
        {
          "output_type": "execute_result",
          "data": {
            "text/plain": [
              "[[5, 8, 11, 14], [8, 13, 18, 23], [17, 28, 39, 50], [3, 5, 7, 9]]"
            ]
          },
          "metadata": {},
          "execution_count": 21
        }
      ],
      "source": [
        "%%time\n",
        "\n",
        "matmul(a, b)"
      ]
    },
    {
      "cell_type": "markdown",
      "source": [
        "**My own example 0 - cpu info**"
      ],
      "metadata": {
        "id": "AAcF7qrOv8KF"
      }
    },
    {
      "cell_type": "code",
      "source": [
        "!cat /proc/cpuinfo"
      ],
      "metadata": {
        "colab": {
          "base_uri": "https://localhost:8080/"
        },
        "id": "BQl1PQDJwDkc",
        "outputId": "9334f375-b0d8-4500-d7c0-08c0b76f3c85"
      },
      "execution_count": null,
      "outputs": [
        {
          "output_type": "stream",
          "name": "stdout",
          "text": [
            "processor\t: 0\n",
            "vendor_id\t: GenuineIntel\n",
            "cpu family\t: 6\n",
            "model\t\t: 79\n",
            "model name\t: Intel(R) Xeon(R) CPU @ 2.20GHz\n",
            "stepping\t: 0\n",
            "microcode\t: 0xffffffff\n",
            "cpu MHz\t\t: 2200.206\n",
            "cache size\t: 56320 KB\n",
            "physical id\t: 0\n",
            "siblings\t: 2\n",
            "core id\t\t: 0\n",
            "cpu cores\t: 1\n",
            "apicid\t\t: 0\n",
            "initial apicid\t: 0\n",
            "fpu\t\t: yes\n",
            "fpu_exception\t: yes\n",
            "cpuid level\t: 13\n",
            "wp\t\t: yes\n",
            "flags\t\t: fpu vme de pse tsc msr pae mce cx8 apic sep mtrr pge mca cmov pat pse36 clflush mmx fxsr sse sse2 ss ht syscall nx pdpe1gb rdtscp lm constant_tsc rep_good nopl xtopology nonstop_tsc cpuid tsc_known_freq pni pclmulqdq ssse3 fma cx16 pcid sse4_1 sse4_2 x2apic movbe popcnt aes xsave avx f16c rdrand hypervisor lahf_lm abm 3dnowprefetch invpcid_single ssbd ibrs ibpb stibp fsgsbase tsc_adjust bmi1 hle avx2 smep bmi2 erms invpcid rtm rdseed adx smap xsaveopt arat md_clear arch_capabilities\n",
            "bugs\t\t: cpu_meltdown spectre_v1 spectre_v2 spec_store_bypass l1tf mds swapgs taa mmio_stale_data retbleed bhi\n",
            "bogomips\t: 4400.41\n",
            "clflush size\t: 64\n",
            "cache_alignment\t: 64\n",
            "address sizes\t: 46 bits physical, 48 bits virtual\n",
            "power management:\n",
            "\n",
            "processor\t: 1\n",
            "vendor_id\t: GenuineIntel\n",
            "cpu family\t: 6\n",
            "model\t\t: 79\n",
            "model name\t: Intel(R) Xeon(R) CPU @ 2.20GHz\n",
            "stepping\t: 0\n",
            "microcode\t: 0xffffffff\n",
            "cpu MHz\t\t: 2200.206\n",
            "cache size\t: 56320 KB\n",
            "physical id\t: 0\n",
            "siblings\t: 2\n",
            "core id\t\t: 0\n",
            "cpu cores\t: 1\n",
            "apicid\t\t: 1\n",
            "initial apicid\t: 1\n",
            "fpu\t\t: yes\n",
            "fpu_exception\t: yes\n",
            "cpuid level\t: 13\n",
            "wp\t\t: yes\n",
            "flags\t\t: fpu vme de pse tsc msr pae mce cx8 apic sep mtrr pge mca cmov pat pse36 clflush mmx fxsr sse sse2 ss ht syscall nx pdpe1gb rdtscp lm constant_tsc rep_good nopl xtopology nonstop_tsc cpuid tsc_known_freq pni pclmulqdq ssse3 fma cx16 pcid sse4_1 sse4_2 x2apic movbe popcnt aes xsave avx f16c rdrand hypervisor lahf_lm abm 3dnowprefetch invpcid_single ssbd ibrs ibpb stibp fsgsbase tsc_adjust bmi1 hle avx2 smep bmi2 erms invpcid rtm rdseed adx smap xsaveopt arat md_clear arch_capabilities\n",
            "bugs\t\t: cpu_meltdown spectre_v1 spectre_v2 spec_store_bypass l1tf mds swapgs taa mmio_stale_data retbleed bhi\n",
            "bogomips\t: 4400.41\n",
            "clflush size\t: 64\n",
            "cache_alignment\t: 64\n",
            "address sizes\t: 46 bits physical, 48 bits virtual\n",
            "power management:\n",
            "\n"
          ]
        }
      ]
    },
    {
      "cell_type": "markdown",
      "source": [
        "**My own example 1 - Changing in matmul(A, B) Python len(B) (# of rows of B) for len(A[0]) (# of columns of A)**"
      ],
      "metadata": {
        "id": "EFlf_ZLgsUEo"
      }
    },
    {
      "cell_type": "code",
      "source": [
        "def matmul(A, B):\n",
        "    \"\"\"Multiply matrix A by matrix B.\"\"\"\n",
        "    rows_out = len(A)\n",
        "    cols_out = len(B[0])\n",
        "    out = [[0 for col in range(cols_out)] for row in range(rows_out)]\n",
        "\n",
        "    for i in range(rows_out):\n",
        "        for j in range(cols_out):\n",
        "            for k in range(len(A[0])):\n",
        "                out[i][j] += A[i][k] * B[k][j]\n",
        "    return out"
      ],
      "metadata": {
        "id": "T71BRNaG3fev"
      },
      "execution_count": null,
      "outputs": []
    },
    {
      "cell_type": "markdown",
      "source": [
        "**My own example 2 - Verifiying error with in matmul(A, B) Python with the original matrices when changing len(B) (# of rows of B) for len(A[0]) (# of colums of A)**"
      ],
      "metadata": {
        "id": "8sLiMfvlUJzp"
      }
    },
    {
      "cell_type": "code",
      "source": [
        "matmul(a, b)"
      ],
      "metadata": {
        "id": "HjyOAFQW3gc3",
        "colab": {
          "base_uri": "https://localhost:8080/",
          "height": 245
        },
        "outputId": "ee556042-65ec-4ae1-8f08-2d72cbb9d56e"
      },
      "execution_count": null,
      "outputs": [
        {
          "output_type": "error",
          "ename": "IndexError",
          "evalue": "list index out of range",
          "traceback": [
            "\u001b[0;31m---------------------------------------------------------------------------\u001b[0m",
            "\u001b[0;31mIndexError\u001b[0m                                Traceback (most recent call last)",
            "\u001b[0;32m<ipython-input-24-2741037c29ee>\u001b[0m in \u001b[0;36m<cell line: 1>\u001b[0;34m()\u001b[0m\n\u001b[0;32m----> 1\u001b[0;31m \u001b[0mmatmul\u001b[0m\u001b[0;34m(\u001b[0m\u001b[0ma\u001b[0m\u001b[0;34m,\u001b[0m \u001b[0mb\u001b[0m\u001b[0;34m)\u001b[0m\u001b[0;34m\u001b[0m\u001b[0;34m\u001b[0m\u001b[0m\n\u001b[0m",
            "\u001b[0;32m<ipython-input-23-1de5e42782e1>\u001b[0m in \u001b[0;36mmatmul\u001b[0;34m(A, B)\u001b[0m\n\u001b[1;32m      8\u001b[0m         \u001b[0;32mfor\u001b[0m \u001b[0mj\u001b[0m \u001b[0;32min\u001b[0m \u001b[0mrange\u001b[0m\u001b[0;34m(\u001b[0m\u001b[0mcols_out\u001b[0m\u001b[0;34m)\u001b[0m\u001b[0;34m:\u001b[0m\u001b[0;34m\u001b[0m\u001b[0;34m\u001b[0m\u001b[0m\n\u001b[1;32m      9\u001b[0m             \u001b[0;32mfor\u001b[0m \u001b[0mk\u001b[0m \u001b[0;32min\u001b[0m \u001b[0mrange\u001b[0m\u001b[0;34m(\u001b[0m\u001b[0mlen\u001b[0m\u001b[0;34m(\u001b[0m\u001b[0mA\u001b[0m\u001b[0;34m[\u001b[0m\u001b[0;36m0\u001b[0m\u001b[0;34m]\u001b[0m\u001b[0;34m)\u001b[0m\u001b[0;34m)\u001b[0m\u001b[0;34m:\u001b[0m\u001b[0;34m\u001b[0m\u001b[0;34m\u001b[0m\u001b[0m\n\u001b[0;32m---> 10\u001b[0;31m                 \u001b[0mout\u001b[0m\u001b[0;34m[\u001b[0m\u001b[0mi\u001b[0m\u001b[0;34m]\u001b[0m\u001b[0;34m[\u001b[0m\u001b[0mj\u001b[0m\u001b[0;34m]\u001b[0m \u001b[0;34m+=\u001b[0m \u001b[0mA\u001b[0m\u001b[0;34m[\u001b[0m\u001b[0mi\u001b[0m\u001b[0;34m]\u001b[0m\u001b[0;34m[\u001b[0m\u001b[0mk\u001b[0m\u001b[0;34m]\u001b[0m \u001b[0;34m*\u001b[0m \u001b[0mB\u001b[0m\u001b[0;34m[\u001b[0m\u001b[0mk\u001b[0m\u001b[0;34m]\u001b[0m\u001b[0;34m[\u001b[0m\u001b[0mj\u001b[0m\u001b[0;34m]\u001b[0m\u001b[0;34m\u001b[0m\u001b[0;34m\u001b[0m\u001b[0m\n\u001b[0m\u001b[1;32m     11\u001b[0m     \u001b[0;32mreturn\u001b[0m \u001b[0mout\u001b[0m\u001b[0;34m\u001b[0m\u001b[0;34m\u001b[0m\u001b[0m\n",
            "\u001b[0;31mIndexError\u001b[0m: list index out of range"
          ]
        }
      ]
    },
    {
      "cell_type": "markdown",
      "source": [
        "**My own example 3 - Chekcing the mtarix multiplication compatibility condition  len(A[0]) == len(B)**"
      ],
      "metadata": {
        "id": "AGztFKBNuQ_e"
      }
    },
    {
      "cell_type": "code",
      "source": [
        "def matmul(A, B):\n",
        "    \"\"\"Multiply matrix A by matrix B if they are compatible for multiplication.\"\"\"\n",
        "\n",
        "    # Check if matrices are compatible for multiplication\n",
        "    if len(A[0]) != len(B):\n",
        "        raise ValueError(\"Matrices are not compatible for multiplication. \"\n",
        "                         \"The number of columns in A must equal the number of rows in B.\")\n",
        "\n",
        "    rows_out = len(A)\n",
        "    cols_out = len(B[0])\n",
        "    out = [[0 for _ in range(cols_out)] for _ in range(rows_out)]\n",
        "\n",
        "    for i in range(rows_out):\n",
        "        for j in range(cols_out):\n",
        "            for k in range(len(A[0])):\n",
        "                out[i][j] += A[i][k] * B[k][j]\n",
        "\n",
        "    return out\n"
      ],
      "metadata": {
        "id": "4rgHkUNC3haX"
      },
      "execution_count": 12,
      "outputs": []
    },
    {
      "cell_type": "markdown",
      "source": [
        "**My own example 4 -  Verifiying error with in matmul(A, B) Python when checking the mtarix multiplication compatibility condition  len(A[0]) == len(B)**"
      ],
      "metadata": {
        "id": "A4SoDNPpuZpp"
      }
    },
    {
      "cell_type": "code",
      "source": [
        "matmul(a,b)"
      ],
      "metadata": {
        "id": "wpnd21c83jQI",
        "colab": {
          "base_uri": "https://localhost:8080/",
          "height": 263
        },
        "outputId": "29023743-488f-4846-a7eb-6a8c36bdda8c"
      },
      "execution_count": null,
      "outputs": [
        {
          "output_type": "error",
          "ename": "ValueError",
          "evalue": "Matrices are not compatible for multiplication. The number of columns in A must equal the number of rows in B.",
          "traceback": [
            "\u001b[0;31m---------------------------------------------------------------------------\u001b[0m",
            "\u001b[0;31mValueError\u001b[0m                                Traceback (most recent call last)",
            "\u001b[0;32m<ipython-input-26-7853c1c27063>\u001b[0m in \u001b[0;36m<cell line: 1>\u001b[0;34m()\u001b[0m\n\u001b[0;32m----> 1\u001b[0;31m \u001b[0mmatmul\u001b[0m\u001b[0;34m(\u001b[0m\u001b[0ma\u001b[0m\u001b[0;34m,\u001b[0m\u001b[0mb\u001b[0m\u001b[0;34m)\u001b[0m\u001b[0;34m\u001b[0m\u001b[0;34m\u001b[0m\u001b[0m\n\u001b[0m",
            "\u001b[0;32m<ipython-input-25-846ac3ee74cc>\u001b[0m in \u001b[0;36mmatmul\u001b[0;34m(A, B)\u001b[0m\n\u001b[1;32m      4\u001b[0m     \u001b[0;31m# Check if matrices are compatible for multiplication\u001b[0m\u001b[0;34m\u001b[0m\u001b[0;34m\u001b[0m\u001b[0m\n\u001b[1;32m      5\u001b[0m     \u001b[0;32mif\u001b[0m \u001b[0mlen\u001b[0m\u001b[0;34m(\u001b[0m\u001b[0mA\u001b[0m\u001b[0;34m[\u001b[0m\u001b[0;36m0\u001b[0m\u001b[0;34m]\u001b[0m\u001b[0;34m)\u001b[0m \u001b[0;34m!=\u001b[0m \u001b[0mlen\u001b[0m\u001b[0;34m(\u001b[0m\u001b[0mB\u001b[0m\u001b[0;34m)\u001b[0m\u001b[0;34m:\u001b[0m\u001b[0;34m\u001b[0m\u001b[0;34m\u001b[0m\u001b[0m\n\u001b[0;32m----> 6\u001b[0;31m         raise ValueError(\"Matrices are not compatible for multiplication. \"\n\u001b[0m\u001b[1;32m      7\u001b[0m                          \"The number of columns in A must equal the number of rows in B.\")\n\u001b[1;32m      8\u001b[0m \u001b[0;34m\u001b[0m\u001b[0m\n",
            "\u001b[0;31mValueError\u001b[0m: Matrices are not compatible for multiplication. The number of columns in A must equal the number of rows in B."
          ]
        }
      ]
    },
    {
      "cell_type": "markdown",
      "source": [
        "**My own example 5 - Deifining A and B that are compatible for multiplcation**"
      ],
      "metadata": {
        "id": "MZTTYVu0ufCY"
      }
    },
    {
      "cell_type": "code",
      "source": [
        "A = [\n",
        "    [1, 2, 3],\n",
        "    [4, 5, 6]\n",
        "]\n",
        "\n",
        "B = [\n",
        "    [7, 8],\n",
        "    [9, 10],\n",
        "    [11, 12]\n",
        "]"
      ],
      "metadata": {
        "id": "q8nHrWQz3kby"
      },
      "execution_count": 11,
      "outputs": []
    },
    {
      "cell_type": "markdown",
      "source": [
        "**My own example 6 - Runinng the correct Python matrix multiplication code with the matrices with dimensions compatible for multiplication.**"
      ],
      "metadata": {
        "id": "GM5DAXUIuhEg"
      }
    },
    {
      "cell_type": "code",
      "source": [
        "matmul(A, B)"
      ],
      "metadata": {
        "colab": {
          "base_uri": "https://localhost:8080/"
        },
        "id": "9jLe8GYE1fJq",
        "outputId": "68cb8504-722d-43d1-d82e-73451d749e1c"
      },
      "execution_count": 13,
      "outputs": [
        {
          "output_type": "execute_result",
          "data": {
            "text/plain": [
              "[[58, 64], [139, 154]]"
            ]
          },
          "metadata": {},
          "execution_count": 13
        }
      ]
    },
    {
      "cell_type": "code",
      "source": [
        "import random"
      ],
      "metadata": {
        "id": "Ip600JFN3qHX"
      },
      "execution_count": 15,
      "outputs": []
    },
    {
      "cell_type": "code",
      "source": [
        "random.normalvariate(0,1)"
      ],
      "metadata": {
        "colab": {
          "base_uri": "https://localhost:8080/"
        },
        "id": "HuDvpWbBkup-",
        "outputId": "bad3b216-fd3d-4df0-c909-6514022ccbab"
      },
      "execution_count": 16,
      "outputs": [
        {
          "output_type": "execute_result",
          "data": {
            "text/plain": [
              "0.1566975914976064"
            ]
          },
          "metadata": {},
          "execution_count": 16
        }
      ]
    },
    {
      "cell_type": "code",
      "execution_count": 16,
      "metadata": {
        "outputId": "3a78f418-ddae-414a-f990-27a4d65325e1",
        "colab": {
          "base_uri": "https://localhost:8080/"
        },
        "id": "X1tnwMvd3bIP"
      },
      "outputs": [
        {
          "output_type": "execute_result",
          "data": {
            "text/plain": [
              "[[0.26971985114538044, 0.6116144980650544, 0.44889038189138974],\n",
              " [0.7853396661803175, 0.7877164851402512, 0.21006477474698582]]"
            ]
          },
          "metadata": {},
          "execution_count": 16
        }
      ],
      "source": [
        "import random\n",
        "def random_matrix(m, n):\n",
        "    out = []\n",
        "    for row in range(m):\n",
        "        out.append([random.random() for _ in range(n)])\n",
        "    return out\n",
        "\n",
        "randm = random_matrix(2, 3)\n",
        "randm"
      ]
    },
    {
      "cell_type": "markdown",
      "source": [
        "**My own example 7 - Running 10 times matmul(randa, randb) with randa and randb a randon matrices of 600 x 100 and 100 x 600 and calulating the average execution time**"
      ],
      "metadata": {
        "id": "3-eUeNjHhHP7"
      }
    },
    {
      "cell_type": "code",
      "source": [
        "import time\n",
        "import numpy as np\n",
        "\n",
        "def matmul(A, B):\n",
        "    \"\"\"Multiply matrix A by matrix B if they are compatible for multiplication.\"\"\"\n",
        "    if len(A[0]) != len(B):\n",
        "        raise ValueError(\"Matrices are not compatible for multiplication.\")\n",
        "\n",
        "    rows_out = len(A)\n",
        "    cols_out = len(B[0])\n",
        "    out = [[0 for _ in range(cols_out)] for _ in range(rows_out)]\n",
        "\n",
        "    for i in range(rows_out):\n",
        "        for j in range(cols_out):\n",
        "            for k in range(len(A[0])):\n",
        "                out[i][j] += A[i][k] * B[k][j]\n",
        "\n",
        "    return out\n",
        "\n",
        "def random_matrix(m, n):\n",
        "    \"\"\"Generate a random matrix of dimensions m x n.\"\"\"\n",
        "    return np.random.rand(m, n).tolist()\n",
        "\n",
        "n = 10\n",
        "execution_times = []\n",
        "\n",
        "for _ in range(n):\n",
        "    randa = random_matrix(600, 100)\n",
        "    randb = random_matrix(100, 600)\n",
        "\n",
        "    start_time = time.time()\n",
        "    matmul(randa, randb)\n",
        "    end_time = time.time()\n",
        "\n",
        "    execution_times.append(end_time - start_time)\n",
        "\n",
        "average_time = sum(execution_times) / n\n",
        "print(f\"Tiempo promedio de ejecución: {average_time:.5f} segundos\")\n"
      ],
      "metadata": {
        "colab": {
          "base_uri": "https://localhost:8080/"
        },
        "id": "5pivHMwUxHof",
        "outputId": "cf661497-5486-4ae5-937b-128dfcddd871"
      },
      "execution_count": 29,
      "outputs": [
        {
          "output_type": "stream",
          "name": "stdout",
          "text": [
            "Tiempo promedio de ejecución: 9.43479 segundos\n"
          ]
        }
      ]
    },
    {
      "cell_type": "markdown",
      "source": [
        "**My own example 8 - Creating the average execution time data frame and adding Python's average execution time**"
      ],
      "metadata": {
        "id": "FXisJPNSN-Tf"
      }
    },
    {
      "cell_type": "code",
      "source": [
        "import pandas as pd\n",
        "data = {\n",
        "    'Language': ['Python'],\n",
        "    'Average Execution Time (seconds)': [average_time]\n",
        "}\n",
        "df = pd.DataFrame(data)\n",
        "\n",
        "df"
      ],
      "metadata": {
        "id": "2fK25g003-ww",
        "colab": {
          "base_uri": "https://localhost:8080/",
          "height": 89
        },
        "outputId": "c5211311-ccdf-47d0-bad3-39e6f2ace721"
      },
      "execution_count": 30,
      "outputs": [
        {
          "output_type": "execute_result",
          "data": {
            "text/plain": [
              "  Language  Average Execution Time (seconds)\n",
              "0   Python                          9.434793"
            ],
            "text/html": [
              "\n",
              "  <div id=\"df-afe6ce9e-7806-4a1d-9061-637790593e88\" class=\"colab-df-container\">\n",
              "    <div>\n",
              "<style scoped>\n",
              "    .dataframe tbody tr th:only-of-type {\n",
              "        vertical-align: middle;\n",
              "    }\n",
              "\n",
              "    .dataframe tbody tr th {\n",
              "        vertical-align: top;\n",
              "    }\n",
              "\n",
              "    .dataframe thead th {\n",
              "        text-align: right;\n",
              "    }\n",
              "</style>\n",
              "<table border=\"1\" class=\"dataframe\">\n",
              "  <thead>\n",
              "    <tr style=\"text-align: right;\">\n",
              "      <th></th>\n",
              "      <th>Language</th>\n",
              "      <th>Average Execution Time (seconds)</th>\n",
              "    </tr>\n",
              "  </thead>\n",
              "  <tbody>\n",
              "    <tr>\n",
              "      <th>0</th>\n",
              "      <td>Python</td>\n",
              "      <td>9.434793</td>\n",
              "    </tr>\n",
              "  </tbody>\n",
              "</table>\n",
              "</div>\n",
              "    <div class=\"colab-df-buttons\">\n",
              "\n",
              "  <div class=\"colab-df-container\">\n",
              "    <button class=\"colab-df-convert\" onclick=\"convertToInteractive('df-afe6ce9e-7806-4a1d-9061-637790593e88')\"\n",
              "            title=\"Convert this dataframe to an interactive table.\"\n",
              "            style=\"display:none;\">\n",
              "\n",
              "  <svg xmlns=\"http://www.w3.org/2000/svg\" height=\"24px\" viewBox=\"0 -960 960 960\">\n",
              "    <path d=\"M120-120v-720h720v720H120Zm60-500h600v-160H180v160Zm220 220h160v-160H400v160Zm0 220h160v-160H400v160ZM180-400h160v-160H180v160Zm440 0h160v-160H620v160ZM180-180h160v-160H180v160Zm440 0h160v-160H620v160Z\"/>\n",
              "  </svg>\n",
              "    </button>\n",
              "\n",
              "  <style>\n",
              "    .colab-df-container {\n",
              "      display:flex;\n",
              "      gap: 12px;\n",
              "    }\n",
              "\n",
              "    .colab-df-convert {\n",
              "      background-color: #E8F0FE;\n",
              "      border: none;\n",
              "      border-radius: 50%;\n",
              "      cursor: pointer;\n",
              "      display: none;\n",
              "      fill: #1967D2;\n",
              "      height: 32px;\n",
              "      padding: 0 0 0 0;\n",
              "      width: 32px;\n",
              "    }\n",
              "\n",
              "    .colab-df-convert:hover {\n",
              "      background-color: #E2EBFA;\n",
              "      box-shadow: 0px 1px 2px rgba(60, 64, 67, 0.3), 0px 1px 3px 1px rgba(60, 64, 67, 0.15);\n",
              "      fill: #174EA6;\n",
              "    }\n",
              "\n",
              "    .colab-df-buttons div {\n",
              "      margin-bottom: 4px;\n",
              "    }\n",
              "\n",
              "    [theme=dark] .colab-df-convert {\n",
              "      background-color: #3B4455;\n",
              "      fill: #D2E3FC;\n",
              "    }\n",
              "\n",
              "    [theme=dark] .colab-df-convert:hover {\n",
              "      background-color: #434B5C;\n",
              "      box-shadow: 0px 1px 3px 1px rgba(0, 0, 0, 0.15);\n",
              "      filter: drop-shadow(0px 1px 2px rgba(0, 0, 0, 0.3));\n",
              "      fill: #FFFFFF;\n",
              "    }\n",
              "  </style>\n",
              "\n",
              "    <script>\n",
              "      const buttonEl =\n",
              "        document.querySelector('#df-afe6ce9e-7806-4a1d-9061-637790593e88 button.colab-df-convert');\n",
              "      buttonEl.style.display =\n",
              "        google.colab.kernel.accessAllowed ? 'block' : 'none';\n",
              "\n",
              "      async function convertToInteractive(key) {\n",
              "        const element = document.querySelector('#df-afe6ce9e-7806-4a1d-9061-637790593e88');\n",
              "        const dataTable =\n",
              "          await google.colab.kernel.invokeFunction('convertToInteractive',\n",
              "                                                    [key], {});\n",
              "        if (!dataTable) return;\n",
              "\n",
              "        const docLinkHtml = 'Like what you see? Visit the ' +\n",
              "          '<a target=\"_blank\" href=https://colab.research.google.com/notebooks/data_table.ipynb>data table notebook</a>'\n",
              "          + ' to learn more about interactive tables.';\n",
              "        element.innerHTML = '';\n",
              "        dataTable['output_type'] = 'display_data';\n",
              "        await google.colab.output.renderOutput(dataTable, element);\n",
              "        const docLink = document.createElement('div');\n",
              "        docLink.innerHTML = docLinkHtml;\n",
              "        element.appendChild(docLink);\n",
              "      }\n",
              "    </script>\n",
              "  </div>\n",
              "\n",
              "\n",
              "  <div id=\"id_e1431450-8b2a-4abf-a543-a601d0429aa9\">\n",
              "    <style>\n",
              "      .colab-df-generate {\n",
              "        background-color: #E8F0FE;\n",
              "        border: none;\n",
              "        border-radius: 50%;\n",
              "        cursor: pointer;\n",
              "        display: none;\n",
              "        fill: #1967D2;\n",
              "        height: 32px;\n",
              "        padding: 0 0 0 0;\n",
              "        width: 32px;\n",
              "      }\n",
              "\n",
              "      .colab-df-generate:hover {\n",
              "        background-color: #E2EBFA;\n",
              "        box-shadow: 0px 1px 2px rgba(60, 64, 67, 0.3), 0px 1px 3px 1px rgba(60, 64, 67, 0.15);\n",
              "        fill: #174EA6;\n",
              "      }\n",
              "\n",
              "      [theme=dark] .colab-df-generate {\n",
              "        background-color: #3B4455;\n",
              "        fill: #D2E3FC;\n",
              "      }\n",
              "\n",
              "      [theme=dark] .colab-df-generate:hover {\n",
              "        background-color: #434B5C;\n",
              "        box-shadow: 0px 1px 3px 1px rgba(0, 0, 0, 0.15);\n",
              "        filter: drop-shadow(0px 1px 2px rgba(0, 0, 0, 0.3));\n",
              "        fill: #FFFFFF;\n",
              "      }\n",
              "    </style>\n",
              "    <button class=\"colab-df-generate\" onclick=\"generateWithVariable('df')\"\n",
              "            title=\"Generate code using this dataframe.\"\n",
              "            style=\"display:none;\">\n",
              "\n",
              "  <svg xmlns=\"http://www.w3.org/2000/svg\" height=\"24px\"viewBox=\"0 0 24 24\"\n",
              "       width=\"24px\">\n",
              "    <path d=\"M7,19H8.4L18.45,9,17,7.55,7,17.6ZM5,21V16.75L18.45,3.32a2,2,0,0,1,2.83,0l1.4,1.43a1.91,1.91,0,0,1,.58,1.4,1.91,1.91,0,0,1-.58,1.4L9.25,21ZM18.45,9,17,7.55Zm-12,3A5.31,5.31,0,0,0,4.9,8.1,5.31,5.31,0,0,0,1,6.5,5.31,5.31,0,0,0,4.9,4.9,5.31,5.31,0,0,0,6.5,1,5.31,5.31,0,0,0,8.1,4.9,5.31,5.31,0,0,0,12,6.5,5.46,5.46,0,0,0,6.5,12Z\"/>\n",
              "  </svg>\n",
              "    </button>\n",
              "    <script>\n",
              "      (() => {\n",
              "      const buttonEl =\n",
              "        document.querySelector('#id_e1431450-8b2a-4abf-a543-a601d0429aa9 button.colab-df-generate');\n",
              "      buttonEl.style.display =\n",
              "        google.colab.kernel.accessAllowed ? 'block' : 'none';\n",
              "\n",
              "      buttonEl.onclick = () => {\n",
              "        google.colab.notebook.generateWithVariable('df');\n",
              "      }\n",
              "      })();\n",
              "    </script>\n",
              "  </div>\n",
              "\n",
              "    </div>\n",
              "  </div>\n"
            ],
            "application/vnd.google.colaboratory.intrinsic+json": {
              "type": "dataframe",
              "variable_name": "df",
              "summary": "{\n  \"name\": \"df\",\n  \"rows\": 1,\n  \"fields\": [\n    {\n      \"column\": \"Language\",\n      \"properties\": {\n        \"dtype\": \"string\",\n        \"num_unique_values\": 1,\n        \"samples\": [\n          \"Python\"\n        ],\n        \"semantic_type\": \"\",\n        \"description\": \"\"\n      }\n    },\n    {\n      \"column\": \"Average Execution Time (seconds)\",\n      \"properties\": {\n        \"dtype\": \"number\",\n        \"std\": null,\n        \"min\": 9.43479323387146,\n        \"max\": 9.43479323387146,\n        \"num_unique_values\": 1,\n        \"samples\": [\n          9.43479323387146\n        ],\n        \"semantic_type\": \"\",\n        \"description\": \"\"\n      }\n    }\n  ]\n}"
            }
          },
          "metadata": {},
          "execution_count": 30
        }
      ]
    },
    {
      "cell_type": "markdown",
      "source": [
        "**My own example 9 - Running 10 times randa and randb mutiplicaction as NumPy arrays  adding NumPy's average execution time**"
      ],
      "metadata": {
        "id": "OiFYD3tghLcL"
      }
    },
    {
      "cell_type": "code",
      "source": [
        "import time\n",
        "import numpy as np\n",
        "import pandas as pd\n",
        "\n",
        "randa = np.random.rand(600, 100)\n",
        "randb = np.random.rand(100, 600)\n",
        "\n",
        "n = 10\n",
        "numpy_execution_times = []\n",
        "\n",
        "for _ in range(n):\n",
        "    start_time = time.time()\n",
        "    np.dot(randa, randb)\n",
        "    end_time = time.time()\n",
        "\n",
        "    numpy_execution_times.append(end_time - start_time)\n",
        "\n",
        "average_time_numpy = sum(numpy_execution_times) / n\n",
        "\n",
        "df = pd.DataFrame({'Method': ['Python', 'NumPy'], 'Average Execution Time (seconds)': [average_time, average_time_numpy]})\n",
        "display(df)\n"
      ],
      "metadata": {
        "id": "bHX4icJx5KZo",
        "colab": {
          "base_uri": "https://localhost:8080/",
          "height": 125
        },
        "outputId": "cc3a98e5-9008-4373-c34c-1eb406b555cb"
      },
      "execution_count": 31,
      "outputs": [
        {
          "output_type": "display_data",
          "data": {
            "text/plain": [
              "   Method  Average Execution Time (seconds)\n",
              "0  Python                          9.434793\n",
              "1   NumPy                          0.003023"
            ],
            "text/html": [
              "\n",
              "  <div id=\"df-7bd7a045-9a5c-43f4-8d76-2aee0f4e48ab\" class=\"colab-df-container\">\n",
              "    <div>\n",
              "<style scoped>\n",
              "    .dataframe tbody tr th:only-of-type {\n",
              "        vertical-align: middle;\n",
              "    }\n",
              "\n",
              "    .dataframe tbody tr th {\n",
              "        vertical-align: top;\n",
              "    }\n",
              "\n",
              "    .dataframe thead th {\n",
              "        text-align: right;\n",
              "    }\n",
              "</style>\n",
              "<table border=\"1\" class=\"dataframe\">\n",
              "  <thead>\n",
              "    <tr style=\"text-align: right;\">\n",
              "      <th></th>\n",
              "      <th>Method</th>\n",
              "      <th>Average Execution Time (seconds)</th>\n",
              "    </tr>\n",
              "  </thead>\n",
              "  <tbody>\n",
              "    <tr>\n",
              "      <th>0</th>\n",
              "      <td>Python</td>\n",
              "      <td>9.434793</td>\n",
              "    </tr>\n",
              "    <tr>\n",
              "      <th>1</th>\n",
              "      <td>NumPy</td>\n",
              "      <td>0.003023</td>\n",
              "    </tr>\n",
              "  </tbody>\n",
              "</table>\n",
              "</div>\n",
              "    <div class=\"colab-df-buttons\">\n",
              "\n",
              "  <div class=\"colab-df-container\">\n",
              "    <button class=\"colab-df-convert\" onclick=\"convertToInteractive('df-7bd7a045-9a5c-43f4-8d76-2aee0f4e48ab')\"\n",
              "            title=\"Convert this dataframe to an interactive table.\"\n",
              "            style=\"display:none;\">\n",
              "\n",
              "  <svg xmlns=\"http://www.w3.org/2000/svg\" height=\"24px\" viewBox=\"0 -960 960 960\">\n",
              "    <path d=\"M120-120v-720h720v720H120Zm60-500h600v-160H180v160Zm220 220h160v-160H400v160Zm0 220h160v-160H400v160ZM180-400h160v-160H180v160Zm440 0h160v-160H620v160ZM180-180h160v-160H180v160Zm440 0h160v-160H620v160Z\"/>\n",
              "  </svg>\n",
              "    </button>\n",
              "\n",
              "  <style>\n",
              "    .colab-df-container {\n",
              "      display:flex;\n",
              "      gap: 12px;\n",
              "    }\n",
              "\n",
              "    .colab-df-convert {\n",
              "      background-color: #E8F0FE;\n",
              "      border: none;\n",
              "      border-radius: 50%;\n",
              "      cursor: pointer;\n",
              "      display: none;\n",
              "      fill: #1967D2;\n",
              "      height: 32px;\n",
              "      padding: 0 0 0 0;\n",
              "      width: 32px;\n",
              "    }\n",
              "\n",
              "    .colab-df-convert:hover {\n",
              "      background-color: #E2EBFA;\n",
              "      box-shadow: 0px 1px 2px rgba(60, 64, 67, 0.3), 0px 1px 3px 1px rgba(60, 64, 67, 0.15);\n",
              "      fill: #174EA6;\n",
              "    }\n",
              "\n",
              "    .colab-df-buttons div {\n",
              "      margin-bottom: 4px;\n",
              "    }\n",
              "\n",
              "    [theme=dark] .colab-df-convert {\n",
              "      background-color: #3B4455;\n",
              "      fill: #D2E3FC;\n",
              "    }\n",
              "\n",
              "    [theme=dark] .colab-df-convert:hover {\n",
              "      background-color: #434B5C;\n",
              "      box-shadow: 0px 1px 3px 1px rgba(0, 0, 0, 0.15);\n",
              "      filter: drop-shadow(0px 1px 2px rgba(0, 0, 0, 0.3));\n",
              "      fill: #FFFFFF;\n",
              "    }\n",
              "  </style>\n",
              "\n",
              "    <script>\n",
              "      const buttonEl =\n",
              "        document.querySelector('#df-7bd7a045-9a5c-43f4-8d76-2aee0f4e48ab button.colab-df-convert');\n",
              "      buttonEl.style.display =\n",
              "        google.colab.kernel.accessAllowed ? 'block' : 'none';\n",
              "\n",
              "      async function convertToInteractive(key) {\n",
              "        const element = document.querySelector('#df-7bd7a045-9a5c-43f4-8d76-2aee0f4e48ab');\n",
              "        const dataTable =\n",
              "          await google.colab.kernel.invokeFunction('convertToInteractive',\n",
              "                                                    [key], {});\n",
              "        if (!dataTable) return;\n",
              "\n",
              "        const docLinkHtml = 'Like what you see? Visit the ' +\n",
              "          '<a target=\"_blank\" href=https://colab.research.google.com/notebooks/data_table.ipynb>data table notebook</a>'\n",
              "          + ' to learn more about interactive tables.';\n",
              "        element.innerHTML = '';\n",
              "        dataTable['output_type'] = 'display_data';\n",
              "        await google.colab.output.renderOutput(dataTable, element);\n",
              "        const docLink = document.createElement('div');\n",
              "        docLink.innerHTML = docLinkHtml;\n",
              "        element.appendChild(docLink);\n",
              "      }\n",
              "    </script>\n",
              "  </div>\n",
              "\n",
              "\n",
              "<div id=\"df-d575473f-998f-4f65-81f1-fbe42176832d\">\n",
              "  <button class=\"colab-df-quickchart\" onclick=\"quickchart('df-d575473f-998f-4f65-81f1-fbe42176832d')\"\n",
              "            title=\"Suggest charts\"\n",
              "            style=\"display:none;\">\n",
              "\n",
              "<svg xmlns=\"http://www.w3.org/2000/svg\" height=\"24px\"viewBox=\"0 0 24 24\"\n",
              "     width=\"24px\">\n",
              "    <g>\n",
              "        <path d=\"M19 3H5c-1.1 0-2 .9-2 2v14c0 1.1.9 2 2 2h14c1.1 0 2-.9 2-2V5c0-1.1-.9-2-2-2zM9 17H7v-7h2v7zm4 0h-2V7h2v10zm4 0h-2v-4h2v4z\"/>\n",
              "    </g>\n",
              "</svg>\n",
              "  </button>\n",
              "\n",
              "<style>\n",
              "  .colab-df-quickchart {\n",
              "      --bg-color: #E8F0FE;\n",
              "      --fill-color: #1967D2;\n",
              "      --hover-bg-color: #E2EBFA;\n",
              "      --hover-fill-color: #174EA6;\n",
              "      --disabled-fill-color: #AAA;\n",
              "      --disabled-bg-color: #DDD;\n",
              "  }\n",
              "\n",
              "  [theme=dark] .colab-df-quickchart {\n",
              "      --bg-color: #3B4455;\n",
              "      --fill-color: #D2E3FC;\n",
              "      --hover-bg-color: #434B5C;\n",
              "      --hover-fill-color: #FFFFFF;\n",
              "      --disabled-bg-color: #3B4455;\n",
              "      --disabled-fill-color: #666;\n",
              "  }\n",
              "\n",
              "  .colab-df-quickchart {\n",
              "    background-color: var(--bg-color);\n",
              "    border: none;\n",
              "    border-radius: 50%;\n",
              "    cursor: pointer;\n",
              "    display: none;\n",
              "    fill: var(--fill-color);\n",
              "    height: 32px;\n",
              "    padding: 0;\n",
              "    width: 32px;\n",
              "  }\n",
              "\n",
              "  .colab-df-quickchart:hover {\n",
              "    background-color: var(--hover-bg-color);\n",
              "    box-shadow: 0 1px 2px rgba(60, 64, 67, 0.3), 0 1px 3px 1px rgba(60, 64, 67, 0.15);\n",
              "    fill: var(--button-hover-fill-color);\n",
              "  }\n",
              "\n",
              "  .colab-df-quickchart-complete:disabled,\n",
              "  .colab-df-quickchart-complete:disabled:hover {\n",
              "    background-color: var(--disabled-bg-color);\n",
              "    fill: var(--disabled-fill-color);\n",
              "    box-shadow: none;\n",
              "  }\n",
              "\n",
              "  .colab-df-spinner {\n",
              "    border: 2px solid var(--fill-color);\n",
              "    border-color: transparent;\n",
              "    border-bottom-color: var(--fill-color);\n",
              "    animation:\n",
              "      spin 1s steps(1) infinite;\n",
              "  }\n",
              "\n",
              "  @keyframes spin {\n",
              "    0% {\n",
              "      border-color: transparent;\n",
              "      border-bottom-color: var(--fill-color);\n",
              "      border-left-color: var(--fill-color);\n",
              "    }\n",
              "    20% {\n",
              "      border-color: transparent;\n",
              "      border-left-color: var(--fill-color);\n",
              "      border-top-color: var(--fill-color);\n",
              "    }\n",
              "    30% {\n",
              "      border-color: transparent;\n",
              "      border-left-color: var(--fill-color);\n",
              "      border-top-color: var(--fill-color);\n",
              "      border-right-color: var(--fill-color);\n",
              "    }\n",
              "    40% {\n",
              "      border-color: transparent;\n",
              "      border-right-color: var(--fill-color);\n",
              "      border-top-color: var(--fill-color);\n",
              "    }\n",
              "    60% {\n",
              "      border-color: transparent;\n",
              "      border-right-color: var(--fill-color);\n",
              "    }\n",
              "    80% {\n",
              "      border-color: transparent;\n",
              "      border-right-color: var(--fill-color);\n",
              "      border-bottom-color: var(--fill-color);\n",
              "    }\n",
              "    90% {\n",
              "      border-color: transparent;\n",
              "      border-bottom-color: var(--fill-color);\n",
              "    }\n",
              "  }\n",
              "</style>\n",
              "\n",
              "  <script>\n",
              "    async function quickchart(key) {\n",
              "      const quickchartButtonEl =\n",
              "        document.querySelector('#' + key + ' button');\n",
              "      quickchartButtonEl.disabled = true;  // To prevent multiple clicks.\n",
              "      quickchartButtonEl.classList.add('colab-df-spinner');\n",
              "      try {\n",
              "        const charts = await google.colab.kernel.invokeFunction(\n",
              "            'suggestCharts', [key], {});\n",
              "      } catch (error) {\n",
              "        console.error('Error during call to suggestCharts:', error);\n",
              "      }\n",
              "      quickchartButtonEl.classList.remove('colab-df-spinner');\n",
              "      quickchartButtonEl.classList.add('colab-df-quickchart-complete');\n",
              "    }\n",
              "    (() => {\n",
              "      let quickchartButtonEl =\n",
              "        document.querySelector('#df-d575473f-998f-4f65-81f1-fbe42176832d button');\n",
              "      quickchartButtonEl.style.display =\n",
              "        google.colab.kernel.accessAllowed ? 'block' : 'none';\n",
              "    })();\n",
              "  </script>\n",
              "</div>\n",
              "\n",
              "  <div id=\"id_b88077a3-ef33-4c87-b973-bdda09ee1171\">\n",
              "    <style>\n",
              "      .colab-df-generate {\n",
              "        background-color: #E8F0FE;\n",
              "        border: none;\n",
              "        border-radius: 50%;\n",
              "        cursor: pointer;\n",
              "        display: none;\n",
              "        fill: #1967D2;\n",
              "        height: 32px;\n",
              "        padding: 0 0 0 0;\n",
              "        width: 32px;\n",
              "      }\n",
              "\n",
              "      .colab-df-generate:hover {\n",
              "        background-color: #E2EBFA;\n",
              "        box-shadow: 0px 1px 2px rgba(60, 64, 67, 0.3), 0px 1px 3px 1px rgba(60, 64, 67, 0.15);\n",
              "        fill: #174EA6;\n",
              "      }\n",
              "\n",
              "      [theme=dark] .colab-df-generate {\n",
              "        background-color: #3B4455;\n",
              "        fill: #D2E3FC;\n",
              "      }\n",
              "\n",
              "      [theme=dark] .colab-df-generate:hover {\n",
              "        background-color: #434B5C;\n",
              "        box-shadow: 0px 1px 3px 1px rgba(0, 0, 0, 0.15);\n",
              "        filter: drop-shadow(0px 1px 2px rgba(0, 0, 0, 0.3));\n",
              "        fill: #FFFFFF;\n",
              "      }\n",
              "    </style>\n",
              "    <button class=\"colab-df-generate\" onclick=\"generateWithVariable('df')\"\n",
              "            title=\"Generate code using this dataframe.\"\n",
              "            style=\"display:none;\">\n",
              "\n",
              "  <svg xmlns=\"http://www.w3.org/2000/svg\" height=\"24px\"viewBox=\"0 0 24 24\"\n",
              "       width=\"24px\">\n",
              "    <path d=\"M7,19H8.4L18.45,9,17,7.55,7,17.6ZM5,21V16.75L18.45,3.32a2,2,0,0,1,2.83,0l1.4,1.43a1.91,1.91,0,0,1,.58,1.4,1.91,1.91,0,0,1-.58,1.4L9.25,21ZM18.45,9,17,7.55Zm-12,3A5.31,5.31,0,0,0,4.9,8.1,5.31,5.31,0,0,0,1,6.5,5.31,5.31,0,0,0,4.9,4.9,5.31,5.31,0,0,0,6.5,1,5.31,5.31,0,0,0,8.1,4.9,5.31,5.31,0,0,0,12,6.5,5.46,5.46,0,0,0,6.5,12Z\"/>\n",
              "  </svg>\n",
              "    </button>\n",
              "    <script>\n",
              "      (() => {\n",
              "      const buttonEl =\n",
              "        document.querySelector('#id_b88077a3-ef33-4c87-b973-bdda09ee1171 button.colab-df-generate');\n",
              "      buttonEl.style.display =\n",
              "        google.colab.kernel.accessAllowed ? 'block' : 'none';\n",
              "\n",
              "      buttonEl.onclick = () => {\n",
              "        google.colab.notebook.generateWithVariable('df');\n",
              "      }\n",
              "      })();\n",
              "    </script>\n",
              "  </div>\n",
              "\n",
              "    </div>\n",
              "  </div>\n"
            ],
            "application/vnd.google.colaboratory.intrinsic+json": {
              "type": "dataframe",
              "variable_name": "df",
              "summary": "{\n  \"name\": \"df\",\n  \"rows\": 2,\n  \"fields\": [\n    {\n      \"column\": \"Method\",\n      \"properties\": {\n        \"dtype\": \"string\",\n        \"num_unique_values\": 2,\n        \"samples\": [\n          \"NumPy\",\n          \"Python\"\n        ],\n        \"semantic_type\": \"\",\n        \"description\": \"\"\n      }\n    },\n    {\n      \"column\": \"Average Execution Time (seconds)\",\n      \"properties\": {\n        \"dtype\": \"number\",\n        \"std\": 6.6692687383356475,\n        \"min\": 0.003022933006286621,\n        \"max\": 9.43479323387146,\n        \"num_unique_values\": 2,\n        \"samples\": [\n          0.003022933006286621,\n          9.43479323387146\n        ],\n        \"semantic_type\": \"\",\n        \"description\": \"\"\n      }\n    }\n  ]\n}"
            }
          },
          "metadata": {}
        }
      ]
    },
    {
      "cell_type": "code",
      "execution_count": null,
      "metadata": {
        "scrolled": true,
        "id": "M5czoKckiXcN",
        "outputId": "479090f1-adbe-4ef3-a544-554d6c3cc22b",
        "colab": {
          "base_uri": "https://localhost:8080/"
        }
      },
      "outputs": [
        {
          "output_type": "stream",
          "name": "stdout",
          "text": [
            "CPU times: user 10.6 s, sys: 22.6 ms, total: 10.6 s\n",
            "Wall time: 11.5 s\n"
          ]
        }
      ],
      "source": [
        "%%time\n",
        "randa = random_matrix(600, 100)\n",
        "randb = random_matrix(100, 600)\n",
        "x = matmul(randa, randb)"
      ]
    },
    {
      "cell_type": "code",
      "execution_count": null,
      "metadata": {
        "collapsed": true,
        "id": "hXy_q4S8iXcN"
      },
      "outputs": [],
      "source": [
        "# Maybe that's not that bad?  Let's try a simpler case.\n",
        "def python_dot_product(xs, ys):\n",
        "    return sum(x * y for x, y in zip(xs, ys))"
      ]
    },
    {
      "cell_type": "code",
      "source": [
        "%load_ext fortranmagic"
      ],
      "metadata": {
        "colab": {
          "base_uri": "https://localhost:8080/"
        },
        "id": "EFzDeFXWp1Ki",
        "outputId": "9a9d766c-68b4-47f5-cfc0-fb826dc3ada6"
      },
      "execution_count": 6,
      "outputs": [
        {
          "output_type": "stream",
          "name": "stdout",
          "text": [
            "The fortranmagic extension is already loaded. To reload it, use:\n",
            "  %reload_ext fortranmagic\n"
          ]
        }
      ]
    },
    {
      "cell_type": "code",
      "execution_count": null,
      "metadata": {
        "id": "qylqVrbqiXcO"
      },
      "outputs": [],
      "source": [
        "%%fortran\n",
        "subroutine fortran_dot_product(xs, ys, result)\n",
        "    double precision, intent(in) :: xs(:)\n",
        "    double precision, intent(in) :: ys(:)\n",
        "    double precision, intent(out) :: result\n",
        "\n",
        "    result = sum(xs * ys)\n",
        "end"
      ]
    },
    {
      "cell_type": "code",
      "execution_count": null,
      "metadata": {
        "collapsed": true,
        "id": "BGacVDX-iXcO"
      },
      "outputs": [],
      "source": [
        "list_data = [float(i) for i in range(100000)]\n",
        "array_data = np.array(list_data)"
      ]
    },
    {
      "cell_type": "code",
      "execution_count": null,
      "metadata": {
        "id": "aaZPRE4aiXcO"
      },
      "outputs": [],
      "source": [
        "%%time\n",
        "python_dot_product(list_data, list_data)"
      ]
    },
    {
      "cell_type": "code",
      "execution_count": null,
      "metadata": {
        "id": "e9tNvTwLiXcO"
      },
      "outputs": [],
      "source": [
        "%%time\n",
        "fortran_dot_product(array_data, array_data)"
      ]
    },
    {
      "cell_type": "markdown",
      "metadata": {
        "id": "qW-_Q7yuiXcO"
      },
      "source": [
        "<center><img src=\"https://raw.githubusercontent.com/ssanderson/pydata-toolbox/master/notebooks/images/sloth.gif\" alt=\"Drawing\" style=\"width: 1080px;\"/></center>\n"
      ]
    },
    {
      "cell_type": "markdown",
      "source": [
        "**My own example 10 - Deifining A (2x2)  and B (2x2)**"
      ],
      "metadata": {
        "id": "y37MLCQ4PQd3"
      }
    },
    {
      "cell_type": "code",
      "source": [
        "A = [[1, 2],\n",
        "      [3, 4]]\n",
        "\n",
        "B = [[5, 6],\n",
        "      [7, 8]]"
      ],
      "metadata": {
        "id": "7i0uJGD0v105"
      },
      "execution_count": null,
      "outputs": []
    },
    {
      "cell_type": "markdown",
      "source": [
        "**My own example 11 - Defining Fortran subroutine matmul(A,B) for 2x2 matrices**"
      ],
      "metadata": {
        "id": "nuV59KXQPipC"
      }
    },
    {
      "cell_type": "code",
      "source": [
        "%reload_ext fortranmagic"
      ],
      "metadata": {
        "id": "Y9g7HnoLrbN0"
      },
      "execution_count": null,
      "outputs": []
    },
    {
      "cell_type": "code",
      "source": [
        "%%fortran\n",
        "subroutine matmul_fortran(A, B, result)\n",
        "    double precision, intent(in) :: A(:,:)\n",
        "    double precision, intent(in) :: B(:,:)\n",
        "    double precision, intent(out) :: result(size(A,1), size(B,2))\n",
        "\n",
        "    result = matmul(A,B)\n",
        "end"
      ],
      "metadata": {
        "id": "aR3uBr3Br01q",
        "colab": {
          "base_uri": "https://localhost:8080/",
          "height": 792
        },
        "collapsed": true,
        "outputId": "cbacebd4-571f-45fd-9b69-45624f41af3c"
      },
      "execution_count": 11,
      "outputs": [
        {
          "output_type": "stream",
          "name": "stderr",
          "text": [
            "Traceback (most recent call last):\n",
            "  File \"/usr/lib/python3.10/runpy.py\", line 196, in _run_module_as_main\n",
            "    return _run_code(code, main_globals, None,\n",
            "  File \"/usr/lib/python3.10/runpy.py\", line 86, in _run_code\n",
            "    exec(code, run_globals)\n",
            "  File \"/usr/local/lib/python3.10/dist-packages/numpy/f2py/__main__.py\", line 5, in <module>\n",
            "    main()\n",
            "  File \"/usr/local/lib/python3.10/dist-packages/numpy/f2py/f2py2e.py\", line 766, in main\n",
            "    run_compile()\n",
            "  File \"/usr/local/lib/python3.10/dist-packages/numpy/f2py/f2py2e.py\", line 594, in run_compile\n",
            "    build_backend = f2py_build_generator(backend_key)\n",
            "  File \"/usr/local/lib/python3.10/dist-packages/numpy/f2py/_backends/__init__.py\", line 6, in f2py_build_generator\n",
            "    from ._distutils import DistutilsBackend\n",
            "  File \"/usr/local/lib/python3.10/dist-packages/numpy/f2py/_backends/_distutils.py\", line 3, in <module>\n",
            "    from numpy.distutils.core import setup, Extension\n",
            "  File \"/usr/local/lib/python3.10/dist-packages/numpy/distutils/core.py\", line 24, in <module>\n",
            "    from numpy.distutils.command import config, config_compiler, \\\n",
            "  File \"/usr/local/lib/python3.10/dist-packages/numpy/distutils/command/config.py\", line 19, in <module>\n",
            "    from numpy.distutils.mingw32ccompiler import generate_manifest\n",
            "  File \"/usr/local/lib/python3.10/dist-packages/numpy/distutils/mingw32ccompiler.py\", line 27, in <module>\n",
            "    from distutils.msvccompiler import get_build_version as get_build_msvc_version\n",
            "ModuleNotFoundError: No module named 'distutils.msvccompiler'\n"
          ]
        },
        {
          "output_type": "error",
          "ename": "RuntimeError",
          "evalue": "f2py failed, see output",
          "traceback": [
            "\u001b[0;31m---------------------------------------------------------------------------\u001b[0m",
            "\u001b[0;31mRuntimeError\u001b[0m                              Traceback (most recent call last)",
            "\u001b[0;32m<ipython-input-11-2d405407b7f9>\u001b[0m in \u001b[0;36m<cell line: 1>\u001b[0;34m()\u001b[0m\n\u001b[0;32m----> 1\u001b[0;31m \u001b[0mget_ipython\u001b[0m\u001b[0;34m(\u001b[0m\u001b[0;34m)\u001b[0m\u001b[0;34m.\u001b[0m\u001b[0mrun_cell_magic\u001b[0m\u001b[0;34m(\u001b[0m\u001b[0;34m'fortran'\u001b[0m\u001b[0;34m,\u001b[0m \u001b[0;34m''\u001b[0m\u001b[0;34m,\u001b[0m \u001b[0;34m'subroutine matmul_fortran(A, B, result)\\n    double precision, intent(in) :: A(:,:)\\n    double precision, intent(in) :: B(:,:)\\n    double precision, intent(out) :: result(size(A,1), size(B,2))\\n\\n    result = matmul(A,B)\\nend\\n'\u001b[0m\u001b[0;34m)\u001b[0m\u001b[0;34m\u001b[0m\u001b[0;34m\u001b[0m\u001b[0m\n\u001b[0m",
            "\u001b[0;32m/usr/local/lib/python3.10/dist-packages/google/colab/_shell.py\u001b[0m in \u001b[0;36mrun_cell_magic\u001b[0;34m(self, magic_name, line, cell)\u001b[0m\n\u001b[1;32m    332\u001b[0m     \u001b[0;32mif\u001b[0m \u001b[0mline\u001b[0m \u001b[0;32mand\u001b[0m \u001b[0;32mnot\u001b[0m \u001b[0mcell\u001b[0m\u001b[0;34m:\u001b[0m\u001b[0;34m\u001b[0m\u001b[0;34m\u001b[0m\u001b[0m\n\u001b[1;32m    333\u001b[0m       \u001b[0mcell\u001b[0m \u001b[0;34m=\u001b[0m \u001b[0;34m' '\u001b[0m\u001b[0;34m\u001b[0m\u001b[0;34m\u001b[0m\u001b[0m\n\u001b[0;32m--> 334\u001b[0;31m     \u001b[0;32mreturn\u001b[0m \u001b[0msuper\u001b[0m\u001b[0;34m(\u001b[0m\u001b[0;34m)\u001b[0m\u001b[0;34m.\u001b[0m\u001b[0mrun_cell_magic\u001b[0m\u001b[0;34m(\u001b[0m\u001b[0mmagic_name\u001b[0m\u001b[0;34m,\u001b[0m \u001b[0mline\u001b[0m\u001b[0;34m,\u001b[0m \u001b[0mcell\u001b[0m\u001b[0;34m)\u001b[0m\u001b[0;34m\u001b[0m\u001b[0;34m\u001b[0m\u001b[0m\n\u001b[0m\u001b[1;32m    335\u001b[0m \u001b[0;34m\u001b[0m\u001b[0m\n\u001b[1;32m    336\u001b[0m \u001b[0;34m\u001b[0m\u001b[0m\n",
            "\u001b[0;32m/usr/local/lib/python3.10/dist-packages/IPython/core/interactiveshell.py\u001b[0m in \u001b[0;36mrun_cell_magic\u001b[0;34m(self, magic_name, line, cell)\u001b[0m\n\u001b[1;32m   2471\u001b[0m             \u001b[0;32mwith\u001b[0m \u001b[0mself\u001b[0m\u001b[0;34m.\u001b[0m\u001b[0mbuiltin_trap\u001b[0m\u001b[0;34m:\u001b[0m\u001b[0;34m\u001b[0m\u001b[0;34m\u001b[0m\u001b[0m\n\u001b[1;32m   2472\u001b[0m                 \u001b[0margs\u001b[0m \u001b[0;34m=\u001b[0m \u001b[0;34m(\u001b[0m\u001b[0mmagic_arg_s\u001b[0m\u001b[0;34m,\u001b[0m \u001b[0mcell\u001b[0m\u001b[0;34m)\u001b[0m\u001b[0;34m\u001b[0m\u001b[0;34m\u001b[0m\u001b[0m\n\u001b[0;32m-> 2473\u001b[0;31m                 \u001b[0mresult\u001b[0m \u001b[0;34m=\u001b[0m \u001b[0mfn\u001b[0m\u001b[0;34m(\u001b[0m\u001b[0;34m*\u001b[0m\u001b[0margs\u001b[0m\u001b[0;34m,\u001b[0m \u001b[0;34m**\u001b[0m\u001b[0mkwargs\u001b[0m\u001b[0;34m)\u001b[0m\u001b[0;34m\u001b[0m\u001b[0;34m\u001b[0m\u001b[0m\n\u001b[0m\u001b[1;32m   2474\u001b[0m             \u001b[0;32mreturn\u001b[0m \u001b[0mresult\u001b[0m\u001b[0;34m\u001b[0m\u001b[0;34m\u001b[0m\u001b[0m\n\u001b[1;32m   2475\u001b[0m \u001b[0;34m\u001b[0m\u001b[0m\n",
            "\u001b[0;32m<decorator-gen-158>\u001b[0m in \u001b[0;36mfortran\u001b[0;34m(self, line, cell)\u001b[0m\n",
            "\u001b[0;32m/usr/local/lib/python3.10/dist-packages/IPython/core/magic.py\u001b[0m in \u001b[0;36m<lambda>\u001b[0;34m(f, *a, **k)\u001b[0m\n\u001b[1;32m    185\u001b[0m     \u001b[0;31m# but it's overkill for just that one bit of state.\u001b[0m\u001b[0;34m\u001b[0m\u001b[0;34m\u001b[0m\u001b[0m\n\u001b[1;32m    186\u001b[0m     \u001b[0;32mdef\u001b[0m \u001b[0mmagic_deco\u001b[0m\u001b[0;34m(\u001b[0m\u001b[0marg\u001b[0m\u001b[0;34m)\u001b[0m\u001b[0;34m:\u001b[0m\u001b[0;34m\u001b[0m\u001b[0;34m\u001b[0m\u001b[0m\n\u001b[0;32m--> 187\u001b[0;31m         \u001b[0mcall\u001b[0m \u001b[0;34m=\u001b[0m \u001b[0;32mlambda\u001b[0m \u001b[0mf\u001b[0m\u001b[0;34m,\u001b[0m \u001b[0;34m*\u001b[0m\u001b[0ma\u001b[0m\u001b[0;34m,\u001b[0m \u001b[0;34m**\u001b[0m\u001b[0mk\u001b[0m\u001b[0;34m:\u001b[0m \u001b[0mf\u001b[0m\u001b[0;34m(\u001b[0m\u001b[0;34m*\u001b[0m\u001b[0ma\u001b[0m\u001b[0;34m,\u001b[0m \u001b[0;34m**\u001b[0m\u001b[0mk\u001b[0m\u001b[0;34m)\u001b[0m\u001b[0;34m\u001b[0m\u001b[0;34m\u001b[0m\u001b[0m\n\u001b[0m\u001b[1;32m    188\u001b[0m \u001b[0;34m\u001b[0m\u001b[0m\n\u001b[1;32m    189\u001b[0m         \u001b[0;32mif\u001b[0m \u001b[0mcallable\u001b[0m\u001b[0;34m(\u001b[0m\u001b[0marg\u001b[0m\u001b[0;34m)\u001b[0m\u001b[0;34m:\u001b[0m\u001b[0;34m\u001b[0m\u001b[0;34m\u001b[0m\u001b[0m\n",
            "\u001b[0;32m/usr/local/lib/python3.10/dist-packages/fortranmagic.py\u001b[0m in \u001b[0;36mfortran\u001b[0;34m(self, line, cell)\u001b[0m\n\u001b[1;32m    514\u001b[0m                                  fflags=fflags)\n\u001b[1;32m    515\u001b[0m             \u001b[0;32mif\u001b[0m \u001b[0mres\u001b[0m \u001b[0;34m!=\u001b[0m \u001b[0;36m0\u001b[0m\u001b[0;34m:\u001b[0m\u001b[0;34m\u001b[0m\u001b[0;34m\u001b[0m\u001b[0m\n\u001b[0;32m--> 516\u001b[0;31m                 \u001b[0;32mraise\u001b[0m \u001b[0mRuntimeError\u001b[0m\u001b[0;34m(\u001b[0m\u001b[0;34m\"f2py failed, see output\"\u001b[0m\u001b[0;34m)\u001b[0m\u001b[0;34m\u001b[0m\u001b[0;34m\u001b[0m\u001b[0m\n\u001b[0m\u001b[1;32m    517\u001b[0m \u001b[0;34m\u001b[0m\u001b[0m\n\u001b[1;32m    518\u001b[0m             \u001b[0mself\u001b[0m\u001b[0;34m.\u001b[0m\u001b[0m_code_cache\u001b[0m\u001b[0;34m[\u001b[0m\u001b[0mkey\u001b[0m\u001b[0;34m]\u001b[0m \u001b[0;34m=\u001b[0m \u001b[0mmodule_name\u001b[0m\u001b[0;34m\u001b[0m\u001b[0;34m\u001b[0m\u001b[0m\n",
            "\u001b[0;31mRuntimeError\u001b[0m: f2py failed, see output"
          ]
        }
      ]
    },
    {
      "cell_type": "markdown",
      "source": [],
      "metadata": {
        "id": "xHG-56MyM4so"
      }
    },
    {
      "cell_type": "markdown",
      "source": [
        "**My own example 12 -Run Fortran subroutine matmul(A,B) with a and b 2x2 matrices**"
      ],
      "metadata": {
        "id": "zU1RmmstRPd4"
      }
    },
    {
      "cell_type": "code",
      "source": [
        "%%time\n",
        "matmul_fortran(A,B)"
      ],
      "metadata": {
        "id": "LTcNJB4L6wwX",
        "colab": {
          "base_uri": "https://localhost:8080/",
          "height": 124
        },
        "outputId": "6e64e258-20af-4e4b-86b1-94b777f1fa9e"
      },
      "execution_count": 14,
      "outputs": [
        {
          "output_type": "error",
          "ename": "NameError",
          "evalue": "name 'matmul_fortran' is not defined",
          "traceback": [
            "\u001b[0;31m---------------------------------------------------------------------------\u001b[0m",
            "\u001b[0;31mNameError\u001b[0m                                 Traceback (most recent call last)",
            "\u001b[0;32m<timed eval>\u001b[0m in \u001b[0;36m<module>\u001b[0;34m\u001b[0m\n",
            "\u001b[0;31mNameError\u001b[0m: name 'matmul_fortran' is not defined"
          ]
        }
      ]
    },
    {
      "cell_type": "markdown",
      "source": [
        "**My own example 13 - Defining Fortran subroutine matmul(A,B) for 600x100 and 100x600 matrices**"
      ],
      "metadata": {
        "id": "_ra5WDYERX1e"
      }
    },
    {
      "cell_type": "code",
      "source": [
        "%%fortran\n",
        "subroutine matmult(A, B, result)\n",
        "    double precision, intent(in) :: A(600,100)\n",
        "    double precision, intent(in) :: B(100,600)\n",
        "    double precision, intent(out) :: result(size(A,1), size(B,2))\n",
        "\n",
        "    result = matmul(A,B)\n",
        "end"
      ],
      "metadata": {
        "id": "4mDURPVKkBDD"
      },
      "execution_count": null,
      "outputs": []
    },
    {
      "cell_type": "markdown",
      "source": [
        "**My own example 14 -Run Fortran subroutine matmul(A,B) with 600x100 and 100x600 matrices**"
      ],
      "metadata": {
        "id": "cf5NwQZQRjx-"
      }
    },
    {
      "cell_type": "code",
      "source": [
        "randa = random_matrix(600,100)\n",
        "randb = random_matrix(100,600)\n",
        "matmul_fortran(randa, randb)"
      ],
      "metadata": {
        "id": "S7xtJkrb6yuQ",
        "colab": {
          "base_uri": "https://localhost:8080/",
          "height": 176
        },
        "outputId": "7ff45e74-a4d4-47a4-ab35-d1de5f19f991"
      },
      "execution_count": 17,
      "outputs": [
        {
          "output_type": "error",
          "ename": "NameError",
          "evalue": "name 'matmul_fortran' is not defined",
          "traceback": [
            "\u001b[0;31m---------------------------------------------------------------------------\u001b[0m",
            "\u001b[0;31mNameError\u001b[0m                                 Traceback (most recent call last)",
            "\u001b[0;32m<ipython-input-17-6dfc724ff137>\u001b[0m in \u001b[0;36m<cell line: 3>\u001b[0;34m()\u001b[0m\n\u001b[1;32m      1\u001b[0m \u001b[0mranda\u001b[0m \u001b[0;34m=\u001b[0m \u001b[0mrandom_matrix\u001b[0m\u001b[0;34m(\u001b[0m\u001b[0;36m600\u001b[0m\u001b[0;34m,\u001b[0m\u001b[0;36m100\u001b[0m\u001b[0;34m)\u001b[0m\u001b[0;34m\u001b[0m\u001b[0;34m\u001b[0m\u001b[0m\n\u001b[1;32m      2\u001b[0m \u001b[0mrandb\u001b[0m \u001b[0;34m=\u001b[0m \u001b[0mrandom_matrix\u001b[0m\u001b[0;34m(\u001b[0m\u001b[0;36m100\u001b[0m\u001b[0;34m,\u001b[0m\u001b[0;36m600\u001b[0m\u001b[0;34m)\u001b[0m\u001b[0;34m\u001b[0m\u001b[0;34m\u001b[0m\u001b[0m\n\u001b[0;32m----> 3\u001b[0;31m \u001b[0mmatmul_fortran\u001b[0m\u001b[0;34m(\u001b[0m\u001b[0mranda\u001b[0m\u001b[0;34m,\u001b[0m \u001b[0mrandb\u001b[0m\u001b[0;34m)\u001b[0m\u001b[0;34m\u001b[0m\u001b[0;34m\u001b[0m\u001b[0m\n\u001b[0m",
            "\u001b[0;31mNameError\u001b[0m: name 'matmul_fortran' is not defined"
          ]
        }
      ]
    },
    {
      "cell_type": "markdown",
      "source": [
        "**My own example 15 - Running 10 times the  Fortran subroutine matmul(A,B) with 600x100 and 100x600 matrices and adding Fortran magic average execution time to the data frame**"
      ],
      "metadata": {
        "id": "5yjoH7W_R0E3"
      }
    },
    {
      "cell_type": "code",
      "source": [
        "import time\n",
        "import numpy as np\n",
        "import pandas as pd\n",
        "\n",
        "average_execution_times = pd.DataFrame(columns=['name', 'execution_time'])\n",
        "\n",
        "fortran_magic_execution_times = []\n",
        "\n",
        "for i in range(10):\n",
        "    randa = random_matrix(600, 100)\n",
        "    randb = random_matrix(100, 600)\n",
        "\n",
        "    start_time = time.time()\n",
        "    matmul_fortran(randa, randb)\n",
        "    end_time = time.time()\n",
        "\n",
        "    execution_time = end_time - start_time\n",
        "    fortran_magic_execution_times.append(execution_time)\n",
        "\n",
        "fortran_magic_mean_execution = np.mean(fortran_magic_execution_times)\n",
        "\n",
        "new_row = pd.DataFrame([{'name': 'fortran_magic', 'execution_time': fortran_magic_mean_execution}])\n",
        "average_execution_times = pd.concat([average_execution_times, new_row], ignore_index=True)\n",
        "\n",
        "average_execution_times"
      ],
      "metadata": {
        "id": "2-A0QOte603A",
        "colab": {
          "base_uri": "https://localhost:8080/",
          "height": 211
        },
        "outputId": "a447f492-9006-43e0-fa13-dc623af7d88e"
      },
      "execution_count": 18,
      "outputs": [
        {
          "output_type": "error",
          "ename": "NameError",
          "evalue": "name 'matmul_fortran' is not defined",
          "traceback": [
            "\u001b[0;31m---------------------------------------------------------------------------\u001b[0m",
            "\u001b[0;31mNameError\u001b[0m                                 Traceback (most recent call last)",
            "\u001b[0;32m<ipython-input-18-55d23451ea14>\u001b[0m in \u001b[0;36m<cell line: 9>\u001b[0;34m()\u001b[0m\n\u001b[1;32m     12\u001b[0m \u001b[0;34m\u001b[0m\u001b[0m\n\u001b[1;32m     13\u001b[0m     \u001b[0mstart_time\u001b[0m \u001b[0;34m=\u001b[0m \u001b[0mtime\u001b[0m\u001b[0;34m.\u001b[0m\u001b[0mtime\u001b[0m\u001b[0;34m(\u001b[0m\u001b[0;34m)\u001b[0m\u001b[0;34m\u001b[0m\u001b[0;34m\u001b[0m\u001b[0m\n\u001b[0;32m---> 14\u001b[0;31m     \u001b[0mmatmul_fortran\u001b[0m\u001b[0;34m(\u001b[0m\u001b[0mranda\u001b[0m\u001b[0;34m,\u001b[0m \u001b[0mrandb\u001b[0m\u001b[0;34m)\u001b[0m\u001b[0;34m\u001b[0m\u001b[0;34m\u001b[0m\u001b[0m\n\u001b[0m\u001b[1;32m     15\u001b[0m     \u001b[0mend_time\u001b[0m \u001b[0;34m=\u001b[0m \u001b[0mtime\u001b[0m\u001b[0;34m.\u001b[0m\u001b[0mtime\u001b[0m\u001b[0;34m(\u001b[0m\u001b[0;34m)\u001b[0m\u001b[0;34m\u001b[0m\u001b[0;34m\u001b[0m\u001b[0m\n\u001b[1;32m     16\u001b[0m \u001b[0;34m\u001b[0m\u001b[0m\n",
            "\u001b[0;31mNameError\u001b[0m: name 'matmul_fortran' is not defined"
          ]
        }
      ]
    },
    {
      "cell_type": "markdown",
      "source": [
        "**My own example 16 - Creating a  Fortran program that mutiplies 10 times A(600x100) and  B (100x600) matrices**"
      ],
      "metadata": {
        "id": "w5hURiGOShpG"
      }
    },
    {
      "cell_type": "code",
      "source": [
        "!apt-get install -y gfortran"
      ],
      "metadata": {
        "id": "xCkI1njo62Hv",
        "colab": {
          "base_uri": "https://localhost:8080/"
        },
        "outputId": "dc6cae0b-a2f0-4b0f-9c15-38a61362438c"
      },
      "execution_count": 19,
      "outputs": [
        {
          "output_type": "stream",
          "name": "stdout",
          "text": [
            "Reading package lists... Done\n",
            "Building dependency tree... Done\n",
            "Reading state information... Done\n",
            "gfortran is already the newest version (4:11.2.0-1ubuntu1).\n",
            "0 upgraded, 0 newly installed, 0 to remove and 49 not upgraded.\n"
          ]
        }
      ]
    },
    {
      "cell_type": "code",
      "source": [
        "%%writefile matrixMulti.f90\n",
        "PROGRAM MatrixMultiplication\n",
        "  IMPLICIT NONE\n",
        "  DOUBLE PRECISION, DIMENSION(600,100) :: A\n",
        "  DOUBLE PRECISION, DIMENSION(100,600) :: B\n",
        "  DOUBLE PRECISION, DIMENSION(600,600) :: result\n",
        "  INTEGER :: i\n",
        "\n",
        "  ! Perform matrix multiplication ten times\n",
        "  DO i = 1, 10\n",
        "    CALL random_number(A)\n",
        "    CALL random_number(B)\n",
        "    CALL matmult(A, B, result)\n",
        "  END DO\n",
        "\n",
        "\n",
        "CONTAINS\n",
        "\n",
        "  SUBROUTINE matmult(A, B, result)\n",
        "    DOUBLE PRECISION, INTENT(IN) :: A(600,100)\n",
        "    DOUBLE PRECISION, INTENT(IN) :: B(100,600)\n",
        "    DOUBLE PRECISION, INTENT(OUT) :: result(600,600)\n",
        "\n",
        "    result = MATMUL(A,B)\n",
        "  END SUBROUTINE matmult\n",
        "\n",
        "END PROGRAM MatrixMultiplication"
      ],
      "metadata": {
        "colab": {
          "base_uri": "https://localhost:8080/"
        },
        "id": "DP2EmdcMPAN3",
        "outputId": "9228c285-f492-4af0-decc-50222ad753e2"
      },
      "execution_count": 25,
      "outputs": [
        {
          "output_type": "stream",
          "name": "stdout",
          "text": [
            "Writing matrixMulti.f90\n"
          ]
        }
      ]
    },
    {
      "cell_type": "markdown",
      "source": [
        "**My own example 17 - Running the Fortran program that mutiplies 10 times A(600x100) and  B (100x600) matrices**"
      ],
      "metadata": {
        "id": "LJOrD7hyYmTJ"
      }
    },
    {
      "cell_type": "code",
      "source": [
        "import time\n",
        "start_time = time.time()\n",
        "\n",
        "!gfortran matrixMul.f90 -o MatrixMultiplication\n",
        "!./MatrixMultiplication\n",
        "\n",
        "end_time = time.time()\n",
        "fortran_mean_execution_time = (end_time - start_time)/10"
      ],
      "metadata": {
        "id": "hmBeCMGV63z6",
        "colab": {
          "base_uri": "https://localhost:8080/"
        },
        "outputId": "b36aefc4-6950-48ab-e2e0-ab2f8012f62b"
      },
      "execution_count": 34,
      "outputs": [
        {
          "output_type": "stream",
          "name": "stdout",
          "text": [
            "/usr/bin/ld: /tmp/ccSf8c8V.o: in function `MAIN__':\n",
            "matrixMul.f90:(.text+0x140): undefined reference to `matmult_'\n",
            "collect2: error: ld returned 1 exit status\n",
            "/bin/bash: line 1: ./MatrixMultiplication: No such file or directory\n"
          ]
        }
      ]
    },
    {
      "cell_type": "markdown",
      "source": [
        "**My own example 18 - Adding Fortran average execution time to the data frame**"
      ],
      "metadata": {
        "id": "21wSmo50YfIo"
      }
    },
    {
      "cell_type": "code",
      "source": [
        "df = df.append({'name': 'fortran', 'execution_time': fortran_mean_execution_time}, ignore_index=True)\n",
        "df"
      ],
      "metadata": {
        "id": "UDMgoacS642X",
        "colab": {
          "base_uri": "https://localhost:8080/",
          "height": 280
        },
        "outputId": "387d8d5c-80f3-467b-cde8-5108b4d18d26"
      },
      "execution_count": 35,
      "outputs": [
        {
          "output_type": "error",
          "ename": "AttributeError",
          "evalue": "'DataFrame' object has no attribute 'append'",
          "traceback": [
            "\u001b[0;31m---------------------------------------------------------------------------\u001b[0m",
            "\u001b[0;31mAttributeError\u001b[0m                            Traceback (most recent call last)",
            "\u001b[0;32m<ipython-input-35-2b6311a6b5de>\u001b[0m in \u001b[0;36m<cell line: 1>\u001b[0;34m()\u001b[0m\n\u001b[0;32m----> 1\u001b[0;31m \u001b[0mdf\u001b[0m \u001b[0;34m=\u001b[0m \u001b[0mdf\u001b[0m\u001b[0;34m.\u001b[0m\u001b[0mappend\u001b[0m\u001b[0;34m(\u001b[0m\u001b[0;34m{\u001b[0m\u001b[0;34m'name'\u001b[0m\u001b[0;34m:\u001b[0m \u001b[0;34m'fortran'\u001b[0m\u001b[0;34m,\u001b[0m \u001b[0;34m'execution_time'\u001b[0m\u001b[0;34m:\u001b[0m \u001b[0mfortran_mean_execution_time\u001b[0m\u001b[0;34m}\u001b[0m\u001b[0;34m,\u001b[0m \u001b[0mignore_index\u001b[0m\u001b[0;34m=\u001b[0m\u001b[0;32mTrue\u001b[0m\u001b[0;34m)\u001b[0m\u001b[0;34m\u001b[0m\u001b[0;34m\u001b[0m\u001b[0m\n\u001b[0m\u001b[1;32m      2\u001b[0m \u001b[0mdf\u001b[0m\u001b[0;34m\u001b[0m\u001b[0;34m\u001b[0m\u001b[0m\n",
            "\u001b[0;32m/usr/local/lib/python3.10/dist-packages/pandas/core/generic.py\u001b[0m in \u001b[0;36m__getattr__\u001b[0;34m(self, name)\u001b[0m\n\u001b[1;32m   6297\u001b[0m         ):\n\u001b[1;32m   6298\u001b[0m             \u001b[0;32mreturn\u001b[0m \u001b[0mself\u001b[0m\u001b[0;34m[\u001b[0m\u001b[0mname\u001b[0m\u001b[0;34m]\u001b[0m\u001b[0;34m\u001b[0m\u001b[0;34m\u001b[0m\u001b[0m\n\u001b[0;32m-> 6299\u001b[0;31m         \u001b[0;32mreturn\u001b[0m \u001b[0mobject\u001b[0m\u001b[0;34m.\u001b[0m\u001b[0m__getattribute__\u001b[0m\u001b[0;34m(\u001b[0m\u001b[0mself\u001b[0m\u001b[0;34m,\u001b[0m \u001b[0mname\u001b[0m\u001b[0;34m)\u001b[0m\u001b[0;34m\u001b[0m\u001b[0;34m\u001b[0m\u001b[0m\n\u001b[0m\u001b[1;32m   6300\u001b[0m \u001b[0;34m\u001b[0m\u001b[0m\n\u001b[1;32m   6301\u001b[0m     \u001b[0;34m@\u001b[0m\u001b[0mfinal\u001b[0m\u001b[0;34m\u001b[0m\u001b[0;34m\u001b[0m\u001b[0m\n",
            "\u001b[0;31mAttributeError\u001b[0m: 'DataFrame' object has no attribute 'append'"
          ]
        }
      ]
    },
    {
      "cell_type": "markdown",
      "source": [
        "**My own example 19 - Creating a c program that mutiplies 10 times A(600x100) and  B (100x600) matrices**"
      ],
      "metadata": {
        "id": "8G8ZZ2hfZXYA"
      }
    },
    {
      "cell_type": "code",
      "source": [
        "%%writefile program.c\n",
        "#include <stdio.h>\n",
        "#include <stdlib.h>\n",
        "#include <time.h>\n",
        "\n",
        "#define ROWS_A 600\n",
        "#define COLS_A 100\n",
        "#define ROWS_B 100\n",
        "#define COLS_B 600\n",
        "\n",
        "void fill_matrix(int rows, int cols, int matrix[rows][cols]) {\n",
        "    for (int i = 0; i < rows; i++) {\n",
        "        for (int j = 0; j < cols; j++) {\n",
        "            matrix[i][j] = rand() % 100;  // Llena la matriz con valores aleatorios entre 0 y 99\n",
        "        }\n",
        "    }\n",
        "}\n",
        "\n",
        "void multiply_matrices(int rowsA, int colsA, int matrixA[rowsA][colsA], int rowsB, int colsB, int matrixB[rowsB][colsB], int result[rowsA][colsB]) {\n",
        "    for (int i = 0; i < rowsA; i++) {\n",
        "        for (int j = 0; j < colsB; j++) {\n",
        "            result[i][j] = 0;\n",
        "            for (int k = 0; k < colsA; k++) {\n",
        "                result[i][j] += matrixA[i][k] * matrixB[k][j];\n",
        "            }\n",
        "        }\n",
        "    }\n",
        "}\n",
        "\n",
        "int main() {\n",
        "    for (int i = 0; i < 10; i++) {\n",
        "        srand(time(0));  // Inicializa la semilla del generador de números aleatorios\n",
        "\n",
        "        int matrixA[ROWS_A][COLS_A];\n",
        "        int matrixB[ROWS_B][COLS_B];\n",
        "        int result[ROWS_A][COLS_B];\n",
        "\n",
        "        fill_matrix(ROWS_A, COLS_A, matrixA);\n",
        "        fill_matrix(ROWS_B, COLS_B, matrixB);\n",
        "\n",
        "        multiply_matrices(ROWS_A, COLS_A, matrixA, ROWS_B, COLS_B, matrixB, result);\n",
        "    }\n",
        "\n",
        "    return 0;\n",
        "}"
      ],
      "metadata": {
        "id": "BknrT-KK65wP",
        "colab": {
          "base_uri": "https://localhost:8080/"
        },
        "outputId": "ca128490-a2fa-4541-9f4c-a2dd3f970677"
      },
      "execution_count": 36,
      "outputs": [
        {
          "output_type": "stream",
          "name": "stdout",
          "text": [
            "Writing program.c\n"
          ]
        }
      ]
    },
    {
      "cell_type": "markdown",
      "source": [
        "**My own example 20 - Running the c program that mutiplies 10 times A(600x100) and  B (100x600) matrices**"
      ],
      "metadata": {
        "id": "i-oPlTweZndB"
      }
    },
    {
      "cell_type": "code",
      "source": [
        "import time\n",
        "start_time = time.time()\n",
        "\n",
        "!gcc program.c -o program\n",
        "!./program\n",
        "\n",
        "end_time = time.time()\n",
        "c_mean_execution_time = (end_time - start_time)/10"
      ],
      "metadata": {
        "id": "CKFgaMTa67Ri"
      },
      "execution_count": 37,
      "outputs": []
    },
    {
      "cell_type": "markdown",
      "source": [
        "**My own example 21 - Adding c average execution time to the data frame**"
      ],
      "metadata": {
        "id": "U9Wf-9DPZ3R4"
      }
    },
    {
      "cell_type": "code",
      "source": [
        "new_row = pd.DataFrame({'Method': ['C'], 'Average Execution Time (seconds)': [c_mean_execution_time]})\n",
        "\n",
        "df = pd.concat([df, new_row], ignore_index=True)\n",
        "\n",
        "display(df)\n"
      ],
      "metadata": {
        "id": "EfsTc5wN695I",
        "colab": {
          "base_uri": "https://localhost:8080/",
          "height": 143
        },
        "outputId": "ca4e73f5-0e83-4b82-eea4-b9044fe74765"
      },
      "execution_count": 38,
      "outputs": [
        {
          "output_type": "display_data",
          "data": {
            "text/plain": [
              "   Method  Average Execution Time (seconds)\n",
              "0  Python                          9.434793\n",
              "1   NumPy                          0.003023\n",
              "2       C                          0.516414"
            ],
            "text/html": [
              "\n",
              "  <div id=\"df-5d977cc8-5e54-4cee-afe9-c9b42408e09e\" class=\"colab-df-container\">\n",
              "    <div>\n",
              "<style scoped>\n",
              "    .dataframe tbody tr th:only-of-type {\n",
              "        vertical-align: middle;\n",
              "    }\n",
              "\n",
              "    .dataframe tbody tr th {\n",
              "        vertical-align: top;\n",
              "    }\n",
              "\n",
              "    .dataframe thead th {\n",
              "        text-align: right;\n",
              "    }\n",
              "</style>\n",
              "<table border=\"1\" class=\"dataframe\">\n",
              "  <thead>\n",
              "    <tr style=\"text-align: right;\">\n",
              "      <th></th>\n",
              "      <th>Method</th>\n",
              "      <th>Average Execution Time (seconds)</th>\n",
              "    </tr>\n",
              "  </thead>\n",
              "  <tbody>\n",
              "    <tr>\n",
              "      <th>0</th>\n",
              "      <td>Python</td>\n",
              "      <td>9.434793</td>\n",
              "    </tr>\n",
              "    <tr>\n",
              "      <th>1</th>\n",
              "      <td>NumPy</td>\n",
              "      <td>0.003023</td>\n",
              "    </tr>\n",
              "    <tr>\n",
              "      <th>2</th>\n",
              "      <td>C</td>\n",
              "      <td>0.516414</td>\n",
              "    </tr>\n",
              "  </tbody>\n",
              "</table>\n",
              "</div>\n",
              "    <div class=\"colab-df-buttons\">\n",
              "\n",
              "  <div class=\"colab-df-container\">\n",
              "    <button class=\"colab-df-convert\" onclick=\"convertToInteractive('df-5d977cc8-5e54-4cee-afe9-c9b42408e09e')\"\n",
              "            title=\"Convert this dataframe to an interactive table.\"\n",
              "            style=\"display:none;\">\n",
              "\n",
              "  <svg xmlns=\"http://www.w3.org/2000/svg\" height=\"24px\" viewBox=\"0 -960 960 960\">\n",
              "    <path d=\"M120-120v-720h720v720H120Zm60-500h600v-160H180v160Zm220 220h160v-160H400v160Zm0 220h160v-160H400v160ZM180-400h160v-160H180v160Zm440 0h160v-160H620v160ZM180-180h160v-160H180v160Zm440 0h160v-160H620v160Z\"/>\n",
              "  </svg>\n",
              "    </button>\n",
              "\n",
              "  <style>\n",
              "    .colab-df-container {\n",
              "      display:flex;\n",
              "      gap: 12px;\n",
              "    }\n",
              "\n",
              "    .colab-df-convert {\n",
              "      background-color: #E8F0FE;\n",
              "      border: none;\n",
              "      border-radius: 50%;\n",
              "      cursor: pointer;\n",
              "      display: none;\n",
              "      fill: #1967D2;\n",
              "      height: 32px;\n",
              "      padding: 0 0 0 0;\n",
              "      width: 32px;\n",
              "    }\n",
              "\n",
              "    .colab-df-convert:hover {\n",
              "      background-color: #E2EBFA;\n",
              "      box-shadow: 0px 1px 2px rgba(60, 64, 67, 0.3), 0px 1px 3px 1px rgba(60, 64, 67, 0.15);\n",
              "      fill: #174EA6;\n",
              "    }\n",
              "\n",
              "    .colab-df-buttons div {\n",
              "      margin-bottom: 4px;\n",
              "    }\n",
              "\n",
              "    [theme=dark] .colab-df-convert {\n",
              "      background-color: #3B4455;\n",
              "      fill: #D2E3FC;\n",
              "    }\n",
              "\n",
              "    [theme=dark] .colab-df-convert:hover {\n",
              "      background-color: #434B5C;\n",
              "      box-shadow: 0px 1px 3px 1px rgba(0, 0, 0, 0.15);\n",
              "      filter: drop-shadow(0px 1px 2px rgba(0, 0, 0, 0.3));\n",
              "      fill: #FFFFFF;\n",
              "    }\n",
              "  </style>\n",
              "\n",
              "    <script>\n",
              "      const buttonEl =\n",
              "        document.querySelector('#df-5d977cc8-5e54-4cee-afe9-c9b42408e09e button.colab-df-convert');\n",
              "      buttonEl.style.display =\n",
              "        google.colab.kernel.accessAllowed ? 'block' : 'none';\n",
              "\n",
              "      async function convertToInteractive(key) {\n",
              "        const element = document.querySelector('#df-5d977cc8-5e54-4cee-afe9-c9b42408e09e');\n",
              "        const dataTable =\n",
              "          await google.colab.kernel.invokeFunction('convertToInteractive',\n",
              "                                                    [key], {});\n",
              "        if (!dataTable) return;\n",
              "\n",
              "        const docLinkHtml = 'Like what you see? Visit the ' +\n",
              "          '<a target=\"_blank\" href=https://colab.research.google.com/notebooks/data_table.ipynb>data table notebook</a>'\n",
              "          + ' to learn more about interactive tables.';\n",
              "        element.innerHTML = '';\n",
              "        dataTable['output_type'] = 'display_data';\n",
              "        await google.colab.output.renderOutput(dataTable, element);\n",
              "        const docLink = document.createElement('div');\n",
              "        docLink.innerHTML = docLinkHtml;\n",
              "        element.appendChild(docLink);\n",
              "      }\n",
              "    </script>\n",
              "  </div>\n",
              "\n",
              "\n",
              "<div id=\"df-564d2167-0b26-4958-b727-d8542e291939\">\n",
              "  <button class=\"colab-df-quickchart\" onclick=\"quickchart('df-564d2167-0b26-4958-b727-d8542e291939')\"\n",
              "            title=\"Suggest charts\"\n",
              "            style=\"display:none;\">\n",
              "\n",
              "<svg xmlns=\"http://www.w3.org/2000/svg\" height=\"24px\"viewBox=\"0 0 24 24\"\n",
              "     width=\"24px\">\n",
              "    <g>\n",
              "        <path d=\"M19 3H5c-1.1 0-2 .9-2 2v14c0 1.1.9 2 2 2h14c1.1 0 2-.9 2-2V5c0-1.1-.9-2-2-2zM9 17H7v-7h2v7zm4 0h-2V7h2v10zm4 0h-2v-4h2v4z\"/>\n",
              "    </g>\n",
              "</svg>\n",
              "  </button>\n",
              "\n",
              "<style>\n",
              "  .colab-df-quickchart {\n",
              "      --bg-color: #E8F0FE;\n",
              "      --fill-color: #1967D2;\n",
              "      --hover-bg-color: #E2EBFA;\n",
              "      --hover-fill-color: #174EA6;\n",
              "      --disabled-fill-color: #AAA;\n",
              "      --disabled-bg-color: #DDD;\n",
              "  }\n",
              "\n",
              "  [theme=dark] .colab-df-quickchart {\n",
              "      --bg-color: #3B4455;\n",
              "      --fill-color: #D2E3FC;\n",
              "      --hover-bg-color: #434B5C;\n",
              "      --hover-fill-color: #FFFFFF;\n",
              "      --disabled-bg-color: #3B4455;\n",
              "      --disabled-fill-color: #666;\n",
              "  }\n",
              "\n",
              "  .colab-df-quickchart {\n",
              "    background-color: var(--bg-color);\n",
              "    border: none;\n",
              "    border-radius: 50%;\n",
              "    cursor: pointer;\n",
              "    display: none;\n",
              "    fill: var(--fill-color);\n",
              "    height: 32px;\n",
              "    padding: 0;\n",
              "    width: 32px;\n",
              "  }\n",
              "\n",
              "  .colab-df-quickchart:hover {\n",
              "    background-color: var(--hover-bg-color);\n",
              "    box-shadow: 0 1px 2px rgba(60, 64, 67, 0.3), 0 1px 3px 1px rgba(60, 64, 67, 0.15);\n",
              "    fill: var(--button-hover-fill-color);\n",
              "  }\n",
              "\n",
              "  .colab-df-quickchart-complete:disabled,\n",
              "  .colab-df-quickchart-complete:disabled:hover {\n",
              "    background-color: var(--disabled-bg-color);\n",
              "    fill: var(--disabled-fill-color);\n",
              "    box-shadow: none;\n",
              "  }\n",
              "\n",
              "  .colab-df-spinner {\n",
              "    border: 2px solid var(--fill-color);\n",
              "    border-color: transparent;\n",
              "    border-bottom-color: var(--fill-color);\n",
              "    animation:\n",
              "      spin 1s steps(1) infinite;\n",
              "  }\n",
              "\n",
              "  @keyframes spin {\n",
              "    0% {\n",
              "      border-color: transparent;\n",
              "      border-bottom-color: var(--fill-color);\n",
              "      border-left-color: var(--fill-color);\n",
              "    }\n",
              "    20% {\n",
              "      border-color: transparent;\n",
              "      border-left-color: var(--fill-color);\n",
              "      border-top-color: var(--fill-color);\n",
              "    }\n",
              "    30% {\n",
              "      border-color: transparent;\n",
              "      border-left-color: var(--fill-color);\n",
              "      border-top-color: var(--fill-color);\n",
              "      border-right-color: var(--fill-color);\n",
              "    }\n",
              "    40% {\n",
              "      border-color: transparent;\n",
              "      border-right-color: var(--fill-color);\n",
              "      border-top-color: var(--fill-color);\n",
              "    }\n",
              "    60% {\n",
              "      border-color: transparent;\n",
              "      border-right-color: var(--fill-color);\n",
              "    }\n",
              "    80% {\n",
              "      border-color: transparent;\n",
              "      border-right-color: var(--fill-color);\n",
              "      border-bottom-color: var(--fill-color);\n",
              "    }\n",
              "    90% {\n",
              "      border-color: transparent;\n",
              "      border-bottom-color: var(--fill-color);\n",
              "    }\n",
              "  }\n",
              "</style>\n",
              "\n",
              "  <script>\n",
              "    async function quickchart(key) {\n",
              "      const quickchartButtonEl =\n",
              "        document.querySelector('#' + key + ' button');\n",
              "      quickchartButtonEl.disabled = true;  // To prevent multiple clicks.\n",
              "      quickchartButtonEl.classList.add('colab-df-spinner');\n",
              "      try {\n",
              "        const charts = await google.colab.kernel.invokeFunction(\n",
              "            'suggestCharts', [key], {});\n",
              "      } catch (error) {\n",
              "        console.error('Error during call to suggestCharts:', error);\n",
              "      }\n",
              "      quickchartButtonEl.classList.remove('colab-df-spinner');\n",
              "      quickchartButtonEl.classList.add('colab-df-quickchart-complete');\n",
              "    }\n",
              "    (() => {\n",
              "      let quickchartButtonEl =\n",
              "        document.querySelector('#df-564d2167-0b26-4958-b727-d8542e291939 button');\n",
              "      quickchartButtonEl.style.display =\n",
              "        google.colab.kernel.accessAllowed ? 'block' : 'none';\n",
              "    })();\n",
              "  </script>\n",
              "</div>\n",
              "\n",
              "  <div id=\"id_2a580ad7-5d96-41a8-a362-85d7a9a092be\">\n",
              "    <style>\n",
              "      .colab-df-generate {\n",
              "        background-color: #E8F0FE;\n",
              "        border: none;\n",
              "        border-radius: 50%;\n",
              "        cursor: pointer;\n",
              "        display: none;\n",
              "        fill: #1967D2;\n",
              "        height: 32px;\n",
              "        padding: 0 0 0 0;\n",
              "        width: 32px;\n",
              "      }\n",
              "\n",
              "      .colab-df-generate:hover {\n",
              "        background-color: #E2EBFA;\n",
              "        box-shadow: 0px 1px 2px rgba(60, 64, 67, 0.3), 0px 1px 3px 1px rgba(60, 64, 67, 0.15);\n",
              "        fill: #174EA6;\n",
              "      }\n",
              "\n",
              "      [theme=dark] .colab-df-generate {\n",
              "        background-color: #3B4455;\n",
              "        fill: #D2E3FC;\n",
              "      }\n",
              "\n",
              "      [theme=dark] .colab-df-generate:hover {\n",
              "        background-color: #434B5C;\n",
              "        box-shadow: 0px 1px 3px 1px rgba(0, 0, 0, 0.15);\n",
              "        filter: drop-shadow(0px 1px 2px rgba(0, 0, 0, 0.3));\n",
              "        fill: #FFFFFF;\n",
              "      }\n",
              "    </style>\n",
              "    <button class=\"colab-df-generate\" onclick=\"generateWithVariable('df')\"\n",
              "            title=\"Generate code using this dataframe.\"\n",
              "            style=\"display:none;\">\n",
              "\n",
              "  <svg xmlns=\"http://www.w3.org/2000/svg\" height=\"24px\"viewBox=\"0 0 24 24\"\n",
              "       width=\"24px\">\n",
              "    <path d=\"M7,19H8.4L18.45,9,17,7.55,7,17.6ZM5,21V16.75L18.45,3.32a2,2,0,0,1,2.83,0l1.4,1.43a1.91,1.91,0,0,1,.58,1.4,1.91,1.91,0,0,1-.58,1.4L9.25,21ZM18.45,9,17,7.55Zm-12,3A5.31,5.31,0,0,0,4.9,8.1,5.31,5.31,0,0,0,1,6.5,5.31,5.31,0,0,0,4.9,4.9,5.31,5.31,0,0,0,6.5,1,5.31,5.31,0,0,0,8.1,4.9,5.31,5.31,0,0,0,12,6.5,5.46,5.46,0,0,0,6.5,12Z\"/>\n",
              "  </svg>\n",
              "    </button>\n",
              "    <script>\n",
              "      (() => {\n",
              "      const buttonEl =\n",
              "        document.querySelector('#id_2a580ad7-5d96-41a8-a362-85d7a9a092be button.colab-df-generate');\n",
              "      buttonEl.style.display =\n",
              "        google.colab.kernel.accessAllowed ? 'block' : 'none';\n",
              "\n",
              "      buttonEl.onclick = () => {\n",
              "        google.colab.notebook.generateWithVariable('df');\n",
              "      }\n",
              "      })();\n",
              "    </script>\n",
              "  </div>\n",
              "\n",
              "    </div>\n",
              "  </div>\n"
            ],
            "application/vnd.google.colaboratory.intrinsic+json": {
              "type": "dataframe",
              "variable_name": "df",
              "summary": "{\n  \"name\": \"df\",\n  \"rows\": 3,\n  \"fields\": [\n    {\n      \"column\": \"Method\",\n      \"properties\": {\n        \"dtype\": \"string\",\n        \"num_unique_values\": 3,\n        \"samples\": [\n          \"Python\",\n          \"NumPy\",\n          \"C\"\n        ],\n        \"semantic_type\": \"\",\n        \"description\": \"\"\n      }\n    },\n    {\n      \"column\": \"Average Execution Time (seconds)\",\n      \"properties\": {\n        \"dtype\": \"number\",\n        \"std\": 5.303447846887653,\n        \"min\": 0.003022933006286621,\n        \"max\": 9.43479323387146,\n        \"num_unique_values\": 3,\n        \"samples\": [\n          9.43479323387146,\n          0.003022933006286621,\n          0.5164137125015259\n        ],\n        \"semantic_type\": \"\",\n        \"description\": \"\"\n      }\n    }\n  ]\n}"
            }
          },
          "metadata": {}
        }
      ]
    },
    {
      "cell_type": "markdown",
      "source": [
        "**My own example 22 - Creating a C++ program that mutiplies 10 times A(600x100) and  B (100x600) matrices**"
      ],
      "metadata": {
        "id": "XkgHEUB2aFI1"
      }
    },
    {
      "cell_type": "code",
      "source": [
        "%%writefile matrix_multiplication.cpp\n",
        "#include <iostream>\n",
        "#include <vector>\n",
        "#include <cstdlib>\n",
        "#include <ctime>\n",
        "\n",
        "const int A_ROWS = 600;\n",
        "const int A_COLS = 100;\n",
        "const int B_ROWS = 100;\n",
        "const int B_COLS = 600;\n",
        "\n",
        "std::vector<std::vector<int>> generateRandomMatrix(int rows, int cols) {\n",
        "    std::vector<std::vector<int>> matrix(rows, std::vector<int>(cols));\n",
        "    for(int i = 0; i < rows; i++) {\n",
        "        for(int j = 0; j < cols; j++) {\n",
        "            matrix[i][j] = rand() % 100;\n",
        "        }\n",
        "    }\n",
        "    return matrix;\n",
        "}\n",
        "\n",
        "std::vector<std::vector<int>> multiplyMatrices(const std::vector<std::vector<int>>& A, const std::vector<std::vector<int>>& B) {\n",
        "    std::vector<std::vector<int>> result(A_ROWS, std::vector<int>(B_COLS, 0));\n",
        "    for(int i = 0; i < A_ROWS; i++) {\n",
        "        for(int j = 0; j < B_COLS; j++) {\n",
        "            for(int k = 0; k < A_COLS; k++) {\n",
        "                result[i][j] += A[i][k] * B[k][j];\n",
        "            }\n",
        "        }\n",
        "    }\n",
        "    return result;\n",
        "}\n",
        "\n",
        "int main() {\n",
        "    srand(time(0));\n",
        "    for(int i = 0; i < 10; i++) {\n",
        "        std::vector<std::vector<int>> A = generateRandomMatrix(A_ROWS, A_COLS);\n",
        "        std::vector<std::vector<int>> B = generateRandomMatrix(B_ROWS, B_COLS);\n",
        "        std::vector<std::vector<int>> result = multiplyMatrices(A, B);\n",
        "    }\n",
        "    return 0;\n",
        "}"
      ],
      "metadata": {
        "id": "U1CoUYEw6-9P",
        "colab": {
          "base_uri": "https://localhost:8080/"
        },
        "outputId": "833d2215-7337-4c7d-f199-3c1cbde51df7"
      },
      "execution_count": 39,
      "outputs": [
        {
          "output_type": "stream",
          "name": "stdout",
          "text": [
            "Writing matrix_multiplication.cpp\n"
          ]
        }
      ]
    },
    {
      "cell_type": "markdown",
      "source": [
        "**My own example 23 - Running the C++ program that mutiplies 10 times A(600x100) and  B (100x600) matrices**"
      ],
      "metadata": {
        "id": "WFpb2F81aKJA"
      }
    },
    {
      "cell_type": "code",
      "source": [
        "import time\n",
        "start_time = time.time()\n",
        "\n",
        "!g++ matrix_multiplication.cpp -o matrix_multiplication\n",
        "!./matrix_multiplication\n",
        "\n",
        "end_time = time.time()\n",
        "cplusplus_mean_execution_time = (end_time - start_time)/10\n",
        "cplusplus_mean_execution_time"
      ],
      "metadata": {
        "id": "Q33PLFeG6_0r",
        "colab": {
          "base_uri": "https://localhost:8080/"
        },
        "outputId": "c807743c-47a2-4372-af12-26e9bb79732d"
      },
      "execution_count": 40,
      "outputs": [
        {
          "output_type": "execute_result",
          "data": {
            "text/plain": [
              "0.8048407316207886"
            ]
          },
          "metadata": {},
          "execution_count": 40
        }
      ]
    },
    {
      "cell_type": "markdown",
      "source": [
        "**My own example 24 - Adding C++ average execution time to the data frame**"
      ],
      "metadata": {
        "id": "GSEE2zDjaPmg"
      }
    },
    {
      "cell_type": "code",
      "source": [
        "new_row_cpp = pd.DataFrame({'Method': ['C++'], 'Average Execution Time (seconds)': [cplusplus_mean_execution_time]})\n",
        "\n",
        "df = pd.concat([df, new_row_cpp], ignore_index=True)\n",
        "\n",
        "display(df)\n"
      ],
      "metadata": {
        "id": "YL_YL8Qm7B0w",
        "colab": {
          "base_uri": "https://localhost:8080/",
          "height": 175
        },
        "outputId": "fbb2abef-6ca7-4326-c891-c78c8b130dad"
      },
      "execution_count": 41,
      "outputs": [
        {
          "output_type": "display_data",
          "data": {
            "text/plain": [
              "   Method  Average Execution Time (seconds)\n",
              "0  Python                          9.434793\n",
              "1   NumPy                          0.003023\n",
              "2       C                          0.516414\n",
              "3     C++                          0.804841"
            ],
            "text/html": [
              "\n",
              "  <div id=\"df-31ae27ca-9529-4c05-9f23-34bb22500593\" class=\"colab-df-container\">\n",
              "    <div>\n",
              "<style scoped>\n",
              "    .dataframe tbody tr th:only-of-type {\n",
              "        vertical-align: middle;\n",
              "    }\n",
              "\n",
              "    .dataframe tbody tr th {\n",
              "        vertical-align: top;\n",
              "    }\n",
              "\n",
              "    .dataframe thead th {\n",
              "        text-align: right;\n",
              "    }\n",
              "</style>\n",
              "<table border=\"1\" class=\"dataframe\">\n",
              "  <thead>\n",
              "    <tr style=\"text-align: right;\">\n",
              "      <th></th>\n",
              "      <th>Method</th>\n",
              "      <th>Average Execution Time (seconds)</th>\n",
              "    </tr>\n",
              "  </thead>\n",
              "  <tbody>\n",
              "    <tr>\n",
              "      <th>0</th>\n",
              "      <td>Python</td>\n",
              "      <td>9.434793</td>\n",
              "    </tr>\n",
              "    <tr>\n",
              "      <th>1</th>\n",
              "      <td>NumPy</td>\n",
              "      <td>0.003023</td>\n",
              "    </tr>\n",
              "    <tr>\n",
              "      <th>2</th>\n",
              "      <td>C</td>\n",
              "      <td>0.516414</td>\n",
              "    </tr>\n",
              "    <tr>\n",
              "      <th>3</th>\n",
              "      <td>C++</td>\n",
              "      <td>0.804841</td>\n",
              "    </tr>\n",
              "  </tbody>\n",
              "</table>\n",
              "</div>\n",
              "    <div class=\"colab-df-buttons\">\n",
              "\n",
              "  <div class=\"colab-df-container\">\n",
              "    <button class=\"colab-df-convert\" onclick=\"convertToInteractive('df-31ae27ca-9529-4c05-9f23-34bb22500593')\"\n",
              "            title=\"Convert this dataframe to an interactive table.\"\n",
              "            style=\"display:none;\">\n",
              "\n",
              "  <svg xmlns=\"http://www.w3.org/2000/svg\" height=\"24px\" viewBox=\"0 -960 960 960\">\n",
              "    <path d=\"M120-120v-720h720v720H120Zm60-500h600v-160H180v160Zm220 220h160v-160H400v160Zm0 220h160v-160H400v160ZM180-400h160v-160H180v160Zm440 0h160v-160H620v160ZM180-180h160v-160H180v160Zm440 0h160v-160H620v160Z\"/>\n",
              "  </svg>\n",
              "    </button>\n",
              "\n",
              "  <style>\n",
              "    .colab-df-container {\n",
              "      display:flex;\n",
              "      gap: 12px;\n",
              "    }\n",
              "\n",
              "    .colab-df-convert {\n",
              "      background-color: #E8F0FE;\n",
              "      border: none;\n",
              "      border-radius: 50%;\n",
              "      cursor: pointer;\n",
              "      display: none;\n",
              "      fill: #1967D2;\n",
              "      height: 32px;\n",
              "      padding: 0 0 0 0;\n",
              "      width: 32px;\n",
              "    }\n",
              "\n",
              "    .colab-df-convert:hover {\n",
              "      background-color: #E2EBFA;\n",
              "      box-shadow: 0px 1px 2px rgba(60, 64, 67, 0.3), 0px 1px 3px 1px rgba(60, 64, 67, 0.15);\n",
              "      fill: #174EA6;\n",
              "    }\n",
              "\n",
              "    .colab-df-buttons div {\n",
              "      margin-bottom: 4px;\n",
              "    }\n",
              "\n",
              "    [theme=dark] .colab-df-convert {\n",
              "      background-color: #3B4455;\n",
              "      fill: #D2E3FC;\n",
              "    }\n",
              "\n",
              "    [theme=dark] .colab-df-convert:hover {\n",
              "      background-color: #434B5C;\n",
              "      box-shadow: 0px 1px 3px 1px rgba(0, 0, 0, 0.15);\n",
              "      filter: drop-shadow(0px 1px 2px rgba(0, 0, 0, 0.3));\n",
              "      fill: #FFFFFF;\n",
              "    }\n",
              "  </style>\n",
              "\n",
              "    <script>\n",
              "      const buttonEl =\n",
              "        document.querySelector('#df-31ae27ca-9529-4c05-9f23-34bb22500593 button.colab-df-convert');\n",
              "      buttonEl.style.display =\n",
              "        google.colab.kernel.accessAllowed ? 'block' : 'none';\n",
              "\n",
              "      async function convertToInteractive(key) {\n",
              "        const element = document.querySelector('#df-31ae27ca-9529-4c05-9f23-34bb22500593');\n",
              "        const dataTable =\n",
              "          await google.colab.kernel.invokeFunction('convertToInteractive',\n",
              "                                                    [key], {});\n",
              "        if (!dataTable) return;\n",
              "\n",
              "        const docLinkHtml = 'Like what you see? Visit the ' +\n",
              "          '<a target=\"_blank\" href=https://colab.research.google.com/notebooks/data_table.ipynb>data table notebook</a>'\n",
              "          + ' to learn more about interactive tables.';\n",
              "        element.innerHTML = '';\n",
              "        dataTable['output_type'] = 'display_data';\n",
              "        await google.colab.output.renderOutput(dataTable, element);\n",
              "        const docLink = document.createElement('div');\n",
              "        docLink.innerHTML = docLinkHtml;\n",
              "        element.appendChild(docLink);\n",
              "      }\n",
              "    </script>\n",
              "  </div>\n",
              "\n",
              "\n",
              "<div id=\"df-eec07a69-d305-4857-aed7-fb4ede0ddd15\">\n",
              "  <button class=\"colab-df-quickchart\" onclick=\"quickchart('df-eec07a69-d305-4857-aed7-fb4ede0ddd15')\"\n",
              "            title=\"Suggest charts\"\n",
              "            style=\"display:none;\">\n",
              "\n",
              "<svg xmlns=\"http://www.w3.org/2000/svg\" height=\"24px\"viewBox=\"0 0 24 24\"\n",
              "     width=\"24px\">\n",
              "    <g>\n",
              "        <path d=\"M19 3H5c-1.1 0-2 .9-2 2v14c0 1.1.9 2 2 2h14c1.1 0 2-.9 2-2V5c0-1.1-.9-2-2-2zM9 17H7v-7h2v7zm4 0h-2V7h2v10zm4 0h-2v-4h2v4z\"/>\n",
              "    </g>\n",
              "</svg>\n",
              "  </button>\n",
              "\n",
              "<style>\n",
              "  .colab-df-quickchart {\n",
              "      --bg-color: #E8F0FE;\n",
              "      --fill-color: #1967D2;\n",
              "      --hover-bg-color: #E2EBFA;\n",
              "      --hover-fill-color: #174EA6;\n",
              "      --disabled-fill-color: #AAA;\n",
              "      --disabled-bg-color: #DDD;\n",
              "  }\n",
              "\n",
              "  [theme=dark] .colab-df-quickchart {\n",
              "      --bg-color: #3B4455;\n",
              "      --fill-color: #D2E3FC;\n",
              "      --hover-bg-color: #434B5C;\n",
              "      --hover-fill-color: #FFFFFF;\n",
              "      --disabled-bg-color: #3B4455;\n",
              "      --disabled-fill-color: #666;\n",
              "  }\n",
              "\n",
              "  .colab-df-quickchart {\n",
              "    background-color: var(--bg-color);\n",
              "    border: none;\n",
              "    border-radius: 50%;\n",
              "    cursor: pointer;\n",
              "    display: none;\n",
              "    fill: var(--fill-color);\n",
              "    height: 32px;\n",
              "    padding: 0;\n",
              "    width: 32px;\n",
              "  }\n",
              "\n",
              "  .colab-df-quickchart:hover {\n",
              "    background-color: var(--hover-bg-color);\n",
              "    box-shadow: 0 1px 2px rgba(60, 64, 67, 0.3), 0 1px 3px 1px rgba(60, 64, 67, 0.15);\n",
              "    fill: var(--button-hover-fill-color);\n",
              "  }\n",
              "\n",
              "  .colab-df-quickchart-complete:disabled,\n",
              "  .colab-df-quickchart-complete:disabled:hover {\n",
              "    background-color: var(--disabled-bg-color);\n",
              "    fill: var(--disabled-fill-color);\n",
              "    box-shadow: none;\n",
              "  }\n",
              "\n",
              "  .colab-df-spinner {\n",
              "    border: 2px solid var(--fill-color);\n",
              "    border-color: transparent;\n",
              "    border-bottom-color: var(--fill-color);\n",
              "    animation:\n",
              "      spin 1s steps(1) infinite;\n",
              "  }\n",
              "\n",
              "  @keyframes spin {\n",
              "    0% {\n",
              "      border-color: transparent;\n",
              "      border-bottom-color: var(--fill-color);\n",
              "      border-left-color: var(--fill-color);\n",
              "    }\n",
              "    20% {\n",
              "      border-color: transparent;\n",
              "      border-left-color: var(--fill-color);\n",
              "      border-top-color: var(--fill-color);\n",
              "    }\n",
              "    30% {\n",
              "      border-color: transparent;\n",
              "      border-left-color: var(--fill-color);\n",
              "      border-top-color: var(--fill-color);\n",
              "      border-right-color: var(--fill-color);\n",
              "    }\n",
              "    40% {\n",
              "      border-color: transparent;\n",
              "      border-right-color: var(--fill-color);\n",
              "      border-top-color: var(--fill-color);\n",
              "    }\n",
              "    60% {\n",
              "      border-color: transparent;\n",
              "      border-right-color: var(--fill-color);\n",
              "    }\n",
              "    80% {\n",
              "      border-color: transparent;\n",
              "      border-right-color: var(--fill-color);\n",
              "      border-bottom-color: var(--fill-color);\n",
              "    }\n",
              "    90% {\n",
              "      border-color: transparent;\n",
              "      border-bottom-color: var(--fill-color);\n",
              "    }\n",
              "  }\n",
              "</style>\n",
              "\n",
              "  <script>\n",
              "    async function quickchart(key) {\n",
              "      const quickchartButtonEl =\n",
              "        document.querySelector('#' + key + ' button');\n",
              "      quickchartButtonEl.disabled = true;  // To prevent multiple clicks.\n",
              "      quickchartButtonEl.classList.add('colab-df-spinner');\n",
              "      try {\n",
              "        const charts = await google.colab.kernel.invokeFunction(\n",
              "            'suggestCharts', [key], {});\n",
              "      } catch (error) {\n",
              "        console.error('Error during call to suggestCharts:', error);\n",
              "      }\n",
              "      quickchartButtonEl.classList.remove('colab-df-spinner');\n",
              "      quickchartButtonEl.classList.add('colab-df-quickchart-complete');\n",
              "    }\n",
              "    (() => {\n",
              "      let quickchartButtonEl =\n",
              "        document.querySelector('#df-eec07a69-d305-4857-aed7-fb4ede0ddd15 button');\n",
              "      quickchartButtonEl.style.display =\n",
              "        google.colab.kernel.accessAllowed ? 'block' : 'none';\n",
              "    })();\n",
              "  </script>\n",
              "</div>\n",
              "\n",
              "  <div id=\"id_fa80383e-708b-4600-a617-e2eb66703b61\">\n",
              "    <style>\n",
              "      .colab-df-generate {\n",
              "        background-color: #E8F0FE;\n",
              "        border: none;\n",
              "        border-radius: 50%;\n",
              "        cursor: pointer;\n",
              "        display: none;\n",
              "        fill: #1967D2;\n",
              "        height: 32px;\n",
              "        padding: 0 0 0 0;\n",
              "        width: 32px;\n",
              "      }\n",
              "\n",
              "      .colab-df-generate:hover {\n",
              "        background-color: #E2EBFA;\n",
              "        box-shadow: 0px 1px 2px rgba(60, 64, 67, 0.3), 0px 1px 3px 1px rgba(60, 64, 67, 0.15);\n",
              "        fill: #174EA6;\n",
              "      }\n",
              "\n",
              "      [theme=dark] .colab-df-generate {\n",
              "        background-color: #3B4455;\n",
              "        fill: #D2E3FC;\n",
              "      }\n",
              "\n",
              "      [theme=dark] .colab-df-generate:hover {\n",
              "        background-color: #434B5C;\n",
              "        box-shadow: 0px 1px 3px 1px rgba(0, 0, 0, 0.15);\n",
              "        filter: drop-shadow(0px 1px 2px rgba(0, 0, 0, 0.3));\n",
              "        fill: #FFFFFF;\n",
              "      }\n",
              "    </style>\n",
              "    <button class=\"colab-df-generate\" onclick=\"generateWithVariable('df')\"\n",
              "            title=\"Generate code using this dataframe.\"\n",
              "            style=\"display:none;\">\n",
              "\n",
              "  <svg xmlns=\"http://www.w3.org/2000/svg\" height=\"24px\"viewBox=\"0 0 24 24\"\n",
              "       width=\"24px\">\n",
              "    <path d=\"M7,19H8.4L18.45,9,17,7.55,7,17.6ZM5,21V16.75L18.45,3.32a2,2,0,0,1,2.83,0l1.4,1.43a1.91,1.91,0,0,1,.58,1.4,1.91,1.91,0,0,1-.58,1.4L9.25,21ZM18.45,9,17,7.55Zm-12,3A5.31,5.31,0,0,0,4.9,8.1,5.31,5.31,0,0,0,1,6.5,5.31,5.31,0,0,0,4.9,4.9,5.31,5.31,0,0,0,6.5,1,5.31,5.31,0,0,0,8.1,4.9,5.31,5.31,0,0,0,12,6.5,5.46,5.46,0,0,0,6.5,12Z\"/>\n",
              "  </svg>\n",
              "    </button>\n",
              "    <script>\n",
              "      (() => {\n",
              "      const buttonEl =\n",
              "        document.querySelector('#id_fa80383e-708b-4600-a617-e2eb66703b61 button.colab-df-generate');\n",
              "      buttonEl.style.display =\n",
              "        google.colab.kernel.accessAllowed ? 'block' : 'none';\n",
              "\n",
              "      buttonEl.onclick = () => {\n",
              "        google.colab.notebook.generateWithVariable('df');\n",
              "      }\n",
              "      })();\n",
              "    </script>\n",
              "  </div>\n",
              "\n",
              "    </div>\n",
              "  </div>\n"
            ],
            "application/vnd.google.colaboratory.intrinsic+json": {
              "type": "dataframe",
              "variable_name": "df",
              "summary": "{\n  \"name\": \"df\",\n  \"rows\": 4,\n  \"fields\": [\n    {\n      \"column\": \"Method\",\n      \"properties\": {\n        \"dtype\": \"string\",\n        \"num_unique_values\": 4,\n        \"samples\": [\n          \"NumPy\",\n          \"C++\",\n          \"Python\"\n        ],\n        \"semantic_type\": \"\",\n        \"description\": \"\"\n      }\n    },\n    {\n      \"column\": \"Average Execution Time (seconds)\",\n      \"properties\": {\n        \"dtype\": \"number\",\n        \"std\": 4.508894325909063,\n        \"min\": 0.003022933006286621,\n        \"max\": 9.43479323387146,\n        \"num_unique_values\": 4,\n        \"samples\": [\n          0.003022933006286621,\n          0.8048407316207886,\n          9.43479323387146\n        ],\n        \"semantic_type\": \"\",\n        \"description\": \"\"\n      }\n    }\n  ]\n}"
            }
          },
          "metadata": {}
        }
      ]
    },
    {
      "cell_type": "markdown",
      "source": [
        "**My own example 25 - Creating a Java program that mutiplies 10 times A(600x100) and  B (100x600) matrices**"
      ],
      "metadata": {
        "id": "OjOecKv-d-ML"
      }
    },
    {
      "cell_type": "code",
      "source": [
        "%%writefile MultiplicacionMatrices.java\n",
        "import java.util.Random;\n",
        "\n",
        "import java.util.Random;\n",
        "\n",
        "public class MultiplicacionMatrices {\n",
        "    private static final int A_ROWS = 600;\n",
        "    private static final int A_COLS = 100;\n",
        "    private static final int B_ROWS = 100;\n",
        "    private static final int B_COLS = 600;\n",
        "\n",
        "    public static int[][] generateRandomMatrix(int rows, int cols) {\n",
        "        Random rand = new Random();\n",
        "        int[][] matrix = new int[rows][cols];\n",
        "        for(int i = 0; i < rows; i++) {\n",
        "            for(int j = 0; j < cols; j++) {\n",
        "                matrix[i][j] = rand.nextInt(100);\n",
        "            }\n",
        "        }\n",
        "        return matrix;\n",
        "    }\n",
        "\n",
        "    // Función para multiplicar dos matrices\n",
        "    public static int[][] multiplyMatrices(int[][] A, int[][] B) {\n",
        "        int[][] result = new int[A_ROWS][B_COLS];\n",
        "        for(int i = 0; i < A_ROWS; i++) {\n",
        "            for(int j = 0; j < B_COLS; j++) {\n",
        "                for(int k = 0; k < A_COLS; k++) {\n",
        "                    result[i][j] += A[i][k] * B[k][j];\n",
        "                }\n",
        "            }\n",
        "        }\n",
        "        return result;\n",
        "    }\n",
        "      public static void main(String[] args) {\n",
        "\n",
        "        for(int i = 0; i < 10; i++) {\n",
        "            int[][] A = generateRandomMatrix(A_ROWS, A_COLS);\n",
        "            int[][] B = generateRandomMatrix(B_ROWS, B_COLS);\n",
        "            int[][] result = multiplyMatrices(A, B);\n",
        "        }\n",
        "    }\n",
        "}"
      ],
      "metadata": {
        "id": "o8UPxOqs7C34",
        "colab": {
          "base_uri": "https://localhost:8080/"
        },
        "outputId": "d7817976-f051-4235-caea-800be09872f4"
      },
      "execution_count": 42,
      "outputs": [
        {
          "output_type": "stream",
          "name": "stdout",
          "text": [
            "Writing MultiplicacionMatrices.java\n"
          ]
        }
      ]
    },
    {
      "cell_type": "markdown",
      "source": [
        "**My own example 26 - Running the Java program that mutiplies 10 times A(600x100) and  B (100x600) matrices**"
      ],
      "metadata": {
        "id": "J75aKNvZeFHx"
      }
    },
    {
      "cell_type": "code",
      "source": [
        "import time\n",
        "start_time = time.time()\n",
        "\n",
        "!gcc program.c -o program\n",
        "!./program\n",
        "\n",
        "end_time = time.time()\n",
        "java_mean_execution_time = (end_time - start_time)/10"
      ],
      "metadata": {
        "id": "NP_QcZqA7EPn"
      },
      "execution_count": 43,
      "outputs": []
    },
    {
      "cell_type": "markdown",
      "source": [
        "**My own example 27 - Adding Java average execution time to the data frame**"
      ],
      "metadata": {
        "id": "C75pEHRieNfo"
      }
    },
    {
      "cell_type": "code",
      "source": [
        "new_row_java = pd.DataFrame({'Method': ['Java'], 'Average Execution Time (seconds)': [java_mean_execution_time]})\n",
        "\n",
        "df = pd.concat([df, new_row_java], ignore_index=True)\n",
        "\n",
        "display(df)"
      ],
      "metadata": {
        "id": "5ZDLYWrY7Fhi",
        "colab": {
          "base_uri": "https://localhost:8080/",
          "height": 206
        },
        "outputId": "ba059d27-49e9-406a-dcc6-8da83dbcb4fd"
      },
      "execution_count": 44,
      "outputs": [
        {
          "output_type": "display_data",
          "data": {
            "text/plain": [
              "   Method  Average Execution Time (seconds)\n",
              "0  Python                          9.434793\n",
              "1   NumPy                          0.003023\n",
              "2       C                          0.516414\n",
              "3     C++                          0.804841\n",
              "4    Java                          0.211691"
            ],
            "text/html": [
              "\n",
              "  <div id=\"df-889b6183-7042-4b26-ac6a-ca3cd4c96055\" class=\"colab-df-container\">\n",
              "    <div>\n",
              "<style scoped>\n",
              "    .dataframe tbody tr th:only-of-type {\n",
              "        vertical-align: middle;\n",
              "    }\n",
              "\n",
              "    .dataframe tbody tr th {\n",
              "        vertical-align: top;\n",
              "    }\n",
              "\n",
              "    .dataframe thead th {\n",
              "        text-align: right;\n",
              "    }\n",
              "</style>\n",
              "<table border=\"1\" class=\"dataframe\">\n",
              "  <thead>\n",
              "    <tr style=\"text-align: right;\">\n",
              "      <th></th>\n",
              "      <th>Method</th>\n",
              "      <th>Average Execution Time (seconds)</th>\n",
              "    </tr>\n",
              "  </thead>\n",
              "  <tbody>\n",
              "    <tr>\n",
              "      <th>0</th>\n",
              "      <td>Python</td>\n",
              "      <td>9.434793</td>\n",
              "    </tr>\n",
              "    <tr>\n",
              "      <th>1</th>\n",
              "      <td>NumPy</td>\n",
              "      <td>0.003023</td>\n",
              "    </tr>\n",
              "    <tr>\n",
              "      <th>2</th>\n",
              "      <td>C</td>\n",
              "      <td>0.516414</td>\n",
              "    </tr>\n",
              "    <tr>\n",
              "      <th>3</th>\n",
              "      <td>C++</td>\n",
              "      <td>0.804841</td>\n",
              "    </tr>\n",
              "    <tr>\n",
              "      <th>4</th>\n",
              "      <td>Java</td>\n",
              "      <td>0.211691</td>\n",
              "    </tr>\n",
              "  </tbody>\n",
              "</table>\n",
              "</div>\n",
              "    <div class=\"colab-df-buttons\">\n",
              "\n",
              "  <div class=\"colab-df-container\">\n",
              "    <button class=\"colab-df-convert\" onclick=\"convertToInteractive('df-889b6183-7042-4b26-ac6a-ca3cd4c96055')\"\n",
              "            title=\"Convert this dataframe to an interactive table.\"\n",
              "            style=\"display:none;\">\n",
              "\n",
              "  <svg xmlns=\"http://www.w3.org/2000/svg\" height=\"24px\" viewBox=\"0 -960 960 960\">\n",
              "    <path d=\"M120-120v-720h720v720H120Zm60-500h600v-160H180v160Zm220 220h160v-160H400v160Zm0 220h160v-160H400v160ZM180-400h160v-160H180v160Zm440 0h160v-160H620v160ZM180-180h160v-160H180v160Zm440 0h160v-160H620v160Z\"/>\n",
              "  </svg>\n",
              "    </button>\n",
              "\n",
              "  <style>\n",
              "    .colab-df-container {\n",
              "      display:flex;\n",
              "      gap: 12px;\n",
              "    }\n",
              "\n",
              "    .colab-df-convert {\n",
              "      background-color: #E8F0FE;\n",
              "      border: none;\n",
              "      border-radius: 50%;\n",
              "      cursor: pointer;\n",
              "      display: none;\n",
              "      fill: #1967D2;\n",
              "      height: 32px;\n",
              "      padding: 0 0 0 0;\n",
              "      width: 32px;\n",
              "    }\n",
              "\n",
              "    .colab-df-convert:hover {\n",
              "      background-color: #E2EBFA;\n",
              "      box-shadow: 0px 1px 2px rgba(60, 64, 67, 0.3), 0px 1px 3px 1px rgba(60, 64, 67, 0.15);\n",
              "      fill: #174EA6;\n",
              "    }\n",
              "\n",
              "    .colab-df-buttons div {\n",
              "      margin-bottom: 4px;\n",
              "    }\n",
              "\n",
              "    [theme=dark] .colab-df-convert {\n",
              "      background-color: #3B4455;\n",
              "      fill: #D2E3FC;\n",
              "    }\n",
              "\n",
              "    [theme=dark] .colab-df-convert:hover {\n",
              "      background-color: #434B5C;\n",
              "      box-shadow: 0px 1px 3px 1px rgba(0, 0, 0, 0.15);\n",
              "      filter: drop-shadow(0px 1px 2px rgba(0, 0, 0, 0.3));\n",
              "      fill: #FFFFFF;\n",
              "    }\n",
              "  </style>\n",
              "\n",
              "    <script>\n",
              "      const buttonEl =\n",
              "        document.querySelector('#df-889b6183-7042-4b26-ac6a-ca3cd4c96055 button.colab-df-convert');\n",
              "      buttonEl.style.display =\n",
              "        google.colab.kernel.accessAllowed ? 'block' : 'none';\n",
              "\n",
              "      async function convertToInteractive(key) {\n",
              "        const element = document.querySelector('#df-889b6183-7042-4b26-ac6a-ca3cd4c96055');\n",
              "        const dataTable =\n",
              "          await google.colab.kernel.invokeFunction('convertToInteractive',\n",
              "                                                    [key], {});\n",
              "        if (!dataTable) return;\n",
              "\n",
              "        const docLinkHtml = 'Like what you see? Visit the ' +\n",
              "          '<a target=\"_blank\" href=https://colab.research.google.com/notebooks/data_table.ipynb>data table notebook</a>'\n",
              "          + ' to learn more about interactive tables.';\n",
              "        element.innerHTML = '';\n",
              "        dataTable['output_type'] = 'display_data';\n",
              "        await google.colab.output.renderOutput(dataTable, element);\n",
              "        const docLink = document.createElement('div');\n",
              "        docLink.innerHTML = docLinkHtml;\n",
              "        element.appendChild(docLink);\n",
              "      }\n",
              "    </script>\n",
              "  </div>\n",
              "\n",
              "\n",
              "<div id=\"df-a657d5fb-9637-49ba-a40c-2ec8922ee8b9\">\n",
              "  <button class=\"colab-df-quickchart\" onclick=\"quickchart('df-a657d5fb-9637-49ba-a40c-2ec8922ee8b9')\"\n",
              "            title=\"Suggest charts\"\n",
              "            style=\"display:none;\">\n",
              "\n",
              "<svg xmlns=\"http://www.w3.org/2000/svg\" height=\"24px\"viewBox=\"0 0 24 24\"\n",
              "     width=\"24px\">\n",
              "    <g>\n",
              "        <path d=\"M19 3H5c-1.1 0-2 .9-2 2v14c0 1.1.9 2 2 2h14c1.1 0 2-.9 2-2V5c0-1.1-.9-2-2-2zM9 17H7v-7h2v7zm4 0h-2V7h2v10zm4 0h-2v-4h2v4z\"/>\n",
              "    </g>\n",
              "</svg>\n",
              "  </button>\n",
              "\n",
              "<style>\n",
              "  .colab-df-quickchart {\n",
              "      --bg-color: #E8F0FE;\n",
              "      --fill-color: #1967D2;\n",
              "      --hover-bg-color: #E2EBFA;\n",
              "      --hover-fill-color: #174EA6;\n",
              "      --disabled-fill-color: #AAA;\n",
              "      --disabled-bg-color: #DDD;\n",
              "  }\n",
              "\n",
              "  [theme=dark] .colab-df-quickchart {\n",
              "      --bg-color: #3B4455;\n",
              "      --fill-color: #D2E3FC;\n",
              "      --hover-bg-color: #434B5C;\n",
              "      --hover-fill-color: #FFFFFF;\n",
              "      --disabled-bg-color: #3B4455;\n",
              "      --disabled-fill-color: #666;\n",
              "  }\n",
              "\n",
              "  .colab-df-quickchart {\n",
              "    background-color: var(--bg-color);\n",
              "    border: none;\n",
              "    border-radius: 50%;\n",
              "    cursor: pointer;\n",
              "    display: none;\n",
              "    fill: var(--fill-color);\n",
              "    height: 32px;\n",
              "    padding: 0;\n",
              "    width: 32px;\n",
              "  }\n",
              "\n",
              "  .colab-df-quickchart:hover {\n",
              "    background-color: var(--hover-bg-color);\n",
              "    box-shadow: 0 1px 2px rgba(60, 64, 67, 0.3), 0 1px 3px 1px rgba(60, 64, 67, 0.15);\n",
              "    fill: var(--button-hover-fill-color);\n",
              "  }\n",
              "\n",
              "  .colab-df-quickchart-complete:disabled,\n",
              "  .colab-df-quickchart-complete:disabled:hover {\n",
              "    background-color: var(--disabled-bg-color);\n",
              "    fill: var(--disabled-fill-color);\n",
              "    box-shadow: none;\n",
              "  }\n",
              "\n",
              "  .colab-df-spinner {\n",
              "    border: 2px solid var(--fill-color);\n",
              "    border-color: transparent;\n",
              "    border-bottom-color: var(--fill-color);\n",
              "    animation:\n",
              "      spin 1s steps(1) infinite;\n",
              "  }\n",
              "\n",
              "  @keyframes spin {\n",
              "    0% {\n",
              "      border-color: transparent;\n",
              "      border-bottom-color: var(--fill-color);\n",
              "      border-left-color: var(--fill-color);\n",
              "    }\n",
              "    20% {\n",
              "      border-color: transparent;\n",
              "      border-left-color: var(--fill-color);\n",
              "      border-top-color: var(--fill-color);\n",
              "    }\n",
              "    30% {\n",
              "      border-color: transparent;\n",
              "      border-left-color: var(--fill-color);\n",
              "      border-top-color: var(--fill-color);\n",
              "      border-right-color: var(--fill-color);\n",
              "    }\n",
              "    40% {\n",
              "      border-color: transparent;\n",
              "      border-right-color: var(--fill-color);\n",
              "      border-top-color: var(--fill-color);\n",
              "    }\n",
              "    60% {\n",
              "      border-color: transparent;\n",
              "      border-right-color: var(--fill-color);\n",
              "    }\n",
              "    80% {\n",
              "      border-color: transparent;\n",
              "      border-right-color: var(--fill-color);\n",
              "      border-bottom-color: var(--fill-color);\n",
              "    }\n",
              "    90% {\n",
              "      border-color: transparent;\n",
              "      border-bottom-color: var(--fill-color);\n",
              "    }\n",
              "  }\n",
              "</style>\n",
              "\n",
              "  <script>\n",
              "    async function quickchart(key) {\n",
              "      const quickchartButtonEl =\n",
              "        document.querySelector('#' + key + ' button');\n",
              "      quickchartButtonEl.disabled = true;  // To prevent multiple clicks.\n",
              "      quickchartButtonEl.classList.add('colab-df-spinner');\n",
              "      try {\n",
              "        const charts = await google.colab.kernel.invokeFunction(\n",
              "            'suggestCharts', [key], {});\n",
              "      } catch (error) {\n",
              "        console.error('Error during call to suggestCharts:', error);\n",
              "      }\n",
              "      quickchartButtonEl.classList.remove('colab-df-spinner');\n",
              "      quickchartButtonEl.classList.add('colab-df-quickchart-complete');\n",
              "    }\n",
              "    (() => {\n",
              "      let quickchartButtonEl =\n",
              "        document.querySelector('#df-a657d5fb-9637-49ba-a40c-2ec8922ee8b9 button');\n",
              "      quickchartButtonEl.style.display =\n",
              "        google.colab.kernel.accessAllowed ? 'block' : 'none';\n",
              "    })();\n",
              "  </script>\n",
              "</div>\n",
              "\n",
              "  <div id=\"id_a32ea470-cb74-4303-ae18-1db0426cc9be\">\n",
              "    <style>\n",
              "      .colab-df-generate {\n",
              "        background-color: #E8F0FE;\n",
              "        border: none;\n",
              "        border-radius: 50%;\n",
              "        cursor: pointer;\n",
              "        display: none;\n",
              "        fill: #1967D2;\n",
              "        height: 32px;\n",
              "        padding: 0 0 0 0;\n",
              "        width: 32px;\n",
              "      }\n",
              "\n",
              "      .colab-df-generate:hover {\n",
              "        background-color: #E2EBFA;\n",
              "        box-shadow: 0px 1px 2px rgba(60, 64, 67, 0.3), 0px 1px 3px 1px rgba(60, 64, 67, 0.15);\n",
              "        fill: #174EA6;\n",
              "      }\n",
              "\n",
              "      [theme=dark] .colab-df-generate {\n",
              "        background-color: #3B4455;\n",
              "        fill: #D2E3FC;\n",
              "      }\n",
              "\n",
              "      [theme=dark] .colab-df-generate:hover {\n",
              "        background-color: #434B5C;\n",
              "        box-shadow: 0px 1px 3px 1px rgba(0, 0, 0, 0.15);\n",
              "        filter: drop-shadow(0px 1px 2px rgba(0, 0, 0, 0.3));\n",
              "        fill: #FFFFFF;\n",
              "      }\n",
              "    </style>\n",
              "    <button class=\"colab-df-generate\" onclick=\"generateWithVariable('df')\"\n",
              "            title=\"Generate code using this dataframe.\"\n",
              "            style=\"display:none;\">\n",
              "\n",
              "  <svg xmlns=\"http://www.w3.org/2000/svg\" height=\"24px\"viewBox=\"0 0 24 24\"\n",
              "       width=\"24px\">\n",
              "    <path d=\"M7,19H8.4L18.45,9,17,7.55,7,17.6ZM5,21V16.75L18.45,3.32a2,2,0,0,1,2.83,0l1.4,1.43a1.91,1.91,0,0,1,.58,1.4,1.91,1.91,0,0,1-.58,1.4L9.25,21ZM18.45,9,17,7.55Zm-12,3A5.31,5.31,0,0,0,4.9,8.1,5.31,5.31,0,0,0,1,6.5,5.31,5.31,0,0,0,4.9,4.9,5.31,5.31,0,0,0,6.5,1,5.31,5.31,0,0,0,8.1,4.9,5.31,5.31,0,0,0,12,6.5,5.46,5.46,0,0,0,6.5,12Z\"/>\n",
              "  </svg>\n",
              "    </button>\n",
              "    <script>\n",
              "      (() => {\n",
              "      const buttonEl =\n",
              "        document.querySelector('#id_a32ea470-cb74-4303-ae18-1db0426cc9be button.colab-df-generate');\n",
              "      buttonEl.style.display =\n",
              "        google.colab.kernel.accessAllowed ? 'block' : 'none';\n",
              "\n",
              "      buttonEl.onclick = () => {\n",
              "        google.colab.notebook.generateWithVariable('df');\n",
              "      }\n",
              "      })();\n",
              "    </script>\n",
              "  </div>\n",
              "\n",
              "    </div>\n",
              "  </div>\n"
            ],
            "application/vnd.google.colaboratory.intrinsic+json": {
              "type": "dataframe",
              "variable_name": "df",
              "summary": "{\n  \"name\": \"df\",\n  \"rows\": 5,\n  \"fields\": [\n    {\n      \"column\": \"Method\",\n      \"properties\": {\n        \"dtype\": \"string\",\n        \"num_unique_values\": 5,\n        \"samples\": [\n          \"NumPy\",\n          \"Java\",\n          \"C\"\n        ],\n        \"semantic_type\": \"\",\n        \"description\": \"\"\n      }\n    },\n    {\n      \"column\": \"Average Execution Time (seconds)\",\n      \"properties\": {\n        \"dtype\": \"number\",\n        \"std\": 4.059035491366646,\n        \"min\": 0.003022933006286621,\n        \"max\": 9.43479323387146,\n        \"num_unique_values\": 5,\n        \"samples\": [\n          0.003022933006286621,\n          0.21169068813323974,\n          0.5164137125015259\n        ],\n        \"semantic_type\": \"\",\n        \"description\": \"\"\n      }\n    }\n  ]\n}"
            }
          },
          "metadata": {}
        }
      ]
    },
    {
      "cell_type": "markdown",
      "source": [
        "**My own example 28 - Creating a Javascript program that mutiplies 10 times A(600x100) and  B (100x600) matrices**"
      ],
      "metadata": {
        "id": "nHtevrHEeUiI"
      }
    },
    {
      "cell_type": "code",
      "source": [
        "%%javascript\n",
        "\n",
        "function generateRandomMatrix(rows, cols) {\n",
        "    let matrix = [];\n",
        "    for(let i = 0; i < rows; i++) {\n",
        "        let row = [];\n",
        "        for(let j = 0; j < cols; j++) {\n",
        "            row.push(Math.random() * 100);\n",
        "        }\n",
        "        matrix.push(row);\n",
        "    }\n",
        "    return matrix;\n",
        "}\n",
        "\n",
        "function multiplyMatrices(A, B) {\n",
        "    let result = [];\n",
        "    for(let i = 0; i < A.length; i++) {\n",
        "        let row = [];\n",
        "        for(let j = 0; j < B[0].length; j++) {\n",
        "            let sum = 0;\n",
        "            for(let k = 0; k < A[0].length; k++) {\n",
        "                sum += A[i][k] * B[k][j];\n",
        "            }\n",
        "            row.push(sum);\n",
        "        }\n",
        "        result.push(row);\n",
        "    }\n",
        "    return result;\n",
        "}"
      ],
      "metadata": {
        "id": "6t1-WhmW7GhX",
        "colab": {
          "base_uri": "https://localhost:8080/",
          "height": 17
        },
        "outputId": "59eae746-36e6-421d-b49a-d51c25563a3c"
      },
      "execution_count": 45,
      "outputs": [
        {
          "output_type": "display_data",
          "data": {
            "text/plain": [
              "<IPython.core.display.Javascript object>"
            ],
            "application/javascript": [
              "\n",
              "function generateRandomMatrix(rows, cols) {\n",
              "    let matrix = [];\n",
              "    for(let i = 0; i < rows; i++) {\n",
              "        let row = [];\n",
              "        for(let j = 0; j < cols; j++) {\n",
              "            row.push(Math.random() * 100);\n",
              "        }\n",
              "        matrix.push(row);\n",
              "    }\n",
              "    return matrix;\n",
              "}\n",
              "\n",
              "function multiplyMatrices(A, B) {\n",
              "    let result = [];\n",
              "    for(let i = 0; i < A.length; i++) {\n",
              "        let row = [];\n",
              "        for(let j = 0; j < B[0].length; j++) {\n",
              "            let sum = 0;\n",
              "            for(let k = 0; k < A[0].length; k++) {\n",
              "                sum += A[i][k] * B[k][j];\n",
              "            }\n",
              "            row.push(sum);\n",
              "        }\n",
              "        result.push(row);\n",
              "    }\n",
              "    return result;\n",
              "}\n"
            ]
          },
          "metadata": {}
        }
      ]
    },
    {
      "cell_type": "markdown",
      "source": [
        "**My own example 29 - Running the Javascript program that mutiplies 10 times A(600x100) and  B (100x600) matrices**"
      ],
      "metadata": {
        "id": "87XpOlCteUZJ"
      }
    },
    {
      "cell_type": "code",
      "source": [
        "%%javascript\n",
        "\n",
        "function generateRandomMatrix(rows, cols) {\n",
        "    let matrix = [];\n",
        "    for(let i = 0; i < rows; i++) {\n",
        "        let row = [];\n",
        "        for(let j = 0; j < cols; j++) {\n",
        "            row.push(Math.random() * 100);\n",
        "        }\n",
        "        matrix.push(row);\n",
        "    }\n",
        "    return matrix;\n",
        "}\n",
        "\n",
        "function multiplyMatrices(A, B) {\n",
        "    let result = [];\n",
        "    for(let i = 0; i < A.length; i++) {\n",
        "        let row = [];\n",
        "        for(let j = 0; j < B[0].length; j++) {\n",
        "            let sum = 0;\n",
        "            for(let k = 0; k < A[0].length; k++) {\n",
        "                sum += A[i][k] * B[k][j];\n",
        "            }\n",
        "            row.push(sum);\n",
        "        }\n",
        "        result.push(row);\n",
        "    }\n",
        "    return result;\n",
        "}\n",
        "\n",
        "let A_ROWS = 600, A_COLS = 100, B_ROWS = 100, B_COLS = 600;\n",
        "\n",
        "let start = performance.now();\n",
        "for(let i = 0; i < 10; i++) {\n",
        "    let A = generateRandomMatrix(A_ROWS, A_COLS);\n",
        "    let B = generateRandomMatrix(B_ROWS, B_COLS);\n",
        "    let result = multiplyMatrices(A, B);\n",
        "}\n",
        "let end = performance.now();\n",
        "\n",
        "let executionTime = end - start;\n",
        "\n",
        "// Call the set_time function to send the execution time back to Python\n",
        "console.log(\"JS execution time: \" +  String(executionTime/10000) + \" s\");"
      ],
      "metadata": {
        "id": "QEm52oVe7HyF",
        "colab": {
          "base_uri": "https://localhost:8080/",
          "height": 17
        },
        "outputId": "54f351e6-8483-442a-f4f0-7f35a2ec3ca0"
      },
      "execution_count": 49,
      "outputs": [
        {
          "output_type": "display_data",
          "data": {
            "text/plain": [
              "<IPython.core.display.Javascript object>"
            ],
            "application/javascript": [
              "\n",
              "function generateRandomMatrix(rows, cols) {\n",
              "    let matrix = [];\n",
              "    for(let i = 0; i < rows; i++) {\n",
              "        let row = [];\n",
              "        for(let j = 0; j < cols; j++) {\n",
              "            row.push(Math.random() * 100);\n",
              "        }\n",
              "        matrix.push(row);\n",
              "    }\n",
              "    return matrix;\n",
              "}\n",
              "\n",
              "function multiplyMatrices(A, B) {\n",
              "    let result = [];\n",
              "    for(let i = 0; i < A.length; i++) {\n",
              "        let row = [];\n",
              "        for(let j = 0; j < B[0].length; j++) {\n",
              "            let sum = 0;\n",
              "            for(let k = 0; k < A[0].length; k++) {\n",
              "                sum += A[i][k] * B[k][j];\n",
              "            }\n",
              "            row.push(sum);\n",
              "        }\n",
              "        result.push(row);\n",
              "    }\n",
              "    return result;\n",
              "}\n",
              "\n",
              "let A_ROWS = 600, A_COLS = 100, B_ROWS = 100, B_COLS = 600;\n",
              "\n",
              "let start = performance.now();\n",
              "for(let i = 0; i < 10; i++) {\n",
              "    let A = generateRandomMatrix(A_ROWS, A_COLS);\n",
              "    let B = generateRandomMatrix(B_ROWS, B_COLS);\n",
              "    let result = multiplyMatrices(A, B);\n",
              "}\n",
              "let end = performance.now();\n",
              "\n",
              "let executionTime = end - start;\n",
              "\n",
              "// Call the set_time function to send the execution time back to Python\n",
              "console.log(\"JS execution time: \" +  String(executionTime/10000) + \" s\");\n"
            ]
          },
          "metadata": {}
        }
      ]
    },
    {
      "cell_type": "markdown",
      "source": [
        "![Captura de pantalla 2024-11-13 070759.png](data:image/png;base64,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)"
      ],
      "metadata": {
        "id": "mT1USuzCa-xp"
      }
    },
    {
      "cell_type": "markdown",
      "source": [
        "**My own example 30 - Adding Javascript average execution time to the data frame**"
      ],
      "metadata": {
        "id": "LvxaACodc9-K"
      }
    },
    {
      "cell_type": "code",
      "source": [
        "new_row_js = pd.DataFrame({'Method': ['JavaScript'], 'Average Execution Time (seconds)': 0.075830})\n",
        "df = pd.concat([df, new_row_js], ignore_index=True)\n",
        "display(df)\n"
      ],
      "metadata": {
        "id": "BP_cdxR17J50",
        "colab": {
          "base_uri": "https://localhost:8080/",
          "height": 237
        },
        "outputId": "ce306ea9-8678-4d6e-ca8d-4b6723f0b231"
      },
      "execution_count": 50,
      "outputs": [
        {
          "output_type": "display_data",
          "data": {
            "text/plain": [
              "       Method  Average Execution Time (seconds)\n",
              "0      Python                          9.434793\n",
              "1       NumPy                          0.003023\n",
              "2           C                          0.516414\n",
              "3         C++                          0.804841\n",
              "4        Java                          0.211691\n",
              "5  JavaScript                          0.075830"
            ],
            "text/html": [
              "\n",
              "  <div id=\"df-c926605e-b5a0-47ed-a47a-57ef7553af95\" class=\"colab-df-container\">\n",
              "    <div>\n",
              "<style scoped>\n",
              "    .dataframe tbody tr th:only-of-type {\n",
              "        vertical-align: middle;\n",
              "    }\n",
              "\n",
              "    .dataframe tbody tr th {\n",
              "        vertical-align: top;\n",
              "    }\n",
              "\n",
              "    .dataframe thead th {\n",
              "        text-align: right;\n",
              "    }\n",
              "</style>\n",
              "<table border=\"1\" class=\"dataframe\">\n",
              "  <thead>\n",
              "    <tr style=\"text-align: right;\">\n",
              "      <th></th>\n",
              "      <th>Method</th>\n",
              "      <th>Average Execution Time (seconds)</th>\n",
              "    </tr>\n",
              "  </thead>\n",
              "  <tbody>\n",
              "    <tr>\n",
              "      <th>0</th>\n",
              "      <td>Python</td>\n",
              "      <td>9.434793</td>\n",
              "    </tr>\n",
              "    <tr>\n",
              "      <th>1</th>\n",
              "      <td>NumPy</td>\n",
              "      <td>0.003023</td>\n",
              "    </tr>\n",
              "    <tr>\n",
              "      <th>2</th>\n",
              "      <td>C</td>\n",
              "      <td>0.516414</td>\n",
              "    </tr>\n",
              "    <tr>\n",
              "      <th>3</th>\n",
              "      <td>C++</td>\n",
              "      <td>0.804841</td>\n",
              "    </tr>\n",
              "    <tr>\n",
              "      <th>4</th>\n",
              "      <td>Java</td>\n",
              "      <td>0.211691</td>\n",
              "    </tr>\n",
              "    <tr>\n",
              "      <th>5</th>\n",
              "      <td>JavaScript</td>\n",
              "      <td>0.075830</td>\n",
              "    </tr>\n",
              "  </tbody>\n",
              "</table>\n",
              "</div>\n",
              "    <div class=\"colab-df-buttons\">\n",
              "\n",
              "  <div class=\"colab-df-container\">\n",
              "    <button class=\"colab-df-convert\" onclick=\"convertToInteractive('df-c926605e-b5a0-47ed-a47a-57ef7553af95')\"\n",
              "            title=\"Convert this dataframe to an interactive table.\"\n",
              "            style=\"display:none;\">\n",
              "\n",
              "  <svg xmlns=\"http://www.w3.org/2000/svg\" height=\"24px\" viewBox=\"0 -960 960 960\">\n",
              "    <path d=\"M120-120v-720h720v720H120Zm60-500h600v-160H180v160Zm220 220h160v-160H400v160Zm0 220h160v-160H400v160ZM180-400h160v-160H180v160Zm440 0h160v-160H620v160ZM180-180h160v-160H180v160Zm440 0h160v-160H620v160Z\"/>\n",
              "  </svg>\n",
              "    </button>\n",
              "\n",
              "  <style>\n",
              "    .colab-df-container {\n",
              "      display:flex;\n",
              "      gap: 12px;\n",
              "    }\n",
              "\n",
              "    .colab-df-convert {\n",
              "      background-color: #E8F0FE;\n",
              "      border: none;\n",
              "      border-radius: 50%;\n",
              "      cursor: pointer;\n",
              "      display: none;\n",
              "      fill: #1967D2;\n",
              "      height: 32px;\n",
              "      padding: 0 0 0 0;\n",
              "      width: 32px;\n",
              "    }\n",
              "\n",
              "    .colab-df-convert:hover {\n",
              "      background-color: #E2EBFA;\n",
              "      box-shadow: 0px 1px 2px rgba(60, 64, 67, 0.3), 0px 1px 3px 1px rgba(60, 64, 67, 0.15);\n",
              "      fill: #174EA6;\n",
              "    }\n",
              "\n",
              "    .colab-df-buttons div {\n",
              "      margin-bottom: 4px;\n",
              "    }\n",
              "\n",
              "    [theme=dark] .colab-df-convert {\n",
              "      background-color: #3B4455;\n",
              "      fill: #D2E3FC;\n",
              "    }\n",
              "\n",
              "    [theme=dark] .colab-df-convert:hover {\n",
              "      background-color: #434B5C;\n",
              "      box-shadow: 0px 1px 3px 1px rgba(0, 0, 0, 0.15);\n",
              "      filter: drop-shadow(0px 1px 2px rgba(0, 0, 0, 0.3));\n",
              "      fill: #FFFFFF;\n",
              "    }\n",
              "  </style>\n",
              "\n",
              "    <script>\n",
              "      const buttonEl =\n",
              "        document.querySelector('#df-c926605e-b5a0-47ed-a47a-57ef7553af95 button.colab-df-convert');\n",
              "      buttonEl.style.display =\n",
              "        google.colab.kernel.accessAllowed ? 'block' : 'none';\n",
              "\n",
              "      async function convertToInteractive(key) {\n",
              "        const element = document.querySelector('#df-c926605e-b5a0-47ed-a47a-57ef7553af95');\n",
              "        const dataTable =\n",
              "          await google.colab.kernel.invokeFunction('convertToInteractive',\n",
              "                                                    [key], {});\n",
              "        if (!dataTable) return;\n",
              "\n",
              "        const docLinkHtml = 'Like what you see? Visit the ' +\n",
              "          '<a target=\"_blank\" href=https://colab.research.google.com/notebooks/data_table.ipynb>data table notebook</a>'\n",
              "          + ' to learn more about interactive tables.';\n",
              "        element.innerHTML = '';\n",
              "        dataTable['output_type'] = 'display_data';\n",
              "        await google.colab.output.renderOutput(dataTable, element);\n",
              "        const docLink = document.createElement('div');\n",
              "        docLink.innerHTML = docLinkHtml;\n",
              "        element.appendChild(docLink);\n",
              "      }\n",
              "    </script>\n",
              "  </div>\n",
              "\n",
              "\n",
              "<div id=\"df-87b8cae7-11bf-407b-980f-909f5927f03d\">\n",
              "  <button class=\"colab-df-quickchart\" onclick=\"quickchart('df-87b8cae7-11bf-407b-980f-909f5927f03d')\"\n",
              "            title=\"Suggest charts\"\n",
              "            style=\"display:none;\">\n",
              "\n",
              "<svg xmlns=\"http://www.w3.org/2000/svg\" height=\"24px\"viewBox=\"0 0 24 24\"\n",
              "     width=\"24px\">\n",
              "    <g>\n",
              "        <path d=\"M19 3H5c-1.1 0-2 .9-2 2v14c0 1.1.9 2 2 2h14c1.1 0 2-.9 2-2V5c0-1.1-.9-2-2-2zM9 17H7v-7h2v7zm4 0h-2V7h2v10zm4 0h-2v-4h2v4z\"/>\n",
              "    </g>\n",
              "</svg>\n",
              "  </button>\n",
              "\n",
              "<style>\n",
              "  .colab-df-quickchart {\n",
              "      --bg-color: #E8F0FE;\n",
              "      --fill-color: #1967D2;\n",
              "      --hover-bg-color: #E2EBFA;\n",
              "      --hover-fill-color: #174EA6;\n",
              "      --disabled-fill-color: #AAA;\n",
              "      --disabled-bg-color: #DDD;\n",
              "  }\n",
              "\n",
              "  [theme=dark] .colab-df-quickchart {\n",
              "      --bg-color: #3B4455;\n",
              "      --fill-color: #D2E3FC;\n",
              "      --hover-bg-color: #434B5C;\n",
              "      --hover-fill-color: #FFFFFF;\n",
              "      --disabled-bg-color: #3B4455;\n",
              "      --disabled-fill-color: #666;\n",
              "  }\n",
              "\n",
              "  .colab-df-quickchart {\n",
              "    background-color: var(--bg-color);\n",
              "    border: none;\n",
              "    border-radius: 50%;\n",
              "    cursor: pointer;\n",
              "    display: none;\n",
              "    fill: var(--fill-color);\n",
              "    height: 32px;\n",
              "    padding: 0;\n",
              "    width: 32px;\n",
              "  }\n",
              "\n",
              "  .colab-df-quickchart:hover {\n",
              "    background-color: var(--hover-bg-color);\n",
              "    box-shadow: 0 1px 2px rgba(60, 64, 67, 0.3), 0 1px 3px 1px rgba(60, 64, 67, 0.15);\n",
              "    fill: var(--button-hover-fill-color);\n",
              "  }\n",
              "\n",
              "  .colab-df-quickchart-complete:disabled,\n",
              "  .colab-df-quickchart-complete:disabled:hover {\n",
              "    background-color: var(--disabled-bg-color);\n",
              "    fill: var(--disabled-fill-color);\n",
              "    box-shadow: none;\n",
              "  }\n",
              "\n",
              "  .colab-df-spinner {\n",
              "    border: 2px solid var(--fill-color);\n",
              "    border-color: transparent;\n",
              "    border-bottom-color: var(--fill-color);\n",
              "    animation:\n",
              "      spin 1s steps(1) infinite;\n",
              "  }\n",
              "\n",
              "  @keyframes spin {\n",
              "    0% {\n",
              "      border-color: transparent;\n",
              "      border-bottom-color: var(--fill-color);\n",
              "      border-left-color: var(--fill-color);\n",
              "    }\n",
              "    20% {\n",
              "      border-color: transparent;\n",
              "      border-left-color: var(--fill-color);\n",
              "      border-top-color: var(--fill-color);\n",
              "    }\n",
              "    30% {\n",
              "      border-color: transparent;\n",
              "      border-left-color: var(--fill-color);\n",
              "      border-top-color: var(--fill-color);\n",
              "      border-right-color: var(--fill-color);\n",
              "    }\n",
              "    40% {\n",
              "      border-color: transparent;\n",
              "      border-right-color: var(--fill-color);\n",
              "      border-top-color: var(--fill-color);\n",
              "    }\n",
              "    60% {\n",
              "      border-color: transparent;\n",
              "      border-right-color: var(--fill-color);\n",
              "    }\n",
              "    80% {\n",
              "      border-color: transparent;\n",
              "      border-right-color: var(--fill-color);\n",
              "      border-bottom-color: var(--fill-color);\n",
              "    }\n",
              "    90% {\n",
              "      border-color: transparent;\n",
              "      border-bottom-color: var(--fill-color);\n",
              "    }\n",
              "  }\n",
              "</style>\n",
              "\n",
              "  <script>\n",
              "    async function quickchart(key) {\n",
              "      const quickchartButtonEl =\n",
              "        document.querySelector('#' + key + ' button');\n",
              "      quickchartButtonEl.disabled = true;  // To prevent multiple clicks.\n",
              "      quickchartButtonEl.classList.add('colab-df-spinner');\n",
              "      try {\n",
              "        const charts = await google.colab.kernel.invokeFunction(\n",
              "            'suggestCharts', [key], {});\n",
              "      } catch (error) {\n",
              "        console.error('Error during call to suggestCharts:', error);\n",
              "      }\n",
              "      quickchartButtonEl.classList.remove('colab-df-spinner');\n",
              "      quickchartButtonEl.classList.add('colab-df-quickchart-complete');\n",
              "    }\n",
              "    (() => {\n",
              "      let quickchartButtonEl =\n",
              "        document.querySelector('#df-87b8cae7-11bf-407b-980f-909f5927f03d button');\n",
              "      quickchartButtonEl.style.display =\n",
              "        google.colab.kernel.accessAllowed ? 'block' : 'none';\n",
              "    })();\n",
              "  </script>\n",
              "</div>\n",
              "\n",
              "  <div id=\"id_18152a24-0b81-4670-be29-0828f488a6e9\">\n",
              "    <style>\n",
              "      .colab-df-generate {\n",
              "        background-color: #E8F0FE;\n",
              "        border: none;\n",
              "        border-radius: 50%;\n",
              "        cursor: pointer;\n",
              "        display: none;\n",
              "        fill: #1967D2;\n",
              "        height: 32px;\n",
              "        padding: 0 0 0 0;\n",
              "        width: 32px;\n",
              "      }\n",
              "\n",
              "      .colab-df-generate:hover {\n",
              "        background-color: #E2EBFA;\n",
              "        box-shadow: 0px 1px 2px rgba(60, 64, 67, 0.3), 0px 1px 3px 1px rgba(60, 64, 67, 0.15);\n",
              "        fill: #174EA6;\n",
              "      }\n",
              "\n",
              "      [theme=dark] .colab-df-generate {\n",
              "        background-color: #3B4455;\n",
              "        fill: #D2E3FC;\n",
              "      }\n",
              "\n",
              "      [theme=dark] .colab-df-generate:hover {\n",
              "        background-color: #434B5C;\n",
              "        box-shadow: 0px 1px 3px 1px rgba(0, 0, 0, 0.15);\n",
              "        filter: drop-shadow(0px 1px 2px rgba(0, 0, 0, 0.3));\n",
              "        fill: #FFFFFF;\n",
              "      }\n",
              "    </style>\n",
              "    <button class=\"colab-df-generate\" onclick=\"generateWithVariable('df')\"\n",
              "            title=\"Generate code using this dataframe.\"\n",
              "            style=\"display:none;\">\n",
              "\n",
              "  <svg xmlns=\"http://www.w3.org/2000/svg\" height=\"24px\"viewBox=\"0 0 24 24\"\n",
              "       width=\"24px\">\n",
              "    <path d=\"M7,19H8.4L18.45,9,17,7.55,7,17.6ZM5,21V16.75L18.45,3.32a2,2,0,0,1,2.83,0l1.4,1.43a1.91,1.91,0,0,1,.58,1.4,1.91,1.91,0,0,1-.58,1.4L9.25,21ZM18.45,9,17,7.55Zm-12,3A5.31,5.31,0,0,0,4.9,8.1,5.31,5.31,0,0,0,1,6.5,5.31,5.31,0,0,0,4.9,4.9,5.31,5.31,0,0,0,6.5,1,5.31,5.31,0,0,0,8.1,4.9,5.31,5.31,0,0,0,12,6.5,5.46,5.46,0,0,0,6.5,12Z\"/>\n",
              "  </svg>\n",
              "    </button>\n",
              "    <script>\n",
              "      (() => {\n",
              "      const buttonEl =\n",
              "        document.querySelector('#id_18152a24-0b81-4670-be29-0828f488a6e9 button.colab-df-generate');\n",
              "      buttonEl.style.display =\n",
              "        google.colab.kernel.accessAllowed ? 'block' : 'none';\n",
              "\n",
              "      buttonEl.onclick = () => {\n",
              "        google.colab.notebook.generateWithVariable('df');\n",
              "      }\n",
              "      })();\n",
              "    </script>\n",
              "  </div>\n",
              "\n",
              "    </div>\n",
              "  </div>\n"
            ],
            "application/vnd.google.colaboratory.intrinsic+json": {
              "type": "dataframe",
              "variable_name": "df",
              "summary": "{\n  \"name\": \"df\",\n  \"rows\": 6,\n  \"fields\": [\n    {\n      \"column\": \"Method\",\n      \"properties\": {\n        \"dtype\": \"string\",\n        \"num_unique_values\": 6,\n        \"samples\": [\n          \"Python\",\n          \"NumPy\",\n          \"JavaScript\"\n        ],\n        \"semantic_type\": \"\",\n        \"description\": \"\"\n      }\n    },\n    {\n      \"column\": \"Average Execution Time (seconds)\",\n      \"properties\": {\n        \"dtype\": \"number\",\n        \"std\": 3.7320901421168062,\n        \"min\": 0.003022933006286621,\n        \"max\": 9.43479323387146,\n        \"num_unique_values\": 6,\n        \"samples\": [\n          9.43479323387146,\n          0.003022933006286621,\n          0.07583\n        ],\n        \"semantic_type\": \"\",\n        \"description\": \"\"\n      }\n    }\n  ]\n}"
            }
          },
          "metadata": {}
        }
      ]
    },
    {
      "cell_type": "markdown",
      "source": [
        "**My own example 31 - Finding the minimun average esecuiton time in the data frame**"
      ],
      "metadata": {
        "id": "XPP0Ir1dezN6"
      }
    },
    {
      "cell_type": "code",
      "source": [
        "min_execution_time = df['Average Execution Time (seconds)'].min()\n",
        "\n",
        "min_execution_method = df[df['Average Execution Time (seconds)'] == min_execution_time]\n",
        "\n",
        "display(min_execution_method)\n"
      ],
      "metadata": {
        "id": "y0rA3N9v7KyM",
        "colab": {
          "base_uri": "https://localhost:8080/",
          "height": 89
        },
        "outputId": "f56df845-9ca1-434d-807f-b369241a1077"
      },
      "execution_count": 53,
      "outputs": [
        {
          "output_type": "display_data",
          "data": {
            "text/plain": [
              "  Method  Average Execution Time (seconds)\n",
              "1  NumPy                          0.003023"
            ],
            "text/html": [
              "\n",
              "  <div id=\"df-fbb8db52-680f-411f-88d6-f4f4383c831c\" class=\"colab-df-container\">\n",
              "    <div>\n",
              "<style scoped>\n",
              "    .dataframe tbody tr th:only-of-type {\n",
              "        vertical-align: middle;\n",
              "    }\n",
              "\n",
              "    .dataframe tbody tr th {\n",
              "        vertical-align: top;\n",
              "    }\n",
              "\n",
              "    .dataframe thead th {\n",
              "        text-align: right;\n",
              "    }\n",
              "</style>\n",
              "<table border=\"1\" class=\"dataframe\">\n",
              "  <thead>\n",
              "    <tr style=\"text-align: right;\">\n",
              "      <th></th>\n",
              "      <th>Method</th>\n",
              "      <th>Average Execution Time (seconds)</th>\n",
              "    </tr>\n",
              "  </thead>\n",
              "  <tbody>\n",
              "    <tr>\n",
              "      <th>1</th>\n",
              "      <td>NumPy</td>\n",
              "      <td>0.003023</td>\n",
              "    </tr>\n",
              "  </tbody>\n",
              "</table>\n",
              "</div>\n",
              "    <div class=\"colab-df-buttons\">\n",
              "\n",
              "  <div class=\"colab-df-container\">\n",
              "    <button class=\"colab-df-convert\" onclick=\"convertToInteractive('df-fbb8db52-680f-411f-88d6-f4f4383c831c')\"\n",
              "            title=\"Convert this dataframe to an interactive table.\"\n",
              "            style=\"display:none;\">\n",
              "\n",
              "  <svg xmlns=\"http://www.w3.org/2000/svg\" height=\"24px\" viewBox=\"0 -960 960 960\">\n",
              "    <path d=\"M120-120v-720h720v720H120Zm60-500h600v-160H180v160Zm220 220h160v-160H400v160Zm0 220h160v-160H400v160ZM180-400h160v-160H180v160Zm440 0h160v-160H620v160ZM180-180h160v-160H180v160Zm440 0h160v-160H620v160Z\"/>\n",
              "  </svg>\n",
              "    </button>\n",
              "\n",
              "  <style>\n",
              "    .colab-df-container {\n",
              "      display:flex;\n",
              "      gap: 12px;\n",
              "    }\n",
              "\n",
              "    .colab-df-convert {\n",
              "      background-color: #E8F0FE;\n",
              "      border: none;\n",
              "      border-radius: 50%;\n",
              "      cursor: pointer;\n",
              "      display: none;\n",
              "      fill: #1967D2;\n",
              "      height: 32px;\n",
              "      padding: 0 0 0 0;\n",
              "      width: 32px;\n",
              "    }\n",
              "\n",
              "    .colab-df-convert:hover {\n",
              "      background-color: #E2EBFA;\n",
              "      box-shadow: 0px 1px 2px rgba(60, 64, 67, 0.3), 0px 1px 3px 1px rgba(60, 64, 67, 0.15);\n",
              "      fill: #174EA6;\n",
              "    }\n",
              "\n",
              "    .colab-df-buttons div {\n",
              "      margin-bottom: 4px;\n",
              "    }\n",
              "\n",
              "    [theme=dark] .colab-df-convert {\n",
              "      background-color: #3B4455;\n",
              "      fill: #D2E3FC;\n",
              "    }\n",
              "\n",
              "    [theme=dark] .colab-df-convert:hover {\n",
              "      background-color: #434B5C;\n",
              "      box-shadow: 0px 1px 3px 1px rgba(0, 0, 0, 0.15);\n",
              "      filter: drop-shadow(0px 1px 2px rgba(0, 0, 0, 0.3));\n",
              "      fill: #FFFFFF;\n",
              "    }\n",
              "  </style>\n",
              "\n",
              "    <script>\n",
              "      const buttonEl =\n",
              "        document.querySelector('#df-fbb8db52-680f-411f-88d6-f4f4383c831c button.colab-df-convert');\n",
              "      buttonEl.style.display =\n",
              "        google.colab.kernel.accessAllowed ? 'block' : 'none';\n",
              "\n",
              "      async function convertToInteractive(key) {\n",
              "        const element = document.querySelector('#df-fbb8db52-680f-411f-88d6-f4f4383c831c');\n",
              "        const dataTable =\n",
              "          await google.colab.kernel.invokeFunction('convertToInteractive',\n",
              "                                                    [key], {});\n",
              "        if (!dataTable) return;\n",
              "\n",
              "        const docLinkHtml = 'Like what you see? Visit the ' +\n",
              "          '<a target=\"_blank\" href=https://colab.research.google.com/notebooks/data_table.ipynb>data table notebook</a>'\n",
              "          + ' to learn more about interactive tables.';\n",
              "        element.innerHTML = '';\n",
              "        dataTable['output_type'] = 'display_data';\n",
              "        await google.colab.output.renderOutput(dataTable, element);\n",
              "        const docLink = document.createElement('div');\n",
              "        docLink.innerHTML = docLinkHtml;\n",
              "        element.appendChild(docLink);\n",
              "      }\n",
              "    </script>\n",
              "  </div>\n",
              "\n",
              "\n",
              "  <div id=\"id_4564e002-632f-4a67-9ed5-81959976280c\">\n",
              "    <style>\n",
              "      .colab-df-generate {\n",
              "        background-color: #E8F0FE;\n",
              "        border: none;\n",
              "        border-radius: 50%;\n",
              "        cursor: pointer;\n",
              "        display: none;\n",
              "        fill: #1967D2;\n",
              "        height: 32px;\n",
              "        padding: 0 0 0 0;\n",
              "        width: 32px;\n",
              "      }\n",
              "\n",
              "      .colab-df-generate:hover {\n",
              "        background-color: #E2EBFA;\n",
              "        box-shadow: 0px 1px 2px rgba(60, 64, 67, 0.3), 0px 1px 3px 1px rgba(60, 64, 67, 0.15);\n",
              "        fill: #174EA6;\n",
              "      }\n",
              "\n",
              "      [theme=dark] .colab-df-generate {\n",
              "        background-color: #3B4455;\n",
              "        fill: #D2E3FC;\n",
              "      }\n",
              "\n",
              "      [theme=dark] .colab-df-generate:hover {\n",
              "        background-color: #434B5C;\n",
              "        box-shadow: 0px 1px 3px 1px rgba(0, 0, 0, 0.15);\n",
              "        filter: drop-shadow(0px 1px 2px rgba(0, 0, 0, 0.3));\n",
              "        fill: #FFFFFF;\n",
              "      }\n",
              "    </style>\n",
              "    <button class=\"colab-df-generate\" onclick=\"generateWithVariable('min_execution_method')\"\n",
              "            title=\"Generate code using this dataframe.\"\n",
              "            style=\"display:none;\">\n",
              "\n",
              "  <svg xmlns=\"http://www.w3.org/2000/svg\" height=\"24px\"viewBox=\"0 0 24 24\"\n",
              "       width=\"24px\">\n",
              "    <path d=\"M7,19H8.4L18.45,9,17,7.55,7,17.6ZM5,21V16.75L18.45,3.32a2,2,0,0,1,2.83,0l1.4,1.43a1.91,1.91,0,0,1,.58,1.4,1.91,1.91,0,0,1-.58,1.4L9.25,21ZM18.45,9,17,7.55Zm-12,3A5.31,5.31,0,0,0,4.9,8.1,5.31,5.31,0,0,0,1,6.5,5.31,5.31,0,0,0,4.9,4.9,5.31,5.31,0,0,0,6.5,1,5.31,5.31,0,0,0,8.1,4.9,5.31,5.31,0,0,0,12,6.5,5.46,5.46,0,0,0,6.5,12Z\"/>\n",
              "  </svg>\n",
              "    </button>\n",
              "    <script>\n",
              "      (() => {\n",
              "      const buttonEl =\n",
              "        document.querySelector('#id_4564e002-632f-4a67-9ed5-81959976280c button.colab-df-generate');\n",
              "      buttonEl.style.display =\n",
              "        google.colab.kernel.accessAllowed ? 'block' : 'none';\n",
              "\n",
              "      buttonEl.onclick = () => {\n",
              "        google.colab.notebook.generateWithVariable('min_execution_method');\n",
              "      }\n",
              "      })();\n",
              "    </script>\n",
              "  </div>\n",
              "\n",
              "    </div>\n",
              "  </div>\n"
            ],
            "application/vnd.google.colaboratory.intrinsic+json": {
              "type": "dataframe",
              "variable_name": "min_execution_method",
              "summary": "{\n  \"name\": \"min_execution_method\",\n  \"rows\": 1,\n  \"fields\": [\n    {\n      \"column\": \"Method\",\n      \"properties\": {\n        \"dtype\": \"string\",\n        \"num_unique_values\": 1,\n        \"samples\": [\n          \"NumPy\"\n        ],\n        \"semantic_type\": \"\",\n        \"description\": \"\"\n      }\n    },\n    {\n      \"column\": \"Average Execution Time (seconds)\",\n      \"properties\": {\n        \"dtype\": \"number\",\n        \"std\": null,\n        \"min\": 0.003022933006286621,\n        \"max\": 0.003022933006286621,\n        \"num_unique_values\": 1,\n        \"samples\": [\n          0.003022933006286621\n        ],\n        \"semantic_type\": \"\",\n        \"description\": \"\"\n      }\n    }\n  ]\n}"
            }
          },
          "metadata": {}
        }
      ]
    },
    {
      "cell_type": "markdown",
      "source": [
        "**My own example 32 - Adding the Speed factor columne to the data frame**"
      ],
      "metadata": {
        "id": "_IjH2K6ldJAQ"
      }
    },
    {
      "cell_type": "code",
      "source": [
        "min_execution_time = df['Average Execution Time (seconds)'].min()\n",
        "df['Speed Factor'] = min_execution_time / df['Average Execution Time (seconds)']\n",
        "display(df)\n"
      ],
      "metadata": {
        "colab": {
          "base_uri": "https://localhost:8080/",
          "height": 237
        },
        "id": "n96A_tf5cVZQ",
        "outputId": "9aca51c2-083a-42ac-a9f6-fde21e38aec8"
      },
      "execution_count": 54,
      "outputs": [
        {
          "output_type": "display_data",
          "data": {
            "text/plain": [
              "       Method  Average Execution Time (seconds)  Speed Factor\n",
              "0      Python                          9.434793      0.000320\n",
              "1       NumPy                          0.003023      1.000000\n",
              "2           C                          0.516414      0.005854\n",
              "3         C++                          0.804841      0.003756\n",
              "4        Java                          0.211691      0.014280\n",
              "5  JavaScript                          0.075830      0.039865"
            ],
            "text/html": [
              "\n",
              "  <div id=\"df-c92e4391-9811-41dd-acfa-67a79c4ec68e\" class=\"colab-df-container\">\n",
              "    <div>\n",
              "<style scoped>\n",
              "    .dataframe tbody tr th:only-of-type {\n",
              "        vertical-align: middle;\n",
              "    }\n",
              "\n",
              "    .dataframe tbody tr th {\n",
              "        vertical-align: top;\n",
              "    }\n",
              "\n",
              "    .dataframe thead th {\n",
              "        text-align: right;\n",
              "    }\n",
              "</style>\n",
              "<table border=\"1\" class=\"dataframe\">\n",
              "  <thead>\n",
              "    <tr style=\"text-align: right;\">\n",
              "      <th></th>\n",
              "      <th>Method</th>\n",
              "      <th>Average Execution Time (seconds)</th>\n",
              "      <th>Speed Factor</th>\n",
              "    </tr>\n",
              "  </thead>\n",
              "  <tbody>\n",
              "    <tr>\n",
              "      <th>0</th>\n",
              "      <td>Python</td>\n",
              "      <td>9.434793</td>\n",
              "      <td>0.000320</td>\n",
              "    </tr>\n",
              "    <tr>\n",
              "      <th>1</th>\n",
              "      <td>NumPy</td>\n",
              "      <td>0.003023</td>\n",
              "      <td>1.000000</td>\n",
              "    </tr>\n",
              "    <tr>\n",
              "      <th>2</th>\n",
              "      <td>C</td>\n",
              "      <td>0.516414</td>\n",
              "      <td>0.005854</td>\n",
              "    </tr>\n",
              "    <tr>\n",
              "      <th>3</th>\n",
              "      <td>C++</td>\n",
              "      <td>0.804841</td>\n",
              "      <td>0.003756</td>\n",
              "    </tr>\n",
              "    <tr>\n",
              "      <th>4</th>\n",
              "      <td>Java</td>\n",
              "      <td>0.211691</td>\n",
              "      <td>0.014280</td>\n",
              "    </tr>\n",
              "    <tr>\n",
              "      <th>5</th>\n",
              "      <td>JavaScript</td>\n",
              "      <td>0.075830</td>\n",
              "      <td>0.039865</td>\n",
              "    </tr>\n",
              "  </tbody>\n",
              "</table>\n",
              "</div>\n",
              "    <div class=\"colab-df-buttons\">\n",
              "\n",
              "  <div class=\"colab-df-container\">\n",
              "    <button class=\"colab-df-convert\" onclick=\"convertToInteractive('df-c92e4391-9811-41dd-acfa-67a79c4ec68e')\"\n",
              "            title=\"Convert this dataframe to an interactive table.\"\n",
              "            style=\"display:none;\">\n",
              "\n",
              "  <svg xmlns=\"http://www.w3.org/2000/svg\" height=\"24px\" viewBox=\"0 -960 960 960\">\n",
              "    <path d=\"M120-120v-720h720v720H120Zm60-500h600v-160H180v160Zm220 220h160v-160H400v160Zm0 220h160v-160H400v160ZM180-400h160v-160H180v160Zm440 0h160v-160H620v160ZM180-180h160v-160H180v160Zm440 0h160v-160H620v160Z\"/>\n",
              "  </svg>\n",
              "    </button>\n",
              "\n",
              "  <style>\n",
              "    .colab-df-container {\n",
              "      display:flex;\n",
              "      gap: 12px;\n",
              "    }\n",
              "\n",
              "    .colab-df-convert {\n",
              "      background-color: #E8F0FE;\n",
              "      border: none;\n",
              "      border-radius: 50%;\n",
              "      cursor: pointer;\n",
              "      display: none;\n",
              "      fill: #1967D2;\n",
              "      height: 32px;\n",
              "      padding: 0 0 0 0;\n",
              "      width: 32px;\n",
              "    }\n",
              "\n",
              "    .colab-df-convert:hover {\n",
              "      background-color: #E2EBFA;\n",
              "      box-shadow: 0px 1px 2px rgba(60, 64, 67, 0.3), 0px 1px 3px 1px rgba(60, 64, 67, 0.15);\n",
              "      fill: #174EA6;\n",
              "    }\n",
              "\n",
              "    .colab-df-buttons div {\n",
              "      margin-bottom: 4px;\n",
              "    }\n",
              "\n",
              "    [theme=dark] .colab-df-convert {\n",
              "      background-color: #3B4455;\n",
              "      fill: #D2E3FC;\n",
              "    }\n",
              "\n",
              "    [theme=dark] .colab-df-convert:hover {\n",
              "      background-color: #434B5C;\n",
              "      box-shadow: 0px 1px 3px 1px rgba(0, 0, 0, 0.15);\n",
              "      filter: drop-shadow(0px 1px 2px rgba(0, 0, 0, 0.3));\n",
              "      fill: #FFFFFF;\n",
              "    }\n",
              "  </style>\n",
              "\n",
              "    <script>\n",
              "      const buttonEl =\n",
              "        document.querySelector('#df-c92e4391-9811-41dd-acfa-67a79c4ec68e button.colab-df-convert');\n",
              "      buttonEl.style.display =\n",
              "        google.colab.kernel.accessAllowed ? 'block' : 'none';\n",
              "\n",
              "      async function convertToInteractive(key) {\n",
              "        const element = document.querySelector('#df-c92e4391-9811-41dd-acfa-67a79c4ec68e');\n",
              "        const dataTable =\n",
              "          await google.colab.kernel.invokeFunction('convertToInteractive',\n",
              "                                                    [key], {});\n",
              "        if (!dataTable) return;\n",
              "\n",
              "        const docLinkHtml = 'Like what you see? Visit the ' +\n",
              "          '<a target=\"_blank\" href=https://colab.research.google.com/notebooks/data_table.ipynb>data table notebook</a>'\n",
              "          + ' to learn more about interactive tables.';\n",
              "        element.innerHTML = '';\n",
              "        dataTable['output_type'] = 'display_data';\n",
              "        await google.colab.output.renderOutput(dataTable, element);\n",
              "        const docLink = document.createElement('div');\n",
              "        docLink.innerHTML = docLinkHtml;\n",
              "        element.appendChild(docLink);\n",
              "      }\n",
              "    </script>\n",
              "  </div>\n",
              "\n",
              "\n",
              "<div id=\"df-bb771cb3-e805-4e44-96fb-cceedf68e7d2\">\n",
              "  <button class=\"colab-df-quickchart\" onclick=\"quickchart('df-bb771cb3-e805-4e44-96fb-cceedf68e7d2')\"\n",
              "            title=\"Suggest charts\"\n",
              "            style=\"display:none;\">\n",
              "\n",
              "<svg xmlns=\"http://www.w3.org/2000/svg\" height=\"24px\"viewBox=\"0 0 24 24\"\n",
              "     width=\"24px\">\n",
              "    <g>\n",
              "        <path d=\"M19 3H5c-1.1 0-2 .9-2 2v14c0 1.1.9 2 2 2h14c1.1 0 2-.9 2-2V5c0-1.1-.9-2-2-2zM9 17H7v-7h2v7zm4 0h-2V7h2v10zm4 0h-2v-4h2v4z\"/>\n",
              "    </g>\n",
              "</svg>\n",
              "  </button>\n",
              "\n",
              "<style>\n",
              "  .colab-df-quickchart {\n",
              "      --bg-color: #E8F0FE;\n",
              "      --fill-color: #1967D2;\n",
              "      --hover-bg-color: #E2EBFA;\n",
              "      --hover-fill-color: #174EA6;\n",
              "      --disabled-fill-color: #AAA;\n",
              "      --disabled-bg-color: #DDD;\n",
              "  }\n",
              "\n",
              "  [theme=dark] .colab-df-quickchart {\n",
              "      --bg-color: #3B4455;\n",
              "      --fill-color: #D2E3FC;\n",
              "      --hover-bg-color: #434B5C;\n",
              "      --hover-fill-color: #FFFFFF;\n",
              "      --disabled-bg-color: #3B4455;\n",
              "      --disabled-fill-color: #666;\n",
              "  }\n",
              "\n",
              "  .colab-df-quickchart {\n",
              "    background-color: var(--bg-color);\n",
              "    border: none;\n",
              "    border-radius: 50%;\n",
              "    cursor: pointer;\n",
              "    display: none;\n",
              "    fill: var(--fill-color);\n",
              "    height: 32px;\n",
              "    padding: 0;\n",
              "    width: 32px;\n",
              "  }\n",
              "\n",
              "  .colab-df-quickchart:hover {\n",
              "    background-color: var(--hover-bg-color);\n",
              "    box-shadow: 0 1px 2px rgba(60, 64, 67, 0.3), 0 1px 3px 1px rgba(60, 64, 67, 0.15);\n",
              "    fill: var(--button-hover-fill-color);\n",
              "  }\n",
              "\n",
              "  .colab-df-quickchart-complete:disabled,\n",
              "  .colab-df-quickchart-complete:disabled:hover {\n",
              "    background-color: var(--disabled-bg-color);\n",
              "    fill: var(--disabled-fill-color);\n",
              "    box-shadow: none;\n",
              "  }\n",
              "\n",
              "  .colab-df-spinner {\n",
              "    border: 2px solid var(--fill-color);\n",
              "    border-color: transparent;\n",
              "    border-bottom-color: var(--fill-color);\n",
              "    animation:\n",
              "      spin 1s steps(1) infinite;\n",
              "  }\n",
              "\n",
              "  @keyframes spin {\n",
              "    0% {\n",
              "      border-color: transparent;\n",
              "      border-bottom-color: var(--fill-color);\n",
              "      border-left-color: var(--fill-color);\n",
              "    }\n",
              "    20% {\n",
              "      border-color: transparent;\n",
              "      border-left-color: var(--fill-color);\n",
              "      border-top-color: var(--fill-color);\n",
              "    }\n",
              "    30% {\n",
              "      border-color: transparent;\n",
              "      border-left-color: var(--fill-color);\n",
              "      border-top-color: var(--fill-color);\n",
              "      border-right-color: var(--fill-color);\n",
              "    }\n",
              "    40% {\n",
              "      border-color: transparent;\n",
              "      border-right-color: var(--fill-color);\n",
              "      border-top-color: var(--fill-color);\n",
              "    }\n",
              "    60% {\n",
              "      border-color: transparent;\n",
              "      border-right-color: var(--fill-color);\n",
              "    }\n",
              "    80% {\n",
              "      border-color: transparent;\n",
              "      border-right-color: var(--fill-color);\n",
              "      border-bottom-color: var(--fill-color);\n",
              "    }\n",
              "    90% {\n",
              "      border-color: transparent;\n",
              "      border-bottom-color: var(--fill-color);\n",
              "    }\n",
              "  }\n",
              "</style>\n",
              "\n",
              "  <script>\n",
              "    async function quickchart(key) {\n",
              "      const quickchartButtonEl =\n",
              "        document.querySelector('#' + key + ' button');\n",
              "      quickchartButtonEl.disabled = true;  // To prevent multiple clicks.\n",
              "      quickchartButtonEl.classList.add('colab-df-spinner');\n",
              "      try {\n",
              "        const charts = await google.colab.kernel.invokeFunction(\n",
              "            'suggestCharts', [key], {});\n",
              "      } catch (error) {\n",
              "        console.error('Error during call to suggestCharts:', error);\n",
              "      }\n",
              "      quickchartButtonEl.classList.remove('colab-df-spinner');\n",
              "      quickchartButtonEl.classList.add('colab-df-quickchart-complete');\n",
              "    }\n",
              "    (() => {\n",
              "      let quickchartButtonEl =\n",
              "        document.querySelector('#df-bb771cb3-e805-4e44-96fb-cceedf68e7d2 button');\n",
              "      quickchartButtonEl.style.display =\n",
              "        google.colab.kernel.accessAllowed ? 'block' : 'none';\n",
              "    })();\n",
              "  </script>\n",
              "</div>\n",
              "\n",
              "  <div id=\"id_89907b9a-dcda-489b-897d-ad8ef91e8f35\">\n",
              "    <style>\n",
              "      .colab-df-generate {\n",
              "        background-color: #E8F0FE;\n",
              "        border: none;\n",
              "        border-radius: 50%;\n",
              "        cursor: pointer;\n",
              "        display: none;\n",
              "        fill: #1967D2;\n",
              "        height: 32px;\n",
              "        padding: 0 0 0 0;\n",
              "        width: 32px;\n",
              "      }\n",
              "\n",
              "      .colab-df-generate:hover {\n",
              "        background-color: #E2EBFA;\n",
              "        box-shadow: 0px 1px 2px rgba(60, 64, 67, 0.3), 0px 1px 3px 1px rgba(60, 64, 67, 0.15);\n",
              "        fill: #174EA6;\n",
              "      }\n",
              "\n",
              "      [theme=dark] .colab-df-generate {\n",
              "        background-color: #3B4455;\n",
              "        fill: #D2E3FC;\n",
              "      }\n",
              "\n",
              "      [theme=dark] .colab-df-generate:hover {\n",
              "        background-color: #434B5C;\n",
              "        box-shadow: 0px 1px 3px 1px rgba(0, 0, 0, 0.15);\n",
              "        filter: drop-shadow(0px 1px 2px rgba(0, 0, 0, 0.3));\n",
              "        fill: #FFFFFF;\n",
              "      }\n",
              "    </style>\n",
              "    <button class=\"colab-df-generate\" onclick=\"generateWithVariable('df')\"\n",
              "            title=\"Generate code using this dataframe.\"\n",
              "            style=\"display:none;\">\n",
              "\n",
              "  <svg xmlns=\"http://www.w3.org/2000/svg\" height=\"24px\"viewBox=\"0 0 24 24\"\n",
              "       width=\"24px\">\n",
              "    <path d=\"M7,19H8.4L18.45,9,17,7.55,7,17.6ZM5,21V16.75L18.45,3.32a2,2,0,0,1,2.83,0l1.4,1.43a1.91,1.91,0,0,1,.58,1.4,1.91,1.91,0,0,1-.58,1.4L9.25,21ZM18.45,9,17,7.55Zm-12,3A5.31,5.31,0,0,0,4.9,8.1,5.31,5.31,0,0,0,1,6.5,5.31,5.31,0,0,0,4.9,4.9,5.31,5.31,0,0,0,6.5,1,5.31,5.31,0,0,0,8.1,4.9,5.31,5.31,0,0,0,12,6.5,5.46,5.46,0,0,0,6.5,12Z\"/>\n",
              "  </svg>\n",
              "    </button>\n",
              "    <script>\n",
              "      (() => {\n",
              "      const buttonEl =\n",
              "        document.querySelector('#id_89907b9a-dcda-489b-897d-ad8ef91e8f35 button.colab-df-generate');\n",
              "      buttonEl.style.display =\n",
              "        google.colab.kernel.accessAllowed ? 'block' : 'none';\n",
              "\n",
              "      buttonEl.onclick = () => {\n",
              "        google.colab.notebook.generateWithVariable('df');\n",
              "      }\n",
              "      })();\n",
              "    </script>\n",
              "  </div>\n",
              "\n",
              "    </div>\n",
              "  </div>\n"
            ],
            "application/vnd.google.colaboratory.intrinsic+json": {
              "type": "dataframe",
              "variable_name": "df",
              "summary": "{\n  \"name\": \"df\",\n  \"rows\": 6,\n  \"fields\": [\n    {\n      \"column\": \"Method\",\n      \"properties\": {\n        \"dtype\": \"string\",\n        \"num_unique_values\": 6,\n        \"samples\": [\n          \"Python\",\n          \"NumPy\",\n          \"JavaScript\"\n        ],\n        \"semantic_type\": \"\",\n        \"description\": \"\"\n      }\n    },\n    {\n      \"column\": \"Average Execution Time (seconds)\",\n      \"properties\": {\n        \"dtype\": \"number\",\n        \"std\": 3.7320901421168062,\n        \"min\": 0.003022933006286621,\n        \"max\": 9.43479323387146,\n        \"num_unique_values\": 6,\n        \"samples\": [\n          9.43479323387146,\n          0.003022933006286621,\n          0.07583\n        ],\n        \"semantic_type\": \"\",\n        \"description\": \"\"\n      }\n    },\n    {\n      \"column\": \"Speed Factor\",\n      \"properties\": {\n        \"dtype\": \"number\",\n        \"std\": 0.40326974899939166,\n        \"min\": 0.00032040267670457417,\n        \"max\": 1.0,\n        \"num_unique_values\": 6,\n        \"samples\": [\n          0.00032040267670457417,\n          1.0,\n          0.039864605120488214\n        ],\n        \"semantic_type\": \"\",\n        \"description\": \"\"\n      }\n    }\n  ]\n}"
            }
          },
          "metadata": {}
        }
      ]
    },
    {
      "cell_type": "markdown",
      "source": [
        "**My own example 33 - Sorting the the data frame by average execution time**"
      ],
      "metadata": {
        "id": "CjiN21fvdRch"
      }
    },
    {
      "cell_type": "code",
      "source": [
        "df = df.sort_values(by='Average Execution Time (seconds)').reset_index(drop=True)\n",
        "display(df)\n"
      ],
      "metadata": {
        "id": "d8eiDHB0GpBF",
        "colab": {
          "base_uri": "https://localhost:8080/",
          "height": 237
        },
        "outputId": "e136a5a0-6404-4131-ef6b-09401392670d"
      },
      "execution_count": 55,
      "outputs": [
        {
          "output_type": "display_data",
          "data": {
            "text/plain": [
              "       Method  Average Execution Time (seconds)  Speed Factor\n",
              "0       NumPy                          0.003023      1.000000\n",
              "1  JavaScript                          0.075830      0.039865\n",
              "2        Java                          0.211691      0.014280\n",
              "3           C                          0.516414      0.005854\n",
              "4         C++                          0.804841      0.003756\n",
              "5      Python                          9.434793      0.000320"
            ],
            "text/html": [
              "\n",
              "  <div id=\"df-fb53f62c-d2db-4cac-8fd9-d6a13ab02846\" class=\"colab-df-container\">\n",
              "    <div>\n",
              "<style scoped>\n",
              "    .dataframe tbody tr th:only-of-type {\n",
              "        vertical-align: middle;\n",
              "    }\n",
              "\n",
              "    .dataframe tbody tr th {\n",
              "        vertical-align: top;\n",
              "    }\n",
              "\n",
              "    .dataframe thead th {\n",
              "        text-align: right;\n",
              "    }\n",
              "</style>\n",
              "<table border=\"1\" class=\"dataframe\">\n",
              "  <thead>\n",
              "    <tr style=\"text-align: right;\">\n",
              "      <th></th>\n",
              "      <th>Method</th>\n",
              "      <th>Average Execution Time (seconds)</th>\n",
              "      <th>Speed Factor</th>\n",
              "    </tr>\n",
              "  </thead>\n",
              "  <tbody>\n",
              "    <tr>\n",
              "      <th>0</th>\n",
              "      <td>NumPy</td>\n",
              "      <td>0.003023</td>\n",
              "      <td>1.000000</td>\n",
              "    </tr>\n",
              "    <tr>\n",
              "      <th>1</th>\n",
              "      <td>JavaScript</td>\n",
              "      <td>0.075830</td>\n",
              "      <td>0.039865</td>\n",
              "    </tr>\n",
              "    <tr>\n",
              "      <th>2</th>\n",
              "      <td>Java</td>\n",
              "      <td>0.211691</td>\n",
              "      <td>0.014280</td>\n",
              "    </tr>\n",
              "    <tr>\n",
              "      <th>3</th>\n",
              "      <td>C</td>\n",
              "      <td>0.516414</td>\n",
              "      <td>0.005854</td>\n",
              "    </tr>\n",
              "    <tr>\n",
              "      <th>4</th>\n",
              "      <td>C++</td>\n",
              "      <td>0.804841</td>\n",
              "      <td>0.003756</td>\n",
              "    </tr>\n",
              "    <tr>\n",
              "      <th>5</th>\n",
              "      <td>Python</td>\n",
              "      <td>9.434793</td>\n",
              "      <td>0.000320</td>\n",
              "    </tr>\n",
              "  </tbody>\n",
              "</table>\n",
              "</div>\n",
              "    <div class=\"colab-df-buttons\">\n",
              "\n",
              "  <div class=\"colab-df-container\">\n",
              "    <button class=\"colab-df-convert\" onclick=\"convertToInteractive('df-fb53f62c-d2db-4cac-8fd9-d6a13ab02846')\"\n",
              "            title=\"Convert this dataframe to an interactive table.\"\n",
              "            style=\"display:none;\">\n",
              "\n",
              "  <svg xmlns=\"http://www.w3.org/2000/svg\" height=\"24px\" viewBox=\"0 -960 960 960\">\n",
              "    <path d=\"M120-120v-720h720v720H120Zm60-500h600v-160H180v160Zm220 220h160v-160H400v160Zm0 220h160v-160H400v160ZM180-400h160v-160H180v160Zm440 0h160v-160H620v160ZM180-180h160v-160H180v160Zm440 0h160v-160H620v160Z\"/>\n",
              "  </svg>\n",
              "    </button>\n",
              "\n",
              "  <style>\n",
              "    .colab-df-container {\n",
              "      display:flex;\n",
              "      gap: 12px;\n",
              "    }\n",
              "\n",
              "    .colab-df-convert {\n",
              "      background-color: #E8F0FE;\n",
              "      border: none;\n",
              "      border-radius: 50%;\n",
              "      cursor: pointer;\n",
              "      display: none;\n",
              "      fill: #1967D2;\n",
              "      height: 32px;\n",
              "      padding: 0 0 0 0;\n",
              "      width: 32px;\n",
              "    }\n",
              "\n",
              "    .colab-df-convert:hover {\n",
              "      background-color: #E2EBFA;\n",
              "      box-shadow: 0px 1px 2px rgba(60, 64, 67, 0.3), 0px 1px 3px 1px rgba(60, 64, 67, 0.15);\n",
              "      fill: #174EA6;\n",
              "    }\n",
              "\n",
              "    .colab-df-buttons div {\n",
              "      margin-bottom: 4px;\n",
              "    }\n",
              "\n",
              "    [theme=dark] .colab-df-convert {\n",
              "      background-color: #3B4455;\n",
              "      fill: #D2E3FC;\n",
              "    }\n",
              "\n",
              "    [theme=dark] .colab-df-convert:hover {\n",
              "      background-color: #434B5C;\n",
              "      box-shadow: 0px 1px 3px 1px rgba(0, 0, 0, 0.15);\n",
              "      filter: drop-shadow(0px 1px 2px rgba(0, 0, 0, 0.3));\n",
              "      fill: #FFFFFF;\n",
              "    }\n",
              "  </style>\n",
              "\n",
              "    <script>\n",
              "      const buttonEl =\n",
              "        document.querySelector('#df-fb53f62c-d2db-4cac-8fd9-d6a13ab02846 button.colab-df-convert');\n",
              "      buttonEl.style.display =\n",
              "        google.colab.kernel.accessAllowed ? 'block' : 'none';\n",
              "\n",
              "      async function convertToInteractive(key) {\n",
              "        const element = document.querySelector('#df-fb53f62c-d2db-4cac-8fd9-d6a13ab02846');\n",
              "        const dataTable =\n",
              "          await google.colab.kernel.invokeFunction('convertToInteractive',\n",
              "                                                    [key], {});\n",
              "        if (!dataTable) return;\n",
              "\n",
              "        const docLinkHtml = 'Like what you see? Visit the ' +\n",
              "          '<a target=\"_blank\" href=https://colab.research.google.com/notebooks/data_table.ipynb>data table notebook</a>'\n",
              "          + ' to learn more about interactive tables.';\n",
              "        element.innerHTML = '';\n",
              "        dataTable['output_type'] = 'display_data';\n",
              "        await google.colab.output.renderOutput(dataTable, element);\n",
              "        const docLink = document.createElement('div');\n",
              "        docLink.innerHTML = docLinkHtml;\n",
              "        element.appendChild(docLink);\n",
              "      }\n",
              "    </script>\n",
              "  </div>\n",
              "\n",
              "\n",
              "<div id=\"df-4820dd0f-1a56-4926-9d0a-315130fb1f22\">\n",
              "  <button class=\"colab-df-quickchart\" onclick=\"quickchart('df-4820dd0f-1a56-4926-9d0a-315130fb1f22')\"\n",
              "            title=\"Suggest charts\"\n",
              "            style=\"display:none;\">\n",
              "\n",
              "<svg xmlns=\"http://www.w3.org/2000/svg\" height=\"24px\"viewBox=\"0 0 24 24\"\n",
              "     width=\"24px\">\n",
              "    <g>\n",
              "        <path d=\"M19 3H5c-1.1 0-2 .9-2 2v14c0 1.1.9 2 2 2h14c1.1 0 2-.9 2-2V5c0-1.1-.9-2-2-2zM9 17H7v-7h2v7zm4 0h-2V7h2v10zm4 0h-2v-4h2v4z\"/>\n",
              "    </g>\n",
              "</svg>\n",
              "  </button>\n",
              "\n",
              "<style>\n",
              "  .colab-df-quickchart {\n",
              "      --bg-color: #E8F0FE;\n",
              "      --fill-color: #1967D2;\n",
              "      --hover-bg-color: #E2EBFA;\n",
              "      --hover-fill-color: #174EA6;\n",
              "      --disabled-fill-color: #AAA;\n",
              "      --disabled-bg-color: #DDD;\n",
              "  }\n",
              "\n",
              "  [theme=dark] .colab-df-quickchart {\n",
              "      --bg-color: #3B4455;\n",
              "      --fill-color: #D2E3FC;\n",
              "      --hover-bg-color: #434B5C;\n",
              "      --hover-fill-color: #FFFFFF;\n",
              "      --disabled-bg-color: #3B4455;\n",
              "      --disabled-fill-color: #666;\n",
              "  }\n",
              "\n",
              "  .colab-df-quickchart {\n",
              "    background-color: var(--bg-color);\n",
              "    border: none;\n",
              "    border-radius: 50%;\n",
              "    cursor: pointer;\n",
              "    display: none;\n",
              "    fill: var(--fill-color);\n",
              "    height: 32px;\n",
              "    padding: 0;\n",
              "    width: 32px;\n",
              "  }\n",
              "\n",
              "  .colab-df-quickchart:hover {\n",
              "    background-color: var(--hover-bg-color);\n",
              "    box-shadow: 0 1px 2px rgba(60, 64, 67, 0.3), 0 1px 3px 1px rgba(60, 64, 67, 0.15);\n",
              "    fill: var(--button-hover-fill-color);\n",
              "  }\n",
              "\n",
              "  .colab-df-quickchart-complete:disabled,\n",
              "  .colab-df-quickchart-complete:disabled:hover {\n",
              "    background-color: var(--disabled-bg-color);\n",
              "    fill: var(--disabled-fill-color);\n",
              "    box-shadow: none;\n",
              "  }\n",
              "\n",
              "  .colab-df-spinner {\n",
              "    border: 2px solid var(--fill-color);\n",
              "    border-color: transparent;\n",
              "    border-bottom-color: var(--fill-color);\n",
              "    animation:\n",
              "      spin 1s steps(1) infinite;\n",
              "  }\n",
              "\n",
              "  @keyframes spin {\n",
              "    0% {\n",
              "      border-color: transparent;\n",
              "      border-bottom-color: var(--fill-color);\n",
              "      border-left-color: var(--fill-color);\n",
              "    }\n",
              "    20% {\n",
              "      border-color: transparent;\n",
              "      border-left-color: var(--fill-color);\n",
              "      border-top-color: var(--fill-color);\n",
              "    }\n",
              "    30% {\n",
              "      border-color: transparent;\n",
              "      border-left-color: var(--fill-color);\n",
              "      border-top-color: var(--fill-color);\n",
              "      border-right-color: var(--fill-color);\n",
              "    }\n",
              "    40% {\n",
              "      border-color: transparent;\n",
              "      border-right-color: var(--fill-color);\n",
              "      border-top-color: var(--fill-color);\n",
              "    }\n",
              "    60% {\n",
              "      border-color: transparent;\n",
              "      border-right-color: var(--fill-color);\n",
              "    }\n",
              "    80% {\n",
              "      border-color: transparent;\n",
              "      border-right-color: var(--fill-color);\n",
              "      border-bottom-color: var(--fill-color);\n",
              "    }\n",
              "    90% {\n",
              "      border-color: transparent;\n",
              "      border-bottom-color: var(--fill-color);\n",
              "    }\n",
              "  }\n",
              "</style>\n",
              "\n",
              "  <script>\n",
              "    async function quickchart(key) {\n",
              "      const quickchartButtonEl =\n",
              "        document.querySelector('#' + key + ' button');\n",
              "      quickchartButtonEl.disabled = true;  // To prevent multiple clicks.\n",
              "      quickchartButtonEl.classList.add('colab-df-spinner');\n",
              "      try {\n",
              "        const charts = await google.colab.kernel.invokeFunction(\n",
              "            'suggestCharts', [key], {});\n",
              "      } catch (error) {\n",
              "        console.error('Error during call to suggestCharts:', error);\n",
              "      }\n",
              "      quickchartButtonEl.classList.remove('colab-df-spinner');\n",
              "      quickchartButtonEl.classList.add('colab-df-quickchart-complete');\n",
              "    }\n",
              "    (() => {\n",
              "      let quickchartButtonEl =\n",
              "        document.querySelector('#df-4820dd0f-1a56-4926-9d0a-315130fb1f22 button');\n",
              "      quickchartButtonEl.style.display =\n",
              "        google.colab.kernel.accessAllowed ? 'block' : 'none';\n",
              "    })();\n",
              "  </script>\n",
              "</div>\n",
              "\n",
              "  <div id=\"id_0cbaaf87-8ca6-4b08-aa83-ee7a22657883\">\n",
              "    <style>\n",
              "      .colab-df-generate {\n",
              "        background-color: #E8F0FE;\n",
              "        border: none;\n",
              "        border-radius: 50%;\n",
              "        cursor: pointer;\n",
              "        display: none;\n",
              "        fill: #1967D2;\n",
              "        height: 32px;\n",
              "        padding: 0 0 0 0;\n",
              "        width: 32px;\n",
              "      }\n",
              "\n",
              "      .colab-df-generate:hover {\n",
              "        background-color: #E2EBFA;\n",
              "        box-shadow: 0px 1px 2px rgba(60, 64, 67, 0.3), 0px 1px 3px 1px rgba(60, 64, 67, 0.15);\n",
              "        fill: #174EA6;\n",
              "      }\n",
              "\n",
              "      [theme=dark] .colab-df-generate {\n",
              "        background-color: #3B4455;\n",
              "        fill: #D2E3FC;\n",
              "      }\n",
              "\n",
              "      [theme=dark] .colab-df-generate:hover {\n",
              "        background-color: #434B5C;\n",
              "        box-shadow: 0px 1px 3px 1px rgba(0, 0, 0, 0.15);\n",
              "        filter: drop-shadow(0px 1px 2px rgba(0, 0, 0, 0.3));\n",
              "        fill: #FFFFFF;\n",
              "      }\n",
              "    </style>\n",
              "    <button class=\"colab-df-generate\" onclick=\"generateWithVariable('df')\"\n",
              "            title=\"Generate code using this dataframe.\"\n",
              "            style=\"display:none;\">\n",
              "\n",
              "  <svg xmlns=\"http://www.w3.org/2000/svg\" height=\"24px\"viewBox=\"0 0 24 24\"\n",
              "       width=\"24px\">\n",
              "    <path d=\"M7,19H8.4L18.45,9,17,7.55,7,17.6ZM5,21V16.75L18.45,3.32a2,2,0,0,1,2.83,0l1.4,1.43a1.91,1.91,0,0,1,.58,1.4,1.91,1.91,0,0,1-.58,1.4L9.25,21ZM18.45,9,17,7.55Zm-12,3A5.31,5.31,0,0,0,4.9,8.1,5.31,5.31,0,0,0,1,6.5,5.31,5.31,0,0,0,4.9,4.9,5.31,5.31,0,0,0,6.5,1,5.31,5.31,0,0,0,8.1,4.9,5.31,5.31,0,0,0,12,6.5,5.46,5.46,0,0,0,6.5,12Z\"/>\n",
              "  </svg>\n",
              "    </button>\n",
              "    <script>\n",
              "      (() => {\n",
              "      const buttonEl =\n",
              "        document.querySelector('#id_0cbaaf87-8ca6-4b08-aa83-ee7a22657883 button.colab-df-generate');\n",
              "      buttonEl.style.display =\n",
              "        google.colab.kernel.accessAllowed ? 'block' : 'none';\n",
              "\n",
              "      buttonEl.onclick = () => {\n",
              "        google.colab.notebook.generateWithVariable('df');\n",
              "      }\n",
              "      })();\n",
              "    </script>\n",
              "  </div>\n",
              "\n",
              "    </div>\n",
              "  </div>\n"
            ],
            "application/vnd.google.colaboratory.intrinsic+json": {
              "type": "dataframe",
              "variable_name": "df",
              "summary": "{\n  \"name\": \"df\",\n  \"rows\": 6,\n  \"fields\": [\n    {\n      \"column\": \"Method\",\n      \"properties\": {\n        \"dtype\": \"string\",\n        \"num_unique_values\": 6,\n        \"samples\": [\n          \"NumPy\",\n          \"JavaScript\",\n          \"Python\"\n        ],\n        \"semantic_type\": \"\",\n        \"description\": \"\"\n      }\n    },\n    {\n      \"column\": \"Average Execution Time (seconds)\",\n      \"properties\": {\n        \"dtype\": \"number\",\n        \"std\": 3.732090142116806,\n        \"min\": 0.003022933006286621,\n        \"max\": 9.43479323387146,\n        \"num_unique_values\": 6,\n        \"samples\": [\n          0.003022933006286621,\n          0.07583,\n          9.43479323387146\n        ],\n        \"semantic_type\": \"\",\n        \"description\": \"\"\n      }\n    },\n    {\n      \"column\": \"Speed Factor\",\n      \"properties\": {\n        \"dtype\": \"number\",\n        \"std\": 0.40326974899939166,\n        \"min\": 0.00032040267670457417,\n        \"max\": 1.0,\n        \"num_unique_values\": 6,\n        \"samples\": [\n          1.0,\n          0.039864605120488214,\n          0.00032040267670457417\n        ],\n        \"semantic_type\": \"\",\n        \"description\": \"\"\n      }\n    }\n  ]\n}"
            }
          },
          "metadata": {}
        }
      ]
    },
    {
      "cell_type": "markdown",
      "metadata": {
        "id": "5RlZ-kCGiXcO"
      },
      "source": [
        "## Why is the Python Version so Much Slower?"
      ]
    },
    {
      "cell_type": "code",
      "execution_count": null,
      "metadata": {
        "id": "rWOUuY4QiXcP"
      },
      "outputs": [],
      "source": [
        "# Dynamic typing.\n",
        "def mul_elemwise(xs, ys):\n",
        "    return [x * y for x, y in zip(xs, ys)]\n",
        "\n",
        "mul_elemwise([1, 2, 3, 4], [1, 2 + 0j, 3.0, 'four'])\n",
        "#[type(x) for x in _]"
      ]
    },
    {
      "cell_type": "code",
      "execution_count": null,
      "metadata": {
        "id": "cW0Jexk6iXcP"
      },
      "outputs": [],
      "source": [
        "# Interpretation overhead.\n",
        "source_code = 'a + b * c'\n",
        "bytecode = compile(source_code, '', 'eval')\n",
        "import dis; dis.dis(bytecode)"
      ]
    },
    {
      "cell_type": "markdown",
      "metadata": {
        "id": "BdvCAketiXcP"
      },
      "source": [
        "## Why is the Python Version so Slow?\n",
        "- Dynamic typing means that every single operation requires dispatching on the input type.\n",
        "- Having an interpreter means that every instruction is fetched and dispatched at runtime.\n",
        "- Other overheads:\n",
        "  - Arbitrary-size integers.\n",
        "  - Reference-counted garbage collection."
      ]
    },
    {
      "cell_type": "markdown",
      "metadata": {
        "id": "zvFKYtobiXcP"
      },
      "source": [
        "> This is the paradox that we have to work with when we're doing scientific or numerically-intensive Python. What makes Python fast for development -- this high-level, interpreted, and dynamically-typed aspect of the language -- is exactly what makes it slow for code execution.\n",
        "\n",
        "- Jake VanderPlas, [*Losing Your Loops: Fast Numerical Computing with NumPy*](https://www.youtube.com/watch?v=EEUXKG97YRw)"
      ]
    },
    {
      "cell_type": "markdown",
      "metadata": {
        "id": "UqE431pkiXcP"
      },
      "source": [
        "# What Do We Do?"
      ]
    },
    {
      "cell_type": "markdown",
      "metadata": {
        "id": "4uh7h3HyiXcP"
      },
      "source": [
        "<center><img src=\"https://raw.githubusercontent.com/ssanderson/pydata-toolbox/master/notebooks/images/runaway.gif\" alt=\"Drawing\" style=\"width: 50%;\"/></center>"
      ]
    },
    {
      "cell_type": "markdown",
      "metadata": {
        "id": "-9z62YT1iXcP"
      },
      "source": [
        "<center><img src=\"https://raw.githubusercontent.com/ssanderson/pydata-toolbox/master/notebooks/images/thisisfine.gif\" alt=\"Drawing\" style=\"width: 1080px;\"/></center>"
      ]
    },
    {
      "cell_type": "markdown",
      "metadata": {
        "id": "0Moc6UrkiXcQ"
      },
      "source": [
        "- Python is slow for numerical computation because it performs dynamic dispatch on every operation we perform..."
      ]
    },
    {
      "cell_type": "markdown",
      "metadata": {
        "collapsed": true,
        "id": "U4gN8tp2iXcQ"
      },
      "source": [
        "- ...but often, we just want to do the same thing over and over in a loop!"
      ]
    },
    {
      "cell_type": "markdown",
      "metadata": {
        "id": "Yu0ySyEhiXcQ"
      },
      "source": [
        "- If we don't need Python's dynamicism, we don't want to pay (much) for it."
      ]
    },
    {
      "cell_type": "markdown",
      "metadata": {
        "id": "KUwG9isRiXcQ"
      },
      "source": [
        "- **Idea:** Dispatch **once per operation** instead of **once per element**."
      ]
    },
    {
      "cell_type": "code",
      "execution_count": null,
      "metadata": {
        "id": "62itImahiXcQ"
      },
      "outputs": [],
      "source": [
        "import numpy as np\n",
        "\n",
        "data = np.array([1, 2, 3, 4])\n",
        "data"
      ]
    },
    {
      "cell_type": "code",
      "execution_count": null,
      "metadata": {
        "id": "q6qikr_tiXcQ"
      },
      "outputs": [],
      "source": [
        "data + data"
      ]
    },
    {
      "cell_type": "code",
      "execution_count": null,
      "metadata": {
        "id": "26QlWUw8iXcQ"
      },
      "outputs": [],
      "source": [
        "%%time\n",
        "# Naive dot product\n",
        "(array_data * array_data).sum()"
      ]
    },
    {
      "cell_type": "code",
      "execution_count": null,
      "metadata": {
        "id": "xoigDrpEiXcQ"
      },
      "outputs": [],
      "source": [
        "%%time\n",
        "# Built-in dot product.\n",
        "array_data.dot(array_data)"
      ]
    },
    {
      "cell_type": "code",
      "execution_count": null,
      "metadata": {
        "id": "tcewetQ0iXcR"
      },
      "outputs": [],
      "source": [
        "%%time\n",
        "fortran_dot_product(array_data, array_data)"
      ]
    },
    {
      "cell_type": "code",
      "execution_count": null,
      "metadata": {
        "id": "Whkcgo1xiXcR"
      },
      "outputs": [],
      "source": [
        "# Numpy won't allow us to write a string into an int array.\n",
        "data[0] = \"foo\""
      ]
    },
    {
      "cell_type": "code",
      "execution_count": null,
      "metadata": {
        "collapsed": true,
        "id": "OM_YUwF0iXcR"
      },
      "outputs": [],
      "source": [
        "# We also can't grow an array once it's created.\n",
        "data.append(3)"
      ]
    },
    {
      "cell_type": "code",
      "execution_count": null,
      "metadata": {
        "collapsed": true,
        "id": "_ByTInO5iXcR"
      },
      "outputs": [],
      "source": [
        "# We **can** reshape an array though.\n",
        "two_by_two = data.reshape(2, 2)\n",
        "two_by_two"
      ]
    },
    {
      "cell_type": "markdown",
      "metadata": {
        "id": "rqUM9z90iXcR"
      },
      "source": [
        "Numpy arrays are:\n",
        "\n",
        "- Fixed-type"
      ]
    },
    {
      "cell_type": "markdown",
      "metadata": {
        "id": "xI5M1gzviXcR"
      },
      "source": [
        "- Size-immutable"
      ]
    },
    {
      "cell_type": "markdown",
      "metadata": {
        "id": "Xb7Dkl2tiXcS"
      },
      "source": [
        "- Multi-dimensional"
      ]
    },
    {
      "cell_type": "markdown",
      "metadata": {
        "id": "r0oMRqQXiXcS"
      },
      "source": [
        "- Fast\\*"
      ]
    },
    {
      "cell_type": "markdown",
      "metadata": {
        "id": "kz1MurDBiXcS"
      },
      "source": [
        "\\* If you use them correctly."
      ]
    },
    {
      "cell_type": "markdown",
      "metadata": {
        "id": "Qivn_IZOiXcS"
      },
      "source": [
        "# What's in an Array?"
      ]
    },
    {
      "cell_type": "code",
      "execution_count": null,
      "metadata": {
        "id": "vAuc9ZoYiXcS"
      },
      "outputs": [],
      "source": [
        "arr = np.array([1, 2, 3, 4, 5, 6], dtype='int16').reshape(2, 3)\n",
        "print(\"Array:\\n\", arr, sep='')\n",
        "print(\"===========\")\n",
        "print(\"DType:\", arr.dtype)\n",
        "print(\"Shape:\", arr.shape)\n",
        "print(\"Strides:\", arr.strides)\n",
        "print(\"Data:\", arr.data.tobytes())"
      ]
    },
    {
      "cell_type": "markdown",
      "metadata": {
        "id": "K81LXWsCiXcS"
      },
      "source": [
        "# Core Operations\n",
        "\n",
        "- Vectorized **ufuncs** for elementwise operations.\n",
        "- Fancy indexing and masking for selection and filtering.\n",
        "- Aggregations across axes.\n",
        "- Broadcasting"
      ]
    },
    {
      "cell_type": "markdown",
      "metadata": {
        "id": "kwVm_T0UiXcS"
      },
      "source": [
        "# UFuncs\n",
        "\n",
        "UFuncs (universal functions) are functions that operate elementwise on one or more arrays."
      ]
    },
    {
      "cell_type": "code",
      "execution_count": null,
      "metadata": {
        "id": "bltDIE9jiXcS"
      },
      "outputs": [],
      "source": [
        "data = np.arange(15).reshape(3, 5)\n",
        "data"
      ]
    },
    {
      "cell_type": "code",
      "execution_count": null,
      "metadata": {
        "id": "STwE0VCpiXcT"
      },
      "outputs": [],
      "source": [
        "# Binary operators.\n",
        "data * data"
      ]
    },
    {
      "cell_type": "code",
      "execution_count": null,
      "metadata": {
        "id": "N__jqMifiXcT"
      },
      "outputs": [],
      "source": [
        "# Unary functions.\n",
        "np.sqrt(data)"
      ]
    },
    {
      "cell_type": "code",
      "execution_count": null,
      "metadata": {
        "id": "j-2fPm3LiXcT"
      },
      "outputs": [],
      "source": [
        "# Comparison operations\n",
        "(data % 3) == 0"
      ]
    },
    {
      "cell_type": "code",
      "execution_count": null,
      "metadata": {
        "id": "iDUXVIuhiXcT"
      },
      "outputs": [],
      "source": [
        "# Boolean combinators.\n",
        "((data % 2) == 0) & ((data % 3) == 0)"
      ]
    },
    {
      "cell_type": "code",
      "execution_count": null,
      "metadata": {
        "id": "f2FWSuiJiXcT"
      },
      "outputs": [],
      "source": [
        "# as of python 3.5, @ is matrix-multiply\n",
        "data @ data.T"
      ]
    },
    {
      "cell_type": "markdown",
      "metadata": {
        "id": "9EsiKbSCiXcT"
      },
      "source": [
        "# UFuncs Review\n",
        "\n",
        "- UFuncs provide efficient elementwise operations applied across one or more arrays.\n",
        "- Arithmetic Operators (`+`, `*`, `/`)\n",
        "- Comparisons (`==`, `>`, `!=`)\n",
        "- Boolean Operators (`&`, `|`, `^`)\n",
        "- Trigonometric Functions (`sin`, `cos`)\n",
        "- Transcendental Functions (`exp`, `log`)"
      ]
    },
    {
      "cell_type": "markdown",
      "metadata": {
        "id": "GGLCgF20iXcU"
      },
      "source": [
        "# Selections"
      ]
    },
    {
      "cell_type": "markdown",
      "metadata": {
        "id": "3SAH9am8iXcU"
      },
      "source": [
        "We often want to perform an operation on just a subset of our data."
      ]
    },
    {
      "cell_type": "code",
      "execution_count": null,
      "metadata": {
        "id": "AWmtLHYwiXcU"
      },
      "outputs": [],
      "source": [
        "sines = np.sin(np.linspace(0, 3.14, 10))\n",
        "cosines = np.cos(np.linspace(0, 3.14, 10))\n",
        "sines"
      ]
    },
    {
      "cell_type": "code",
      "execution_count": null,
      "metadata": {
        "id": "u8LHY0j9iXcU"
      },
      "outputs": [],
      "source": [
        "# Slicing works with the same semantics as Python lists.\n",
        "sines[0]"
      ]
    },
    {
      "cell_type": "code",
      "execution_count": null,
      "metadata": {
        "id": "hh6dTObciXcU"
      },
      "outputs": [],
      "source": [
        "sines[:3]  # First three elements"
      ]
    },
    {
      "cell_type": "code",
      "execution_count": null,
      "metadata": {
        "id": "rqB_uVABiXcU"
      },
      "outputs": [],
      "source": [
        "sines[5:]  # Elements from 5 on."
      ]
    },
    {
      "cell_type": "code",
      "execution_count": null,
      "metadata": {
        "id": "j2KDBhZaiXcU"
      },
      "outputs": [],
      "source": [
        "sines[::2]  # Every other element."
      ]
    },
    {
      "cell_type": "code",
      "execution_count": null,
      "metadata": {
        "id": "lR7JjjhjiXcV"
      },
      "outputs": [],
      "source": [
        "# More interesting: we can index with boolean arrays to filter by a predicate.\n",
        "print(\"sines:\\n\", sines)\n",
        "print(\"sines > 0.5:\\n\", sines > 0.5)\n",
        "print(\"sines[sines > 0.5]:\\n\", sines[sines > 0.5])"
      ]
    },
    {
      "cell_type": "code",
      "execution_count": null,
      "metadata": {
        "id": "gORuDL3RiXcV"
      },
      "outputs": [],
      "source": [
        "# We index with lists/arrays of integers to select values at those indices.\n",
        "print(sines)\n",
        "sines[[0, 4, 7]]"
      ]
    },
    {
      "cell_type": "code",
      "execution_count": null,
      "metadata": {
        "collapsed": true,
        "id": "Gu2vDHNgiXcV"
      },
      "outputs": [],
      "source": [
        "# Index arrays are often used for sorting one or more arrays.\n",
        "unsorted_data = np.array([1, 3, 2, 12, -1, 5, 2])"
      ]
    },
    {
      "cell_type": "code",
      "execution_count": null,
      "metadata": {
        "id": "uroIWxu1iXcV"
      },
      "outputs": [],
      "source": [
        "sort_indices = np.argsort(unsorted_data)\n",
        "sort_indices"
      ]
    },
    {
      "cell_type": "code",
      "execution_count": null,
      "metadata": {
        "id": "igwLM_b1iXcV"
      },
      "outputs": [],
      "source": [
        "unsorted_data[sort_indices]"
      ]
    },
    {
      "cell_type": "code",
      "execution_count": null,
      "metadata": {
        "collapsed": true,
        "id": "7IRVEVvdiXcV"
      },
      "outputs": [],
      "source": [
        "market_caps = np.array([12, 6, 10, 5, 6])  # Presumably in dollars?\n",
        "assets = np.array(['A', 'B', 'C', 'D', 'E'])"
      ]
    },
    {
      "cell_type": "code",
      "execution_count": null,
      "metadata": {
        "id": "jE8KVrn9iXcV"
      },
      "outputs": [],
      "source": [
        "# Sort assets by market cap by using the permutation that would sort market caps on ``assets``.\n",
        "sort_by_mcap = np.argsort(market_caps)\n",
        "assets[sort_by_mcap]"
      ]
    },
    {
      "cell_type": "code",
      "execution_count": null,
      "metadata": {
        "scrolled": true,
        "id": "jaGW-7fTiXcW"
      },
      "outputs": [],
      "source": [
        "# Indexers are also useful for aligning data.\n",
        "print(\"Dates:\\n\", repr(event_dates))\n",
        "print(\"Values:\\n\", repr(event_values))\n",
        "print(\"Calendar:\\n\", repr(calendar))"
      ]
    },
    {
      "cell_type": "code",
      "execution_count": null,
      "metadata": {
        "id": "Uo28AVcTiXcW"
      },
      "outputs": [],
      "source": [
        "print(\"Raw Dates:\", event_dates)\n",
        "print(\"Indices:\", calendar.searchsorted(event_dates))\n",
        "print(\"Forward-Filled Dates:\", calendar[calendar.searchsorted(event_dates)])"
      ]
    },
    {
      "cell_type": "markdown",
      "metadata": {
        "id": "oDEVEEOriXcW"
      },
      "source": [
        "On multi-dimensional arrays, we can slice along each axis independently."
      ]
    },
    {
      "cell_type": "code",
      "execution_count": null,
      "metadata": {
        "id": "prPSgZhniXcW"
      },
      "outputs": [],
      "source": [
        "data = np.arange(25).reshape(5, 5)\n",
        "data"
      ]
    },
    {
      "cell_type": "code",
      "execution_count": null,
      "metadata": {
        "id": "KAulAQ2yiXcW"
      },
      "outputs": [],
      "source": [
        "data[:2, :2]  # First two rows and first two columns."
      ]
    },
    {
      "cell_type": "code",
      "execution_count": null,
      "metadata": {
        "id": "f9_S0RcdiXcW"
      },
      "outputs": [],
      "source": [
        "data[:2, [0, -1]]  # First two rows, first and last columns."
      ]
    },
    {
      "cell_type": "code",
      "execution_count": null,
      "metadata": {
        "id": "rre5hGs9iXcW"
      },
      "outputs": [],
      "source": [
        "data[(data[:, 0] % 2) == 0]  # Rows where the first column is divisible by two."
      ]
    },
    {
      "cell_type": "markdown",
      "metadata": {
        "id": "zl1zYEQgiXcX"
      },
      "source": [
        "# Selections Review\n",
        "\n",
        "- Indexing with an integer removes a dimension.\n",
        "- Slicing operations work on Numpy arrays the same way they do on lists.\n",
        "- Indexing with a boolean array filters to True locations.\n",
        "- Indexing with an integer array selects indices along an axis.\n",
        "- Multidimensional arrays can apply selections independently along different axes."
      ]
    },
    {
      "cell_type": "markdown",
      "metadata": {
        "id": "0tDspA_KiXcX"
      },
      "source": [
        "## Reductions\n",
        "\n",
        "Functions that reduce an array to a scalar."
      ]
    },
    {
      "cell_type": "markdown",
      "metadata": {
        "id": "1s42E1qCiXcX"
      },
      "source": [
        "$Var(X) = \\frac{1}{N}\\sqrt{\\sum_{i=1}^N (x_i - \\bar{x})^2}$"
      ]
    },
    {
      "cell_type": "code",
      "execution_count": null,
      "metadata": {
        "collapsed": true,
        "id": "pkjccK94iXcX"
      },
      "outputs": [],
      "source": [
        "def variance(x):\n",
        "    return ((x - x.mean()) ** 2).sum() / len(x)"
      ]
    },
    {
      "cell_type": "code",
      "execution_count": null,
      "metadata": {
        "id": "jqiZV_FMiXcX"
      },
      "outputs": [],
      "source": [
        "variance(np.random.standard_normal(1000))"
      ]
    },
    {
      "cell_type": "markdown",
      "metadata": {
        "id": "WHVBON1qiXcX"
      },
      "source": [
        "- `sum()` and `mean()` are both **reductions**."
      ]
    },
    {
      "cell_type": "markdown",
      "metadata": {
        "id": "w7gh4_vmiXcX"
      },
      "source": [
        "- In the simplest case, we use these to reduce an entire array into a single value..."
      ]
    },
    {
      "cell_type": "code",
      "execution_count": null,
      "metadata": {
        "id": "Hxr-Py7ciXcY"
      },
      "outputs": [],
      "source": [
        "data = np.arange(30)\n",
        "data.mean()"
      ]
    },
    {
      "cell_type": "markdown",
      "metadata": {
        "id": "M1mqf-RfiXcY"
      },
      "source": [
        "- ...but we can do more interesting things with multi-dimensional arrays."
      ]
    },
    {
      "cell_type": "code",
      "execution_count": null,
      "metadata": {
        "id": "okW92XNriXcY"
      },
      "outputs": [],
      "source": [
        "data = np.arange(30).reshape(3, 10)\n",
        "data"
      ]
    },
    {
      "cell_type": "code",
      "execution_count": null,
      "metadata": {
        "id": "_DwCYNHQiXcY"
      },
      "outputs": [],
      "source": [
        "data.mean()"
      ]
    },
    {
      "cell_type": "code",
      "execution_count": null,
      "metadata": {
        "id": "Z7S6mpm3iXcY"
      },
      "outputs": [],
      "source": [
        "data.mean(axis=0)"
      ]
    },
    {
      "cell_type": "code",
      "execution_count": null,
      "metadata": {
        "id": "g-DOKtM4iXcY"
      },
      "outputs": [],
      "source": [
        "data.mean(axis=1)"
      ]
    },
    {
      "cell_type": "markdown",
      "metadata": {
        "id": "zsIEVqkgiXcY"
      },
      "source": [
        "## Reductions Review\n",
        "\n",
        "- Reductions allow us to perform efficient aggregations over arrays.\n",
        "- We can do aggregations over a single axis to collapse a single dimension.\n",
        "- Many built-in reductions (`mean`, `sum`, `min`, `max`, `median`, ...)."
      ]
    },
    {
      "cell_type": "markdown",
      "metadata": {
        "id": "hvqRiy2qiXcZ"
      },
      "source": [
        "# Broadcasting"
      ]
    },
    {
      "cell_type": "code",
      "execution_count": null,
      "metadata": {
        "id": "OyIDakdiiXcZ"
      },
      "outputs": [],
      "source": [
        "row = np.array([1, 2, 3, 4])\n",
        "column = np.array([[1], [2], [3]])\n",
        "print(\"Row:\\n\", row, sep='')\n",
        "print(\"Column:\\n\", column, sep='')"
      ]
    },
    {
      "cell_type": "code",
      "execution_count": null,
      "metadata": {
        "id": "Dej4wsX-iXcZ"
      },
      "outputs": [],
      "source": [
        "row + column"
      ]
    },
    {
      "cell_type": "markdown",
      "metadata": {
        "id": "tMdSsqXfiXcZ"
      },
      "source": [
        "<center><img src=\"https://raw.githubusercontent.com/ssanderson/pydata-toolbox/master/notebooks/images/broadcasting.png\" alt=\"Drawing\" style=\"width: 60%;\"/></center>\n",
        "\n",
        "<h5>Source: http://www.scipy-lectures.org/_images/numpy_broadcasting.png</h5>"
      ]
    },
    {
      "cell_type": "code",
      "execution_count": null,
      "metadata": {
        "id": "JVLNvazIiXcZ"
      },
      "outputs": [],
      "source": [
        "# Broadcasting is particularly useful in conjunction with reductions.\n",
        "print(\"Data:\\n\", data, sep='')\n",
        "print(\"Mean:\\n\", data.mean(axis=0), sep='')\n",
        "print(\"Data - Mean:\\n\", data - data.mean(axis=0), sep='')"
      ]
    },
    {
      "cell_type": "markdown",
      "metadata": {
        "id": "JHmGF_mGiXcZ"
      },
      "source": [
        "# Broadcasting Review\n",
        "\n",
        "- Numpy operations can work on arrays of different dimensions as long as the arrays' shapes are still \"compatible\".\n",
        "- Broadcasting works by \"tiling\" the smaller array along the missing dimension.\n",
        "- The result of a broadcasted operation is always at least as large in each dimension as the largest array in that dimension."
      ]
    },
    {
      "cell_type": "markdown",
      "metadata": {
        "id": "Tmy_pKVniXca"
      },
      "source": [
        "# Numpy Review"
      ]
    },
    {
      "cell_type": "markdown",
      "metadata": {
        "id": "TiKskIDqiXca"
      },
      "source": [
        "- Numerical algorithms are slow in pure Python because the overhead dynamic dispatch dominates our runtime."
      ]
    },
    {
      "cell_type": "markdown",
      "metadata": {
        "id": "WRex_YahiXca"
      },
      "source": [
        "- Numpy solves this problem by:\n",
        "  1. Imposing additional restrictions on the contents of arrays.\n",
        "  2. Moving the inner loops of our algorithms into compiled C code."
      ]
    },
    {
      "cell_type": "markdown",
      "metadata": {
        "id": "HHcs1cowiXca"
      },
      "source": [
        "- Using Numpy effectively often requires reworking an algorithms to use vectorized operations instead of for-loops, but the resulting operations are usually simpler, clearer, and faster than the pure Python equivalent."
      ]
    },
    {
      "cell_type": "markdown",
      "metadata": {
        "id": "GoPdOSfSiXca"
      },
      "source": [
        "<center><img src=\"https://raw.githubusercontent.com/ssanderson/pydata-toolbox/master/notebooks/images/unicorn.jpg\" alt=\"Drawing\" style=\"width: 75%;\"/></center>"
      ]
    },
    {
      "cell_type": "markdown",
      "metadata": {
        "id": "GqyHpT0DiXca"
      },
      "source": [
        "Numpy is great for many things, but..."
      ]
    },
    {
      "cell_type": "markdown",
      "metadata": {
        "id": "t2pSdZyeiXca"
      },
      "source": [
        "- Sometimes our data is equipped with a natural set of **labels**:\n",
        "  - Dates/Times\n",
        "  - Stock Tickers\n",
        "  - Field Names (e.g. Open/High/Low/Close)"
      ]
    },
    {
      "cell_type": "markdown",
      "metadata": {
        "id": "eQkbld3YiXca"
      },
      "source": [
        "- Sometimes we have **more than one type of data** that we want to keep grouped together.\n",
        "  - Tables with a mix of real-valued and categorical data."
      ]
    },
    {
      "cell_type": "markdown",
      "metadata": {
        "id": "FUUCEShmiXcb"
      },
      "source": [
        "- Sometimes we have **missing** data, which we need to ignore, fill, or otherwise work around."
      ]
    },
    {
      "cell_type": "markdown",
      "metadata": {
        "id": "7BErgdXjiXcb"
      },
      "source": [
        "<center><img src=\"https://raw.githubusercontent.com/ssanderson/pydata-toolbox/master/notebooks/images/panda-wrangling.gif\" alt=\"Drawing\" style=\"width: 75%;\"/></center>"
      ]
    },
    {
      "cell_type": "markdown",
      "metadata": {
        "id": "B-LuFQ2BiXcb"
      },
      "source": [
        "<center><img src=\"https://raw.githubusercontent.com/ssanderson/pydata-toolbox/master/notebooks/images/pandas_logo.png\" alt=\"Drawing\" style=\"width: 75%;\"/></center>\n"
      ]
    },
    {
      "cell_type": "markdown",
      "metadata": {
        "id": "B8Hv2pY4iXcb"
      },
      "source": [
        "Pandas extends Numpy with more complex data structures:\n",
        "\n",
        "- `Series`: 1-dimensional, homogenously-typed, labelled array.\n",
        "- `DataFrame`: 2-dimensional, semi-homogenous, labelled table."
      ]
    },
    {
      "cell_type": "markdown",
      "metadata": {
        "id": "xYDFME14iXcb"
      },
      "source": [
        "Pandas also provides many utilities for:\n",
        "- Input/Output\n",
        "- Data Cleaning\n",
        "- Rolling Algorithms\n",
        "- Plotting"
      ]
    },
    {
      "cell_type": "markdown",
      "metadata": {
        "id": "uOvK2ZfeiXcb"
      },
      "source": [
        "# Selection in Pandas"
      ]
    },
    {
      "cell_type": "code",
      "execution_count": null,
      "metadata": {
        "id": "G6ploxoOiXcb"
      },
      "outputs": [],
      "source": [
        "s = pd.Series(index=['a', 'b', 'c', 'd', 'e'], data=[1, 2, 3, 4, 5])\n",
        "s"
      ]
    },
    {
      "cell_type": "code",
      "execution_count": null,
      "metadata": {
        "id": "PU-7iKpqiXcc"
      },
      "outputs": [],
      "source": [
        "# There are two pieces to a Series: the index and the values.\n",
        "print(\"The index is:\", s.index)\n",
        "print(\"The values are:\", s.values)"
      ]
    },
    {
      "cell_type": "code",
      "execution_count": null,
      "metadata": {
        "id": "pUnHyGr5iXcc"
      },
      "outputs": [],
      "source": [
        "# We can look up values out of a Series by position...\n",
        "s.iloc[0]"
      ]
    },
    {
      "cell_type": "code",
      "execution_count": null,
      "metadata": {
        "id": "IyM3qqygiXcc"
      },
      "outputs": [],
      "source": [
        "# ... or by label.\n",
        "s.loc['a']"
      ]
    },
    {
      "cell_type": "code",
      "execution_count": null,
      "metadata": {
        "id": "JrCItQtiiXcc"
      },
      "outputs": [],
      "source": [
        "# Slicing works as expected...\n",
        "s.iloc[:2]"
      ]
    },
    {
      "cell_type": "code",
      "execution_count": null,
      "metadata": {
        "id": "tzTbbk9YiXcc"
      },
      "outputs": [],
      "source": [
        "# ...but it works with labels too!\n",
        "s.loc[:'c']"
      ]
    },
    {
      "cell_type": "code",
      "execution_count": null,
      "metadata": {
        "id": "qrVQ0b0ziXcd"
      },
      "outputs": [],
      "source": [
        "# Fancy indexing works the same as in numpy.\n",
        "s.iloc[[0, -1]]"
      ]
    },
    {
      "cell_type": "code",
      "execution_count": null,
      "metadata": {
        "id": "THswhsDLiXcd"
      },
      "outputs": [],
      "source": [
        "# As does boolean masking.\n",
        "s.loc[s > 2]"
      ]
    },
    {
      "cell_type": "code",
      "execution_count": null,
      "metadata": {
        "id": "nYGjpHaIiXcd"
      },
      "outputs": [],
      "source": [
        "# Element-wise operations are aligned by index.\n",
        "other_s = pd.Series({'a': 10.0, 'c': 20.0, 'd': 30.0, 'z': 40.0})\n",
        "other_s"
      ]
    },
    {
      "cell_type": "code",
      "execution_count": null,
      "metadata": {
        "id": "nkK07CuEiXcd"
      },
      "outputs": [],
      "source": [
        "s + other_s"
      ]
    },
    {
      "cell_type": "code",
      "execution_count": null,
      "metadata": {
        "id": "pePOoBl3iXcd"
      },
      "outputs": [],
      "source": [
        "# We can fill in missing values with fillna().\n",
        "(s + other_s).fillna(0.0)"
      ]
    },
    {
      "cell_type": "code",
      "execution_count": null,
      "metadata": {
        "id": "8LYqk1oDiXcd"
      },
      "outputs": [],
      "source": [
        "# Most real datasets are read in from an external file format.\n",
        "aapl = pd.read_csv('AAPL.csv', parse_dates=['Date'], index_col='Date')\n",
        "aapl.head()"
      ]
    },
    {
      "cell_type": "code",
      "execution_count": null,
      "metadata": {
        "id": "JasJjximiXcd"
      },
      "outputs": [],
      "source": [
        "# Slicing generalizes to two dimensions as you'd expect:\n",
        "aapl.iloc[:2, :2]"
      ]
    },
    {
      "cell_type": "code",
      "execution_count": null,
      "metadata": {
        "id": "aAnXEGHMiXce"
      },
      "outputs": [],
      "source": [
        "aapl.loc[pd.Timestamp('2010-02-01'):pd.Timestamp('2010-02-04'), ['Close', 'Volume']]"
      ]
    },
    {
      "cell_type": "markdown",
      "metadata": {
        "id": "Up935r8GiXce"
      },
      "source": [
        "# Rolling Operations"
      ]
    },
    {
      "cell_type": "markdown",
      "metadata": {
        "id": "28dFZSZmiXce"
      },
      "source": [
        "<center><img src=\"https://raw.githubusercontent.com/ssanderson/pydata-toolbox/master/notebooks/images/rolling.gif\" alt=\"Drawing\" style=\"width: 75%;\"/></center>"
      ]
    },
    {
      "cell_type": "code",
      "execution_count": null,
      "metadata": {
        "id": "-YvkXxL0iXce"
      },
      "outputs": [],
      "source": [
        "aapl.rolling(5)[['Close', 'Adj Close']].mean().plot();"
      ]
    },
    {
      "cell_type": "code",
      "execution_count": null,
      "metadata": {
        "id": "HKynE6AMiXce"
      },
      "outputs": [],
      "source": [
        "# Drop `Volume`, since it's way bigger than everything else.\n",
        "aapl.drop('Volume', axis=1).resample('2W').max().plot();"
      ]
    },
    {
      "cell_type": "code",
      "execution_count": null,
      "metadata": {
        "id": "ayoPHapZiXce"
      },
      "outputs": [],
      "source": [
        "# 30-day rolling exponentially-weighted stddev of returns.\n",
        "aapl['Close'].pct_change().ewm(span=30).std().plot();"
      ]
    },
    {
      "cell_type": "markdown",
      "metadata": {
        "id": "npT_ZgpYiXce"
      },
      "source": [
        "# \"Real World\" Data"
      ]
    },
    {
      "cell_type": "code",
      "execution_count": null,
      "metadata": {
        "id": "XcYC7BGAiXcf"
      },
      "outputs": [],
      "source": [
        "from demos.avocados import read_avocadata\n",
        "\n",
        "avocados = read_avocadata('2014', '2016')\n",
        "avocados.head()"
      ]
    },
    {
      "cell_type": "code",
      "execution_count": null,
      "metadata": {
        "id": "tjk0EsEsiXcf"
      },
      "outputs": [],
      "source": [
        "# Unlike numpy arrays, pandas DataFrames can have a different dtype for each column.\n",
        "avocados.dtypes"
      ]
    },
    {
      "cell_type": "code",
      "execution_count": null,
      "metadata": {
        "id": "YcpqjQCdiXcf"
      },
      "outputs": [],
      "source": [
        "# What's the regional average price of a HASS avocado every day?\n",
        "hass = avocados[avocados.Variety == 'HASS']\n",
        "hass.groupby(['Date', 'Region'])['Weighted Avg Price'].mean().unstack().ffill().plot();"
      ]
    },
    {
      "cell_type": "code",
      "execution_count": null,
      "metadata": {
        "collapsed": true,
        "id": "k1Zdnr4jiXcf"
      },
      "outputs": [],
      "source": [
        "def _organic_spread(group):\n",
        "\n",
        "    if len(group.columns) != 2:\n",
        "        return pd.Series(index=group.index, data=0.0)\n",
        "\n",
        "    is_organic = group.columns.get_level_values('Organic').values.astype(bool)\n",
        "    organics = group.loc[:, is_organic].squeeze()\n",
        "    non_organics = group.loc[:, ~is_organic].squeeze()\n",
        "    diff = organics - non_organics\n",
        "    return diff\n",
        "\n",
        "def organic_spread_by_region(df):\n",
        "    \"\"\"What's the difference between the price of an organic\n",
        "    and non-organic avocado within each region?\n",
        "    \"\"\"\n",
        "    return (\n",
        "        df\n",
        "        .set_index(['Date', 'Region', 'Organic'])\n",
        "         ['Weighted Avg Price']\n",
        "        .unstack(level=['Region', 'Organic'])\n",
        "        .ffill()\n",
        "        .groupby(level='Region', axis=1)\n",
        "        .apply(_organic_spread)\n",
        "    )"
      ]
    },
    {
      "cell_type": "code",
      "execution_count": null,
      "metadata": {
        "id": "iU-Th92BiXcf"
      },
      "outputs": [],
      "source": [
        "organic_spread_by_region(hass).plot();\n",
        "plt.gca().set_title(\"Daily Regional Organic Spread\");\n",
        "plt.legend(bbox_to_anchor=(1, 1));"
      ]
    },
    {
      "cell_type": "code",
      "execution_count": null,
      "metadata": {
        "id": "vjR02HpEiXcg"
      },
      "outputs": [],
      "source": [
        "spread_correlation = organic_spread_by_region(hass).corr()\n",
        "spread_correlation"
      ]
    },
    {
      "cell_type": "code",
      "execution_count": null,
      "metadata": {
        "id": "-fbKjqw6iXcg"
      },
      "outputs": [],
      "source": [
        "import seaborn as sns\n",
        "grid = sns.clustermap(spread_correlation, annot=True)\n",
        "fig = grid.fig\n",
        "axes = fig.axes\n",
        "ax = axes[2]\n",
        "ax.set_xticklabels(ax.get_xticklabels(), rotation=45);"
      ]
    },
    {
      "cell_type": "markdown",
      "metadata": {
        "id": "-6jsBAhQiXcg"
      },
      "source": [
        "# Pandas Review\n",
        "\n",
        "- Pandas extends numpy with more complex datastructures and algorithms.\n",
        "- If you understand numpy, you understand 90% of pandas.\n",
        "- `groupby`, `set_index`, and `unstack` are powerful tools for working with categorical data.\n",
        "- Avocado prices are surprisingly interesting :)"
      ]
    },
    {
      "cell_type": "markdown",
      "metadata": {
        "id": "_u_fG58UiXcg"
      },
      "source": [
        "# Thanks!"
      ]
    }
  ],
  "metadata": {
    "celltoolbar": "Slideshow",
    "kernelspec": {
      "display_name": "Python 3",
      "language": "python",
      "name": "python3"
    },
    "language_info": {
      "codemirror_mode": {
        "name": "ipython",
        "version": 3
      },
      "file_extension": ".py",
      "mimetype": "text/x-python",
      "name": "python",
      "nbconvert_exporter": "python",
      "pygments_lexer": "ipython3",
      "version": "3.5.2"
    },
    "livereveal": {
      "start_slideshow_at": "selected"
    },
    "name": "Main.ipynb",
    "colab": {
      "provenance": [],
      "collapsed_sections": [
        "gh1Uw4KtiXcK",
        "K81LXWsCiXcS",
        "9EsiKbSCiXcT",
        "zsIEVqkgiXcY",
        "JHmGF_mGiXcZ",
        "-6jsBAhQiXcg",
        "_u_fG58UiXcg"
      ]
    }
  },
  "nbformat": 4,
  "nbformat_minor": 0
}
